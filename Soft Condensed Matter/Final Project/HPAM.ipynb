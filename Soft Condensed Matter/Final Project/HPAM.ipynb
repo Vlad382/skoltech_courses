{
 "cells": [
  {
   "cell_type": "code",
   "execution_count": 1,
   "metadata": {},
   "outputs": [],
   "source": [
    "import numpy as np\n",
    "import pandas as pd\n",
    "import seaborn as sns\n",
    "import matplotlib.pyplot as plt\n",
    "%matplotlib inline\n",
    "\n",
    "from sklearn.model_selection import train_test_split\n",
    "from sklearn.preprocessing import StandardScaler\n",
    "from sklearn.model_selection import GridSearchCV\n",
    "from sklearn.preprocessing import PolynomialFeatures\n",
    "from sklearn.decomposition import PCA\n",
    "\n",
    "from sklearn.metrics import r2_score\n",
    "from sklearn.metrics import mean_absolute_error, mean_squared_error \n",
    "\n",
    "from sklearn.linear_model import LinearRegression, Ridge\n",
    "from sklearn.tree import DecisionTreeRegressor as tree\n",
    "from sklearn.neighbors import KNeighborsRegressor as knn\n",
    "from xgboost import XGBRegressor"
   ]
  },
  {
   "cell_type": "markdown",
   "metadata": {},
   "source": [
    "**Outlinet:**\n",
    "\n",
    " - Set up\n",
    "   - Describe dataset\n",
    "   - Features\n",
    "   - Add info about features\n",
    "   - Models used\n",
    " - Cross validation wrt to paper\n",
    "   - Used features\n",
    "   - Basic results\n",
    "   - With poly features\n",
    " - General ML approach\n",
    "   - Basic results\n",
    "   - Results with poly\n",
    " - PCA\n",
    "   - Basic results\n",
    "   - Results with poly"
   ]
  },
  {
   "cell_type": "markdown",
   "metadata": {},
   "source": [
    "# Load and Clean Datasets"
   ]
  },
  {
   "cell_type": "code",
   "execution_count": 2,
   "metadata": {},
   "outputs": [],
   "source": [
    "Hernandes = pd.read_csv('/home/v_trofinov/skoltech_courses/scm/project/project_data/Hernandes.csv', sep=';', decimal=',')\n",
    "Jung = pd.read_csv('/home/v_trofinov/skoltech_courses/scm/project/project_data/Jung.csv', sep=';', decimal=',')\n",
    "Lopes = pd.read_csv('/home/v_trofinov/skoltech_courses/scm/project/project_data/Lopes.csv', sep=';', decimal=',')\n",
    "Zhang = pd.read_csv('/home/v_trofinov/skoltech_courses/scm/project/project_data/Zhang.csv', sep=';', decimal=',')"
   ]
  },
  {
   "cell_type": "code",
   "execution_count": 3,
   "metadata": {},
   "outputs": [],
   "source": [
    "# Add experiment type\n",
    "Hernandes['paper'] = 'h'\n",
    "Jung['paper'] = 'j'\n",
    "Lopes['paper'] = 'l'\n",
    "Zhang['paper'] = 'z'"
   ]
  },
  {
   "cell_type": "markdown",
   "metadata": {},
   "source": [
    "## Rename Columns\n",
    "\n",
    "Since all the units are the same, lets name columns more convenient."
   ]
  },
  {
   "cell_type": "code",
   "execution_count": 4,
   "metadata": {},
   "outputs": [],
   "source": [
    "Hernandes.rename(columns=lambda x: x.split(' (')[0].replace(' ', '_'), inplace=True)\n",
    "Lopes.rename(columns=lambda x: x.split(' (')[0].replace(' ', '_'), inplace=True)\n",
    "Jung.rename(columns=lambda x: x.split(' (')[0].replace(' ', '_'), inplace=True)\n",
    "Zhang.rename(columns=lambda x: x.split(' (')[0].replace(' ', '_'), inplace=True)"
   ]
  },
  {
   "cell_type": "markdown",
   "metadata": {},
   "source": [
    "## Deal with NaN's"
   ]
  },
  {
   "cell_type": "markdown",
   "metadata": {},
   "source": [
    "### Hernandes"
   ]
  },
  {
   "cell_type": "code",
   "execution_count": 5,
   "metadata": {},
   "outputs": [
    {
     "name": "stdout",
     "output_type": "stream",
     "text": [
      "(1010, 13)\n"
     ]
    },
    {
     "data": {
      "text/plain": [
       "Shear_Rate                   0\n",
       "Viscosity                    0\n",
       "Molecular_Weight             0\n",
       "Degree_of_Hydrolysis         0\n",
       "Polymer_Concentration        0\n",
       "Temperature                  0\n",
       "Salinity                     0\n",
       "Ionic_Strength               0\n",
       "NaCl_conc                    0\n",
       "NaCl_ionic_strength          0\n",
       "Salt_mix_conc              353\n",
       "Salt_mix_ionic_strength    353\n",
       "paper                        0\n",
       "dtype: int64"
      ]
     },
     "execution_count": 5,
     "metadata": {},
     "output_type": "execute_result"
    }
   ],
   "source": [
    "print(Hernandes.shape)\n",
    "Hernandes.isna().sum()"
   ]
  },
  {
   "cell_type": "code",
   "execution_count": 6,
   "metadata": {},
   "outputs": [],
   "source": [
    "Hernandes['NaCl_only'] = Hernandes[['Salt_mix_conc', 'Salt_mix_ionic_strength']].apply(lambda x: 'yes' if (x[0] == np.nan) & (x[1] == np.nan) else 'no', axis=1)\n",
    "Hernandes.drop(columns=['Salt_mix_conc', 'Salt_mix_ionic_strength'], inplace=True)"
   ]
  },
  {
   "cell_type": "code",
   "execution_count": 7,
   "metadata": {},
   "outputs": [
    {
     "data": {
      "text/plain": [
       "Shear_Rate               0\n",
       "Viscosity                0\n",
       "Molecular_Weight         0\n",
       "Degree_of_Hydrolysis     0\n",
       "Polymer_Concentration    0\n",
       "Temperature              0\n",
       "Salinity                 0\n",
       "Ionic_Strength           0\n",
       "NaCl_conc                0\n",
       "NaCl_ionic_strength      0\n",
       "paper                    0\n",
       "NaCl_only                0\n",
       "dtype: int64"
      ]
     },
     "execution_count": 7,
     "metadata": {},
     "output_type": "execute_result"
    }
   ],
   "source": [
    "Hernandes.isna().sum()"
   ]
  },
  {
   "cell_type": "markdown",
   "metadata": {},
   "source": [
    "### Jung"
   ]
  },
  {
   "cell_type": "code",
   "execution_count": 8,
   "metadata": {},
   "outputs": [
    {
     "name": "stdout",
     "output_type": "stream",
     "text": [
      "(147, 13)\n"
     ]
    },
    {
     "data": {
      "text/plain": [
       "Shear_Rate                   0\n",
       "Viscosity                    0\n",
       "Molecular_Weight             0\n",
       "Degree_of_Hydrolysis         0\n",
       "Polymer_Concentration        0\n",
       "Temperature                  0\n",
       "Salinity                   147\n",
       "Ionic_Strength             147\n",
       "NaCl_conc                   60\n",
       "NaCl_ionic_strength        147\n",
       "Salt_mix_conc              147\n",
       "Salt_mix_ionic_strength    147\n",
       "paper                        0\n",
       "dtype: int64"
      ]
     },
     "execution_count": 8,
     "metadata": {},
     "output_type": "execute_result"
    }
   ],
   "source": [
    "print(Jung.shape)\n",
    "Jung.isna().sum()"
   ]
  },
  {
   "cell_type": "code",
   "execution_count": 9,
   "metadata": {},
   "outputs": [],
   "source": [
    "Jung['Salinity'] = Jung['NaCl_conc'].apply(lambda x: 0 if str(x) == 'nan' else x)\n",
    "Jung['NaCl_only'] = Jung['NaCl_conc'].apply(lambda x: 'no_salt' if str(x) == 'nan' else 'yes')\n",
    "Jung.drop(columns=['Salt_mix_conc', 'Ionic_Strength', 'Salt_mix_ionic_strength', 'NaCl_conc', 'NaCl_ionic_strength'], inplace=True)"
   ]
  },
  {
   "cell_type": "code",
   "execution_count": 10,
   "metadata": {},
   "outputs": [
    {
     "data": {
      "text/plain": [
       "Shear_Rate               0\n",
       "Viscosity                0\n",
       "Molecular_Weight         0\n",
       "Degree_of_Hydrolysis     0\n",
       "Polymer_Concentration    0\n",
       "Temperature              0\n",
       "Salinity                 0\n",
       "paper                    0\n",
       "NaCl_only                0\n",
       "dtype: int64"
      ]
     },
     "execution_count": 10,
     "metadata": {},
     "output_type": "execute_result"
    }
   ],
   "source": [
    "Jung.isna().sum()"
   ]
  },
  {
   "cell_type": "markdown",
   "metadata": {},
   "source": [
    "### Lopes"
   ]
  },
  {
   "cell_type": "code",
   "execution_count": 11,
   "metadata": {},
   "outputs": [
    {
     "name": "stdout",
     "output_type": "stream",
     "text": [
      "(350, 13)\n"
     ]
    },
    {
     "data": {
      "text/plain": [
       "Shear_Rate                   0\n",
       "Viscosity                    0\n",
       "Molecular_Weight             0\n",
       "Degree_of_Hydrolysis       350\n",
       "Polymer_Concentration        0\n",
       "Temperature                 16\n",
       "Salinity                   350\n",
       "Ionic_Strength             350\n",
       "NaCl_conc                  334\n",
       "NaCl_ionic_strength        334\n",
       "Salt_mix_conc              350\n",
       "Salt_mix_ionic_strength    350\n",
       "paper                        0\n",
       "dtype: int64"
      ]
     },
     "execution_count": 11,
     "metadata": {},
     "output_type": "execute_result"
    }
   ],
   "source": [
    "print(Lopes.shape)\n",
    "Lopes.isna().sum()"
   ]
  },
  {
   "cell_type": "code",
   "execution_count": 12,
   "metadata": {},
   "outputs": [],
   "source": [
    "Lopes['NaCl_only'] = Lopes['NaCl_conc'].apply(lambda x: 'no_salt' if str(x) == 'nan' else 'yes')\n",
    "Lopes['Salinity'] = Lopes['NaCl_conc'].apply(lambda x: 0 if str(x) == 'nan' else x)\n",
    "Lopes['Ionic_Strength'] = Lopes['Ionic_Strength'].apply(lambda x: 0 if str(x) == 'nan' else x)\n",
    "\n",
    "Lopes.drop(Lopes[Lopes['Temperature'] != 296.15].index, inplace=True)\n",
    "Lopes.drop(columns=['Degree_of_Hydrolysis', 'NaCl_conc', 'NaCl_ionic_strength', 'Salt_mix_conc', 'Salt_mix_ionic_strength'], inplace=True)"
   ]
  },
  {
   "cell_type": "code",
   "execution_count": 13,
   "metadata": {},
   "outputs": [
    {
     "data": {
      "text/plain": [
       "Shear_Rate               0\n",
       "Viscosity                0\n",
       "Molecular_Weight         0\n",
       "Polymer_Concentration    0\n",
       "Temperature              0\n",
       "Salinity                 0\n",
       "Ionic_Strength           0\n",
       "paper                    0\n",
       "NaCl_only                0\n",
       "dtype: int64"
      ]
     },
     "execution_count": 13,
     "metadata": {},
     "output_type": "execute_result"
    }
   ],
   "source": [
    "Lopes.isna().sum()"
   ]
  },
  {
   "cell_type": "markdown",
   "metadata": {},
   "source": [
    "### Zhang"
   ]
  },
  {
   "cell_type": "code",
   "execution_count": 14,
   "metadata": {},
   "outputs": [
    {
     "name": "stdout",
     "output_type": "stream",
     "text": [
      "(406, 12)\n"
     ]
    },
    {
     "data": {
      "text/plain": [
       "Shear_Rate                   0\n",
       "Viscosity                    0\n",
       "Molecular_Weight             0\n",
       "Degree_of_Hydrolysis       406\n",
       "Polymer_Concentration        0\n",
       "Temperature                  0\n",
       "Salinity                     0\n",
       "NaCl_conc                  406\n",
       "NaCl_ionic_strength        406\n",
       "Salt_mix_conc              406\n",
       "Salt_mix_ionic_strength    406\n",
       "paper                        0\n",
       "dtype: int64"
      ]
     },
     "execution_count": 14,
     "metadata": {},
     "output_type": "execute_result"
    }
   ],
   "source": [
    "print(Zhang.shape)\n",
    "Zhang.isna().sum()"
   ]
  },
  {
   "cell_type": "code",
   "execution_count": 15,
   "metadata": {},
   "outputs": [],
   "source": [
    "Zhang['NaCl_only'] = 'no_salt'\n",
    "Zhang.drop(columns=['Degree_of_Hydrolysis', 'NaCl_conc', 'NaCl_ionic_strength', 'Salt_mix_conc', 'Salt_mix_ionic_strength'], inplace=True)"
   ]
  },
  {
   "cell_type": "code",
   "execution_count": 16,
   "metadata": {},
   "outputs": [
    {
     "data": {
      "text/plain": [
       "Shear_Rate               0\n",
       "Viscosity                0\n",
       "Molecular_Weight         0\n",
       "Polymer_Concentration    0\n",
       "Temperature              0\n",
       "Salinity                 0\n",
       "paper                    0\n",
       "NaCl_only                0\n",
       "dtype: int64"
      ]
     },
     "execution_count": 16,
     "metadata": {},
     "output_type": "execute_result"
    }
   ],
   "source": [
    "Zhang.isna().sum()"
   ]
  },
  {
   "cell_type": "markdown",
   "metadata": {},
   "source": [
    "## See Data Types"
   ]
  },
  {
   "cell_type": "markdown",
   "metadata": {},
   "source": [
    "### Hernandes"
   ]
  },
  {
   "cell_type": "code",
   "execution_count": 17,
   "metadata": {},
   "outputs": [
    {
     "name": "stdout",
     "output_type": "stream",
     "text": [
      "Shape = (1010, 12)\n",
      "\n"
     ]
    },
    {
     "data": {
      "text/plain": [
       "Shear_Rate               float64\n",
       "Viscosity                float64\n",
       "Molecular_Weight           int64\n",
       "Degree_of_Hydrolysis     float64\n",
       "Polymer_Concentration      int64\n",
       "Temperature              float64\n",
       "Salinity                 float64\n",
       "Ionic_Strength           float64\n",
       "NaCl_conc                float64\n",
       "NaCl_ionic_strength      float64\n",
       "paper                     object\n",
       "NaCl_only                 object\n",
       "dtype: object"
      ]
     },
     "metadata": {},
     "output_type": "display_data"
    },
    {
     "data": {
      "text/html": [
       "<div>\n",
       "<style scoped>\n",
       "    .dataframe tbody tr th:only-of-type {\n",
       "        vertical-align: middle;\n",
       "    }\n",
       "\n",
       "    .dataframe tbody tr th {\n",
       "        vertical-align: top;\n",
       "    }\n",
       "\n",
       "    .dataframe thead th {\n",
       "        text-align: right;\n",
       "    }\n",
       "</style>\n",
       "<table border=\"1\" class=\"dataframe\">\n",
       "  <thead>\n",
       "    <tr style=\"text-align: right;\">\n",
       "      <th></th>\n",
       "      <th>Shear_Rate</th>\n",
       "      <th>Viscosity</th>\n",
       "      <th>Molecular_Weight</th>\n",
       "      <th>Degree_of_Hydrolysis</th>\n",
       "      <th>Polymer_Concentration</th>\n",
       "      <th>Temperature</th>\n",
       "      <th>Salinity</th>\n",
       "      <th>Ionic_Strength</th>\n",
       "      <th>NaCl_conc</th>\n",
       "      <th>NaCl_ionic_strength</th>\n",
       "      <th>paper</th>\n",
       "      <th>NaCl_only</th>\n",
       "    </tr>\n",
       "  </thead>\n",
       "  <tbody>\n",
       "    <tr>\n",
       "      <th>0</th>\n",
       "      <td>3.00715</td>\n",
       "      <td>0.001305</td>\n",
       "      <td>5000000</td>\n",
       "      <td>0.3</td>\n",
       "      <td>100</td>\n",
       "      <td>298.15</td>\n",
       "      <td>7.8026</td>\n",
       "      <td>0.1373</td>\n",
       "      <td>5.4932</td>\n",
       "      <td>0.094</td>\n",
       "      <td>h</td>\n",
       "      <td>no</td>\n",
       "    </tr>\n",
       "    <tr>\n",
       "      <th>1</th>\n",
       "      <td>4.89013</td>\n",
       "      <td>0.001187</td>\n",
       "      <td>5000000</td>\n",
       "      <td>0.3</td>\n",
       "      <td>100</td>\n",
       "      <td>298.15</td>\n",
       "      <td>7.8026</td>\n",
       "      <td>0.1373</td>\n",
       "      <td>5.4932</td>\n",
       "      <td>0.094</td>\n",
       "      <td>h</td>\n",
       "      <td>no</td>\n",
       "    </tr>\n",
       "  </tbody>\n",
       "</table>\n",
       "</div>"
      ],
      "text/plain": [
       "   Shear_Rate  Viscosity  Molecular_Weight  Degree_of_Hydrolysis  \\\n",
       "0     3.00715   0.001305           5000000                   0.3   \n",
       "1     4.89013   0.001187           5000000                   0.3   \n",
       "\n",
       "   Polymer_Concentration  Temperature  Salinity  Ionic_Strength  NaCl_conc  \\\n",
       "0                    100       298.15    7.8026          0.1373     5.4932   \n",
       "1                    100       298.15    7.8026          0.1373     5.4932   \n",
       "\n",
       "   NaCl_ionic_strength paper NaCl_only  \n",
       "0                0.094     h        no  \n",
       "1                0.094     h        no  "
      ]
     },
     "execution_count": 17,
     "metadata": {},
     "output_type": "execute_result"
    }
   ],
   "source": [
    "print(f'Shape = {Hernandes.shape}', end='\\n\\n')\n",
    "display(Hernandes.dtypes)\n",
    "Hernandes.head(2)"
   ]
  },
  {
   "cell_type": "markdown",
   "metadata": {},
   "source": [
    "### Jung"
   ]
  },
  {
   "cell_type": "code",
   "execution_count": 18,
   "metadata": {},
   "outputs": [
    {
     "name": "stdout",
     "output_type": "stream",
     "text": [
      "Shape = (147, 9)\n",
      "\n"
     ]
    },
    {
     "data": {
      "text/plain": [
       "Shear_Rate               float64\n",
       "Viscosity                float64\n",
       "Molecular_Weight           int64\n",
       "Degree_of_Hydrolysis     float64\n",
       "Polymer_Concentration      int64\n",
       "Temperature              float64\n",
       "Salinity                 float64\n",
       "paper                     object\n",
       "NaCl_only                 object\n",
       "dtype: object"
      ]
     },
     "metadata": {},
     "output_type": "display_data"
    },
    {
     "data": {
      "text/html": [
       "<div>\n",
       "<style scoped>\n",
       "    .dataframe tbody tr th:only-of-type {\n",
       "        vertical-align: middle;\n",
       "    }\n",
       "\n",
       "    .dataframe tbody tr th {\n",
       "        vertical-align: top;\n",
       "    }\n",
       "\n",
       "    .dataframe thead th {\n",
       "        text-align: right;\n",
       "    }\n",
       "</style>\n",
       "<table border=\"1\" class=\"dataframe\">\n",
       "  <thead>\n",
       "    <tr style=\"text-align: right;\">\n",
       "      <th></th>\n",
       "      <th>Shear_Rate</th>\n",
       "      <th>Viscosity</th>\n",
       "      <th>Molecular_Weight</th>\n",
       "      <th>Degree_of_Hydrolysis</th>\n",
       "      <th>Polymer_Concentration</th>\n",
       "      <th>Temperature</th>\n",
       "      <th>Salinity</th>\n",
       "      <th>paper</th>\n",
       "      <th>NaCl_only</th>\n",
       "    </tr>\n",
       "  </thead>\n",
       "  <tbody>\n",
       "    <tr>\n",
       "      <th>0</th>\n",
       "      <td>1.703218</td>\n",
       "      <td>0.011721</td>\n",
       "      <td>13000000</td>\n",
       "      <td>0.12</td>\n",
       "      <td>1500</td>\n",
       "      <td>298.15</td>\n",
       "      <td>3.0</td>\n",
       "      <td>j</td>\n",
       "      <td>yes</td>\n",
       "    </tr>\n",
       "    <tr>\n",
       "      <th>1</th>\n",
       "      <td>2.299130</td>\n",
       "      <td>0.011201</td>\n",
       "      <td>13000000</td>\n",
       "      <td>0.12</td>\n",
       "      <td>1500</td>\n",
       "      <td>298.15</td>\n",
       "      <td>3.0</td>\n",
       "      <td>j</td>\n",
       "      <td>yes</td>\n",
       "    </tr>\n",
       "  </tbody>\n",
       "</table>\n",
       "</div>"
      ],
      "text/plain": [
       "   Shear_Rate  Viscosity  Molecular_Weight  Degree_of_Hydrolysis  \\\n",
       "0    1.703218   0.011721          13000000                  0.12   \n",
       "1    2.299130   0.011201          13000000                  0.12   \n",
       "\n",
       "   Polymer_Concentration  Temperature  Salinity paper NaCl_only  \n",
       "0                   1500       298.15       3.0     j       yes  \n",
       "1                   1500       298.15       3.0     j       yes  "
      ]
     },
     "execution_count": 18,
     "metadata": {},
     "output_type": "execute_result"
    }
   ],
   "source": [
    "print(f'Shape = {Jung.shape}', end='\\n\\n')\n",
    "display(Jung.dtypes)\n",
    "Jung.head(2)"
   ]
  },
  {
   "cell_type": "markdown",
   "metadata": {},
   "source": [
    "### Lopes"
   ]
  },
  {
   "cell_type": "code",
   "execution_count": 19,
   "metadata": {},
   "outputs": [
    {
     "name": "stdout",
     "output_type": "stream",
     "text": [
      "Shape = (334, 9)\n",
      "\n"
     ]
    },
    {
     "data": {
      "text/plain": [
       "Shear_Rate               float64\n",
       "Viscosity                float64\n",
       "Molecular_Weight           int64\n",
       "Polymer_Concentration    float64\n",
       "Temperature              float64\n",
       "Salinity                 float64\n",
       "Ionic_Strength             int64\n",
       "paper                     object\n",
       "NaCl_only                 object\n",
       "dtype: object"
      ]
     },
     "metadata": {},
     "output_type": "display_data"
    },
    {
     "data": {
      "text/html": [
       "<div>\n",
       "<style scoped>\n",
       "    .dataframe tbody tr th:only-of-type {\n",
       "        vertical-align: middle;\n",
       "    }\n",
       "\n",
       "    .dataframe tbody tr th {\n",
       "        vertical-align: top;\n",
       "    }\n",
       "\n",
       "    .dataframe thead th {\n",
       "        text-align: right;\n",
       "    }\n",
       "</style>\n",
       "<table border=\"1\" class=\"dataframe\">\n",
       "  <thead>\n",
       "    <tr style=\"text-align: right;\">\n",
       "      <th></th>\n",
       "      <th>Shear_Rate</th>\n",
       "      <th>Viscosity</th>\n",
       "      <th>Molecular_Weight</th>\n",
       "      <th>Polymer_Concentration</th>\n",
       "      <th>Temperature</th>\n",
       "      <th>Salinity</th>\n",
       "      <th>Ionic_Strength</th>\n",
       "      <th>paper</th>\n",
       "      <th>NaCl_only</th>\n",
       "    </tr>\n",
       "  </thead>\n",
       "  <tbody>\n",
       "    <tr>\n",
       "      <th>0</th>\n",
       "      <td>0.100794</td>\n",
       "      <td>10.000000</td>\n",
       "      <td>9000000</td>\n",
       "      <td>5000.0</td>\n",
       "      <td>296.15</td>\n",
       "      <td>0.0</td>\n",
       "      <td>0</td>\n",
       "      <td>l</td>\n",
       "      <td>no_salt</td>\n",
       "    </tr>\n",
       "    <tr>\n",
       "      <th>1</th>\n",
       "      <td>0.162040</td>\n",
       "      <td>8.141685</td>\n",
       "      <td>9000000</td>\n",
       "      <td>5000.0</td>\n",
       "      <td>296.15</td>\n",
       "      <td>0.0</td>\n",
       "      <td>0</td>\n",
       "      <td>l</td>\n",
       "      <td>no_salt</td>\n",
       "    </tr>\n",
       "  </tbody>\n",
       "</table>\n",
       "</div>"
      ],
      "text/plain": [
       "   Shear_Rate  Viscosity  Molecular_Weight  Polymer_Concentration  \\\n",
       "0    0.100794  10.000000           9000000                 5000.0   \n",
       "1    0.162040   8.141685           9000000                 5000.0   \n",
       "\n",
       "   Temperature  Salinity  Ionic_Strength paper NaCl_only  \n",
       "0       296.15       0.0               0     l   no_salt  \n",
       "1       296.15       0.0               0     l   no_salt  "
      ]
     },
     "execution_count": 19,
     "metadata": {},
     "output_type": "execute_result"
    }
   ],
   "source": [
    "print(f'Shape = {Lopes.shape}', end='\\n\\n')\n",
    "display(Lopes.dtypes)\n",
    "Lopes.head(2)"
   ]
  },
  {
   "cell_type": "markdown",
   "metadata": {},
   "source": [
    "### Zhang"
   ]
  },
  {
   "cell_type": "code",
   "execution_count": 20,
   "metadata": {},
   "outputs": [
    {
     "name": "stdout",
     "output_type": "stream",
     "text": [
      "Shape = (406, 8)\n",
      "\n"
     ]
    },
    {
     "data": {
      "text/plain": [
       "Shear_Rate                object\n",
       "Viscosity                 object\n",
       "Molecular_Weight           int64\n",
       "Polymer_Concentration      int64\n",
       "Temperature              float64\n",
       "Salinity                   int64\n",
       "paper                     object\n",
       "NaCl_only                 object\n",
       "dtype: object"
      ]
     },
     "metadata": {},
     "output_type": "display_data"
    },
    {
     "data": {
      "text/html": [
       "<div>\n",
       "<style scoped>\n",
       "    .dataframe tbody tr th:only-of-type {\n",
       "        vertical-align: middle;\n",
       "    }\n",
       "\n",
       "    .dataframe tbody tr th {\n",
       "        vertical-align: top;\n",
       "    }\n",
       "\n",
       "    .dataframe thead th {\n",
       "        text-align: right;\n",
       "    }\n",
       "</style>\n",
       "<table border=\"1\" class=\"dataframe\">\n",
       "  <thead>\n",
       "    <tr style=\"text-align: right;\">\n",
       "      <th></th>\n",
       "      <th>Shear_Rate</th>\n",
       "      <th>Viscosity</th>\n",
       "      <th>Molecular_Weight</th>\n",
       "      <th>Polymer_Concentration</th>\n",
       "      <th>Temperature</th>\n",
       "      <th>Salinity</th>\n",
       "      <th>paper</th>\n",
       "      <th>NaCl_only</th>\n",
       "    </tr>\n",
       "  </thead>\n",
       "  <tbody>\n",
       "    <tr>\n",
       "      <th>0</th>\n",
       "      <td>5.80731</td>\n",
       "      <td>0.05682</td>\n",
       "      <td>23000000</td>\n",
       "      <td>600</td>\n",
       "      <td>298.15</td>\n",
       "      <td>500</td>\n",
       "      <td>z</td>\n",
       "      <td>no_salt</td>\n",
       "    </tr>\n",
       "    <tr>\n",
       "      <th>1</th>\n",
       "      <td>7.56627</td>\n",
       "      <td>0.04749</td>\n",
       "      <td>23000000</td>\n",
       "      <td>600</td>\n",
       "      <td>298.15</td>\n",
       "      <td>500</td>\n",
       "      <td>z</td>\n",
       "      <td>no_salt</td>\n",
       "    </tr>\n",
       "  </tbody>\n",
       "</table>\n",
       "</div>"
      ],
      "text/plain": [
       "  Shear_Rate Viscosity  Molecular_Weight  Polymer_Concentration  Temperature  \\\n",
       "0    5.80731   0.05682          23000000                    600       298.15   \n",
       "1    7.56627   0.04749          23000000                    600       298.15   \n",
       "\n",
       "   Salinity paper NaCl_only  \n",
       "0       500     z   no_salt  \n",
       "1       500     z   no_salt  "
      ]
     },
     "execution_count": 20,
     "metadata": {},
     "output_type": "execute_result"
    }
   ],
   "source": [
    "print(f'Shape = {Zhang.shape}', end='\\n\\n')\n",
    "display(Zhang.dtypes)\n",
    "Zhang.head(2)"
   ]
  },
  {
   "cell_type": "code",
   "execution_count": 21,
   "metadata": {},
   "outputs": [],
   "source": [
    "Zhang[['Viscosity']] = Zhang[['Viscosity']].astype('float')\n",
    "Zhang[['Shear_Rate']] = Zhang[['Shear_Rate']].astype('float')"
   ]
  },
  {
   "cell_type": "code",
   "execution_count": 22,
   "metadata": {},
   "outputs": [
    {
     "name": "stdout",
     "output_type": "stream",
     "text": [
      "Shape = (406, 8)\n",
      "\n"
     ]
    },
    {
     "data": {
      "text/plain": [
       "Shear_Rate               float64\n",
       "Viscosity                float64\n",
       "Molecular_Weight           int64\n",
       "Polymer_Concentration      int64\n",
       "Temperature              float64\n",
       "Salinity                   int64\n",
       "paper                     object\n",
       "NaCl_only                 object\n",
       "dtype: object"
      ]
     },
     "metadata": {},
     "output_type": "display_data"
    },
    {
     "data": {
      "text/html": [
       "<div>\n",
       "<style scoped>\n",
       "    .dataframe tbody tr th:only-of-type {\n",
       "        vertical-align: middle;\n",
       "    }\n",
       "\n",
       "    .dataframe tbody tr th {\n",
       "        vertical-align: top;\n",
       "    }\n",
       "\n",
       "    .dataframe thead th {\n",
       "        text-align: right;\n",
       "    }\n",
       "</style>\n",
       "<table border=\"1\" class=\"dataframe\">\n",
       "  <thead>\n",
       "    <tr style=\"text-align: right;\">\n",
       "      <th></th>\n",
       "      <th>Shear_Rate</th>\n",
       "      <th>Viscosity</th>\n",
       "      <th>Molecular_Weight</th>\n",
       "      <th>Polymer_Concentration</th>\n",
       "      <th>Temperature</th>\n",
       "      <th>Salinity</th>\n",
       "      <th>paper</th>\n",
       "      <th>NaCl_only</th>\n",
       "    </tr>\n",
       "  </thead>\n",
       "  <tbody>\n",
       "    <tr>\n",
       "      <th>0</th>\n",
       "      <td>5.80731</td>\n",
       "      <td>0.05682</td>\n",
       "      <td>23000000</td>\n",
       "      <td>600</td>\n",
       "      <td>298.15</td>\n",
       "      <td>500</td>\n",
       "      <td>z</td>\n",
       "      <td>no_salt</td>\n",
       "    </tr>\n",
       "    <tr>\n",
       "      <th>1</th>\n",
       "      <td>7.56627</td>\n",
       "      <td>0.04749</td>\n",
       "      <td>23000000</td>\n",
       "      <td>600</td>\n",
       "      <td>298.15</td>\n",
       "      <td>500</td>\n",
       "      <td>z</td>\n",
       "      <td>no_salt</td>\n",
       "    </tr>\n",
       "  </tbody>\n",
       "</table>\n",
       "</div>"
      ],
      "text/plain": [
       "   Shear_Rate  Viscosity  Molecular_Weight  Polymer_Concentration  \\\n",
       "0     5.80731    0.05682          23000000                    600   \n",
       "1     7.56627    0.04749          23000000                    600   \n",
       "\n",
       "   Temperature  Salinity paper NaCl_only  \n",
       "0       298.15       500     z   no_salt  \n",
       "1       298.15       500     z   no_salt  "
      ]
     },
     "execution_count": 22,
     "metadata": {},
     "output_type": "execute_result"
    }
   ],
   "source": [
    "print(f'Shape = {Zhang.shape}', end='\\n\\n')\n",
    "display(Zhang.dtypes)\n",
    "Zhang.head(2)"
   ]
  },
  {
   "cell_type": "markdown",
   "metadata": {},
   "source": [
    "## Explore the Data\n",
    "\n",
    "Let's see what features are in different papers and explore feature values."
   ]
  },
  {
   "cell_type": "code",
   "execution_count": 23,
   "metadata": {},
   "outputs": [],
   "source": [
    "plt.rcParams['figure.figsize'] = (11, 7)"
   ]
  },
  {
   "cell_type": "code",
   "execution_count": 24,
   "metadata": {},
   "outputs": [
    {
     "data": {
      "image/png": "[encoded data removed]",
      "text/plain": [
       "<Figure size 792x504 with 2 Axes>"
      ]
     },
     "metadata": {
      "needs_background": "light"
     },
     "output_type": "display_data"
    }
   ],
   "source": [
    "sns.heatmap(Hernandes.corr())\n",
    "plt.title('Hernandes');"
   ]
  },
  {
   "cell_type": "code",
   "execution_count": 25,
   "metadata": {},
   "outputs": [
    {
     "data": {
      "text/html": [
       "<div>\n",
       "<style scoped>\n",
       "    .dataframe tbody tr th:only-of-type {\n",
       "        vertical-align: middle;\n",
       "    }\n",
       "\n",
       "    .dataframe tbody tr th {\n",
       "        vertical-align: top;\n",
       "    }\n",
       "\n",
       "    .dataframe thead th {\n",
       "        text-align: right;\n",
       "    }\n",
       "</style>\n",
       "<table border=\"1\" class=\"dataframe\">\n",
       "  <thead>\n",
       "    <tr style=\"text-align: right;\">\n",
       "      <th></th>\n",
       "      <th>Shear_Rate</th>\n",
       "      <th>Viscosity</th>\n",
       "      <th>Molecular_Weight</th>\n",
       "      <th>Degree_of_Hydrolysis</th>\n",
       "      <th>Polymer_Concentration</th>\n",
       "      <th>Temperature</th>\n",
       "      <th>Salinity</th>\n",
       "      <th>Ionic_Strength</th>\n",
       "      <th>NaCl_conc</th>\n",
       "      <th>NaCl_ionic_strength</th>\n",
       "    </tr>\n",
       "  </thead>\n",
       "  <tbody>\n",
       "    <tr>\n",
       "      <th>count</th>\n",
       "      <td>1010.00000</td>\n",
       "      <td>1010.000000</td>\n",
       "      <td>1010.0</td>\n",
       "      <td>1.010000e+03</td>\n",
       "      <td>1010.000000</td>\n",
       "      <td>1010.000000</td>\n",
       "      <td>1010.000000</td>\n",
       "      <td>1010.000000</td>\n",
       "      <td>1010.000000</td>\n",
       "      <td>1010.000000</td>\n",
       "    </tr>\n",
       "    <tr>\n",
       "      <th>mean</th>\n",
       "      <td>91.36774</td>\n",
       "      <td>0.019678</td>\n",
       "      <td>5000000.0</td>\n",
       "      <td>3.000000e-01</td>\n",
       "      <td>2014.653465</td>\n",
       "      <td>310.501485</td>\n",
       "      <td>7.313389</td>\n",
       "      <td>0.124386</td>\n",
       "      <td>6.225196</td>\n",
       "      <td>0.106540</td>\n",
       "    </tr>\n",
       "    <tr>\n",
       "      <th>std</th>\n",
       "      <td>181.43195</td>\n",
       "      <td>0.033814</td>\n",
       "      <td>0.0</td>\n",
       "      <td>5.720481e-15</td>\n",
       "      <td>1635.448229</td>\n",
       "      <td>12.505310</td>\n",
       "      <td>0.327995</td>\n",
       "      <td>0.008976</td>\n",
       "      <td>0.668878</td>\n",
       "      <td>0.011448</td>\n",
       "    </tr>\n",
       "    <tr>\n",
       "      <th>min</th>\n",
       "      <td>0.09621</td>\n",
       "      <td>0.000709</td>\n",
       "      <td>5000000.0</td>\n",
       "      <td>3.000000e-01</td>\n",
       "      <td>100.000000</td>\n",
       "      <td>298.150000</td>\n",
       "      <td>7.093700</td>\n",
       "      <td>0.115700</td>\n",
       "      <td>5.493200</td>\n",
       "      <td>0.094000</td>\n",
       "    </tr>\n",
       "    <tr>\n",
       "      <th>25%</th>\n",
       "      <td>2.91364</td>\n",
       "      <td>0.002244</td>\n",
       "      <td>5000000.0</td>\n",
       "      <td>3.000000e-01</td>\n",
       "      <td>600.000000</td>\n",
       "      <td>298.150000</td>\n",
       "      <td>7.093700</td>\n",
       "      <td>0.115700</td>\n",
       "      <td>5.493200</td>\n",
       "      <td>0.094000</td>\n",
       "    </tr>\n",
       "    <tr>\n",
       "      <th>50%</th>\n",
       "      <td>12.93276</td>\n",
       "      <td>0.006227</td>\n",
       "      <td>5000000.0</td>\n",
       "      <td>3.000000e-01</td>\n",
       "      <td>1500.000000</td>\n",
       "      <td>298.150000</td>\n",
       "      <td>7.093700</td>\n",
       "      <td>0.121400</td>\n",
       "      <td>6.000000</td>\n",
       "      <td>0.102700</td>\n",
       "    </tr>\n",
       "    <tr>\n",
       "      <th>75%</th>\n",
       "      <td>88.92608</td>\n",
       "      <td>0.019738</td>\n",
       "      <td>5000000.0</td>\n",
       "      <td>3.000000e-01</td>\n",
       "      <td>3000.000000</td>\n",
       "      <td>323.150000</td>\n",
       "      <td>7.802600</td>\n",
       "      <td>0.137300</td>\n",
       "      <td>7.093700</td>\n",
       "      <td>0.121400</td>\n",
       "    </tr>\n",
       "    <tr>\n",
       "      <th>max</th>\n",
       "      <td>1052.80119</td>\n",
       "      <td>0.231898</td>\n",
       "      <td>5000000.0</td>\n",
       "      <td>3.000000e-01</td>\n",
       "      <td>5000.000000</td>\n",
       "      <td>323.150000</td>\n",
       "      <td>7.802600</td>\n",
       "      <td>0.137300</td>\n",
       "      <td>7.093700</td>\n",
       "      <td>0.121400</td>\n",
       "    </tr>\n",
       "  </tbody>\n",
       "</table>\n",
       "</div>"
      ],
      "text/plain": [
       "       Shear_Rate    Viscosity  Molecular_Weight  Degree_of_Hydrolysis  \\\n",
       "count  1010.00000  1010.000000            1010.0          1.010000e+03   \n",
       "mean     91.36774     0.019678         5000000.0          3.000000e-01   \n",
       "std     181.43195     0.033814               0.0          5.720481e-15   \n",
       "min       0.09621     0.000709         5000000.0          3.000000e-01   \n",
       "25%       2.91364     0.002244         5000000.0          3.000000e-01   \n",
       "50%      12.93276     0.006227         5000000.0          3.000000e-01   \n",
       "75%      88.92608     0.019738         5000000.0          3.000000e-01   \n",
       "max    1052.80119     0.231898         5000000.0          3.000000e-01   \n",
       "\n",
       "       Polymer_Concentration  Temperature     Salinity  Ionic_Strength  \\\n",
       "count            1010.000000  1010.000000  1010.000000     1010.000000   \n",
       "mean             2014.653465   310.501485     7.313389        0.124386   \n",
       "std              1635.448229    12.505310     0.327995        0.008976   \n",
       "min               100.000000   298.150000     7.093700        0.115700   \n",
       "25%               600.000000   298.150000     7.093700        0.115700   \n",
       "50%              1500.000000   298.150000     7.093700        0.121400   \n",
       "75%              3000.000000   323.150000     7.802600        0.137300   \n",
       "max              5000.000000   323.150000     7.802600        0.137300   \n",
       "\n",
       "         NaCl_conc  NaCl_ionic_strength  \n",
       "count  1010.000000          1010.000000  \n",
       "mean      6.225196             0.106540  \n",
       "std       0.668878             0.011448  \n",
       "min       5.493200             0.094000  \n",
       "25%       5.493200             0.094000  \n",
       "50%       6.000000             0.102700  \n",
       "75%       7.093700             0.121400  \n",
       "max       7.093700             0.121400  "
      ]
     },
     "execution_count": 25,
     "metadata": {},
     "output_type": "execute_result"
    }
   ],
   "source": [
    "Hernandes.describe()"
   ]
  },
  {
   "cell_type": "code",
   "execution_count": 26,
   "metadata": {},
   "outputs": [
    {
     "data": {
      "image/png": "[encoded data removed]",
      "text/plain": [
       "<Figure size 792x504 with 2 Axes>"
      ]
     },
     "metadata": {
      "needs_background": "light"
     },
     "output_type": "display_data"
    }
   ],
   "source": [
    "sns.heatmap(Jung.corr())\n",
    "plt.title('Jung');"
   ]
  },
  {
   "cell_type": "code",
   "execution_count": 27,
   "metadata": {},
   "outputs": [
    {
     "data": {
      "text/html": [
       "<div>\n",
       "<style scoped>\n",
       "    .dataframe tbody tr th:only-of-type {\n",
       "        vertical-align: middle;\n",
       "    }\n",
       "\n",
       "    .dataframe tbody tr th {\n",
       "        vertical-align: top;\n",
       "    }\n",
       "\n",
       "    .dataframe thead th {\n",
       "        text-align: right;\n",
       "    }\n",
       "</style>\n",
       "<table border=\"1\" class=\"dataframe\">\n",
       "  <thead>\n",
       "    <tr style=\"text-align: right;\">\n",
       "      <th></th>\n",
       "      <th>Shear_Rate</th>\n",
       "      <th>Viscosity</th>\n",
       "      <th>Molecular_Weight</th>\n",
       "      <th>Degree_of_Hydrolysis</th>\n",
       "      <th>Polymer_Concentration</th>\n",
       "      <th>Temperature</th>\n",
       "      <th>Salinity</th>\n",
       "    </tr>\n",
       "  </thead>\n",
       "  <tbody>\n",
       "    <tr>\n",
       "      <th>count</th>\n",
       "      <td>147.000000</td>\n",
       "      <td>147.000000</td>\n",
       "      <td>147.0</td>\n",
       "      <td>1.470000e+02</td>\n",
       "      <td>147.000000</td>\n",
       "      <td>147.000000</td>\n",
       "      <td>147.000000</td>\n",
       "    </tr>\n",
       "    <tr>\n",
       "      <th>mean</th>\n",
       "      <td>55.028215</td>\n",
       "      <td>0.249785</td>\n",
       "      <td>13000000.0</td>\n",
       "      <td>1.200000e-01</td>\n",
       "      <td>3452.380952</td>\n",
       "      <td>311.415306</td>\n",
       "      <td>1.775510</td>\n",
       "    </tr>\n",
       "    <tr>\n",
       "      <th>std</th>\n",
       "      <td>76.636512</td>\n",
       "      <td>0.730165</td>\n",
       "      <td>0.0</td>\n",
       "      <td>2.088785e-16</td>\n",
       "      <td>2478.906446</td>\n",
       "      <td>21.562692</td>\n",
       "      <td>1.479522</td>\n",
       "    </tr>\n",
       "    <tr>\n",
       "      <th>min</th>\n",
       "      <td>0.098511</td>\n",
       "      <td>0.002154</td>\n",
       "      <td>13000000.0</td>\n",
       "      <td>1.200000e-01</td>\n",
       "      <td>1500.000000</td>\n",
       "      <td>298.150000</td>\n",
       "      <td>0.000000</td>\n",
       "    </tr>\n",
       "    <tr>\n",
       "      <th>25%</th>\n",
       "      <td>4.415331</td>\n",
       "      <td>0.004962</td>\n",
       "      <td>13000000.0</td>\n",
       "      <td>1.200000e-01</td>\n",
       "      <td>1500.000000</td>\n",
       "      <td>298.150000</td>\n",
       "      <td>0.000000</td>\n",
       "    </tr>\n",
       "    <tr>\n",
       "      <th>50%</th>\n",
       "      <td>16.092057</td>\n",
       "      <td>0.011201</td>\n",
       "      <td>13000000.0</td>\n",
       "      <td>1.200000e-01</td>\n",
       "      <td>1500.000000</td>\n",
       "      <td>298.150000</td>\n",
       "      <td>3.000000</td>\n",
       "    </tr>\n",
       "    <tr>\n",
       "      <th>75%</th>\n",
       "      <td>77.709432</td>\n",
       "      <td>0.095619</td>\n",
       "      <td>13000000.0</td>\n",
       "      <td>1.200000e-01</td>\n",
       "      <td>5000.000000</td>\n",
       "      <td>323.150000</td>\n",
       "      <td>3.000000</td>\n",
       "    </tr>\n",
       "    <tr>\n",
       "      <th>max</th>\n",
       "      <td>284.803587</td>\n",
       "      <td>4.369121</td>\n",
       "      <td>13000000.0</td>\n",
       "      <td>1.200000e-01</td>\n",
       "      <td>8000.000000</td>\n",
       "      <td>358.150000</td>\n",
       "      <td>3.000000</td>\n",
       "    </tr>\n",
       "  </tbody>\n",
       "</table>\n",
       "</div>"
      ],
      "text/plain": [
       "       Shear_Rate   Viscosity  Molecular_Weight  Degree_of_Hydrolysis  \\\n",
       "count  147.000000  147.000000             147.0          1.470000e+02   \n",
       "mean    55.028215    0.249785        13000000.0          1.200000e-01   \n",
       "std     76.636512    0.730165               0.0          2.088785e-16   \n",
       "min      0.098511    0.002154        13000000.0          1.200000e-01   \n",
       "25%      4.415331    0.004962        13000000.0          1.200000e-01   \n",
       "50%     16.092057    0.011201        13000000.0          1.200000e-01   \n",
       "75%     77.709432    0.095619        13000000.0          1.200000e-01   \n",
       "max    284.803587    4.369121        13000000.0          1.200000e-01   \n",
       "\n",
       "       Polymer_Concentration  Temperature    Salinity  \n",
       "count             147.000000   147.000000  147.000000  \n",
       "mean             3452.380952   311.415306    1.775510  \n",
       "std              2478.906446    21.562692    1.479522  \n",
       "min              1500.000000   298.150000    0.000000  \n",
       "25%              1500.000000   298.150000    0.000000  \n",
       "50%              1500.000000   298.150000    3.000000  \n",
       "75%              5000.000000   323.150000    3.000000  \n",
       "max              8000.000000   358.150000    3.000000  "
      ]
     },
     "execution_count": 27,
     "metadata": {},
     "output_type": "execute_result"
    }
   ],
   "source": [
    "Jung.describe()"
   ]
  },
  {
   "cell_type": "code",
   "execution_count": 28,
   "metadata": {},
   "outputs": [
    {
     "data": {
      "image/png": "[encoded data removed]",
      "text/plain": [
       "<Figure size 792x504 with 2 Axes>"
      ]
     },
     "metadata": {
      "needs_background": "light"
     },
     "output_type": "display_data"
    }
   ],
   "source": [
    "sns.heatmap(Lopes.corr())\n",
    "plt.title('Lopes');"
   ]
  },
  {
   "cell_type": "code",
   "execution_count": 29,
   "metadata": {},
   "outputs": [
    {
     "data": {
      "text/html": [
       "<div>\n",
       "<style scoped>\n",
       "    .dataframe tbody tr th:only-of-type {\n",
       "        vertical-align: middle;\n",
       "    }\n",
       "\n",
       "    .dataframe tbody tr th {\n",
       "        vertical-align: top;\n",
       "    }\n",
       "\n",
       "    .dataframe thead th {\n",
       "        text-align: right;\n",
       "    }\n",
       "</style>\n",
       "<table border=\"1\" class=\"dataframe\">\n",
       "  <thead>\n",
       "    <tr style=\"text-align: right;\">\n",
       "      <th></th>\n",
       "      <th>Shear_Rate</th>\n",
       "      <th>Viscosity</th>\n",
       "      <th>Molecular_Weight</th>\n",
       "      <th>Polymer_Concentration</th>\n",
       "      <th>Temperature</th>\n",
       "      <th>Salinity</th>\n",
       "      <th>Ionic_Strength</th>\n",
       "    </tr>\n",
       "  </thead>\n",
       "  <tbody>\n",
       "    <tr>\n",
       "      <th>count</th>\n",
       "      <td>334.000000</td>\n",
       "      <td>334.000000</td>\n",
       "      <td>334.0</td>\n",
       "      <td>334.000000</td>\n",
       "      <td>3.340000e+02</td>\n",
       "      <td>334.0</td>\n",
       "      <td>334.0</td>\n",
       "    </tr>\n",
       "    <tr>\n",
       "      <th>mean</th>\n",
       "      <td>160.574024</td>\n",
       "      <td>0.292028</td>\n",
       "      <td>9000000.0</td>\n",
       "      <td>1045.223305</td>\n",
       "      <td>2.961500e+02</td>\n",
       "      <td>0.0</td>\n",
       "      <td>0.0</td>\n",
       "    </tr>\n",
       "    <tr>\n",
       "      <th>std</th>\n",
       "      <td>257.510588</td>\n",
       "      <td>0.952676</td>\n",
       "      <td>0.0</td>\n",
       "      <td>1366.122143</td>\n",
       "      <td>1.252432e-12</td>\n",
       "      <td>0.0</td>\n",
       "      <td>0.0</td>\n",
       "    </tr>\n",
       "    <tr>\n",
       "      <th>min</th>\n",
       "      <td>0.097654</td>\n",
       "      <td>0.001155</td>\n",
       "      <td>9000000.0</td>\n",
       "      <td>9.505000</td>\n",
       "      <td>2.961500e+02</td>\n",
       "      <td>0.0</td>\n",
       "      <td>0.0</td>\n",
       "    </tr>\n",
       "    <tr>\n",
       "      <th>25%</th>\n",
       "      <td>4.790848</td>\n",
       "      <td>0.003429</td>\n",
       "      <td>9000000.0</td>\n",
       "      <td>75.000000</td>\n",
       "      <td>2.961500e+02</td>\n",
       "      <td>0.0</td>\n",
       "      <td>0.0</td>\n",
       "    </tr>\n",
       "    <tr>\n",
       "      <th>50%</th>\n",
       "      <td>33.600000</td>\n",
       "      <td>0.019420</td>\n",
       "      <td>9000000.0</td>\n",
       "      <td>500.000000</td>\n",
       "      <td>2.961500e+02</td>\n",
       "      <td>0.0</td>\n",
       "      <td>0.0</td>\n",
       "    </tr>\n",
       "    <tr>\n",
       "      <th>75%</th>\n",
       "      <td>233.600000</td>\n",
       "      <td>0.117366</td>\n",
       "      <td>9000000.0</td>\n",
       "      <td>1500.000000</td>\n",
       "      <td>2.961500e+02</td>\n",
       "      <td>0.0</td>\n",
       "      <td>0.0</td>\n",
       "    </tr>\n",
       "    <tr>\n",
       "      <th>max</th>\n",
       "      <td>1007.944051</td>\n",
       "      <td>10.000000</td>\n",
       "      <td>9000000.0</td>\n",
       "      <td>5080.218000</td>\n",
       "      <td>2.961500e+02</td>\n",
       "      <td>0.0</td>\n",
       "      <td>0.0</td>\n",
       "    </tr>\n",
       "  </tbody>\n",
       "</table>\n",
       "</div>"
      ],
      "text/plain": [
       "        Shear_Rate   Viscosity  Molecular_Weight  Polymer_Concentration  \\\n",
       "count   334.000000  334.000000             334.0             334.000000   \n",
       "mean    160.574024    0.292028         9000000.0            1045.223305   \n",
       "std     257.510588    0.952676               0.0            1366.122143   \n",
       "min       0.097654    0.001155         9000000.0               9.505000   \n",
       "25%       4.790848    0.003429         9000000.0              75.000000   \n",
       "50%      33.600000    0.019420         9000000.0             500.000000   \n",
       "75%     233.600000    0.117366         9000000.0            1500.000000   \n",
       "max    1007.944051   10.000000         9000000.0            5080.218000   \n",
       "\n",
       "        Temperature  Salinity  Ionic_Strength  \n",
       "count  3.340000e+02     334.0           334.0  \n",
       "mean   2.961500e+02       0.0             0.0  \n",
       "std    1.252432e-12       0.0             0.0  \n",
       "min    2.961500e+02       0.0             0.0  \n",
       "25%    2.961500e+02       0.0             0.0  \n",
       "50%    2.961500e+02       0.0             0.0  \n",
       "75%    2.961500e+02       0.0             0.0  \n",
       "max    2.961500e+02       0.0             0.0  "
      ]
     },
     "execution_count": 29,
     "metadata": {},
     "output_type": "execute_result"
    }
   ],
   "source": [
    "Lopes.describe()"
   ]
  },
  {
   "cell_type": "code",
   "execution_count": 30,
   "metadata": {},
   "outputs": [
    {
     "data": {
      "image/png": "[encoded data removed]",
      "text/plain": [
       "<Figure size 792x504 with 2 Axes>"
      ]
     },
     "metadata": {
      "needs_background": "light"
     },
     "output_type": "display_data"
    }
   ],
   "source": [
    "sns.heatmap(Zhang.corr())\n",
    "plt.title('Zhang');"
   ]
  },
  {
   "cell_type": "code",
   "execution_count": 31,
   "metadata": {},
   "outputs": [
    {
     "data": {
      "text/html": [
       "<div>\n",
       "<style scoped>\n",
       "    .dataframe tbody tr th:only-of-type {\n",
       "        vertical-align: middle;\n",
       "    }\n",
       "\n",
       "    .dataframe tbody tr th {\n",
       "        vertical-align: top;\n",
       "    }\n",
       "\n",
       "    .dataframe thead th {\n",
       "        text-align: right;\n",
       "    }\n",
       "</style>\n",
       "<table border=\"1\" class=\"dataframe\">\n",
       "  <thead>\n",
       "    <tr style=\"text-align: right;\">\n",
       "      <th></th>\n",
       "      <th>Shear_Rate</th>\n",
       "      <th>Viscosity</th>\n",
       "      <th>Molecular_Weight</th>\n",
       "      <th>Polymer_Concentration</th>\n",
       "      <th>Temperature</th>\n",
       "      <th>Salinity</th>\n",
       "    </tr>\n",
       "  </thead>\n",
       "  <tbody>\n",
       "    <tr>\n",
       "      <th>count</th>\n",
       "      <td>406.000000</td>\n",
       "      <td>406.000000</td>\n",
       "      <td>406.0</td>\n",
       "      <td>406.000000</td>\n",
       "      <td>4.060000e+02</td>\n",
       "      <td>406.000000</td>\n",
       "    </tr>\n",
       "    <tr>\n",
       "      <th>mean</th>\n",
       "      <td>43.098232</td>\n",
       "      <td>0.068942</td>\n",
       "      <td>23000000.0</td>\n",
       "      <td>1322.660099</td>\n",
       "      <td>2.981500e+02</td>\n",
       "      <td>1307.389163</td>\n",
       "    </tr>\n",
       "    <tr>\n",
       "      <th>std</th>\n",
       "      <td>25.572904</td>\n",
       "      <td>0.076928</td>\n",
       "      <td>0.0</td>\n",
       "      <td>676.102715</td>\n",
       "      <td>2.105801e-12</td>\n",
       "      <td>2002.614237</td>\n",
       "    </tr>\n",
       "    <tr>\n",
       "      <th>min</th>\n",
       "      <td>5.795310</td>\n",
       "      <td>0.010530</td>\n",
       "      <td>23000000.0</td>\n",
       "      <td>600.000000</td>\n",
       "      <td>2.981500e+02</td>\n",
       "      <td>0.000000</td>\n",
       "    </tr>\n",
       "    <tr>\n",
       "      <th>25%</th>\n",
       "      <td>22.426900</td>\n",
       "      <td>0.022028</td>\n",
       "      <td>23000000.0</td>\n",
       "      <td>1000.000000</td>\n",
       "      <td>2.981500e+02</td>\n",
       "      <td>500.000000</td>\n",
       "    </tr>\n",
       "    <tr>\n",
       "      <th>50%</th>\n",
       "      <td>38.973480</td>\n",
       "      <td>0.042875</td>\n",
       "      <td>23000000.0</td>\n",
       "      <td>1000.000000</td>\n",
       "      <td>2.981500e+02</td>\n",
       "      <td>500.000000</td>\n",
       "    </tr>\n",
       "    <tr>\n",
       "      <th>75%</th>\n",
       "      <td>61.154295</td>\n",
       "      <td>0.084643</td>\n",
       "      <td>23000000.0</td>\n",
       "      <td>1500.000000</td>\n",
       "      <td>2.981500e+02</td>\n",
       "      <td>500.000000</td>\n",
       "    </tr>\n",
       "    <tr>\n",
       "      <th>max</th>\n",
       "      <td>100.711000</td>\n",
       "      <td>0.698730</td>\n",
       "      <td>23000000.0</td>\n",
       "      <td>3000.000000</td>\n",
       "      <td>2.981500e+02</td>\n",
       "      <td>6800.000000</td>\n",
       "    </tr>\n",
       "  </tbody>\n",
       "</table>\n",
       "</div>"
      ],
      "text/plain": [
       "       Shear_Rate   Viscosity  Molecular_Weight  Polymer_Concentration  \\\n",
       "count  406.000000  406.000000             406.0             406.000000   \n",
       "mean    43.098232    0.068942        23000000.0            1322.660099   \n",
       "std     25.572904    0.076928               0.0             676.102715   \n",
       "min      5.795310    0.010530        23000000.0             600.000000   \n",
       "25%     22.426900    0.022028        23000000.0            1000.000000   \n",
       "50%     38.973480    0.042875        23000000.0            1000.000000   \n",
       "75%     61.154295    0.084643        23000000.0            1500.000000   \n",
       "max    100.711000    0.698730        23000000.0            3000.000000   \n",
       "\n",
       "        Temperature     Salinity  \n",
       "count  4.060000e+02   406.000000  \n",
       "mean   2.981500e+02  1307.389163  \n",
       "std    2.105801e-12  2002.614237  \n",
       "min    2.981500e+02     0.000000  \n",
       "25%    2.981500e+02   500.000000  \n",
       "50%    2.981500e+02   500.000000  \n",
       "75%    2.981500e+02   500.000000  \n",
       "max    2.981500e+02  6800.000000  "
      ]
     },
     "execution_count": 31,
     "metadata": {},
     "output_type": "execute_result"
    }
   ],
   "source": [
    "Zhang.describe()"
   ]
  },
  {
   "cell_type": "markdown",
   "metadata": {},
   "source": [
    "# Cross-Validation wrt Specific Paper\n",
    "\n",
    "Firt of all we need to specify all the columns that are in every paper. Those columns are: `['Shear_Rate', 'Viscosity', 'Molecular_Weight', 'Polymer_Concentration', 'Temperature', 'Salinity']`"
   ]
  },
  {
   "cell_type": "code",
   "execution_count": 51,
   "metadata": {},
   "outputs": [],
   "source": [
    "def pick_subset(cv_cols, target='Viscosity', dfs=[Hernandes, Jung, Lopes, Zhang]):\n",
    "    df_papers = {\n",
    "        'hernandes': dfs[0][cv_cols],\n",
    "        'jung': dfs[1][cv_cols],\n",
    "        'lopes': dfs[2][cv_cols],\n",
    "        'zhang': dfs[3][cv_cols]\n",
    "    }\n",
    "    return df_papers\n",
    "\n",
    "def cv_split_paper(df_papers, cv_cols, test_paper, target='Viscosity', normalize=True, poly_feat=None):\n",
    "    assert test_paper in df_papers.keys()\n",
    "\n",
    "    X_train, y_train = [], []\n",
    "    X_test, y_test = [], []\n",
    "    for p_name in df_papers.keys():\n",
    "        if p_name == test_paper:\n",
    "            x_ = df_papers[p_name].drop(columns=[target]).to_numpy()\n",
    "            X_test.append(x_)\n",
    "            y_test = df_papers[p_name][target].to_numpy()\n",
    "        else:\n",
    "            x_ = df_papers[p_name].drop(columns=[target]).to_numpy()\n",
    "            y_ = df_papers[p_name][target].to_numpy()\n",
    "            X_train.append(x_)\n",
    "            y_train.append(y_)\n",
    "            \n",
    "    X_train = np.vstack(X_train)\n",
    "    X_test = np.vstack(X_test)\n",
    "    \n",
    "    if normalize:\n",
    "        scaler = StandardScaler()\n",
    "        scaler.fit(X_train)\n",
    "        X_train = scaler.transform(X_train)\n",
    "        X_test = scaler.transform(X_test)\n",
    "    \n",
    "    if poly_feat:\n",
    "        poly_feat.fit(X_train)\n",
    "        X_train = poly_feat.transform(X_train)\n",
    "        X_test = poly_feat.transform(X_test)\n",
    "        \n",
    "    y_train = np.hstack(y_train)\n",
    "    return X_train, y_train, X_test, y_test, scaler, poly_feat\n",
    "\n",
    "def report_metrics(model, params, cv_cols,\n",
    "                   names_df=['hernandes', 'jung', 'lopes', 'zhang'],\n",
    "                   dfs=[Hernandes, Jung, Lopes, Zhang],\n",
    "                   target='Viscosity',\n",
    "                   metric='r2',\n",
    "                   hyper_params=None,\n",
    "                   poly_feat=None):\n",
    "    assert metric in ('r2', 'mse', 'l1')\n",
    "    scoring = r2_score if metric == 'r2' else mean_absolute_error if metric == 'l1' else mean_squared_error\n",
    "    \n",
    "    score_ls = []\n",
    "    df_papers = pick_subset(cv_cols, target='Viscosity', dfs=dfs)\n",
    "    for n in names_df:\n",
    "        m = model\n",
    "        X_train, y_train, X_test, y_test, scaler_, poly_ = cv_split_paper(df_papers, cv_cols, test_paper=n, poly_feat=poly_feat)\n",
    "        \n",
    "        if hyper_params:\n",
    "            gr_sr = GridSearchCV(m(**params), hyper_params, cv=3, n_jobs=-1)\n",
    "            gr_sr.fit(X_train, y_train)\n",
    "            m = m(**params, **gr_sr.best_params_)\n",
    "        else:\n",
    "            m = m(**params)\n",
    "\n",
    "        m.fit(X_train, y_train)\n",
    "        y_hat_train = m.predict(X_train)\n",
    "        y_hat_test = m.predict(X_test)\n",
    "        \n",
    "        score_train = scoring(y_train, y_hat_train)\n",
    "        score_test = scoring(y_test, y_hat_test)\n",
    "        score_ls.append([score_train, score_test])\n",
    "    score_ls = np.vstack(score_ls)\n",
    "    \n",
    "    return m, scaler_, poly_, pd.DataFrame({metric+'_'+k: v for k, v in zip(['train', 'test'], score_ls.T[:])}, index=names_df)"
   ]
  },
  {
   "cell_type": "markdown",
   "metadata": {},
   "source": [
    "## CV with XGBoost Regression"
   ]
  },
  {
   "cell_type": "code",
   "execution_count": 36,
   "metadata": {},
   "outputs": [],
   "source": [
    "poly_feat = None"
   ]
  },
  {
   "cell_type": "code",
   "execution_count": 35,
   "metadata": {},
   "outputs": [
    {
     "data": {
      "text/html": [
       "<div>\n",
       "<style scoped>\n",
       "    .dataframe tbody tr th:only-of-type {\n",
       "        vertical-align: middle;\n",
       "    }\n",
       "\n",
       "    .dataframe tbody tr th {\n",
       "        vertical-align: top;\n",
       "    }\n",
       "\n",
       "    .dataframe thead th {\n",
       "        text-align: right;\n",
       "    }\n",
       "</style>\n",
       "<table border=\"1\" class=\"dataframe\">\n",
       "  <thead>\n",
       "    <tr style=\"text-align: right;\">\n",
       "      <th></th>\n",
       "      <th>r2_train</th>\n",
       "      <th>r2_test</th>\n",
       "    </tr>\n",
       "  </thead>\n",
       "  <tbody>\n",
       "    <tr>\n",
       "      <th>hernandes</th>\n",
       "      <td>0.999942</td>\n",
       "      <td>-2279.510858</td>\n",
       "    </tr>\n",
       "    <tr>\n",
       "      <th>jung</th>\n",
       "      <td>0.999973</td>\n",
       "      <td>-3.889084</td>\n",
       "    </tr>\n",
       "    <tr>\n",
       "      <th>lopes</th>\n",
       "      <td>0.999874</td>\n",
       "      <td>0.033535</td>\n",
       "    </tr>\n",
       "    <tr>\n",
       "      <th>zhang</th>\n",
       "      <td>0.999994</td>\n",
       "      <td>-0.630946</td>\n",
       "    </tr>\n",
       "  </tbody>\n",
       "</table>\n",
       "</div>"
      ],
      "text/plain": [
       "           r2_train      r2_test\n",
       "hernandes  0.999942 -2279.510858\n",
       "jung       0.999973    -3.889084\n",
       "lopes      0.999874     0.033535\n",
       "zhang      0.999994    -0.630946"
      ]
     },
     "execution_count": 35,
     "metadata": {},
     "output_type": "execute_result"
    }
   ],
   "source": [
    "`cv_cols = ['Viscosity', 'Shear_Rate', 'Molecular_Weight', 'Polymer_Concentration', 'Temperature', 'Salinity']\n",
    "params = {'random_state': 42, 'n_jobs': -1}\n",
    "hyper_params = {\n",
    "    'n_estimators': np.arange(50, 201, 20),\n",
    "    'max_depth': np.arange(3, 18),\n",
    "    'reg_lambda': [1e-2, 1e-1, 0, 1e1, 1e2]\n",
    "}\n",
    "report_metrics(XGBRegressor, params, cv_cols, hyper_params=hyper_params, poly_feat=poly_feat)[-1]"
   ]
  },
  {
   "cell_type": "code",
   "execution_count": 39,
   "metadata": {},
   "outputs": [
    {
     "data": {
      "text/html": [
       "<div>\n",
       "<style scoped>\n",
       "    .dataframe tbody tr th:only-of-type {\n",
       "        vertical-align: middle;\n",
       "    }\n",
       "\n",
       "    .dataframe tbody tr th {\n",
       "        vertical-align: top;\n",
       "    }\n",
       "\n",
       "    .dataframe thead th {\n",
       "        text-align: right;\n",
       "    }\n",
       "</style>\n",
       "<table border=\"1\" class=\"dataframe\">\n",
       "  <thead>\n",
       "    <tr style=\"text-align: right;\">\n",
       "      <th></th>\n",
       "      <th>r2_train</th>\n",
       "      <th>r2_test</th>\n",
       "    </tr>\n",
       "  </thead>\n",
       "  <tbody>\n",
       "    <tr>\n",
       "      <th>hernandes</th>\n",
       "      <td>0.999366</td>\n",
       "      <td>-2512.544995</td>\n",
       "    </tr>\n",
       "    <tr>\n",
       "      <th>jung</th>\n",
       "      <td>0.999557</td>\n",
       "      <td>-3.872665</td>\n",
       "    </tr>\n",
       "    <tr>\n",
       "      <th>lopes</th>\n",
       "      <td>0.930532</td>\n",
       "      <td>0.003470</td>\n",
       "    </tr>\n",
       "    <tr>\n",
       "      <th>zhang</th>\n",
       "      <td>0.859104</td>\n",
       "      <td>-0.482914</td>\n",
       "    </tr>\n",
       "  </tbody>\n",
       "</table>\n",
       "</div>"
      ],
      "text/plain": [
       "           r2_train      r2_test\n",
       "hernandes  0.999366 -2512.544995\n",
       "jung       0.999557    -3.872665\n",
       "lopes      0.930532     0.003470\n",
       "zhang      0.859104    -0.482914"
      ]
     },
     "execution_count": 39,
     "metadata": {},
     "output_type": "execute_result"
    }
   ],
   "source": [
    "cv_cols = ['Shear_Rate', 'Viscosity', 'Molecular_Weight', 'Polymer_Concentration', 'Temperature']\n",
    "params = {'random_state': 42, 'n_jobs': -1}\n",
    "hyper_params = {\n",
    "    'n_estimators': np.arange(50, 201, 20),\n",
    "    'max_depth': np.arange(3, 18),\n",
    "    'reg_lambda': [1e-2, 1e-1, 0, 1e1, 1e2]\n",
    "}\n",
    "report_metrics(XGBRegressor, params, cv_cols, hyper_params=hyper_params, poly_feat=poly_feat)[-1]"
   ]
  },
  {
   "cell_type": "code",
   "execution_count": 40,
   "metadata": {},
   "outputs": [
    {
     "data": {
      "text/html": [
       "<div>\n",
       "<style scoped>\n",
       "    .dataframe tbody tr th:only-of-type {\n",
       "        vertical-align: middle;\n",
       "    }\n",
       "\n",
       "    .dataframe tbody tr th {\n",
       "        vertical-align: top;\n",
       "    }\n",
       "\n",
       "    .dataframe thead th {\n",
       "        text-align: right;\n",
       "    }\n",
       "</style>\n",
       "<table border=\"1\" class=\"dataframe\">\n",
       "  <thead>\n",
       "    <tr style=\"text-align: right;\">\n",
       "      <th></th>\n",
       "      <th>r2_train</th>\n",
       "      <th>r2_test</th>\n",
       "    </tr>\n",
       "  </thead>\n",
       "  <tbody>\n",
       "    <tr>\n",
       "      <th>hernandes</th>\n",
       "      <td>0.999445</td>\n",
       "      <td>-34.063134</td>\n",
       "    </tr>\n",
       "    <tr>\n",
       "      <th>jung</th>\n",
       "      <td>0.999373</td>\n",
       "      <td>0.013441</td>\n",
       "    </tr>\n",
       "    <tr>\n",
       "      <th>lopes</th>\n",
       "      <td>0.844621</td>\n",
       "      <td>-0.033784</td>\n",
       "    </tr>\n",
       "    <tr>\n",
       "      <th>zhang</th>\n",
       "      <td>0.999766</td>\n",
       "      <td>-0.498469</td>\n",
       "    </tr>\n",
       "  </tbody>\n",
       "</table>\n",
       "</div>"
      ],
      "text/plain": [
       "           r2_train    r2_test\n",
       "hernandes  0.999445 -34.063134\n",
       "jung       0.999373   0.013441\n",
       "lopes      0.844621  -0.033784\n",
       "zhang      0.999766  -0.498469"
      ]
     },
     "execution_count": 40,
     "metadata": {},
     "output_type": "execute_result"
    }
   ],
   "source": [
    "cv_cols = ['Shear_Rate', 'Viscosity', 'Polymer_Concentration', 'Temperature']\n",
    "params = {'random_state': 42, 'n_jobs': -1}\n",
    "hyper_params = {\n",
    "    'n_estimators': np.arange(50, 201, 20),\n",
    "    'max_depth': np.arange(3, 18),\n",
    "    'reg_lambda': [1e-2, 1e-1, 0, 1e1, 1e2]\n",
    "}\n",
    "report_metrics(XGBRegressor, params, cv_cols, hyper_params=hyper_params, poly_feat=poly_feat)[-1]"
   ]
  },
  {
   "cell_type": "code",
   "execution_count": 41,
   "metadata": {},
   "outputs": [
    {
     "data": {
      "text/html": [
       "<div>\n",
       "<style scoped>\n",
       "    .dataframe tbody tr th:only-of-type {\n",
       "        vertical-align: middle;\n",
       "    }\n",
       "\n",
       "    .dataframe tbody tr th {\n",
       "        vertical-align: top;\n",
       "    }\n",
       "\n",
       "    .dataframe thead th {\n",
       "        text-align: right;\n",
       "    }\n",
       "</style>\n",
       "<table border=\"1\" class=\"dataframe\">\n",
       "  <thead>\n",
       "    <tr style=\"text-align: right;\">\n",
       "      <th></th>\n",
       "      <th>r2_train</th>\n",
       "      <th>r2_test</th>\n",
       "    </tr>\n",
       "  </thead>\n",
       "  <tbody>\n",
       "    <tr>\n",
       "      <th>hernandes</th>\n",
       "      <td>0.999612</td>\n",
       "      <td>-1537.999830</td>\n",
       "    </tr>\n",
       "    <tr>\n",
       "      <th>jung</th>\n",
       "      <td>0.382214</td>\n",
       "      <td>0.291513</td>\n",
       "    </tr>\n",
       "    <tr>\n",
       "      <th>lopes</th>\n",
       "      <td>0.841295</td>\n",
       "      <td>-0.048062</td>\n",
       "    </tr>\n",
       "    <tr>\n",
       "      <th>zhang</th>\n",
       "      <td>0.444255</td>\n",
       "      <td>-0.428793</td>\n",
       "    </tr>\n",
       "  </tbody>\n",
       "</table>\n",
       "</div>"
      ],
      "text/plain": [
       "           r2_train      r2_test\n",
       "hernandes  0.999612 -1537.999830\n",
       "jung       0.382214     0.291513\n",
       "lopes      0.841295    -0.048062\n",
       "zhang      0.444255    -0.428793"
      ]
     },
     "execution_count": 41,
     "metadata": {},
     "output_type": "execute_result"
    }
   ],
   "source": [
    "cv_cols = ['Shear_Rate', 'Viscosity', 'Polymer_Concentration']\n",
    "params = {'random_state': 42, 'n_jobs': -1}\n",
    "hyper_params = {\n",
    "    'n_estimators': np.arange(50, 201, 20),\n",
    "    'max_depth': np.arange(3, 18),\n",
    "    'reg_lambda': [1e-2, 1e-1, 0, 1e1, 1e2]\n",
    "}\n",
    "report_metrics(XGBRegressor, params, cv_cols, hyper_params=hyper_params, poly_feat=poly_feat)[-1]"
   ]
  },
  {
   "cell_type": "code",
   "execution_count": 42,
   "metadata": {},
   "outputs": [
    {
     "data": {
      "text/html": [
       "<div>\n",
       "<style scoped>\n",
       "    .dataframe tbody tr th:only-of-type {\n",
       "        vertical-align: middle;\n",
       "    }\n",
       "\n",
       "    .dataframe tbody tr th {\n",
       "        vertical-align: top;\n",
       "    }\n",
       "\n",
       "    .dataframe thead th {\n",
       "        text-align: right;\n",
       "    }\n",
       "</style>\n",
       "<table border=\"1\" class=\"dataframe\">\n",
       "  <thead>\n",
       "    <tr style=\"text-align: right;\">\n",
       "      <th></th>\n",
       "      <th>r2_train</th>\n",
       "      <th>r2_test</th>\n",
       "    </tr>\n",
       "  </thead>\n",
       "  <tbody>\n",
       "    <tr>\n",
       "      <th>hernandes</th>\n",
       "      <td>0.481713</td>\n",
       "      <td>-256.720800</td>\n",
       "    </tr>\n",
       "    <tr>\n",
       "      <th>jung</th>\n",
       "      <td>0.277652</td>\n",
       "      <td>0.096653</td>\n",
       "    </tr>\n",
       "    <tr>\n",
       "      <th>lopes</th>\n",
       "      <td>0.340177</td>\n",
       "      <td>0.030345</td>\n",
       "    </tr>\n",
       "    <tr>\n",
       "      <th>zhang</th>\n",
       "      <td>0.347352</td>\n",
       "      <td>-0.230062</td>\n",
       "    </tr>\n",
       "  </tbody>\n",
       "</table>\n",
       "</div>"
      ],
      "text/plain": [
       "           r2_train     r2_test\n",
       "hernandes  0.481713 -256.720800\n",
       "jung       0.277652    0.096653\n",
       "lopes      0.340177    0.030345\n",
       "zhang      0.347352   -0.230062"
      ]
     },
     "execution_count": 42,
     "metadata": {},
     "output_type": "execute_result"
    }
   ],
   "source": [
    "cv_cols = ['Shear_Rate', 'Viscosity']\n",
    "xgbr = XGBRegressor\n",
    "params = {'random_state': 42, 'n_jobs': -1}\n",
    "hyper_params = {\n",
    "    'n_estimators': np.arange(50, 201, 20),\n",
    "    'max_depth': np.arange(3, 18),\n",
    "    'reg_lambda': [1e-2, 1e-1, 0, 1e1, 1e2]\n",
    "}\n",
    "report_metrics(XGBRegressor, params, cv_cols, hyper_params=hyper_params, poly_feat=poly_feat)[-1]"
   ]
  },
  {
   "cell_type": "markdown",
   "metadata": {},
   "source": [
    "## CV with Tree Regression"
   ]
  },
  {
   "cell_type": "code",
   "execution_count": 44,
   "metadata": {},
   "outputs": [],
   "source": [
    "poly_feat = PolynomialFeatures(degree=2)"
   ]
  },
  {
   "cell_type": "code",
   "execution_count": 45,
   "metadata": {},
   "outputs": [
    {
     "data": {
      "text/html": [
       "<div>\n",
       "<style scoped>\n",
       "    .dataframe tbody tr th:only-of-type {\n",
       "        vertical-align: middle;\n",
       "    }\n",
       "\n",
       "    .dataframe tbody tr th {\n",
       "        vertical-align: top;\n",
       "    }\n",
       "\n",
       "    .dataframe thead th {\n",
       "        text-align: right;\n",
       "    }\n",
       "</style>\n",
       "<table border=\"1\" class=\"dataframe\">\n",
       "  <thead>\n",
       "    <tr style=\"text-align: right;\">\n",
       "      <th></th>\n",
       "      <th>r2_train</th>\n",
       "      <th>r2_test</th>\n",
       "    </tr>\n",
       "  </thead>\n",
       "  <tbody>\n",
       "    <tr>\n",
       "      <th>hernandes</th>\n",
       "      <td>0.999975</td>\n",
       "      <td>-747.689690</td>\n",
       "    </tr>\n",
       "    <tr>\n",
       "      <th>jung</th>\n",
       "      <td>0.999994</td>\n",
       "      <td>0.603260</td>\n",
       "    </tr>\n",
       "    <tr>\n",
       "      <th>lopes</th>\n",
       "      <td>0.992848</td>\n",
       "      <td>-0.704386</td>\n",
       "    </tr>\n",
       "    <tr>\n",
       "      <th>zhang</th>\n",
       "      <td>0.996622</td>\n",
       "      <td>-0.628992</td>\n",
       "    </tr>\n",
       "  </tbody>\n",
       "</table>\n",
       "</div>"
      ],
      "text/plain": [
       "           r2_train     r2_test\n",
       "hernandes  0.999975 -747.689690\n",
       "jung       0.999994    0.603260\n",
       "lopes      0.992848   -0.704386\n",
       "zhang      0.996622   -0.628992"
      ]
     },
     "execution_count": 45,
     "metadata": {},
     "output_type": "execute_result"
    }
   ],
   "source": [
    "cv_cols = ['Shear_Rate', 'Viscosity', 'Molecular_Weight', 'Polymer_Concentration', 'Temperature', 'Salinity']\n",
    "params = {'random_state': 42}\n",
    "hyper_params = {\n",
    "    'criterion': [\"mse\", \"friedman_mse\", \"mae\", \"poisson\"],\n",
    "    'max_depth': np.arange(2, 21)\n",
    "}\n",
    "m, scaler_, poly_, df = report_metrics(tree, params, cv_cols, hyper_params=hyper_params, poly_feat=poly_feat)\n",
    "df"
   ]
  },
  {
   "cell_type": "code",
   "execution_count": 46,
   "metadata": {},
   "outputs": [
    {
     "data": {
      "image/png": "[encoded data removed]",
      "text/plain": [
       "<Figure size 792x504 with 1 Axes>"
      ]
     },
     "metadata": {
      "needs_background": "light"
     },
     "output_type": "display_data"
    }
   ],
   "source": [
    "X_test_tree = Jung[cv_cols].drop(columns=['Viscosity'])\n",
    "y_test_tree = Jung['Viscosity']\n",
    "Jung_shear_rate = Jung['Shear_Rate']\n",
    "\n",
    "X_test_tree = scaler_.transform(X_test_tree)\n",
    "X_test_tree = poly_.transform(X_test_tree)\n",
    "\n",
    "y_hat_tree = m.predict(X_test_tree)\n",
    "\n",
    "plt.rcParams[\"figure.figsize\"] = (11, 7)\n",
    "plt.rcParams[\"font.size\"] = 15\n",
    "\n",
    "plt.scatter(Jung_shear_rate, y_test_tree, label='Ground truth', c='k', s=80)\n",
    "plt.scatter(Jung_shear_rate, y_hat_tree, label='Prediciton', c='r', marker='x', s=120)\n",
    "plt.legend()\n",
    "plt.xlabel('Shear rate')\n",
    "plt.ylabel('Viscosity')\n",
    "plt.yscale('log')\n",
    "plt.xscale('log')\n",
    "plt.title('Tree. All features, polynomial features 2nd order');"
   ]
  },
  {
   "cell_type": "code",
   "execution_count": 47,
   "metadata": {},
   "outputs": [
    {
     "data": {
      "text/html": [
       "<div>\n",
       "<style scoped>\n",
       "    .dataframe tbody tr th:only-of-type {\n",
       "        vertical-align: middle;\n",
       "    }\n",
       "\n",
       "    .dataframe tbody tr th {\n",
       "        vertical-align: top;\n",
       "    }\n",
       "\n",
       "    .dataframe thead th {\n",
       "        text-align: right;\n",
       "    }\n",
       "</style>\n",
       "<table border=\"1\" class=\"dataframe\">\n",
       "  <thead>\n",
       "    <tr style=\"text-align: right;\">\n",
       "      <th></th>\n",
       "      <th>r2_train</th>\n",
       "      <th>r2_test</th>\n",
       "    </tr>\n",
       "  </thead>\n",
       "  <tbody>\n",
       "    <tr>\n",
       "      <th>hernandes</th>\n",
       "      <td>0.999573</td>\n",
       "      <td>-913.751971</td>\n",
       "    </tr>\n",
       "    <tr>\n",
       "      <th>jung</th>\n",
       "      <td>0.998722</td>\n",
       "      <td>0.228459</td>\n",
       "    </tr>\n",
       "    <tr>\n",
       "      <th>lopes</th>\n",
       "      <td>0.996346</td>\n",
       "      <td>-0.034315</td>\n",
       "    </tr>\n",
       "    <tr>\n",
       "      <th>zhang</th>\n",
       "      <td>0.998945</td>\n",
       "      <td>-0.518212</td>\n",
       "    </tr>\n",
       "  </tbody>\n",
       "</table>\n",
       "</div>"
      ],
      "text/plain": [
       "           r2_train     r2_test\n",
       "hernandes  0.999573 -913.751971\n",
       "jung       0.998722    0.228459\n",
       "lopes      0.996346   -0.034315\n",
       "zhang      0.998945   -0.518212"
      ]
     },
     "execution_count": 47,
     "metadata": {},
     "output_type": "execute_result"
    }
   ],
   "source": [
    "cv_cols = ['Shear_Rate', 'Viscosity', 'Molecular_Weight', 'Polymer_Concentration', 'Temperature']\n",
    "params = {'random_state': 42}\n",
    "hyper_params = {\n",
    "    'criterion': [\"mse\", \"friedman_mse\", \"mae\", \"poisson\"],\n",
    "    'max_depth': np.arange(2, 21)\n",
    "}\n",
    "report_metrics(tree, params, cv_cols, hyper_params=hyper_params, poly_feat=poly_feat)[-1]"
   ]
  },
  {
   "cell_type": "code",
   "execution_count": 48,
   "metadata": {},
   "outputs": [
    {
     "data": {
      "text/html": [
       "<div>\n",
       "<style scoped>\n",
       "    .dataframe tbody tr th:only-of-type {\n",
       "        vertical-align: middle;\n",
       "    }\n",
       "\n",
       "    .dataframe tbody tr th {\n",
       "        vertical-align: top;\n",
       "    }\n",
       "\n",
       "    .dataframe thead th {\n",
       "        text-align: right;\n",
       "    }\n",
       "</style>\n",
       "<table border=\"1\" class=\"dataframe\">\n",
       "  <thead>\n",
       "    <tr style=\"text-align: right;\">\n",
       "      <th></th>\n",
       "      <th>r2_train</th>\n",
       "      <th>r2_test</th>\n",
       "    </tr>\n",
       "  </thead>\n",
       "  <tbody>\n",
       "    <tr>\n",
       "      <th>hernandes</th>\n",
       "      <td>0.999413</td>\n",
       "      <td>-4393.715113</td>\n",
       "    </tr>\n",
       "    <tr>\n",
       "      <th>jung</th>\n",
       "      <td>0.997769</td>\n",
       "      <td>-4.426686</td>\n",
       "    </tr>\n",
       "    <tr>\n",
       "      <th>lopes</th>\n",
       "      <td>0.995119</td>\n",
       "      <td>-0.191253</td>\n",
       "    </tr>\n",
       "    <tr>\n",
       "      <th>zhang</th>\n",
       "      <td>0.998790</td>\n",
       "      <td>-0.067899</td>\n",
       "    </tr>\n",
       "  </tbody>\n",
       "</table>\n",
       "</div>"
      ],
      "text/plain": [
       "           r2_train      r2_test\n",
       "hernandes  0.999413 -4393.715113\n",
       "jung       0.997769    -4.426686\n",
       "lopes      0.995119    -0.191253\n",
       "zhang      0.998790    -0.067899"
      ]
     },
     "execution_count": 48,
     "metadata": {},
     "output_type": "execute_result"
    }
   ],
   "source": [
    "cv_cols = ['Shear_Rate', 'Viscosity', 'Molecular_Weight', 'Polymer_Concentration']\n",
    "params = {'random_state': 42}\n",
    "hyper_params = {\n",
    "    'criterion': [\"mse\", \"friedman_mse\", \"mae\", \"poisson\"],\n",
    "    'max_depth': np.arange(2, 21)\n",
    "}\n",
    "report_metrics(tree, params, cv_cols, hyper_params=hyper_params, poly_feat=poly_feat)[-1]"
   ]
  },
  {
   "cell_type": "code",
   "execution_count": 49,
   "metadata": {},
   "outputs": [
    {
     "data": {
      "text/html": [
       "<div>\n",
       "<style scoped>\n",
       "    .dataframe tbody tr th:only-of-type {\n",
       "        vertical-align: middle;\n",
       "    }\n",
       "\n",
       "    .dataframe tbody tr th {\n",
       "        vertical-align: top;\n",
       "    }\n",
       "\n",
       "    .dataframe thead th {\n",
       "        text-align: right;\n",
       "    }\n",
       "</style>\n",
       "<table border=\"1\" class=\"dataframe\">\n",
       "  <thead>\n",
       "    <tr style=\"text-align: right;\">\n",
       "      <th></th>\n",
       "      <th>r2_train</th>\n",
       "      <th>r2_test</th>\n",
       "    </tr>\n",
       "  </thead>\n",
       "  <tbody>\n",
       "    <tr>\n",
       "      <th>hernandes</th>\n",
       "      <td>0.998775</td>\n",
       "      <td>-1694.374368</td>\n",
       "    </tr>\n",
       "    <tr>\n",
       "      <th>jung</th>\n",
       "      <td>-0.001547</td>\n",
       "      <td>-0.052033</td>\n",
       "    </tr>\n",
       "    <tr>\n",
       "      <th>lopes</th>\n",
       "      <td>0.955975</td>\n",
       "      <td>-0.058785</td>\n",
       "    </tr>\n",
       "    <tr>\n",
       "      <th>zhang</th>\n",
       "      <td>0.169568</td>\n",
       "      <td>-0.526745</td>\n",
       "    </tr>\n",
       "  </tbody>\n",
       "</table>\n",
       "</div>"
      ],
      "text/plain": [
       "           r2_train      r2_test\n",
       "hernandes  0.998775 -1694.374368\n",
       "jung      -0.001547    -0.052033\n",
       "lopes      0.955975    -0.058785\n",
       "zhang      0.169568    -0.526745"
      ]
     },
     "execution_count": 49,
     "metadata": {},
     "output_type": "execute_result"
    }
   ],
   "source": [
    "cv_cols = ['Shear_Rate', 'Viscosity', 'Polymer_Concentration']\n",
    "params = {'random_state': 42}\n",
    "hyper_params = {\n",
    "    'criterion': [\"mse\", \"friedman_mse\", \"mae\", \"poisson\"],\n",
    "    'max_depth': np.arange(2, 21)\n",
    "}\n",
    "report_metrics(tree, params, cv_cols, hyper_params=hyper_params, poly_feat=poly_feat)[-1]"
   ]
  },
  {
   "cell_type": "code",
   "execution_count": 50,
   "metadata": {},
   "outputs": [
    {
     "data": {
      "text/html": [
       "<div>\n",
       "<style scoped>\n",
       "    .dataframe tbody tr th:only-of-type {\n",
       "        vertical-align: middle;\n",
       "    }\n",
       "\n",
       "    .dataframe tbody tr th {\n",
       "        vertical-align: top;\n",
       "    }\n",
       "\n",
       "    .dataframe thead th {\n",
       "        text-align: right;\n",
       "    }\n",
       "</style>\n",
       "<table border=\"1\" class=\"dataframe\">\n",
       "  <thead>\n",
       "    <tr style=\"text-align: right;\">\n",
       "      <th></th>\n",
       "      <th>r2_train</th>\n",
       "      <th>r2_test</th>\n",
       "    </tr>\n",
       "  </thead>\n",
       "  <tbody>\n",
       "    <tr>\n",
       "      <th>hernandes</th>\n",
       "      <td>0.267284</td>\n",
       "      <td>-66.804379</td>\n",
       "    </tr>\n",
       "    <tr>\n",
       "      <th>jung</th>\n",
       "      <td>-0.001008</td>\n",
       "      <td>-0.068809</td>\n",
       "    </tr>\n",
       "    <tr>\n",
       "      <th>lopes</th>\n",
       "      <td>-0.007200</td>\n",
       "      <td>-0.071684</td>\n",
       "    </tr>\n",
       "    <tr>\n",
       "      <th>zhang</th>\n",
       "      <td>-0.000315</td>\n",
       "      <td>-0.680982</td>\n",
       "    </tr>\n",
       "  </tbody>\n",
       "</table>\n",
       "</div>"
      ],
      "text/plain": [
       "           r2_train    r2_test\n",
       "hernandes  0.267284 -66.804379\n",
       "jung      -0.001008  -0.068809\n",
       "lopes     -0.007200  -0.071684\n",
       "zhang     -0.000315  -0.680982"
      ]
     },
     "execution_count": 50,
     "metadata": {},
     "output_type": "execute_result"
    }
   ],
   "source": [
    "cv_cols = ['Shear_Rate', 'Viscosity']\n",
    "params = {'random_state': 42}\n",
    "hyper_params = {\n",
    "    'criterion': [\"mse\", \"friedman_mse\", \"mae\", \"poisson\"],\n",
    "    'max_depth': np.arange(2, 21)\n",
    "}\n",
    "report_metrics(tree, params, cv_cols, hyper_params=hyper_params, poly_feat=poly_feat)[-1]"
   ]
  },
  {
   "cell_type": "markdown",
   "metadata": {},
   "source": [
    "## CV with Ridge and Polynomial Embeddings"
   ]
  },
  {
   "cell_type": "code",
   "execution_count": 52,
   "metadata": {},
   "outputs": [],
   "source": [
    "poly_feat = PolynomialFeatures(degree=3)"
   ]
  },
  {
   "cell_type": "code",
   "execution_count": 54,
   "metadata": {},
   "outputs": [
    {
     "data": {
      "text/html": [
       "<div>\n",
       "<style scoped>\n",
       "    .dataframe tbody tr th:only-of-type {\n",
       "        vertical-align: middle;\n",
       "    }\n",
       "\n",
       "    .dataframe tbody tr th {\n",
       "        vertical-align: top;\n",
       "    }\n",
       "\n",
       "    .dataframe thead th {\n",
       "        text-align: right;\n",
       "    }\n",
       "</style>\n",
       "<table border=\"1\" class=\"dataframe\">\n",
       "  <thead>\n",
       "    <tr style=\"text-align: right;\">\n",
       "      <th></th>\n",
       "      <th>r2_train</th>\n",
       "      <th>r2_test</th>\n",
       "    </tr>\n",
       "  </thead>\n",
       "  <tbody>\n",
       "    <tr>\n",
       "      <th>hernandes</th>\n",
       "      <td>0.156441</td>\n",
       "      <td>-5.431450e+01</td>\n",
       "    </tr>\n",
       "    <tr>\n",
       "      <th>jung</th>\n",
       "      <td>0.074964</td>\n",
       "      <td>1.754048e-01</td>\n",
       "    </tr>\n",
       "    <tr>\n",
       "      <th>lopes</th>\n",
       "      <td>0.424367</td>\n",
       "      <td>-3.753753e-02</td>\n",
       "    </tr>\n",
       "    <tr>\n",
       "      <th>zhang</th>\n",
       "      <td>0.366567</td>\n",
       "      <td>-1.929013e+18</td>\n",
       "    </tr>\n",
       "  </tbody>\n",
       "</table>\n",
       "</div>"
      ],
      "text/plain": [
       "           r2_train       r2_test\n",
       "hernandes  0.156441 -5.431450e+01\n",
       "jung       0.074964  1.754048e-01\n",
       "lopes      0.424367 -3.753753e-02\n",
       "zhang      0.366567 -1.929013e+18"
      ]
     },
     "execution_count": 54,
     "metadata": {},
     "output_type": "execute_result"
    }
   ],
   "source": [
    "cv_cols = ['Viscosity', 'Shear_Rate', 'Molecular_Weight', 'Polymer_Concentration', 'Temperature', 'Salinity']\n",
    "params = {'random_state': 42}\n",
    "hyper_params = {\n",
    "    'alpha': [1e-4, 1e-3, 1e-2, 1e-1, 1e0, 1e1, 1e2, 1e3, 1e4]\n",
    "}\n",
    "report_metrics(Ridge, params, cv_cols, hyper_params=hyper_params, poly_feat=poly_feat)[-1]"
   ]
  },
  {
   "cell_type": "code",
   "execution_count": 55,
   "metadata": {},
   "outputs": [
    {
     "data": {
      "text/html": [
       "<div>\n",
       "<style scoped>\n",
       "    .dataframe tbody tr th:only-of-type {\n",
       "        vertical-align: middle;\n",
       "    }\n",
       "\n",
       "    .dataframe tbody tr th {\n",
       "        vertical-align: top;\n",
       "    }\n",
       "\n",
       "    .dataframe thead th {\n",
       "        text-align: right;\n",
       "    }\n",
       "</style>\n",
       "<table border=\"1\" class=\"dataframe\">\n",
       "  <thead>\n",
       "    <tr style=\"text-align: right;\">\n",
       "      <th></th>\n",
       "      <th>r2_train</th>\n",
       "      <th>r2_test</th>\n",
       "    </tr>\n",
       "  </thead>\n",
       "  <tbody>\n",
       "    <tr>\n",
       "      <th>hernandes</th>\n",
       "      <td>0.153243</td>\n",
       "      <td>-51.532936</td>\n",
       "    </tr>\n",
       "    <tr>\n",
       "      <th>jung</th>\n",
       "      <td>0.073928</td>\n",
       "      <td>0.175766</td>\n",
       "    </tr>\n",
       "    <tr>\n",
       "      <th>lopes</th>\n",
       "      <td>0.423256</td>\n",
       "      <td>-0.038115</td>\n",
       "    </tr>\n",
       "    <tr>\n",
       "      <th>zhang</th>\n",
       "      <td>0.423280</td>\n",
       "      <td>-24915.173580</td>\n",
       "    </tr>\n",
       "  </tbody>\n",
       "</table>\n",
       "</div>"
      ],
      "text/plain": [
       "           r2_train       r2_test\n",
       "hernandes  0.153243    -51.532936\n",
       "jung       0.073928      0.175766\n",
       "lopes      0.423256     -0.038115\n",
       "zhang      0.423280 -24915.173580"
      ]
     },
     "execution_count": 55,
     "metadata": {},
     "output_type": "execute_result"
    }
   ],
   "source": [
    "cv_cols = ['Viscosity', 'Shear_Rate', 'Molecular_Weight', 'Polymer_Concentration', 'Temperature']\n",
    "params = {'random_state': 42}\n",
    "hyper_params = {\n",
    "    'alpha': [1e-4, 1e-3, 1e-2, 1e-1, 1e0, 1e1, 1e2, 1e3, 1e4]\n",
    "}\n",
    "report_metrics(Ridge, params, cv_cols, hyper_params=hyper_params, poly_feat=poly_feat)[-1]"
   ]
  },
  {
   "cell_type": "code",
   "execution_count": 56,
   "metadata": {},
   "outputs": [
    {
     "data": {
      "text/html": [
       "<div>\n",
       "<style scoped>\n",
       "    .dataframe tbody tr th:only-of-type {\n",
       "        vertical-align: middle;\n",
       "    }\n",
       "\n",
       "    .dataframe tbody tr th {\n",
       "        vertical-align: top;\n",
       "    }\n",
       "\n",
       "    .dataframe thead th {\n",
       "        text-align: right;\n",
       "    }\n",
       "</style>\n",
       "<table border=\"1\" class=\"dataframe\">\n",
       "  <thead>\n",
       "    <tr style=\"text-align: right;\">\n",
       "      <th></th>\n",
       "      <th>r2_train</th>\n",
       "      <th>r2_test</th>\n",
       "    </tr>\n",
       "  </thead>\n",
       "  <tbody>\n",
       "    <tr>\n",
       "      <th>hernandes</th>\n",
       "      <td>0.149597</td>\n",
       "      <td>-60.987158</td>\n",
       "    </tr>\n",
       "    <tr>\n",
       "      <th>jung</th>\n",
       "      <td>0.047671</td>\n",
       "      <td>0.338534</td>\n",
       "    </tr>\n",
       "    <tr>\n",
       "      <th>lopes</th>\n",
       "      <td>0.418468</td>\n",
       "      <td>-0.043114</td>\n",
       "    </tr>\n",
       "    <tr>\n",
       "      <th>zhang</th>\n",
       "      <td>0.356151</td>\n",
       "      <td>-19695.517439</td>\n",
       "    </tr>\n",
       "  </tbody>\n",
       "</table>\n",
       "</div>"
      ],
      "text/plain": [
       "           r2_train       r2_test\n",
       "hernandes  0.149597    -60.987158\n",
       "jung       0.047671      0.338534\n",
       "lopes      0.418468     -0.043114\n",
       "zhang      0.356151 -19695.517439"
      ]
     },
     "execution_count": 56,
     "metadata": {},
     "output_type": "execute_result"
    }
   ],
   "source": [
    "cv_cols = ['Viscosity', 'Shear_Rate', 'Molecular_Weight', 'Polymer_Concentration']\n",
    "params = {'random_state': 42}\n",
    "hyper_params = {\n",
    "    'alpha': [1e-4, 1e-3, 1e-2, 1e-1, 1e0, 1e1, 1e2, 1e3, 1e4]\n",
    "}\n",
    "report_metrics(Ridge, params, cv_cols, hyper_params=hyper_params, poly_feat=poly_feat)[-1]"
   ]
  },
  {
   "cell_type": "code",
   "execution_count": 57,
   "metadata": {},
   "outputs": [
    {
     "data": {
      "text/html": [
       "<div>\n",
       "<style scoped>\n",
       "    .dataframe tbody tr th:only-of-type {\n",
       "        vertical-align: middle;\n",
       "    }\n",
       "\n",
       "    .dataframe tbody tr th {\n",
       "        vertical-align: top;\n",
       "    }\n",
       "\n",
       "    .dataframe thead th {\n",
       "        text-align: right;\n",
       "    }\n",
       "</style>\n",
       "<table border=\"1\" class=\"dataframe\">\n",
       "  <thead>\n",
       "    <tr style=\"text-align: right;\">\n",
       "      <th></th>\n",
       "      <th>r2_train</th>\n",
       "      <th>r2_test</th>\n",
       "    </tr>\n",
       "  </thead>\n",
       "  <tbody>\n",
       "    <tr>\n",
       "      <th>hernandes</th>\n",
       "      <td>0.234738</td>\n",
       "      <td>-108.809787</td>\n",
       "    </tr>\n",
       "    <tr>\n",
       "      <th>jung</th>\n",
       "      <td>0.039722</td>\n",
       "      <td>0.374411</td>\n",
       "    </tr>\n",
       "    <tr>\n",
       "      <th>lopes</th>\n",
       "      <td>0.404498</td>\n",
       "      <td>-0.039441</td>\n",
       "    </tr>\n",
       "    <tr>\n",
       "      <th>zhang</th>\n",
       "      <td>0.108075</td>\n",
       "      <td>0.090721</td>\n",
       "    </tr>\n",
       "  </tbody>\n",
       "</table>\n",
       "</div>"
      ],
      "text/plain": [
       "           r2_train     r2_test\n",
       "hernandes  0.234738 -108.809787\n",
       "jung       0.039722    0.374411\n",
       "lopes      0.404498   -0.039441\n",
       "zhang      0.108075    0.090721"
      ]
     },
     "execution_count": 57,
     "metadata": {},
     "output_type": "execute_result"
    }
   ],
   "source": [
    "cv_cols = ['Viscosity', 'Shear_Rate', 'Polymer_Concentration']\n",
    "params = {'random_state': 42}\n",
    "hyper_params = {\n",
    "    'alpha': [1e-4, 1e-3, 1e-2, 1e-1, 1e0, 1e1, 1e2, 1e3, 1e4]\n",
    "}\n",
    "report_metrics(Ridge, params, cv_cols, hyper_params=hyper_params, poly_feat=poly_feat)[-1]"
   ]
  },
  {
   "cell_type": "code",
   "execution_count": 58,
   "metadata": {},
   "outputs": [
    {
     "data": {
      "text/html": [
       "<div>\n",
       "<style scoped>\n",
       "    .dataframe tbody tr th:only-of-type {\n",
       "        vertical-align: middle;\n",
       "    }\n",
       "\n",
       "    .dataframe tbody tr th {\n",
       "        vertical-align: top;\n",
       "    }\n",
       "\n",
       "    .dataframe thead th {\n",
       "        text-align: right;\n",
       "    }\n",
       "</style>\n",
       "<table border=\"1\" class=\"dataframe\">\n",
       "  <thead>\n",
       "    <tr style=\"text-align: right;\">\n",
       "      <th></th>\n",
       "      <th>r2_train</th>\n",
       "      <th>r2_test</th>\n",
       "    </tr>\n",
       "  </thead>\n",
       "  <tbody>\n",
       "    <tr>\n",
       "      <th>hernandes</th>\n",
       "      <td>0.043557</td>\n",
       "      <td>-31.658428</td>\n",
       "    </tr>\n",
       "    <tr>\n",
       "      <th>jung</th>\n",
       "      <td>0.002075</td>\n",
       "      <td>-0.049608</td>\n",
       "    </tr>\n",
       "    <tr>\n",
       "      <th>lopes</th>\n",
       "      <td>0.006257</td>\n",
       "      <td>-0.058551</td>\n",
       "    </tr>\n",
       "    <tr>\n",
       "      <th>zhang</th>\n",
       "      <td>0.002548</td>\n",
       "      <td>-0.254528</td>\n",
       "    </tr>\n",
       "  </tbody>\n",
       "</table>\n",
       "</div>"
      ],
      "text/plain": [
       "           r2_train    r2_test\n",
       "hernandes  0.043557 -31.658428\n",
       "jung       0.002075  -0.049608\n",
       "lopes      0.006257  -0.058551\n",
       "zhang      0.002548  -0.254528"
      ]
     },
     "execution_count": 58,
     "metadata": {},
     "output_type": "execute_result"
    }
   ],
   "source": [
    "cv_cols = ['Viscosity', 'Shear_Rate']\n",
    "params = {'random_state': 42}\n",
    "hyper_params = {\n",
    "    'alpha': [1e-4, 1e-3, 1e-2, 1e-1, 1e0, 1e1, 1e2, 1e3, 1e4]\n",
    "}\n",
    "report_metrics(Ridge, params, cv_cols, hyper_params=hyper_params, poly_feat=poly_feat)[-1]"
   ]
  },
  {
   "cell_type": "markdown",
   "metadata": {},
   "source": [
    "## CV with KNNRegessor"
   ]
  },
  {
   "cell_type": "code",
   "execution_count": 60,
   "metadata": {},
   "outputs": [],
   "source": [
    "poly_feat = None"
   ]
  },
  {
   "cell_type": "code",
   "execution_count": 61,
   "metadata": {},
   "outputs": [
    {
     "data": {
      "text/html": [
       "<div>\n",
       "<style scoped>\n",
       "    .dataframe tbody tr th:only-of-type {\n",
       "        vertical-align: middle;\n",
       "    }\n",
       "\n",
       "    .dataframe tbody tr th {\n",
       "        vertical-align: top;\n",
       "    }\n",
       "\n",
       "    .dataframe thead th {\n",
       "        text-align: right;\n",
       "    }\n",
       "</style>\n",
       "<table border=\"1\" class=\"dataframe\">\n",
       "  <thead>\n",
       "    <tr style=\"text-align: right;\">\n",
       "      <th></th>\n",
       "      <th>r2_train</th>\n",
       "      <th>r2_test</th>\n",
       "    </tr>\n",
       "  </thead>\n",
       "  <tbody>\n",
       "    <tr>\n",
       "      <th>hernandes</th>\n",
       "      <td>1.0</td>\n",
       "      <td>-2016.084126</td>\n",
       "    </tr>\n",
       "    <tr>\n",
       "      <th>jung</th>\n",
       "      <td>1.0</td>\n",
       "      <td>-3.445208</td>\n",
       "    </tr>\n",
       "    <tr>\n",
       "      <th>lopes</th>\n",
       "      <td>1.0</td>\n",
       "      <td>0.007496</td>\n",
       "    </tr>\n",
       "    <tr>\n",
       "      <th>zhang</th>\n",
       "      <td>1.0</td>\n",
       "      <td>-0.605146</td>\n",
       "    </tr>\n",
       "  </tbody>\n",
       "</table>\n",
       "</div>"
      ],
      "text/plain": [
       "           r2_train      r2_test\n",
       "hernandes       1.0 -2016.084126\n",
       "jung            1.0    -3.445208\n",
       "lopes           1.0     0.007496\n",
       "zhang           1.0    -0.605146"
      ]
     },
     "execution_count": 61,
     "metadata": {},
     "output_type": "execute_result"
    }
   ],
   "source": [
    "cv_cols = ['Viscosity', 'Shear_Rate', 'Molecular_Weight', 'Polymer_Concentration', 'Temperature', 'Salinity']\n",
    "params = {'n_jobs': -1}\n",
    "hyper_params = {\n",
    "    'n_neighbors': np.arange(3, 20),\n",
    "    'weights': ['uniform', 'distance'],\n",
    "    'p': [1, 2, 3]\n",
    "}\n",
    "report_metrics(knn, params, cv_cols, hyper_params=hyper_params, poly_feat=poly_feat)[-1]"
   ]
  },
  {
   "cell_type": "code",
   "execution_count": 62,
   "metadata": {},
   "outputs": [
    {
     "data": {
      "text/html": [
       "<div>\n",
       "<style scoped>\n",
       "    .dataframe tbody tr th:only-of-type {\n",
       "        vertical-align: middle;\n",
       "    }\n",
       "\n",
       "    .dataframe tbody tr th {\n",
       "        vertical-align: top;\n",
       "    }\n",
       "\n",
       "    .dataframe thead th {\n",
       "        text-align: right;\n",
       "    }\n",
       "</style>\n",
       "<table border=\"1\" class=\"dataframe\">\n",
       "  <thead>\n",
       "    <tr style=\"text-align: right;\">\n",
       "      <th></th>\n",
       "      <th>r2_train</th>\n",
       "      <th>r2_test</th>\n",
       "    </tr>\n",
       "  </thead>\n",
       "  <tbody>\n",
       "    <tr>\n",
       "      <th>hernandes</th>\n",
       "      <td>0.999629</td>\n",
       "      <td>-2016.083316</td>\n",
       "    </tr>\n",
       "    <tr>\n",
       "      <th>jung</th>\n",
       "      <td>0.999535</td>\n",
       "      <td>-3.445208</td>\n",
       "    </tr>\n",
       "    <tr>\n",
       "      <th>lopes</th>\n",
       "      <td>0.559680</td>\n",
       "      <td>-0.029291</td>\n",
       "    </tr>\n",
       "    <tr>\n",
       "      <th>zhang</th>\n",
       "      <td>0.434450</td>\n",
       "      <td>-0.468363</td>\n",
       "    </tr>\n",
       "  </tbody>\n",
       "</table>\n",
       "</div>"
      ],
      "text/plain": [
       "           r2_train      r2_test\n",
       "hernandes  0.999629 -2016.083316\n",
       "jung       0.999535    -3.445208\n",
       "lopes      0.559680    -0.029291\n",
       "zhang      0.434450    -0.468363"
      ]
     },
     "execution_count": 62,
     "metadata": {},
     "output_type": "execute_result"
    }
   ],
   "source": [
    "cv_cols = ['Viscosity', 'Shear_Rate', 'Molecular_Weight', 'Polymer_Concentration', 'Temperature']\n",
    "params = {'n_jobs': -1}\n",
    "hyper_params = {\n",
    "    'n_neighbors': np.arange(3, 20),\n",
    "    'weights': ['uniform', 'distance'],\n",
    "    'p': [1, 2, 3]\n",
    "}\n",
    "report_metrics(knn, params, cv_cols, hyper_params=hyper_params, poly_feat=poly_feat)[-1]"
   ]
  },
  {
   "cell_type": "code",
   "execution_count": 63,
   "metadata": {},
   "outputs": [
    {
     "data": {
      "text/html": [
       "<div>\n",
       "<style scoped>\n",
       "    .dataframe tbody tr th:only-of-type {\n",
       "        vertical-align: middle;\n",
       "    }\n",
       "\n",
       "    .dataframe tbody tr th {\n",
       "        vertical-align: top;\n",
       "    }\n",
       "\n",
       "    .dataframe thead th {\n",
       "        text-align: right;\n",
       "    }\n",
       "</style>\n",
       "<table border=\"1\" class=\"dataframe\">\n",
       "  <thead>\n",
       "    <tr style=\"text-align: right;\">\n",
       "      <th></th>\n",
       "      <th>r2_train</th>\n",
       "      <th>r2_test</th>\n",
       "    </tr>\n",
       "  </thead>\n",
       "  <tbody>\n",
       "    <tr>\n",
       "      <th>hernandes</th>\n",
       "      <td>0.999629</td>\n",
       "      <td>-2790.978704</td>\n",
       "    </tr>\n",
       "    <tr>\n",
       "      <th>jung</th>\n",
       "      <td>0.968320</td>\n",
       "      <td>-3.455856</td>\n",
       "    </tr>\n",
       "    <tr>\n",
       "      <th>lopes</th>\n",
       "      <td>0.986098</td>\n",
       "      <td>-0.053117</td>\n",
       "    </tr>\n",
       "    <tr>\n",
       "      <th>zhang</th>\n",
       "      <td>0.960679</td>\n",
       "      <td>-0.535145</td>\n",
       "    </tr>\n",
       "  </tbody>\n",
       "</table>\n",
       "</div>"
      ],
      "text/plain": [
       "           r2_train      r2_test\n",
       "hernandes  0.999629 -2790.978704\n",
       "jung       0.968320    -3.455856\n",
       "lopes      0.986098    -0.053117\n",
       "zhang      0.960679    -0.535145"
      ]
     },
     "execution_count": 63,
     "metadata": {},
     "output_type": "execute_result"
    }
   ],
   "source": [
    "cv_cols = ['Viscosity', 'Shear_Rate', 'Molecular_Weight', 'Polymer_Concentration']\n",
    "params = {'n_jobs': -1}\n",
    "hyper_params = {\n",
    "    'n_neighbors': np.arange(3, 20),\n",
    "    'weights': ['uniform', 'distance'],\n",
    "    'p': [1, 2, 3]\n",
    "}\n",
    "report_metrics(knn, params, cv_cols, hyper_params=hyper_params, poly_feat=poly_feat)[-1]"
   ]
  },
  {
   "cell_type": "code",
   "execution_count": 64,
   "metadata": {},
   "outputs": [
    {
     "data": {
      "text/html": [
       "<div>\n",
       "<style scoped>\n",
       "    .dataframe tbody tr th:only-of-type {\n",
       "        vertical-align: middle;\n",
       "    }\n",
       "\n",
       "    .dataframe tbody tr th {\n",
       "        vertical-align: top;\n",
       "    }\n",
       "\n",
       "    .dataframe thead th {\n",
       "        text-align: right;\n",
       "    }\n",
       "</style>\n",
       "<table border=\"1\" class=\"dataframe\">\n",
       "  <thead>\n",
       "    <tr style=\"text-align: right;\">\n",
       "      <th></th>\n",
       "      <th>r2_train</th>\n",
       "      <th>r2_test</th>\n",
       "    </tr>\n",
       "  </thead>\n",
       "  <tbody>\n",
       "    <tr>\n",
       "      <th>hernandes</th>\n",
       "      <td>0.999656</td>\n",
       "      <td>-903.477937</td>\n",
       "    </tr>\n",
       "    <tr>\n",
       "      <th>jung</th>\n",
       "      <td>0.199972</td>\n",
       "      <td>0.393564</td>\n",
       "    </tr>\n",
       "    <tr>\n",
       "      <th>lopes</th>\n",
       "      <td>0.974879</td>\n",
       "      <td>-0.054219</td>\n",
       "    </tr>\n",
       "    <tr>\n",
       "      <th>zhang</th>\n",
       "      <td>0.300763</td>\n",
       "      <td>-0.373066</td>\n",
       "    </tr>\n",
       "  </tbody>\n",
       "</table>\n",
       "</div>"
      ],
      "text/plain": [
       "           r2_train     r2_test\n",
       "hernandes  0.999656 -903.477937\n",
       "jung       0.199972    0.393564\n",
       "lopes      0.974879   -0.054219\n",
       "zhang      0.300763   -0.373066"
      ]
     },
     "execution_count": 64,
     "metadata": {},
     "output_type": "execute_result"
    }
   ],
   "source": [
    "cv_cols = ['Viscosity', 'Shear_Rate', 'Polymer_Concentration']\n",
    "params = {'n_jobs': -1}\n",
    "hyper_params = {\n",
    "    'n_neighbors': np.arange(3, 20),\n",
    "    'weights': ['uniform', 'distance'],\n",
    "    'p': [1, 2, 3]\n",
    "}\n",
    "report_metrics(knn, params, cv_cols, hyper_params=hyper_params, poly_feat=poly_feat)[-1]"
   ]
  },
  {
   "cell_type": "code",
   "execution_count": 65,
   "metadata": {},
   "outputs": [
    {
     "data": {
      "text/html": [
       "<div>\n",
       "<style scoped>\n",
       "    .dataframe tbody tr th:only-of-type {\n",
       "        vertical-align: middle;\n",
       "    }\n",
       "\n",
       "    .dataframe tbody tr th {\n",
       "        vertical-align: top;\n",
       "    }\n",
       "\n",
       "    .dataframe thead th {\n",
       "        text-align: right;\n",
       "    }\n",
       "</style>\n",
       "<table border=\"1\" class=\"dataframe\">\n",
       "  <thead>\n",
       "    <tr style=\"text-align: right;\">\n",
       "      <th></th>\n",
       "      <th>r2_train</th>\n",
       "      <th>r2_test</th>\n",
       "    </tr>\n",
       "  </thead>\n",
       "  <tbody>\n",
       "    <tr>\n",
       "      <th>hernandes</th>\n",
       "      <td>0.408295</td>\n",
       "      <td>-329.201159</td>\n",
       "    </tr>\n",
       "    <tr>\n",
       "      <th>jung</th>\n",
       "      <td>0.148974</td>\n",
       "      <td>0.108880</td>\n",
       "    </tr>\n",
       "    <tr>\n",
       "      <th>lopes</th>\n",
       "      <td>0.176516</td>\n",
       "      <td>-0.006840</td>\n",
       "    </tr>\n",
       "    <tr>\n",
       "      <th>zhang</th>\n",
       "      <td>0.164772</td>\n",
       "      <td>-0.329311</td>\n",
       "    </tr>\n",
       "  </tbody>\n",
       "</table>\n",
       "</div>"
      ],
      "text/plain": [
       "           r2_train     r2_test\n",
       "hernandes  0.408295 -329.201159\n",
       "jung       0.148974    0.108880\n",
       "lopes      0.176516   -0.006840\n",
       "zhang      0.164772   -0.329311"
      ]
     },
     "execution_count": 65,
     "metadata": {},
     "output_type": "execute_result"
    }
   ],
   "source": [
    "cv_cols = ['Viscosity', 'Shear_Rate']\n",
    "params = {'n_jobs': -1}\n",
    "hyper_params = {\n",
    "    'n_neighbors': np.arange(3, 20),\n",
    "    'weights': ['uniform', 'distance'],\n",
    "    'p': [1, 2, 3]\n",
    "}\n",
    "report_metrics(knn, params, cv_cols, hyper_params=hyper_params, poly_feat=poly_feat)[-1]"
   ]
  },
  {
   "cell_type": "markdown",
   "metadata": {},
   "source": [
    "# Mix Data"
   ]
  },
  {
   "cell_type": "code",
   "execution_count": 66,
   "metadata": {},
   "outputs": [],
   "source": [
    "cv_cols = ['Shear_Rate', 'Molecular_Weight', 'Polymer_Concentration', 'Temperature', 'Salinity', 'paper', 'NaCl_only', 'Viscosity']\n",
    "df_papers = pick_subset(cv_cols, target='Viscosity', dfs=[Hernandes, Jung, Lopes, Zhang])"
   ]
  },
  {
   "cell_type": "code",
   "execution_count": 67,
   "metadata": {},
   "outputs": [],
   "source": [
    "data = pd.concat(df_papers.values())\n",
    "data = pd.get_dummies(data, columns=['paper', 'NaCl_only'])"
   ]
  },
  {
   "cell_type": "code",
   "execution_count": 68,
   "metadata": {},
   "outputs": [
    {
     "data": {
      "image/png": "[encoded data removed]",
      "text/plain": [
       "<Figure size 792x504 with 2 Axes>"
      ]
     },
     "metadata": {
      "needs_background": "light"
     },
     "output_type": "display_data"
    }
   ],
   "source": [
    "sns.heatmap(data.corr())\n",
    "plt.title('Correlation heatmap');"
   ]
  },
  {
   "cell_type": "code",
   "execution_count": 71,
   "metadata": {},
   "outputs": [],
   "source": [
    "X_train, X_test, y_train, y_test = train_test_split(data.drop(columns='Viscosity'), data['Viscosity'],test_size=.3, random_state=42, shuffle=True)"
   ]
  },
  {
   "cell_type": "code",
   "execution_count": 72,
   "metadata": {},
   "outputs": [
    {
     "data": {
      "text/plain": [
       "Index(['Shear_Rate', 'Molecular_Weight', 'Polymer_Concentration',\n",
       "       'Temperature', 'Salinity', 'Viscosity', 'paper_h', 'paper_j', 'paper_l',\n",
       "       'paper_z', 'NaCl_only_no', 'NaCl_only_no_salt', 'NaCl_only_yes'],\n",
       "      dtype='object')"
      ]
     },
     "execution_count": 72,
     "metadata": {},
     "output_type": "execute_result"
    }
   ],
   "source": [
    "data.columns"
   ]
  },
  {
   "cell_type": "code",
   "execution_count": 73,
   "metadata": {},
   "outputs": [],
   "source": [
    "scaler = StandardScaler()\n",
    "scaler.fit(X_train)\n",
    "X_train = scaler.transform(X_train)\n",
    "X_test = scaler.transform(X_test)"
   ]
  },
  {
   "cell_type": "code",
   "execution_count": 74,
   "metadata": {},
   "outputs": [
    {
     "name": "stdout",
     "output_type": "stream",
     "text": [
      "{'max_depth': 4, 'n_estimators': 190, 'reg_lambda': 0}\n"
     ]
    },
    {
     "data": {
      "text/plain": [
       "(0.999906994578137, 0.8473965963789309)"
      ]
     },
     "execution_count": 74,
     "metadata": {},
     "output_type": "execute_result"
    }
   ],
   "source": [
    "xgbr = XGBRegressor(n_jobs=-1, random_state=42)\n",
    "\n",
    "hyper_params = {\n",
    "    'n_estimators': np.arange(50, 201, 20),\n",
    "    'max_depth': np.arange(3, 18),\n",
    "    'reg_lambda': [1e-2, 1e-1, 0, 1e1, 1e2]\n",
    "}\n",
    "\n",
    "grid_xgbr = GridSearchCV(xgbr, hyper_params, cv=5, n_jobs=-1)\n",
    "grid_xgbr.fit(X_train, y_train)\n",
    "\n",
    "print(grid_xgbr.best_params_)\n",
    "\n",
    "xgbr_best = XGBRegressor(**grid_xgbr.best_params_, n_jobs=-1, random_state=42)\n",
    "xgbr_best.fit(X_train, y_train)\n",
    "r2_score(y_train, xgbr_best.predict(X_train)), r2_score(y_test, xgbr_best.predict(X_test))"
   ]
  },
  {
   "cell_type": "code",
   "execution_count": 76,
   "metadata": {},
   "outputs": [
    {
     "name": "stdout",
     "output_type": "stream",
     "text": [
      "{'criterion': 'friedman_mse', 'max_depth': 21}\n"
     ]
    },
    {
     "data": {
      "text/plain": [
       "(0.9999999979010188, 0.8855484319373559)"
      ]
     },
     "execution_count": 76,
     "metadata": {},
     "output_type": "execute_result"
    }
   ],
   "source": [
    "tree_reg = tree(random_state=42)\n",
    "\n",
    "hyper_params = {\n",
    "    'criterion': [\"mse\", \"friedman_mse\", \"mae\", \"poisson\"],\n",
    "    'max_depth': np.arange(2, 31)\n",
    "}\n",
    "\n",
    "grid_tree_reg = GridSearchCV(tree_reg, hyper_params, cv=5, n_jobs=-1)\n",
    "grid_tree_reg.fit(X_train, y_train)\n",
    "\n",
    "print(grid_tree_reg.best_params_)\n",
    "\n",
    "tree_reg = tree(**grid_tree_reg.best_params_, random_state=42)\n",
    "tree_reg.fit(X_train, y_train)\n",
    "y_tree_train_hat_0 = tree_reg.predict(X_train)\n",
    "y_tree_test_hat_0 = tree_reg.predict(X_test)\n",
    "\n",
    "r2_score(y_train, y_tree_train_hat_0), r2_score(y_test, y_tree_test_hat_0)"
   ]
  },
  {
   "cell_type": "markdown",
   "metadata": {},
   "source": [
    "### Results for Tree"
   ]
  },
  {
   "cell_type": "code",
   "execution_count": 78,
   "metadata": {},
   "outputs": [
    {
     "data": {
      "image/png": "[encoded data removed]",
      "text/plain": [
       "<Figure size 792x504 with 1 Axes>"
      ]
     },
     "metadata": {
      "needs_background": "light"
     },
     "output_type": "display_data"
    }
   ],
   "source": [
    "plt.rcParams[\"figure.figsize\"] = (11, 7)\n",
    "plt.rcParams[\"font.size\"] = 15\n",
    "\n",
    "plt.scatter(X_test[:, 0], y_test, label='Ground truth', c='k', s=80)\n",
    "plt.scatter(X_test[:, 0], y_tree_test_hat_0, label='Prediciton', c='r', marker='x', s=80)\n",
    "plt.legend()\n",
    "plt.xlabel('Shear rate')\n",
    "plt.ylabel('Viscosity')\n",
    "plt.yscale('log')\n",
    "plt.xscale('log')\n",
    "plt.title('Tree. All features, polynomial features 2nd order');"
   ]
  },
  {
   "cell_type": "code",
   "execution_count": 79,
   "metadata": {},
   "outputs": [
    {
     "name": "stdout",
     "output_type": "stream",
     "text": [
      "{'n_neighbors': 1, 'p': 1, 'weights': 'uniform'}\n"
     ]
    },
    {
     "data": {
      "text/plain": [
       "(1.0, 0.8733785377434808)"
      ]
     },
     "execution_count": 79,
     "metadata": {},
     "output_type": "execute_result"
    }
   ],
   "source": [
    "knn_reg = knn(n_jobs=-1)\n",
    "\n",
    "hyper_params = {\n",
    "    'n_neighbors': np.arange(1, 20),\n",
    "    'weights': ['uniform', 'distance'],\n",
    "    'p': [1, 2, 3]\n",
    "}\n",
    "\n",
    "grid_knn_reg = GridSearchCV(knn_reg, hyper_params, cv=5, n_jobs=-1)\n",
    "grid_knn_reg.fit(X_train, y_train)\n",
    "\n",
    "print(grid_knn_reg.best_params_)\n",
    "\n",
    "knn_reg = knn(**grid_knn_reg.best_params_, n_jobs=-1)\n",
    "knn_reg.fit(X_train, y_train)\n",
    "r2_score(y_train, knn_reg.predict(X_train)), r2_score(y_test, knn_reg.predict(X_test))"
   ]
  },
  {
   "cell_type": "markdown",
   "metadata": {},
   "source": [
    "## With Polynomial Features"
   ]
  },
  {
   "cell_type": "code",
   "execution_count": 82,
   "metadata": {},
   "outputs": [],
   "source": [
    "poly_ = PolynomialFeatures(degree=2)\n",
    "poly_.fit(X_train)\n",
    "X_train_poly = poly_.transform(X_train)\n",
    "X_test_poly = poly_.transform(X_test)"
   ]
  },
  {
   "cell_type": "code",
   "execution_count": 83,
   "metadata": {},
   "outputs": [
    {
     "name": "stdout",
     "output_type": "stream",
     "text": [
      "{'alpha': 1000.0}\n"
     ]
    },
    {
     "data": {
      "text/plain": [
       "(0.3007731245169998, 0.2317933956466125)"
      ]
     },
     "execution_count": 83,
     "metadata": {},
     "output_type": "execute_result"
    }
   ],
   "source": [
    "ridge_ = Ridge(random_state=42)\n",
    "\n",
    "hyper_params = {\n",
    "    'alpha': [1e-4, 1e-3, 1e-2, 1e-1, 1e0, 1e1, 1e2, 1e3, 1e4]\n",
    "}\n",
    "\n",
    "grid_ridge_ = GridSearchCV(ridge_, hyper_params, cv=5, n_jobs=-1)\n",
    "grid_ridge_.fit(X_train_poly, y_train)\n",
    "\n",
    "print(grid_ridge_.best_params_)\n",
    "\n",
    "ridge_ = Ridge(**grid_ridge_.best_params_, random_state=42)\n",
    "ridge_.fit(X_train_poly, y_train)\n",
    "r2_score(y_train, ridge_.predict(X_train_poly)), r2_score(y_test, ridge_.predict(X_test_poly))"
   ]
  },
  {
   "cell_type": "code",
   "execution_count": 84,
   "metadata": {},
   "outputs": [
    {
     "name": "stdout",
     "output_type": "stream",
     "text": [
      "{'max_depth': 3, 'n_estimators': 190, 'reg_lambda': 10.0}\n"
     ]
    },
    {
     "data": {
      "text/plain": [
       "(0.998903182431232, 0.9334841227714169)"
      ]
     },
     "execution_count": 84,
     "metadata": {},
     "output_type": "execute_result"
    }
   ],
   "source": [
    "xgbr = XGBRegressor(n_jobs=-1, random_state=42)\n",
    "\n",
    "hyper_params = {\n",
    "    'n_estimators': np.arange(50, 201, 20),\n",
    "    'max_depth': np.arange(3, 18),\n",
    "    'reg_lambda': [1e-2, 1e-1, 0, 1e1, 1e2]\n",
    "}\n",
    "\n",
    "grid_xgbr = GridSearchCV(xgbr, hyper_params, cv=5, n_jobs=-1)\n",
    "grid_xgbr.fit(X_train_poly, y_train)\n",
    "\n",
    "print(grid_xgbr.best_params_)\n",
    "\n",
    "xgbr_best = XGBRegressor(**grid_xgbr.best_params_, n_jobs=-1, random_state=42)\n",
    "xgbr_best.fit(X_train_poly, y_train)\n",
    "r2_score(y_train, xgbr_best.predict(X_train_poly)), r2_score(y_test, xgbr_best.predict(X_test_poly))"
   ]
  },
  {
   "cell_type": "code",
   "execution_count": 85,
   "metadata": {},
   "outputs": [
    {
     "name": "stdout",
     "output_type": "stream",
     "text": [
      "{'criterion': 'mae', 'max_depth': 18}\n"
     ]
    },
    {
     "data": {
      "text/plain": [
       "(0.9999944791464532, 0.9401883094251627)"
      ]
     },
     "execution_count": 85,
     "metadata": {},
     "output_type": "execute_result"
    }
   ],
   "source": [
    "tree_reg = tree(random_state=42)\n",
    "\n",
    "hyper_params = {\n",
    "    'criterion': [\"mse\", \"friedman_mse\", \"mae\", \"poisson\"],\n",
    "    'max_depth': np.arange(2, 31)\n",
    "}\n",
    "\n",
    "grid_tree_reg = GridSearchCV(tree_reg, hyper_params, cv=5, n_jobs=-1)\n",
    "grid_tree_reg.fit(X_train_poly, y_train)\n",
    "\n",
    "print(grid_tree_reg.best_params_)\n",
    "\n",
    "tree_reg = tree(**grid_tree_reg.best_params_, random_state=42)\n",
    "tree_reg.fit(X_train_poly, y_train)\n",
    "\n",
    "y_tree_train_hat = tree_reg.predict(X_train_poly)\n",
    "y_tree_test_hat = tree_reg.predict(X_test_poly)\n",
    "\n",
    "r2_score(y_train, tree_reg.predict(X_train_poly)), r2_score(y_test, tree_reg.predict(X_test_poly))"
   ]
  },
  {
   "cell_type": "markdown",
   "metadata": {},
   "source": [
    "### Results for Tree with Polynomial Embeddings"
   ]
  },
  {
   "cell_type": "code",
   "execution_count": 86,
   "metadata": {},
   "outputs": [
    {
     "data": {
      "image/png": "[encoded data removed]",
      "text/plain": [
       "<Figure size 792x504 with 1 Axes>"
      ]
     },
     "metadata": {
      "needs_background": "light"
     },
     "output_type": "display_data"
    }
   ],
   "source": [
    "plt.rcParams[\"figure.figsize\"] = (11, 7)\n",
    "plt.rcParams[\"font.size\"] = 15\n",
    "\n",
    "plt.scatter(X_test[:, 0], y_test, label='Ground truth', c='k', s=80)\n",
    "plt.scatter(X_test[:, 0], y_tree_test_hat_0, label='Regular features', c='g', marker='x', s=80)\n",
    "plt.scatter(X_test[:, 0], y_tree_test_hat, label='With poly features', c='r', marker='x', s=80)\n",
    "\n",
    "plt.legend()\n",
    "plt.xlabel('Shear rate')\n",
    "plt.ylabel('Viscosity')\n",
    "plt.yscale('log')\n",
    "plt.xscale('log')\n",
    "plt.title('Tree. All features, polynomial features 2nd order');"
   ]
  },
  {
   "cell_type": "code",
   "execution_count": 88,
   "metadata": {},
   "outputs": [
    {
     "name": "stdout",
     "output_type": "stream",
     "text": [
      "{'n_neighbors': 1, 'p': 1, 'weights': 'uniform'}\n"
     ]
    },
    {
     "data": {
      "text/plain": [
       "(1.0, 0.8733784613424496)"
      ]
     },
     "execution_count": 88,
     "metadata": {},
     "output_type": "execute_result"
    }
   ],
   "source": [
    "knn_reg = knn(n_jobs=-1)\n",
    "\n",
    "hyper_params = {\n",
    "    'n_neighbors': np.arange(1, 20),\n",
    "    'weights': ['uniform', 'distance'],\n",
    "    'p': [1, 2, 3]\n",
    "}\n",
    "\n",
    "grid_knn_reg = GridSearchCV(knn_reg, hyper_params, cv=5, n_jobs=-1)\n",
    "grid_knn_reg.fit(X_train_poly, y_train)\n",
    "\n",
    "print(grid_knn_reg.best_params_)\n",
    "\n",
    "knn_reg = knn(**grid_knn_reg.best_params_, n_jobs=-1)\n",
    "knn_reg.fit(X_train_poly, y_train)\n",
    "r2_score(y_train, knn_reg.predict(X_train_poly)), r2_score(y_test, knn_reg.predict(X_test_poly))"
   ]
  },
  {
   "cell_type": "markdown",
   "metadata": {},
   "source": [
    "# Dimensionality Reduction"
   ]
  },
  {
   "cell_type": "code",
   "execution_count": 90,
   "metadata": {},
   "outputs": [
    {
     "data": {
      "text/plain": [
       "Index(['Shear_Rate', 'Molecular_Weight', 'Polymer_Concentration',\n",
       "       'Temperature', 'Salinity', 'Viscosity', 'paper_h', 'paper_j', 'paper_l',\n",
       "       'paper_z', 'NaCl_only_no', 'NaCl_only_no_salt', 'NaCl_only_yes'],\n",
       "      dtype='object')"
      ]
     },
     "execution_count": 90,
     "metadata": {},
     "output_type": "execute_result"
    }
   ],
   "source": [
    "data.columns"
   ]
  },
  {
   "cell_type": "code",
   "execution_count": 91,
   "metadata": {},
   "outputs": [],
   "source": [
    "X = data.drop(columns=['Viscosity'])\n",
    "scaler = StandardScaler()\n",
    "scaler.fit(X)\n",
    "X = scaler.transform(X)"
   ]
  },
  {
   "cell_type": "code",
   "execution_count": 92,
   "metadata": {},
   "outputs": [
    {
     "data": {
      "image/png": "[encoded data removed]",
      "text/plain": [
       "<Figure size 864x360 with 1 Axes>"
      ]
     },
     "metadata": {
      "needs_background": "light"
     },
     "output_type": "display_data"
    }
   ],
   "source": [
    "pca = PCA()\n",
    "pca.fit(X)\n",
    "\n",
    "plt.rcParams['figure.figsize'] = (12, 5)\n",
    "plt.plot(list(range(X.shape[1])), [0.95] * X.shape[1], '--r')\n",
    "plt.plot(list(range(X.shape[1])), np.cumsum(pca.explained_variance_ratio_))\n",
    "plt.grid()\n",
    "plt.ylabel('Cumulative explained variance')\n",
    "plt.xlabel('Component')\n",
    "plt.title('PCA decomposition')\n",
    "plt.xticks(np.arange(0, 12));"
   ]
  },
  {
   "cell_type": "code",
   "execution_count": 93,
   "metadata": {},
   "outputs": [],
   "source": [
    "X = data.drop(columns=['Viscosity'])\n",
    "scaler = StandardScaler()\n",
    "scaler.fit(X)\n",
    "X = scaler.transform(X)"
   ]
  },
  {
   "cell_type": "code",
   "execution_count": 94,
   "metadata": {},
   "outputs": [],
   "source": [
    "poly_ = PolynomialFeatures(degree=2)\n",
    "poly_.fit(X)\n",
    "X = poly_.transform(X)"
   ]
  },
  {
   "cell_type": "code",
   "execution_count": 95,
   "metadata": {},
   "outputs": [
    {
     "data": {
      "image/png": "[encoded data removed]",
      "text/plain": [
       "<Figure size 1080x360 with 1 Axes>"
      ]
     },
     "metadata": {
      "needs_background": "light"
     },
     "output_type": "display_data"
    }
   ],
   "source": [
    "pca = PCA()\n",
    "pca.fit(X)\n",
    "\n",
    "plt.rcParams['figure.figsize'] = (15, 5)\n",
    "plt.plot(list(range(30)), [0.95] * 30, '--r')\n",
    "plt.plot(list(range(30)), np.cumsum(pca.explained_variance_ratio_)[:30]);\n",
    "plt.grid()\n",
    "plt.ylabel('Cumulative explained variance')\n",
    "plt.xlabel('Component')\n",
    "plt.title('PCA decomposition. Polynomial features. First 30 components')\n",
    "plt.xticks(ticks=np.arange(0, 30));"
   ]
  },
  {
   "cell_type": "markdown",
   "metadata": {},
   "source": [
    "### PCA on regular features"
   ]
  },
  {
   "cell_type": "code",
   "execution_count": 96,
   "metadata": {},
   "outputs": [],
   "source": [
    "X = data.drop(columns='Viscosity')\n",
    "y = data['Viscosity']\n",
    "\n",
    "scaler = StandardScaler()\n",
    "scaler.fit(X)\n",
    "X = scaler.transform(X)\n",
    "\n",
    "pca = PCA(n_components=5)\n",
    "X = pca.fit_transform(X)\n",
    "\n",
    "X_train, X_test, y_train, y_test = train_test_split(X, y, test_size=.3, random_state=42, shuffle=True)"
   ]
  },
  {
   "cell_type": "code",
   "execution_count": 97,
   "metadata": {},
   "outputs": [
    {
     "name": "stdout",
     "output_type": "stream",
     "text": [
      "{'max_depth': 6, 'n_estimators': 70, 'reg_lambda': 0.01}\n"
     ]
    },
    {
     "data": {
      "text/plain": [
       "(0.9999418951324749, 0.8636067243499821)"
      ]
     },
     "execution_count": 97,
     "metadata": {},
     "output_type": "execute_result"
    }
   ],
   "source": [
    "xgbr = XGBRegressor(n_jobs=-1, random_state=42)\n",
    "\n",
    "hyper_params = {\n",
    "    'n_estimators': np.arange(50, 201, 20),\n",
    "    'max_depth': np.arange(3, 18),\n",
    "    'reg_lambda': [1e-2, 1e-1, 0, 1e1, 1e2]\n",
    "}\n",
    "\n",
    "grid_xgbr = GridSearchCV(xgbr, hyper_params, cv=5, n_jobs=-1)\n",
    "grid_xgbr.fit(X_train, y_train)\n",
    "\n",
    "print(grid_xgbr.best_params_)\n",
    "\n",
    "xgbr_best = XGBRegressor(**grid_xgbr.best_params_, n_jobs=-1, random_state=42)\n",
    "xgbr_best.fit(X_train, y_train)\n",
    "r2_score(y_train, xgbr_best.predict(X_train)), r2_score(y_test, xgbr_best.predict(X_test))"
   ]
  },
  {
   "cell_type": "code",
   "execution_count": 99,
   "metadata": {},
   "outputs": [
    {
     "name": "stdout",
     "output_type": "stream",
     "text": [
      "{'criterion': 'mae', 'max_depth': 17}\n"
     ]
    },
    {
     "data": {
      "text/plain": [
       "(0.9999867872612982, 0.8734971621577757)"
      ]
     },
     "execution_count": 99,
     "metadata": {},
     "output_type": "execute_result"
    }
   ],
   "source": [
    "tree_reg = tree(random_state=42)\n",
    "\n",
    "hyper_params = {\n",
    "    'criterion': [\"mse\", \"friedman_mse\", \"mae\", \"poisson\"],\n",
    "    'max_depth': np.arange(2, 31)\n",
    "}\n",
    "\n",
    "grid_tree_reg = GridSearchCV(tree_reg, hyper_params, cv=5, n_jobs=-1)\n",
    "grid_tree_reg.fit(X_train, y_train)\n",
    "\n",
    "print(grid_tree_reg.best_params_)\n",
    "\n",
    "tree_reg = tree(**grid_tree_reg.best_params_, random_state=42)\n",
    "tree_reg.fit(X_train, y_train)\n",
    "r2_score(y_train, tree_reg.predict(X_train)), r2_score(y_test, tree_reg.predict(X_test))"
   ]
  },
  {
   "cell_type": "code",
   "execution_count": 100,
   "metadata": {},
   "outputs": [
    {
     "name": "stdout",
     "output_type": "stream",
     "text": [
      "{'n_neighbors': 1, 'p': 1, 'weights': 'uniform'}\n"
     ]
    },
    {
     "data": {
      "text/plain": [
       "(1.0, 0.873364188683337)"
      ]
     },
     "execution_count": 100,
     "metadata": {},
     "output_type": "execute_result"
    }
   ],
   "source": [
    "knn_reg = knn(n_jobs=-1)\n",
    "\n",
    "hyper_params = {\n",
    "    'n_neighbors': np.arange(1, 20),\n",
    "    'weights': ['uniform', 'distance'],\n",
    "    'p': [1, 2, 3]\n",
    "}\n",
    "\n",
    "grid_knn_reg = GridSearchCV(knn_reg, hyper_params, cv=5, n_jobs=-1)\n",
    "grid_knn_reg.fit(X_train, y_train)\n",
    "\n",
    "print(grid_knn_reg.best_params_)\n",
    "\n",
    "knn_reg = knn(**grid_knn_reg.best_params_, n_jobs=-1)\n",
    "knn_reg.fit(X_train, y_train)\n",
    "r2_score(y_train, knn_reg.predict(X_train)), r2_score(y_test, knn_reg.predict(X_test))"
   ]
  },
  {
   "cell_type": "markdown",
   "metadata": {},
   "source": [
    "### PCA on polynomial features"
   ]
  },
  {
   "cell_type": "code",
   "execution_count": 101,
   "metadata": {},
   "outputs": [],
   "source": [
    "X = data.drop(columns='Viscosity')\n",
    "y = data['Viscosity']\n",
    "\n",
    "scaler = StandardScaler()\n",
    "scaler.fit(X)\n",
    "X = scaler.transform(X)\n",
    "\n",
    "poly_ = PolynomialFeatures(degree=2)\n",
    "poly_.fit(X)\n",
    "X = poly_.transform(X)\n",
    "\n",
    "pca = PCA(n_components=8)\n",
    "X = pca.fit_transform(X)\n",
    "\n",
    "X_train, X_test, y_train, y_test = train_test_split(X, y, test_size=.3, random_state=42, shuffle=True)"
   ]
  },
  {
   "cell_type": "code",
   "execution_count": 102,
   "metadata": {},
   "outputs": [
    {
     "name": "stdout",
     "output_type": "stream",
     "text": [
      "{'criterion': 'friedman_mse', 'max_depth': 18}\n"
     ]
    },
    {
     "data": {
      "text/plain": [
       "(0.999998144922406, 0.8604335947941473)"
      ]
     },
     "execution_count": 102,
     "metadata": {},
     "output_type": "execute_result"
    }
   ],
   "source": [
    "tree_reg = tree(random_state=42)\n",
    "\n",
    "hyper_params = {\n",
    "    'criterion': [\"mse\", \"friedman_mse\", \"mae\", \"poisson\"],\n",
    "    'max_depth': np.arange(2, 31)\n",
    "}\n",
    "\n",
    "grid_tree_reg = GridSearchCV(tree_reg, hyper_params, cv=5, n_jobs=-1)\n",
    "grid_tree_reg.fit(X_train, y_train)\n",
    "\n",
    "print(grid_tree_reg.best_params_)\n",
    "\n",
    "tree_reg = tree(**grid_tree_reg.best_params_, random_state=42)\n",
    "tree_reg.fit(X_train, y_train)\n",
    "r2_score(y_train, tree_reg.predict(X_train)), r2_score(y_test, tree_reg.predict(X_test))"
   ]
  },
  {
   "cell_type": "code",
   "execution_count": 103,
   "metadata": {},
   "outputs": [
    {
     "name": "stdout",
     "output_type": "stream",
     "text": [
      "{'n_neighbors': 1, 'p': 1, 'weights': 'uniform'}\n"
     ]
    },
    {
     "data": {
      "text/plain": [
       "(1.0, 0.8733829831802002)"
      ]
     },
     "execution_count": 103,
     "metadata": {},
     "output_type": "execute_result"
    }
   ],
   "source": [
    "knn_reg = knn(n_jobs=-1)\n",
    "\n",
    "hyper_params = {\n",
    "    'n_neighbors': np.arange(1, 20),\n",
    "    'weights': ['uniform', 'distance'],\n",
    "    'p': [1, 2, 3]\n",
    "}\n",
    "\n",
    "grid_knn_reg = GridSearchCV(knn_reg, hyper_params, cv=5, n_jobs=-1)\n",
    "grid_knn_reg.fit(X_train, y_train)\n",
    "\n",
    "print(grid_knn_reg.best_params_)\n",
    "\n",
    "knn_reg = knn(**grid_knn_reg.best_params_, n_jobs=-1)\n",
    "knn_reg.fit(X_train, y_train)\n",
    "r2_score(y_train, knn_reg.predict(X_train)), r2_score(y_test, knn_reg.predict(X_test))"
   ]
  },
  {
   "cell_type": "code",
   "execution_count": null,
   "metadata": {},
   "outputs": [],
   "source": []
  }
 ],
 "metadata": {
  "kernelspec": {
   "display_name": "Python 3",
   "language": "python",
   "name": "python3"
  },
  "language_info": {
   "codemirror_mode": {
    "name": "ipython",
    "version": 3
   },
   "file_extension": ".py",
   "mimetype": "text/x-python",
   "name": "python",
   "nbconvert_exporter": "python",
   "pygments_lexer": "ipython3",
   "version": "3.8.5"
  }
 },
 "nbformat": 4,
 "nbformat_minor": 5
}

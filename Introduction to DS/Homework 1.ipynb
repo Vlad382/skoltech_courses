{
 "cells": [
  {
   "cell_type": "markdown",
   "metadata": {},
   "source": [
    "#### Changelog\n",
    "\n",
    "1. Q13.3 How many clams that are wider than 0.4, have first name \"Monster\"?   \n",
    "2. Q13.4 What was the second name of a clam captured at March, 8, that was longer than 0.65 and wider than 0.57?\n",
    "3. Q15.2 Create a new column `area` using diameter, length and considering that a clam is a perfect rectangle.\n",
    "4. Q19.4 `density_by_age` groupby `age_cat` and compute average density of a clam."
   ]
  },
  {
   "cell_type": "markdown",
   "metadata": {
    "id": "4fengSNSWl1X"
   },
   "source": [
    "# Assignment 1. Sea Ears.\n",
    "by Anvar Kurmukov,\n",
    "updated by Bogdan Kirillov\n",
    "\n",
    "---\n",
    "\n",
    "By the end of this task you will be able to manipulate huge tabular data:\n",
    "1. Compute different column's statistics (min, max, mean, quantiles etc.);\n",
    "2. Select observations/features by condition/index;\n",
    "3. Create new non-linear combinations of the columns (feature engineering);\n",
    "4. Perform automated data cleaning;\n",
    "\n",
    "and more.\n",
    "\n",
    "---\n",
    "\n",
    "For those who are not familiar with `pandas` we recommend these (alternative) tutorials:\n",
    "\n",
    "1. Single notebook, covers basic pandas functionality (starting with renaming columns ending with using map, apply etc) ~ 30 short examples with links on videos https://nbviewer.jupyter.org/github/justmarkham/pandas-videos/blob/master/pandas.ipynb . Highly recommended for everyone. (about 1-3 hours to go through)\n",
    "\n",
    "2. https://github.com/guipsamora/pandas_exercises/ 11 topics covering all essential functionality with excersises (with solutions).\n",
    "\n",
    "This task will be an easy ride after these tutorials.\n",
    "\n",
    "---"
   ]
  },
  {
   "cell_type": "markdown",
   "metadata": {
    "id": "zBv4L3BoWtY8"
   },
   "source": [
    "We are using the data on a species of clam called abalone, also known as \"Sea ears\". This dataset is in public domain and can be obtained from Delve: http://www.cs.toronto.edu/~delve/data/abalone/desc.html For this task, we have modified the dataset slightly, so you could try out some complicated data manipulation techniques while keeping the dataset as simple as possible. So, in our case, each abalone clam is a promising rapper who is ready for a debut mixtape.\n",
    "\n",
    "You need to place \"sea_ears.csv\" file in the same directory as this notebook.\n"
   ]
  },
  {
   "cell_type": "code",
   "execution_count": 1,
   "metadata": {
    "id": "rYmsZ_BQWx6a"
   },
   "outputs": [],
   "source": [
    "import numpy as np\n",
    "import pandas as pd"
   ]
  },
  {
   "cell_type": "markdown",
   "metadata": {
    "id": "8mp5vQW5Xtw5"
   },
   "source": [
    "# 1. Loading data\n",
    "\n",
    "As always in Data Science you are starting with making nice cup of tea (or coffee). Your next move is to load the data:\n",
    "\n",
    "- Start with loading `sea_ears.csv` file using `pd.read_csv()` function.\n",
    "- You may also want to increase maximal displayed pandas columns: set `pd.options.display.max_columns` to 30\n",
    "- Print top 10 observations in the table. `.head()`\n",
    "- Print last 10 observations in the table. `.tail()`\n",
    "- Print all the data columns names using method `.columns`\n",
    "- Print data size (number of rows and columns). This is the `.shape` of the data.\n",
    "\n",
    "*Almost* every python has a `head` and a `tail` just as DataFrames do.\n",
    "\n",
    "If you are using Google Colab, you can upload the file in the cell below. If you are NOT using Colab, set COLAB_P in the cell below to False."
   ]
  },
  {
   "cell_type": "code",
   "execution_count": 2,
   "metadata": {
    "colab": {
     "base_uri": "https://localhost:8080/",
     "height": 108,
     "resources": {
      "http://localhost:8080/nbextensions/google.colab/files.js": {
       "data": "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",
       "headers": [
        [
         "content-type",
         "application/javascript"
        ]
       ],
       "ok": true,
       "status": 200,
       "status_text": "OK"
      }
     }
    },
    "id": "KS_2J7IXX9ZS",
    "outputId": "6a5a75dd-4245-4992-8c2b-20275dceb5cc"
   },
   "outputs": [
    {
     "name": "stdout",
     "output_type": "stream",
     "text": [
      "Place your file to the same directory as the notebook, then read your file with pd.read_csv()\n"
     ]
    }
   ],
   "source": [
    "COLAB_P = False\n",
    "if COLAB_P:\n",
    "  print(\"Upload your file, then read it with pd.read_csv()\")\n",
    "  from google.colab import files\n",
    "  uploaded = files.upload()\n",
    "  fn = list(uploaded.keys())[0]\n",
    "  print(\"File is uploaded to \", fn)\n",
    "else:\n",
    "  print(\"Place your file to the same directory as the notebook, then read your file with pd.read_csv()\")"
   ]
  },
  {
   "cell_type": "code",
   "execution_count": 3,
   "metadata": {
    "id": "IMsqdgKrYugR"
   },
   "outputs": [],
   "source": [
    "# Load the data\n",
    "\n",
    "df = pd.read_csv(\"sea_ears.csv\", index_col=0)"
   ]
  },
  {
   "cell_type": "code",
   "execution_count": 4,
   "metadata": {
    "id": "H0P12NdQZPxw"
   },
   "outputs": [
    {
     "data": {
      "text/html": [
       "<div>\n",
       "<style scoped>\n",
       "    .dataframe tbody tr th:only-of-type {\n",
       "        vertical-align: middle;\n",
       "    }\n",
       "\n",
       "    .dataframe tbody tr th {\n",
       "        vertical-align: top;\n",
       "    }\n",
       "\n",
       "    .dataframe thead th {\n",
       "        text-align: right;\n",
       "    }\n",
       "</style>\n",
       "<table border=\"1\" class=\"dataframe\">\n",
       "  <thead>\n",
       "    <tr style=\"text-align: right;\">\n",
       "      <th></th>\n",
       "      <th>id</th>\n",
       "      <th>FN</th>\n",
       "      <th>SN</th>\n",
       "      <th>LN</th>\n",
       "      <th>Captured</th>\n",
       "      <th>Sex</th>\n",
       "      <th>Length</th>\n",
       "      <th>Diam</th>\n",
       "      <th>Height</th>\n",
       "      <th>Whole</th>\n",
       "      <th>Shucke</th>\n",
       "      <th>Viscera</th>\n",
       "      <th>Shell</th>\n",
       "      <th>Rings</th>\n",
       "    </tr>\n",
       "  </thead>\n",
       "  <tbody>\n",
       "    <tr>\n",
       "      <th>0</th>\n",
       "      <td>835</td>\n",
       "      <td>Kid</td>\n",
       "      <td>College</td>\n",
       "      <td>Machine</td>\n",
       "      <td>20200621T000000</td>\n",
       "      <td>I</td>\n",
       "      <td>0.450</td>\n",
       "      <td>0.350</td>\n",
       "      <td>0.130</td>\n",
       "      <td>0.5470</td>\n",
       "      <td>0.2450</td>\n",
       "      <td>0.1405</td>\n",
       "      <td>0.1405</td>\n",
       "      <td>8.0</td>\n",
       "    </tr>\n",
       "    <tr>\n",
       "      <th>1</th>\n",
       "      <td>540</td>\n",
       "      <td>Jalapeno</td>\n",
       "      <td>Glam</td>\n",
       "      <td>Machine</td>\n",
       "      <td>20200308T000000</td>\n",
       "      <td>F</td>\n",
       "      <td>0.500</td>\n",
       "      <td>0.375</td>\n",
       "      <td>0.140</td>\n",
       "      <td>0.6040</td>\n",
       "      <td>0.2420</td>\n",
       "      <td>0.1415</td>\n",
       "      <td>0.1790</td>\n",
       "      <td>15.0</td>\n",
       "    </tr>\n",
       "    <tr>\n",
       "      <th>2</th>\n",
       "      <td>2295</td>\n",
       "      <td>Baby</td>\n",
       "      <td>Full</td>\n",
       "      <td>Killer</td>\n",
       "      <td>20200222T000000</td>\n",
       "      <td>F</td>\n",
       "      <td>0.520</td>\n",
       "      <td>0.415</td>\n",
       "      <td>0.145</td>\n",
       "      <td>0.8045</td>\n",
       "      <td>0.3325</td>\n",
       "      <td>0.1725</td>\n",
       "      <td>0.2850</td>\n",
       "      <td>10.0</td>\n",
       "    </tr>\n",
       "    <tr>\n",
       "      <th>3</th>\n",
       "      <td>858</td>\n",
       "      <td>Kid</td>\n",
       "      <td>Rock</td>\n",
       "      <td>Head</td>\n",
       "      <td>20200222T000000</td>\n",
       "      <td>F</td>\n",
       "      <td>0.595</td>\n",
       "      <td>0.480</td>\n",
       "      <td>0.150</td>\n",
       "      <td>1.1100</td>\n",
       "      <td>0.4980</td>\n",
       "      <td>0.2280</td>\n",
       "      <td>0.3300</td>\n",
       "      <td>10.0</td>\n",
       "    </tr>\n",
       "    <tr>\n",
       "      <th>4</th>\n",
       "      <td>2329</td>\n",
       "      <td>Boy</td>\n",
       "      <td>Block</td>\n",
       "      <td>Death</td>\n",
       "      <td>20201219T000000</td>\n",
       "      <td>I</td>\n",
       "      <td>0.480</td>\n",
       "      <td>0.390</td>\n",
       "      <td>0.145</td>\n",
       "      <td>0.5825</td>\n",
       "      <td>0.2315</td>\n",
       "      <td>0.1210</td>\n",
       "      <td>0.2550</td>\n",
       "      <td>15.0</td>\n",
       "    </tr>\n",
       "    <tr>\n",
       "      <th>5</th>\n",
       "      <td>2648</td>\n",
       "      <td>DJ</td>\n",
       "      <td>Block</td>\n",
       "      <td>Head</td>\n",
       "      <td>20201224T000000</td>\n",
       "      <td>M</td>\n",
       "      <td>0.500</td>\n",
       "      <td>0.380</td>\n",
       "      <td>0.120</td>\n",
       "      <td>0.5765</td>\n",
       "      <td>0.2730</td>\n",
       "      <td>0.1350</td>\n",
       "      <td>0.1450</td>\n",
       "      <td>9.0</td>\n",
       "    </tr>\n",
       "    <tr>\n",
       "      <th>6</th>\n",
       "      <td>3723</td>\n",
       "      <td>Big</td>\n",
       "      <td>Full</td>\n",
       "      <td>Death</td>\n",
       "      <td>20200110T000000</td>\n",
       "      <td>I</td>\n",
       "      <td>0.470</td>\n",
       "      <td>0.355</td>\n",
       "      <td>0.120</td>\n",
       "      <td>0.4915</td>\n",
       "      <td>0.1765</td>\n",
       "      <td>0.1125</td>\n",
       "      <td>0.1325</td>\n",
       "      <td>9.0</td>\n",
       "    </tr>\n",
       "    <tr>\n",
       "      <th>7</th>\n",
       "      <td>251</td>\n",
       "      <td>Dungeon</td>\n",
       "      <td>Glam</td>\n",
       "      <td>Death</td>\n",
       "      <td>20200824T000000</td>\n",
       "      <td>M</td>\n",
       "      <td>0.590</td>\n",
       "      <td>0.470</td>\n",
       "      <td>0.180</td>\n",
       "      <td>1.1235</td>\n",
       "      <td>0.4205</td>\n",
       "      <td>0.2805</td>\n",
       "      <td>0.3600</td>\n",
       "      <td>13.0</td>\n",
       "    </tr>\n",
       "    <tr>\n",
       "      <th>8</th>\n",
       "      <td>1148</td>\n",
       "      <td>MC</td>\n",
       "      <td>College</td>\n",
       "      <td>Machine</td>\n",
       "      <td>20200623T000000</td>\n",
       "      <td>M</td>\n",
       "      <td>0.580</td>\n",
       "      <td>0.450</td>\n",
       "      <td>0.145</td>\n",
       "      <td>1.0025</td>\n",
       "      <td>0.5470</td>\n",
       "      <td>0.1975</td>\n",
       "      <td>0.2295</td>\n",
       "      <td>8.0</td>\n",
       "    </tr>\n",
       "    <tr>\n",
       "      <th>9</th>\n",
       "      <td>1949</td>\n",
       "      <td>Monster</td>\n",
       "      <td>Full</td>\n",
       "      <td>Kitty</td>\n",
       "      <td>20200202T000000</td>\n",
       "      <td>M</td>\n",
       "      <td>0.640</td>\n",
       "      <td>0.530</td>\n",
       "      <td>0.165</td>\n",
       "      <td>1.1895</td>\n",
       "      <td>0.4765</td>\n",
       "      <td>0.3000</td>\n",
       "      <td>0.3500</td>\n",
       "      <td>11.0</td>\n",
       "    </tr>\n",
       "  </tbody>\n",
       "</table>\n",
       "</div>"
      ],
      "text/plain": [
       "     id        FN       SN       LN         Captured Sex  Length   Diam  \\\n",
       "0   835       Kid  College  Machine  20200621T000000   I   0.450  0.350   \n",
       "1   540  Jalapeno     Glam  Machine  20200308T000000   F   0.500  0.375   \n",
       "2  2295      Baby     Full   Killer  20200222T000000   F   0.520  0.415   \n",
       "3   858       Kid     Rock     Head  20200222T000000   F   0.595  0.480   \n",
       "4  2329       Boy    Block    Death  20201219T000000   I   0.480  0.390   \n",
       "5  2648        DJ    Block     Head  20201224T000000   M   0.500  0.380   \n",
       "6  3723       Big     Full    Death  20200110T000000   I   0.470  0.355   \n",
       "7   251   Dungeon     Glam    Death  20200824T000000   M   0.590  0.470   \n",
       "8  1148        MC  College  Machine  20200623T000000   M   0.580  0.450   \n",
       "9  1949   Monster     Full    Kitty  20200202T000000   M   0.640  0.530   \n",
       "\n",
       "   Height   Whole  Shucke  Viscera   Shell  Rings  \n",
       "0   0.130  0.5470  0.2450   0.1405  0.1405    8.0  \n",
       "1   0.140  0.6040  0.2420   0.1415  0.1790   15.0  \n",
       "2   0.145  0.8045  0.3325   0.1725  0.2850   10.0  \n",
       "3   0.150  1.1100  0.4980   0.2280  0.3300   10.0  \n",
       "4   0.145  0.5825  0.2315   0.1210  0.2550   15.0  \n",
       "5   0.120  0.5765  0.2730   0.1350  0.1450    9.0  \n",
       "6   0.120  0.4915  0.1765   0.1125  0.1325    9.0  \n",
       "7   0.180  1.1235  0.4205   0.2805  0.3600   13.0  \n",
       "8   0.145  1.0025  0.5470   0.1975  0.2295    8.0  \n",
       "9   0.165  1.1895  0.4765   0.3000  0.3500   11.0  "
      ]
     },
     "execution_count": 4,
     "metadata": {},
     "output_type": "execute_result"
    }
   ],
   "source": [
    "# Observe top 10 observations (int)\n",
    "pd.set_option('display.max_rows', 100)\n",
    "df.head(10)"
   ]
  },
  {
   "cell_type": "code",
   "execution_count": 5,
   "metadata": {
    "id": "lhow8gCsZUyT"
   },
   "outputs": [
    {
     "name": "stdout",
     "output_type": "stream",
     "text": [
      "8\n",
      "0.97909\n"
     ]
    }
   ],
   "source": [
    "# Q1.1 What is the length of an abalone with id 986? \n",
    "# Q1.2 How many rings the fifth abalone with \"FN\" == \"Fresh\" has?\n",
    "print(8)\n",
    "# Q1.3 How many rings the sample with id 67 has?\n",
    "# Q1.4 What is the `Height` of a thirty fourth sample with `Rings` == 10?\n",
    "# Q1.5 How heavy as a whole is the female abalone #6?\n",
    "print(0.979090)\n",
    "\n",
    "# Please note that for some questions there are several answers. If that's the \n",
    "# case, show all of them. Also for some, there is none. If so, show the shape \n",
    "# of returned series in your output.\n"
   ]
  },
  {
   "cell_type": "code",
   "execution_count": 6,
   "metadata": {
    "id": "MXEj8wifdVjV"
   },
   "outputs": [
    {
     "data": {
      "text/html": [
       "<div>\n",
       "<style scoped>\n",
       "    .dataframe tbody tr th:only-of-type {\n",
       "        vertical-align: middle;\n",
       "    }\n",
       "\n",
       "    .dataframe tbody tr th {\n",
       "        vertical-align: top;\n",
       "    }\n",
       "\n",
       "    .dataframe thead th {\n",
       "        text-align: right;\n",
       "    }\n",
       "</style>\n",
       "<table border=\"1\" class=\"dataframe\">\n",
       "  <thead>\n",
       "    <tr style=\"text-align: right;\">\n",
       "      <th></th>\n",
       "      <th>id</th>\n",
       "      <th>FN</th>\n",
       "      <th>SN</th>\n",
       "      <th>LN</th>\n",
       "      <th>Captured</th>\n",
       "      <th>Sex</th>\n",
       "      <th>Length</th>\n",
       "      <th>Diam</th>\n",
       "      <th>Height</th>\n",
       "      <th>Whole</th>\n",
       "      <th>Shucke</th>\n",
       "      <th>Viscera</th>\n",
       "      <th>Shell</th>\n",
       "      <th>Rings</th>\n",
       "    </tr>\n",
       "  </thead>\n",
       "  <tbody>\n",
       "    <tr>\n",
       "      <th>5690</th>\n",
       "      <td>3883</td>\n",
       "      <td>Big</td>\n",
       "      <td>Glam</td>\n",
       "      <td>Man</td>\n",
       "      <td>20200211T000000</td>\n",
       "      <td>M</td>\n",
       "      <td>0.540</td>\n",
       "      <td>0.425</td>\n",
       "      <td>0.120</td>\n",
       "      <td>0.8170</td>\n",
       "      <td>0.2945</td>\n",
       "      <td>0.1530</td>\n",
       "      <td>0.1950</td>\n",
       "      <td>10.0</td>\n",
       "    </tr>\n",
       "    <tr>\n",
       "      <th>5691</th>\n",
       "      <td>3731</td>\n",
       "      <td>Monster</td>\n",
       "      <td>Glock</td>\n",
       "      <td>Machine</td>\n",
       "      <td>20200411T000000</td>\n",
       "      <td>F</td>\n",
       "      <td>0.550</td>\n",
       "      <td>0.415</td>\n",
       "      <td>0.180</td>\n",
       "      <td>1.1655</td>\n",
       "      <td>0.5020</td>\n",
       "      <td>0.3010</td>\n",
       "      <td>0.3110</td>\n",
       "      <td>9.0</td>\n",
       "    </tr>\n",
       "    <tr>\n",
       "      <th>5692</th>\n",
       "      <td>3856</td>\n",
       "      <td>Jalapeno</td>\n",
       "      <td>Rock</td>\n",
       "      <td>Kitty</td>\n",
       "      <td>20200719T000000</td>\n",
       "      <td>I</td>\n",
       "      <td>0.335</td>\n",
       "      <td>0.255</td>\n",
       "      <td>0.085</td>\n",
       "      <td>0.1785</td>\n",
       "      <td>0.0710</td>\n",
       "      <td>0.0405</td>\n",
       "      <td>0.0550</td>\n",
       "      <td>9.0</td>\n",
       "    </tr>\n",
       "    <tr>\n",
       "      <th>5693</th>\n",
       "      <td>1631</td>\n",
       "      <td>Boss</td>\n",
       "      <td>Glock</td>\n",
       "      <td>Man</td>\n",
       "      <td>20200810T000000</td>\n",
       "      <td>I</td>\n",
       "      <td>0.570</td>\n",
       "      <td>0.445</td>\n",
       "      <td>0.145</td>\n",
       "      <td>0.7405</td>\n",
       "      <td>0.3060</td>\n",
       "      <td>0.1720</td>\n",
       "      <td>0.1825</td>\n",
       "      <td>12.0</td>\n",
       "    </tr>\n",
       "    <tr>\n",
       "      <th>5694</th>\n",
       "      <td>283</td>\n",
       "      <td>Jalapeno</td>\n",
       "      <td>Full</td>\n",
       "      <td>Killer</td>\n",
       "      <td>20200804T000000</td>\n",
       "      <td>M</td>\n",
       "      <td>0.485</td>\n",
       "      <td>0.395</td>\n",
       "      <td>0.140</td>\n",
       "      <td>0.6295</td>\n",
       "      <td>0.2285</td>\n",
       "      <td>0.1270</td>\n",
       "      <td>0.2250</td>\n",
       "      <td>14.0</td>\n",
       "    </tr>\n",
       "    <tr>\n",
       "      <th>5695</th>\n",
       "      <td>181</td>\n",
       "      <td>Big</td>\n",
       "      <td>Block</td>\n",
       "      <td>Head</td>\n",
       "      <td>20200512T000000</td>\n",
       "      <td>M</td>\n",
       "      <td>0.640</td>\n",
       "      <td>0.510</td>\n",
       "      <td>0.175</td>\n",
       "      <td>1.3680</td>\n",
       "      <td>0.5150</td>\n",
       "      <td>0.2660</td>\n",
       "      <td>0.5700</td>\n",
       "      <td>21.0</td>\n",
       "    </tr>\n",
       "    <tr>\n",
       "      <th>5696</th>\n",
       "      <td>1324</td>\n",
       "      <td>Jalapeno</td>\n",
       "      <td>Full</td>\n",
       "      <td>Head</td>\n",
       "      <td>20201215T000000</td>\n",
       "      <td>I</td>\n",
       "      <td>0.565</td>\n",
       "      <td>0.440</td>\n",
       "      <td>0.175</td>\n",
       "      <td>0.8735</td>\n",
       "      <td>0.4140</td>\n",
       "      <td>0.2100</td>\n",
       "      <td>0.2100</td>\n",
       "      <td>11.0</td>\n",
       "    </tr>\n",
       "    <tr>\n",
       "      <th>5697</th>\n",
       "      <td>1242</td>\n",
       "      <td>Lil'</td>\n",
       "      <td>Flow</td>\n",
       "      <td>Machine</td>\n",
       "      <td>20201206T000000</td>\n",
       "      <td>I</td>\n",
       "      <td>0.385</td>\n",
       "      <td>0.290</td>\n",
       "      <td>0.090</td>\n",
       "      <td>0.2615</td>\n",
       "      <td>0.1110</td>\n",
       "      <td>0.0595</td>\n",
       "      <td>0.0745</td>\n",
       "      <td>9.0</td>\n",
       "    </tr>\n",
       "    <tr>\n",
       "      <th>5698</th>\n",
       "      <td>2842</td>\n",
       "      <td>Boss</td>\n",
       "      <td>Full</td>\n",
       "      <td>Killer</td>\n",
       "      <td>20200101T000000</td>\n",
       "      <td>M</td>\n",
       "      <td>0.600</td>\n",
       "      <td>0.475</td>\n",
       "      <td>0.175</td>\n",
       "      <td>1.1100</td>\n",
       "      <td>0.5105</td>\n",
       "      <td>0.2560</td>\n",
       "      <td>0.2850</td>\n",
       "      <td>9.0</td>\n",
       "    </tr>\n",
       "    <tr>\n",
       "      <th>5699</th>\n",
       "      <td>2071</td>\n",
       "      <td>Baby</td>\n",
       "      <td>Glock</td>\n",
       "      <td>Machine</td>\n",
       "      <td>20200119T000000</td>\n",
       "      <td>F</td>\n",
       "      <td>0.565</td>\n",
       "      <td>0.440</td>\n",
       "      <td>0.135</td>\n",
       "      <td>0.8300</td>\n",
       "      <td>0.3930</td>\n",
       "      <td>0.1735</td>\n",
       "      <td>0.2380</td>\n",
       "      <td>9.0</td>\n",
       "    </tr>\n",
       "  </tbody>\n",
       "</table>\n",
       "</div>"
      ],
      "text/plain": [
       "        id        FN     SN       LN         Captured Sex  Length   Diam  \\\n",
       "5690  3883       Big   Glam      Man  20200211T000000   M   0.540  0.425   \n",
       "5691  3731   Monster  Glock  Machine  20200411T000000   F   0.550  0.415   \n",
       "5692  3856  Jalapeno   Rock    Kitty  20200719T000000   I   0.335  0.255   \n",
       "5693  1631      Boss  Glock      Man  20200810T000000   I   0.570  0.445   \n",
       "5694   283  Jalapeno   Full   Killer  20200804T000000   M   0.485  0.395   \n",
       "5695   181       Big  Block     Head  20200512T000000   M   0.640  0.510   \n",
       "5696  1324  Jalapeno   Full     Head  20201215T000000   I   0.565  0.440   \n",
       "5697  1242      Lil'   Flow  Machine  20201206T000000   I   0.385  0.290   \n",
       "5698  2842      Boss   Full   Killer  20200101T000000   M   0.600  0.475   \n",
       "5699  2071      Baby  Glock  Machine  20200119T000000   F   0.565  0.440   \n",
       "\n",
       "      Height   Whole  Shucke  Viscera   Shell  Rings  \n",
       "5690   0.120  0.8170  0.2945   0.1530  0.1950   10.0  \n",
       "5691   0.180  1.1655  0.5020   0.3010  0.3110    9.0  \n",
       "5692   0.085  0.1785  0.0710   0.0405  0.0550    9.0  \n",
       "5693   0.145  0.7405  0.3060   0.1720  0.1825   12.0  \n",
       "5694   0.140  0.6295  0.2285   0.1270  0.2250   14.0  \n",
       "5695   0.175  1.3680  0.5150   0.2660  0.5700   21.0  \n",
       "5696   0.175  0.8735  0.4140   0.2100  0.2100   11.0  \n",
       "5697   0.090  0.2615  0.1110   0.0595  0.0745    9.0  \n",
       "5698   0.175  1.1100  0.5105   0.2560  0.2850    9.0  \n",
       "5699   0.135  0.8300  0.3930   0.1735  0.2380    9.0  "
      ]
     },
     "execution_count": 6,
     "metadata": {},
     "output_type": "execute_result"
    }
   ],
   "source": [
    "# Observe last 10 observations (int)\n",
    "df.tail(10)"
   ]
  },
  {
   "cell_type": "code",
   "execution_count": 7,
   "metadata": {
    "id": "_ahNTahGdNhT"
   },
   "outputs": [
    {
     "name": "stdout",
     "output_type": "stream",
     "text": [
      "0.45159\n",
      "0.22\n"
     ]
    }
   ],
   "source": [
    "# Q2.1 What is the diameter of a tenth abalone with second name Flow?\n",
    "print(round(df.loc[df.SN=='Flow', 'Diam'].iloc[9], 5))\n",
    "# Q2.2 What is the weight of a shell for 99-th abalone with first name Lil'?\n",
    "print(df.loc[df.FN==\"Lil'\", 'Shell'].iloc[98])\n",
    "# Q2.3 How many rings twelfth abalone with first name MC' has?\n",
    "# Q2.4 How many rings the 666-th abalone has?\n",
    "# Q2.5 What is the gender of 1337-th abalone?\n"
   ]
  },
  {
   "cell_type": "code",
   "execution_count": 8,
   "metadata": {
    "id": "rlx4DfDsdku4"
   },
   "outputs": [],
   "source": [
    "# Increase maximal displayed columns\n",
    "\n",
    "####I don't know what is written about here. I see all the columns\n",
    "pd.set_option('display.max_columns', 100)"
   ]
  },
  {
   "cell_type": "code",
   "execution_count": 9,
   "metadata": {
    "id": "iFRAlFOYdm9A"
   },
   "outputs": [
    {
     "data": {
      "text/html": [
       "<div>\n",
       "<style scoped>\n",
       "    .dataframe tbody tr th:only-of-type {\n",
       "        vertical-align: middle;\n",
       "    }\n",
       "\n",
       "    .dataframe tbody tr th {\n",
       "        vertical-align: top;\n",
       "    }\n",
       "\n",
       "    .dataframe thead th {\n",
       "        text-align: right;\n",
       "    }\n",
       "</style>\n",
       "<table border=\"1\" class=\"dataframe\">\n",
       "  <thead>\n",
       "    <tr style=\"text-align: right;\">\n",
       "      <th></th>\n",
       "      <th>id</th>\n",
       "      <th>FN</th>\n",
       "      <th>SN</th>\n",
       "      <th>LN</th>\n",
       "      <th>Captured</th>\n",
       "      <th>Sex</th>\n",
       "      <th>Length</th>\n",
       "      <th>Diam</th>\n",
       "      <th>Height</th>\n",
       "      <th>Whole</th>\n",
       "      <th>Shucke</th>\n",
       "      <th>Viscera</th>\n",
       "      <th>Shell</th>\n",
       "      <th>Rings</th>\n",
       "    </tr>\n",
       "  </thead>\n",
       "  <tbody>\n",
       "    <tr>\n",
       "      <th>0</th>\n",
       "      <td>835</td>\n",
       "      <td>Kid</td>\n",
       "      <td>College</td>\n",
       "      <td>Machine</td>\n",
       "      <td>20200621T000000</td>\n",
       "      <td>I</td>\n",
       "      <td>0.450</td>\n",
       "      <td>0.350</td>\n",
       "      <td>0.130</td>\n",
       "      <td>0.5470</td>\n",
       "      <td>0.2450</td>\n",
       "      <td>0.1405</td>\n",
       "      <td>0.1405</td>\n",
       "      <td>8.0</td>\n",
       "    </tr>\n",
       "    <tr>\n",
       "      <th>1</th>\n",
       "      <td>540</td>\n",
       "      <td>Jalapeno</td>\n",
       "      <td>Glam</td>\n",
       "      <td>Machine</td>\n",
       "      <td>20200308T000000</td>\n",
       "      <td>F</td>\n",
       "      <td>0.500</td>\n",
       "      <td>0.375</td>\n",
       "      <td>0.140</td>\n",
       "      <td>0.6040</td>\n",
       "      <td>0.2420</td>\n",
       "      <td>0.1415</td>\n",
       "      <td>0.1790</td>\n",
       "      <td>15.0</td>\n",
       "    </tr>\n",
       "    <tr>\n",
       "      <th>2</th>\n",
       "      <td>2295</td>\n",
       "      <td>Baby</td>\n",
       "      <td>Full</td>\n",
       "      <td>Killer</td>\n",
       "      <td>20200222T000000</td>\n",
       "      <td>F</td>\n",
       "      <td>0.520</td>\n",
       "      <td>0.415</td>\n",
       "      <td>0.145</td>\n",
       "      <td>0.8045</td>\n",
       "      <td>0.3325</td>\n",
       "      <td>0.1725</td>\n",
       "      <td>0.2850</td>\n",
       "      <td>10.0</td>\n",
       "    </tr>\n",
       "    <tr>\n",
       "      <th>3</th>\n",
       "      <td>858</td>\n",
       "      <td>Kid</td>\n",
       "      <td>Rock</td>\n",
       "      <td>Head</td>\n",
       "      <td>20200222T000000</td>\n",
       "      <td>F</td>\n",
       "      <td>0.595</td>\n",
       "      <td>0.480</td>\n",
       "      <td>0.150</td>\n",
       "      <td>1.1100</td>\n",
       "      <td>0.4980</td>\n",
       "      <td>0.2280</td>\n",
       "      <td>0.3300</td>\n",
       "      <td>10.0</td>\n",
       "    </tr>\n",
       "    <tr>\n",
       "      <th>4</th>\n",
       "      <td>2329</td>\n",
       "      <td>Boy</td>\n",
       "      <td>Block</td>\n",
       "      <td>Death</td>\n",
       "      <td>20201219T000000</td>\n",
       "      <td>I</td>\n",
       "      <td>0.480</td>\n",
       "      <td>0.390</td>\n",
       "      <td>0.145</td>\n",
       "      <td>0.5825</td>\n",
       "      <td>0.2315</td>\n",
       "      <td>0.1210</td>\n",
       "      <td>0.2550</td>\n",
       "      <td>15.0</td>\n",
       "    </tr>\n",
       "    <tr>\n",
       "      <th>5</th>\n",
       "      <td>2648</td>\n",
       "      <td>DJ</td>\n",
       "      <td>Block</td>\n",
       "      <td>Head</td>\n",
       "      <td>20201224T000000</td>\n",
       "      <td>M</td>\n",
       "      <td>0.500</td>\n",
       "      <td>0.380</td>\n",
       "      <td>0.120</td>\n",
       "      <td>0.5765</td>\n",
       "      <td>0.2730</td>\n",
       "      <td>0.1350</td>\n",
       "      <td>0.1450</td>\n",
       "      <td>9.0</td>\n",
       "    </tr>\n",
       "    <tr>\n",
       "      <th>6</th>\n",
       "      <td>3723</td>\n",
       "      <td>Big</td>\n",
       "      <td>Full</td>\n",
       "      <td>Death</td>\n",
       "      <td>20200110T000000</td>\n",
       "      <td>I</td>\n",
       "      <td>0.470</td>\n",
       "      <td>0.355</td>\n",
       "      <td>0.120</td>\n",
       "      <td>0.4915</td>\n",
       "      <td>0.1765</td>\n",
       "      <td>0.1125</td>\n",
       "      <td>0.1325</td>\n",
       "      <td>9.0</td>\n",
       "    </tr>\n",
       "    <tr>\n",
       "      <th>7</th>\n",
       "      <td>251</td>\n",
       "      <td>Dungeon</td>\n",
       "      <td>Glam</td>\n",
       "      <td>Death</td>\n",
       "      <td>20200824T000000</td>\n",
       "      <td>M</td>\n",
       "      <td>0.590</td>\n",
       "      <td>0.470</td>\n",
       "      <td>0.180</td>\n",
       "      <td>1.1235</td>\n",
       "      <td>0.4205</td>\n",
       "      <td>0.2805</td>\n",
       "      <td>0.3600</td>\n",
       "      <td>13.0</td>\n",
       "    </tr>\n",
       "    <tr>\n",
       "      <th>8</th>\n",
       "      <td>1148</td>\n",
       "      <td>MC</td>\n",
       "      <td>College</td>\n",
       "      <td>Machine</td>\n",
       "      <td>20200623T000000</td>\n",
       "      <td>M</td>\n",
       "      <td>0.580</td>\n",
       "      <td>0.450</td>\n",
       "      <td>0.145</td>\n",
       "      <td>1.0025</td>\n",
       "      <td>0.5470</td>\n",
       "      <td>0.1975</td>\n",
       "      <td>0.2295</td>\n",
       "      <td>8.0</td>\n",
       "    </tr>\n",
       "    <tr>\n",
       "      <th>9</th>\n",
       "      <td>1949</td>\n",
       "      <td>Monster</td>\n",
       "      <td>Full</td>\n",
       "      <td>Kitty</td>\n",
       "      <td>20200202T000000</td>\n",
       "      <td>M</td>\n",
       "      <td>0.640</td>\n",
       "      <td>0.530</td>\n",
       "      <td>0.165</td>\n",
       "      <td>1.1895</td>\n",
       "      <td>0.4765</td>\n",
       "      <td>0.3000</td>\n",
       "      <td>0.3500</td>\n",
       "      <td>11.0</td>\n",
       "    </tr>\n",
       "  </tbody>\n",
       "</table>\n",
       "</div>"
      ],
      "text/plain": [
       "     id        FN       SN       LN         Captured Sex  Length   Diam  \\\n",
       "0   835       Kid  College  Machine  20200621T000000   I   0.450  0.350   \n",
       "1   540  Jalapeno     Glam  Machine  20200308T000000   F   0.500  0.375   \n",
       "2  2295      Baby     Full   Killer  20200222T000000   F   0.520  0.415   \n",
       "3   858       Kid     Rock     Head  20200222T000000   F   0.595  0.480   \n",
       "4  2329       Boy    Block    Death  20201219T000000   I   0.480  0.390   \n",
       "5  2648        DJ    Block     Head  20201224T000000   M   0.500  0.380   \n",
       "6  3723       Big     Full    Death  20200110T000000   I   0.470  0.355   \n",
       "7   251   Dungeon     Glam    Death  20200824T000000   M   0.590  0.470   \n",
       "8  1148        MC  College  Machine  20200623T000000   M   0.580  0.450   \n",
       "9  1949   Monster     Full    Kitty  20200202T000000   M   0.640  0.530   \n",
       "\n",
       "   Height   Whole  Shucke  Viscera   Shell  Rings  \n",
       "0   0.130  0.5470  0.2450   0.1405  0.1405    8.0  \n",
       "1   0.140  0.6040  0.2420   0.1415  0.1790   15.0  \n",
       "2   0.145  0.8045  0.3325   0.1725  0.2850   10.0  \n",
       "3   0.150  1.1100  0.4980   0.2280  0.3300   10.0  \n",
       "4   0.145  0.5825  0.2315   0.1210  0.2550   15.0  \n",
       "5   0.120  0.5765  0.2730   0.1350  0.1450    9.0  \n",
       "6   0.120  0.4915  0.1765   0.1125  0.1325    9.0  \n",
       "7   0.180  1.1235  0.4205   0.2805  0.3600   13.0  \n",
       "8   0.145  1.0025  0.5470   0.1975  0.2295    8.0  \n",
       "9   0.165  1.1895  0.4765   0.3000  0.3500   11.0  "
      ]
     },
     "execution_count": 9,
     "metadata": {},
     "output_type": "execute_result"
    }
   ],
   "source": [
    "# Observe top 10 observations again\n",
    "# Is there any new columns displayed?\n",
    "\n",
    "df.head(10)\n",
    "####Nope, I have seen all of hem before (may be beacuse I use JupyterLab)"
   ]
  },
  {
   "cell_type": "code",
   "execution_count": 10,
   "metadata": {
    "id": "Zui3i6ZOdo2D"
   },
   "outputs": [
    {
     "data": {
      "text/plain": [
       "Index(['id', 'FN', 'SN', 'LN', 'Captured', 'Sex', 'Length', 'Diam', 'Height',\n",
       "       'Whole', 'Shucke', 'Viscera', 'Shell', 'Rings'],\n",
       "      dtype='object')"
      ]
     },
     "execution_count": 10,
     "metadata": {},
     "output_type": "execute_result"
    }
   ],
   "source": [
    "# Print all the columns/features names (int)\n",
    "df.columns"
   ]
  },
  {
   "cell_type": "code",
   "execution_count": 11,
   "metadata": {
    "id": "QwPaHlDhuklP"
   },
   "outputs": [
    {
     "name": "stdout",
     "output_type": "stream",
     "text": [
      "3\n",
      "Columns 'Whole', 'Shucke', 'Viscera', 'Shell'\n"
     ]
    }
   ],
   "source": [
    "# Q3.1 How many columns end with a vowel?\n",
    "print(3)\n",
    "# Q3.2 How many columns start with a vowel?\n",
    "# Q3.3 Which columns are associated with the weight of the clam?\n",
    "print(\"Columns 'Whole', 'Shucke', 'Viscera', 'Shell'\")\n",
    "# Q3.4 How many columns have `th` in their names?\n",
    "\n"
   ]
  },
  {
   "cell_type": "code",
   "execution_count": 12,
   "metadata": {},
   "outputs": [
    {
     "data": {
      "text/plain": [
       "(5700, 14)"
      ]
     },
     "execution_count": 12,
     "metadata": {},
     "output_type": "execute_result"
    }
   ],
   "source": [
    "df.shape"
   ]
  },
  {
   "cell_type": "code",
   "execution_count": 13,
   "metadata": {
    "id": "Ka8e4hmZdqLp"
   },
   "outputs": [
    {
     "name": "stdout",
     "output_type": "stream",
     "text": [
      "5700\n",
      "14\n"
     ]
    }
   ],
   "source": [
    "# Print data size (int)\n",
    "df.shape\n",
    "# Q4.1 How many observations are in the data?\n",
    "print(df.shape[0])\n",
    "# Q4.2 How many features are in the data?\n",
    "print(df.shape[1])"
   ]
  },
  {
   "cell_type": "markdown",
   "metadata": {
    "id": "RWqFpMWPdy3E"
   },
   "source": [
    "# 2. Basic data exploration\n",
    "\n",
    "Lets do some basics:\n",
    "\n",
    "`.count()` number of not NaN's in every column.\n",
    "    \n",
    "Is there any missing values in the data?     \n",
    "Count number of unique values in every column .nunique().    \n",
    "What does this tells you about the features, which are most likely categorical and which are most likely numerical?    \n",
    "Use pandas `.describe()` to display basic statistic about the data.   \n",
    "Use pandas `.value_counts()` to count number of unique values in a specific column.   \n",
    "Use pandas `.min()`, `.max()`, `.mean()`, `.std()` to display specific statistics about the data.    \n",
    "Use pandas `.dtypes` field to display data types in columns. \n",
    "Hint You could use `.sort_index()` or `.sort_values()` to sort the result of `.value_counts()`\n"
   ]
  },
  {
   "cell_type": "code",
   "execution_count": 14,
   "metadata": {
    "id": "pwlcBdvIwlfB"
   },
   "outputs": [
    {
     "name": "stdout",
     "output_type": "stream",
     "text": [
      "542\n",
      "0\n"
     ]
    }
   ],
   "source": [
    "# Display number of not NaN's in every column (int)\n",
    "\n",
    "# Q5.1 How many NA values are in the `Whole` column?\n",
    "# Q5.2 How many NA values are in the `Rings` column?\n",
    "# Q5.3 How many NA values are in the `Viscera` column?\n",
    "print(df.shape[0] - df.count().loc['Viscera'])\n",
    "# Q5.4 How many NA values are in the `FN` column?\n",
    "print(df.shape[0] - df.count().loc['FN'])\n",
    "# Q5.5 How many explicit NA values are in the `Shell` column?"
   ]
  },
  {
   "cell_type": "code",
   "execution_count": 15,
   "metadata": {
    "id": "uCxMUIbnx-QD"
   },
   "outputs": [
    {
     "name": "stdout",
     "output_type": "stream",
     "text": [
      "12\n",
      "1687\n"
     ]
    }
   ],
   "source": [
    "# Count number of unique values in every column (int)\n",
    "\n",
    "# Q6.1 How many unique values are in the `FN` column?\n",
    "print(df.nunique()['FN'])\n",
    "# Q6.2 How many unique values are in the `SN` column?\n",
    "# Q6.3 How many unique values are in the `Rings` column?\n",
    "# Q6.4 How many unique values are in the `Viscera` column?\n",
    "# Q6.5 How many unique values are in the `Shell` column?\n",
    "print(df.nunique()['Shell'])"
   ]
  },
  {
   "cell_type": "code",
   "execution_count": 16,
   "metadata": {
    "id": "fPJMcqYQyD9y"
   },
   "outputs": [
    {
     "name": "stdout",
     "output_type": "stream",
     "text": [
      "[684, 690, 707, 709, 709, 711, 713, 777]\n",
      "[1, 1, 2, 3, 3, 3, 7, 10, 11, 16, 18, 27, 38, 40, 49, 69, 83, 86, 121, 157, 170, 241, 316, 323, 475, 558, 661, 696, 775]\n"
     ]
    }
   ],
   "source": [
    "# Count frequency of the values in different columns (list of ints in ascending order)\n",
    "# You could select a column using same syntax as for selecting a key from a dictionary: `data[colname]`\n",
    "\n",
    "# Q7.1 For every unique `FN` value give its number of occurences.\n",
    "# Q7.2 For every unique `SN` value give its number of occurences.\n",
    "print(df.SN.value_counts(ascending=True).tolist())\n",
    "# Q7.3 For every unique `Rings` value give its number of occurences.\n",
    "print(df.Rings.value_counts(ascending=True).tolist())\n",
    "# Q7.4 For every unique `Sex` value give its number of occurences.\n",
    "# Q7.5 For every unique `LN` value give its number of occurences."
   ]
  },
  {
   "cell_type": "code",
   "execution_count": 17,
   "metadata": {
    "id": "bo6KibQ3x4Jw"
   },
   "outputs": [
    {
     "data": {
      "text/html": [
       "<div>\n",
       "<style scoped>\n",
       "    .dataframe tbody tr th:only-of-type {\n",
       "        vertical-align: middle;\n",
       "    }\n",
       "\n",
       "    .dataframe tbody tr th {\n",
       "        vertical-align: top;\n",
       "    }\n",
       "\n",
       "    .dataframe thead th {\n",
       "        text-align: right;\n",
       "    }\n",
       "</style>\n",
       "<table border=\"1\" class=\"dataframe\">\n",
       "  <thead>\n",
       "    <tr style=\"text-align: right;\">\n",
       "      <th></th>\n",
       "      <th>id</th>\n",
       "      <th>Length</th>\n",
       "      <th>Diam</th>\n",
       "      <th>Height</th>\n",
       "      <th>Whole</th>\n",
       "      <th>Shucke</th>\n",
       "      <th>Viscera</th>\n",
       "      <th>Shell</th>\n",
       "      <th>Rings</th>\n",
       "    </tr>\n",
       "  </thead>\n",
       "  <tbody>\n",
       "    <tr>\n",
       "      <th>count</th>\n",
       "      <td>5700.000000</td>\n",
       "      <td>5545.000000</td>\n",
       "      <td>5079.000000</td>\n",
       "      <td>4931.000000</td>\n",
       "      <td>5687.000000</td>\n",
       "      <td>4334.000000</td>\n",
       "      <td>5158.000000</td>\n",
       "      <td>4938.000000</td>\n",
       "      <td>4960.000000</td>\n",
       "    </tr>\n",
       "    <tr>\n",
       "      <th>mean</th>\n",
       "      <td>2849.500000</td>\n",
       "      <td>0.547853</td>\n",
       "      <td>0.424571</td>\n",
       "      <td>0.154530</td>\n",
       "      <td>0.849702</td>\n",
       "      <td>0.361736</td>\n",
       "      <td>0.198908</td>\n",
       "      <td>0.253074</td>\n",
       "      <td>9.826613</td>\n",
       "    </tr>\n",
       "    <tr>\n",
       "      <th>std</th>\n",
       "      <td>1645.592598</td>\n",
       "      <td>0.130588</td>\n",
       "      <td>0.108177</td>\n",
       "      <td>0.059298</td>\n",
       "      <td>0.493289</td>\n",
       "      <td>0.222923</td>\n",
       "      <td>0.118113</td>\n",
       "      <td>0.145495</td>\n",
       "      <td>3.378726</td>\n",
       "    </tr>\n",
       "    <tr>\n",
       "      <th>min</th>\n",
       "      <td>0.000000</td>\n",
       "      <td>0.075000</td>\n",
       "      <td>0.055000</td>\n",
       "      <td>0.000000</td>\n",
       "      <td>0.002000</td>\n",
       "      <td>0.001000</td>\n",
       "      <td>0.000500</td>\n",
       "      <td>0.001500</td>\n",
       "      <td>0.000000</td>\n",
       "    </tr>\n",
       "    <tr>\n",
       "      <th>25%</th>\n",
       "      <td>1424.750000</td>\n",
       "      <td>0.465000</td>\n",
       "      <td>0.355000</td>\n",
       "      <td>0.120000</td>\n",
       "      <td>0.458250</td>\n",
       "      <td>0.188125</td>\n",
       "      <td>0.106154</td>\n",
       "      <td>0.140500</td>\n",
       "      <td>8.000000</td>\n",
       "    </tr>\n",
       "    <tr>\n",
       "      <th>50%</th>\n",
       "      <td>2849.500000</td>\n",
       "      <td>0.561707</td>\n",
       "      <td>0.435000</td>\n",
       "      <td>0.150000</td>\n",
       "      <td>0.816500</td>\n",
       "      <td>0.338750</td>\n",
       "      <td>0.188687</td>\n",
       "      <td>0.245000</td>\n",
       "      <td>9.000000</td>\n",
       "    </tr>\n",
       "    <tr>\n",
       "      <th>75%</th>\n",
       "      <td>4274.250000</td>\n",
       "      <td>0.635000</td>\n",
       "      <td>0.500000</td>\n",
       "      <td>0.176963</td>\n",
       "      <td>1.177500</td>\n",
       "      <td>0.504000</td>\n",
       "      <td>0.274500</td>\n",
       "      <td>0.345000</td>\n",
       "      <td>11.000000</td>\n",
       "    </tr>\n",
       "    <tr>\n",
       "      <th>max</th>\n",
       "      <td>5699.000000</td>\n",
       "      <td>0.968190</td>\n",
       "      <td>0.794032</td>\n",
       "      <td>1.130000</td>\n",
       "      <td>2.875274</td>\n",
       "      <td>1.488000</td>\n",
       "      <td>0.760000</td>\n",
       "      <td>1.044635</td>\n",
       "      <td>29.000000</td>\n",
       "    </tr>\n",
       "  </tbody>\n",
       "</table>\n",
       "</div>"
      ],
      "text/plain": [
       "                id       Length         Diam       Height        Whole  \\\n",
       "count  5700.000000  5545.000000  5079.000000  4931.000000  5687.000000   \n",
       "mean   2849.500000     0.547853     0.424571     0.154530     0.849702   \n",
       "std    1645.592598     0.130588     0.108177     0.059298     0.493289   \n",
       "min       0.000000     0.075000     0.055000     0.000000     0.002000   \n",
       "25%    1424.750000     0.465000     0.355000     0.120000     0.458250   \n",
       "50%    2849.500000     0.561707     0.435000     0.150000     0.816500   \n",
       "75%    4274.250000     0.635000     0.500000     0.176963     1.177500   \n",
       "max    5699.000000     0.968190     0.794032     1.130000     2.875274   \n",
       "\n",
       "            Shucke      Viscera        Shell        Rings  \n",
       "count  4334.000000  5158.000000  4938.000000  4960.000000  \n",
       "mean      0.361736     0.198908     0.253074     9.826613  \n",
       "std       0.222923     0.118113     0.145495     3.378726  \n",
       "min       0.001000     0.000500     0.001500     0.000000  \n",
       "25%       0.188125     0.106154     0.140500     8.000000  \n",
       "50%       0.338750     0.188687     0.245000     9.000000  \n",
       "75%       0.504000     0.274500     0.345000    11.000000  \n",
       "max       1.488000     0.760000     1.044635    29.000000  "
      ]
     },
     "execution_count": 17,
     "metadata": {},
     "output_type": "execute_result"
    }
   ],
   "source": [
    "# Display basic data statistics using .describe()\n",
    "df.describe()"
   ]
  },
  {
   "cell_type": "code",
   "execution_count": 18,
   "metadata": {
    "id": "9vIOZuv7yErp"
   },
   "outputs": [
    {
     "name": "stdout",
     "output_type": "stream",
     "text": [
      "[0.76, 0.001, 0.199, 0.118]\n",
      "[0.968, 0.075, 0.548, 0.131]\n"
     ]
    }
   ],
   "source": [
    "# Display some column statistics (list of floats, rounded up to 3 digits, e.g. 1.234)\n",
    "\n",
    "# Q8.1 What are the max, min, mean and the std of the `Viscera` column?\n",
    "\n",
    "q8_1 = []\n",
    "q8_1.append(round(df.Viscera.max(), 3))\n",
    "q8_1.append(round(df.Viscera.min(), 3))\n",
    "q8_1.append(round(df.Viscera.mean(), 3))\n",
    "q8_1.append(round(df.Viscera.std(), 3))\n",
    "\n",
    "print(q8_1)\n",
    "# Q8.2 What are the max, min, mean and the std of the `Rings` column?\n",
    "# Q8.3 What are the max, min, mean and the std of the `Length` column?\n",
    "\n",
    "q8_3 = []\n",
    "q8_3.append(round(df.Length.max(), 3))\n",
    "q8_3.append(round(df.Length.min(), 3))\n",
    "q8_3.append(round(df.Length.mean(), 3))\n",
    "q8_3.append(round(df.Length.std(), 3))\n",
    "\n",
    "print(q8_3)\n",
    "# Q8.4 What are the max, min, mean and the std of the `Diam` column?\n",
    "# Q8.5 What are the max, min, mean and the std of the `Whole` column?"
   ]
  },
  {
   "cell_type": "code",
   "execution_count": 19,
   "metadata": {},
   "outputs": [
    {
     "data": {
      "text/plain": [
       "id    int64\n",
       "dtype: object"
      ]
     },
     "execution_count": 19,
     "metadata": {},
     "output_type": "execute_result"
    }
   ],
   "source": [
    "df.dtypes[df.dtypes=='int64']"
   ]
  },
  {
   "cell_type": "code",
   "execution_count": 20,
   "metadata": {
    "id": "71Kx1GnoyG7v"
   },
   "outputs": [
    {
     "name": "stdout",
     "output_type": "stream",
     "text": [
      "8\n",
      "id\n"
     ]
    }
   ],
   "source": [
    "# Display data types of all columns (int)\n",
    "df.dtypes\n",
    "# Q9.1 How many columns have `object` data type?\n",
    "# Q9.2 How many columns have `int64` data type?\n",
    "# Q9.3 How many columns have `float64` data type?\n",
    "q9_3 = df.dtypes.value_counts()\n",
    "print(q9_3[0])\n",
    "\n",
    "# Display data types of all columns (list of str)\n",
    "# Q9.4 What are the columns with dtype == `float64`?\n",
    "# Q9.5 What are the columns with dtype == `int64`?\n",
    "print('id')"
   ]
  },
  {
   "cell_type": "code",
   "execution_count": 21,
   "metadata": {
    "id": "RPVevhAMtqVQ"
   },
   "outputs": [],
   "source": [
    "df = df.dropna()"
   ]
  },
  {
   "cell_type": "markdown",
   "metadata": {
    "id": "5rrG2dQQe5yf"
   },
   "source": [
    "# 3. Data selection\n",
    "\n",
    "In pandas.DataFrame you could select\n",
    "\n",
    "  Row/s by position (integer number [0 .. number of rows - 1]) .iloc or by DataFrame.index .loc:   \n",
    "\n",
    "```\n",
    "  data.loc[0]  \n",
    "  data.loc[5:10]  \n",
    "  data.iloc[0]  \n",
    "  data.iloc[5:10]   \n",
    "```\n",
    "\n",
    "Though, this is probably the worst way to manipulate rows.   \n",
    "  Columns by name\n",
    "\n",
    "```\n",
    "  data[columname]\n",
    "```\n",
    "\n",
    "  Row/s and columns\n",
    "\n",
    "```\n",
    "  data.loc[10, columname]  \n",
    "  data.iloc[10, columname]  \n",
    "```\n",
    "\n",
    "Using boolean mask\n",
    "\n",
    "```\n",
    "  mask = data[columname] > value  \n",
    "  data[mask]  \n",
    "```\n",
    "\n",
    "You could combine multiple conditions using & or | (and, or)   \n",
    "\n",
    "```\n",
    "cond1 = data[columname1] > value1  \n",
    "cond2 = data[columname2] > value2  \n",
    "data[cond1 & cond2]  \n",
    "```\n",
    "\n",
    "Using queries .query():  \n",
    "\n",
    "```\n",
    "value = 5 \n",
    "data.query(\"columname > value\")  \n",
    "```\n",
    "\n",
    "You could combine multiple conditions using and, or  \n",
    "\n",
    "```\n",
    "data.query(\"(columname1 > value1) and (columname2 > value2)\")\n",
    "```\n",
    "\n",
    "and others. See https://pandas.pydata.org/pandas-docs/stable/user_guide/indexing.html for more examples.\n",
    "\n",
    "Remember to use different quotation marks \" or ' for columnname inside a query.\n"
   ]
  },
  {
   "cell_type": "code",
   "execution_count": 22,
   "metadata": {
    "id": "WJnCqUx-0YRx"
   },
   "outputs": [
    {
     "name": "stdout",
     "output_type": "stream",
     "text": [
      "DJ\n",
      "0.44\n"
     ]
    }
   ],
   "source": [
    "# Select rows by position (int) \n",
    "\n",
    "# Q10.1 What is the first name of a clam on row 777?\n",
    "print(df.iloc[776, 1])\n",
    "# Q10.2 What is the last name of a clam on row 999?\n",
    "# Q10.3 How long is a clam from row 1337?\n",
    "print(df.iloc[1336, 6])\n",
    "# Q10.4 What is the gender of a clam from row 314?\n",
    "# Q10.5 When was the clam with row of 2718 captured?"
   ]
  },
  {
   "cell_type": "code",
   "execution_count": 23,
   "metadata": {
    "id": "Nv5jRoeU0aQG"
   },
   "outputs": [
    {
     "name": "stdout",
     "output_type": "stream",
     "text": [
      "M\n",
      "0.1835\n"
     ]
    }
   ],
   "source": [
    "# Select rows by index (int)\n",
    "\n",
    "# Q11.1 What is the gender of a clam with index 1102?\n",
    "print(df.loc[1102, 'Sex'])\n",
    "# Q11.2 How long is a clam with index 5695?\n",
    "# Q11.3 How heavy is a clam with index 1045 when still alive?\n",
    "print(df.loc[1045, \"Whole\"])\n",
    "# Q11.4 When was the clam with index 252 captured?\n",
    "# Q11.5 What is the middle name of a clam with index 38?"
   ]
  },
  {
   "cell_type": "code",
   "execution_count": 24,
   "metadata": {
    "id": "cZneqD6P0e5C"
   },
   "outputs": [
    {
     "name": "stdout",
     "output_type": "stream",
     "text": [
      "74\n",
      "4179\n"
     ]
    }
   ],
   "source": [
    "# Using mask or .query syntax select rows/columns (int)\n",
    "\n",
    "# Q12.1 How many clams have less than 5 rings?\n",
    "print(df[df.Rings < 5].count()['id'])\n",
    "# Q12.2 When were clams named \"Boy Rock Killer\" captured?\n",
    "# Q12.3 How many clams have length more than 0.1?\n",
    "print(df[df.Length > 0.1].count()['id'])\n",
    "# Q12.4 How many clams are heavier (in shell) than 0.3?\n",
    "# Q12.5 How many clams were captured at 24 of July?"
   ]
  },
  {
   "cell_type": "code",
   "execution_count": 25,
   "metadata": {},
   "outputs": [
    {
     "data": {
      "text/plain": [
       "id            int64\n",
       "FN           object\n",
       "SN           object\n",
       "LN           object\n",
       "Captured     object\n",
       "Sex          object\n",
       "Length      float64\n",
       "Diam        float64\n",
       "Height      float64\n",
       "Whole       float64\n",
       "Shucke      float64\n",
       "Viscera     float64\n",
       "Shell       float64\n",
       "Rings       float64\n",
       "dtype: object"
      ]
     },
     "execution_count": 25,
     "metadata": {},
     "output_type": "execute_result"
    }
   ],
   "source": [
    "df.dtypes\n",
    "#fall = 09, 10, 11 months"
   ]
  },
  {
   "cell_type": "code",
   "execution_count": 26,
   "metadata": {},
   "outputs": [],
   "source": [
    "df.Captured = pd.to_datetime(df.Captured)"
   ]
  },
  {
   "cell_type": "code",
   "execution_count": 27,
   "metadata": {
    "id": "xm4Ve-s70h73"
   },
   "outputs": [
    {
     "name": "stdout",
     "output_type": "stream",
     "text": [
      "1009\n",
      "Flow\n"
     ]
    }
   ],
   "source": [
    "# Using mask or .query syntax select rows/columns (int)\n",
    "\n",
    "# Q13.1 How many clams were captured in the fall? Including both start and end day.\n",
    "print(df[(df.Captured.dt.month >= 9) & (df.Captured.dt.month <= 11)].shape[0])\n",
    "# Q13.2 How many clams that were captured in the fall, have first name \"Lil'\"?\n",
    "# Q13.3 How many clams that are wider than 0.4, have first name \"Monster\"?\n",
    "# Q13.4 What was the second name of a clam captured at March, 8, that that was longer than 0.65 and wider than 0.57?\n",
    "print(df[(df.Captured.dt.month == 3) & (df.Captured.dt.day == 8) & (df.Length > 0.65) & (df.Diam > 0.57)].loc[2207, 'SN'])\n",
    "# Q13.5 How many rings does an infant clam that was captured in June and has shucked weight between 0.54 and 0.55 have?"
   ]
  },
  {
   "cell_type": "code",
   "execution_count": 28,
   "metadata": {
    "id": "TTVitIYf0ib3"
   },
   "outputs": [
    {
     "name": "stdout",
     "output_type": "stream",
     "text": [
      "0.0235\n",
      "0.1\n"
     ]
    }
   ],
   "source": [
    "# Using mask or .query syntax select rows/columns and compute simple statistics (float)\n",
    "\n",
    "# Q14.1 What was the average whole weight of clams named \"Kitty\"?\n",
    "# Q14.2 What was the whole weight of the heaviest Lil' clam?\n",
    "# Q14.3 What was the weight of the lightest in terms of whole weight clam captured in June?\n",
    "print(df[(df.Captured.dt.month == 6)]['Whole'].min())\n",
    "# Q14.4 What is the median length of clams captured in April?\n",
    "# Q14.5 What is the minimum diameter of clams named \"Master\"?\n",
    "print(df[df.LN == 'Master']['Diam'].min())"
   ]
  },
  {
   "cell_type": "markdown",
   "metadata": {
    "id": "wBLabnN2fAPc"
   },
   "source": [
    "# 4. Creating new columns\n",
    "\n",
    "Creating new column of pandas.DataFrame is as easy as:\n",
    "```\n",
    "data['new_awesome_column'] = [] \n",
    "```\n",
    "that's it. But such a column is relatively useless. Typically, you would compute something new based on existing data and save it in a new column. For example one might want to compute total area of the house as a sum of all sqft_ columns, or create a boolean column of whether the house has grade > 2 or anything else:\n",
    "```\n",
    "data['total_area'] = data[col1] + data[col2] + ...\n",
    "data['high_value'] = data[col] > 5\n",
    "```\n",
    "Pandas also provides another powerfull tool: .apply, .map(), .applymap() methods (they are kinda the same, but not quite). https://stackoverflow.com/questions/19798153/difference-between-map-applymap-and-apply-methods-in-pandas . They allow you to apply some function to every value in the column/s (row-wise) or row (column-wise) or cell (element-wise). For example, same computations of total_area and high_value using .apply():\n",
    "```\n",
    "data['total_area'] = data[[col1, col2, col3]].apply(sum, axis=1)\n",
    "```\n",
    "you are not restricted to existent functions, .apply() accepts any function (including lambda functions):\n",
    "```\n",
    "data['total_area'] = data[[col1, col2, col3]].apply(lambda x: x[0]+x[1]+x[2], axis=1)\n",
    "```\n",
    "or ordinary python function (if this it should have complex behaviour):\n",
    "```\n",
    "def _sum(x):\n",
    "    total = 0\n",
    "    for elem in x:\n",
    "        total += elem\n",
    "    return total\n",
    "\n",
    "data['total_area'] = data[[col1, col2, col3]].apply(_sum, axis=1) \n",
    "```\n",
    "Many pandas methods has axis parameter axis=0 refers to rows, axis=1 refers to columns.\n",
    "\n",
    "Warning. You should never use for loops to sum numerical elements from the container."
   ]
  },
  {
   "cell_type": "code",
   "execution_count": 29,
   "metadata": {
    "id": "nC3VPe6sK_Pp"
   },
   "outputs": [],
   "source": [
    "# create full_name column with concatenation of all clam names\n",
    "df['full_name'] = df.FN + ' '  + df.SN + ' ' + df.LN"
   ]
  },
  {
   "cell_type": "code",
   "execution_count": 30,
   "metadata": {
    "id": "nxbj9Po2Le18"
   },
   "outputs": [],
   "source": [
    "# Create new columns using the old ones (new column in your DataFrame)\n",
    "\n",
    "# Q15.1 Create a `age_in_years` column (age is the number of rings +1.5) using any method above\n",
    "df['age_in_years'] = df[['Rings']].apply(lambda x: x + 1.5, axis=1)\n",
    "\n",
    "# Q15.2 Create a new column `area` using diameter, length and considering that a clam is a perfect rectangle\n",
    "df['area'] = df[['Length', 'Diam']].apply(lambda x: x[0] * x[1], axis=1)\n",
    "\n",
    "# Q15.3 Create a new column `density` by dividing volume (area multiplied by a fixed number of 0.05) by whole weight\n",
    "df['density'] = df[['Whole','area']].apply(lambda x: x[0] / (x[1] * 0.05), axis=1)\n",
    "\n",
    "\n",
    "# Q15.4 Create a new column `age_cat` by splitting a `age` into 5 ([1..5]) distinct intervals: 0 < x <=20%,\n",
    "# 20% < x <= 40%, ... 80% < x <= 100% percentiles. You could use `.quantile()` to compute percentiles.\n",
    "quantiles = df.age_in_years.quantile([.2, .4, .6, .8])\n",
    "\n",
    "def _to_quantile(a, quantiles):\n",
    "    if a <= quantiles[0.2]:\n",
    "        return 1\n",
    "    elif a <= quantiles[0.4]:\n",
    "        return 2\n",
    "    elif a <= quantiles[0.6]:\n",
    "        return 3\n",
    "    elif a <= quantiles[0.8]:\n",
    "        return 4\n",
    "    else:\n",
    "        return 5\n",
    "    \n",
    "df['age_cat'] = df['age_in_years'].map(lambda x: _to_quantile(x, quantiles))\n",
    "    \n",
    "    \n",
    "# Q15.5 Create a new bool column `high_class` it is True if clam has the proportion of shell in whole clam more or equal to 1\n",
    "def _high_class(shell, whole):\n",
    "    if shell / whole >= 1:\n",
    "        return True\n",
    "    else:\n",
    "        return False\n",
    " \n",
    "df['high_class'] = df[['Shell', 'Whole']].apply(lambda x:_high_class(x[0], x[1]), axis=1)"
   ]
  },
  {
   "cell_type": "code",
   "execution_count": 31,
   "metadata": {
    "id": "Fzig1HmlL4rq"
   },
   "outputs": [
    {
     "name": "stdout",
     "output_type": "stream",
     "text": [
      "7.5\n",
      "0.736\n"
     ]
    }
   ],
   "source": [
    "# Using mask or .query syntax select rows/columns (float)\n",
    "\n",
    "# Q16.1 What is the average age of the clam of the high_class(=True)?\n",
    "print(df[df.high_class].age_in_years.mean())\n",
    "# Q16.2 What is the average area of the clam from highest age category?\n",
    "# Q16.3 What is the maximal length amongst clams with the lowest age category?\n",
    "print(round(df[df.age_cat == 1].Length.max(), 3))\n",
    "# Q16.4 What is the most frequent gender amongst clams with the lowest age category?\n",
    "# Q16.5 What is the minimal number of rings in clams with high_class=True?"
   ]
  },
  {
   "cell_type": "markdown",
   "metadata": {
    "id": "ezvSnhPRfFXM"
   },
   "source": [
    "# 5. Basic date processing\n",
    "\n",
    "You figure out that column date is to harsh for you, so you decided to convert it to a more plausible format:\n",
    "\n",
    "- Use pandas method to_datetime() to convert the date to a good format.\n",
    "- Extract year, month, day and weekday from your new date column. Save them to separete columns.\n",
    "- How many columns has your data now?\n",
    "- Drop column date, remember to set inplace parameter to True.\n",
    "\n",
    "Hint: for datetime formatted date you could extract the year as follow:\n",
    "```\n",
    "data.date.dt.year\n",
    "```\n",
    "Very often date could be a ridiculously rich feature, sometimes it is holidays that matters, sometimes weekends, sometimes some special days like black friday.\n",
    "\n",
    "Learn how to work with date in Python!\n"
   ]
  },
  {
   "cell_type": "code",
   "execution_count": 32,
   "metadata": {
    "id": "ZghL5CmKTBZc"
   },
   "outputs": [],
   "source": [
    "# Create new columns based on `Captured` column\n",
    "\n",
    "# Q17.1 Convert date to datetime format\n",
    "df.Captured = pd.to_datetime(df.Captured)\n",
    "\n",
    "# Q17.2 Extract and store `year`\n",
    "df['year'] = df.Captured.dt.year\n",
    "\n",
    "# Q17.3 Extract and store `month`\n",
    "df['month'] = df.Captured.dt.month\n",
    "\n",
    "# Q17.4 Extract and store `day`\n",
    "df['day'] = df.Captured.dt.day\n",
    "\n",
    "# Q17.5 Extract and store `weekday`\n",
    "df['weekday'] = df.Captured.dt.weekday\n",
    "\n",
    "# Q17.6 Create a new column `age10` - the age of the clam in full decades (e.g. 9 year old clam - 0, 21 year old clam - 2)\n",
    "def _decade_age(age):\n",
    "    if age <= 10:\n",
    "        return 0\n",
    "    elif age <= 20:\n",
    "        return 1\n",
    "    elif age <= 30:\n",
    "        return 2\n",
    "    else:\n",
    "        return 3\n",
    "\n",
    "df['age10'] = df['age_in_years'].map(_decade_age)\n",
    "from datetime import datetime\n"
   ]
  },
  {
   "cell_type": "code",
   "execution_count": 33,
   "metadata": {
    "id": "QcgZcfuITEZ4"
   },
   "outputs": [],
   "source": [
    "# Drop column `Captured`\n",
    "\n",
    "del df[\"Captured\"]"
   ]
  },
  {
   "cell_type": "code",
   "execution_count": 34,
   "metadata": {
    "id": "UU_wYcyETK9T"
   },
   "outputs": [
    {
     "name": "stdout",
     "output_type": "stream",
     "text": [
      "4\n",
      "3\n"
     ]
    }
   ],
   "source": [
    "# Find some date related information from the data (int)\n",
    "\n",
    "# Q18.1 What is the most popular capturing weekday?\n",
    "print(df.weekday.value_counts().idxmax())\n",
    "# Q18.2 What is the most popular capturing month?\n",
    "print(df.month.value_counts().idxmax())\n",
    "# Q18.3 What is the least popular capturing weekday?\n",
    "# Q18.4 What is the median age of the clam? (float)\n",
    "# Q18.5 How many clams were captured on the Day of Russia (June, 12)?"
   ]
  },
  {
   "cell_type": "markdown",
   "metadata": {
    "id": "4LrPCPd0fRYz"
   },
   "source": [
    "# 6. Groupby\n",
    "\n",
    "from the documentation https://pandas.pydata.org/pandas-docs/stable/user_guide/groupby.html\n",
    "\n",
    "By “group by” we are referring to a process involving one or more of the following steps:\n",
    "\n",
    "- Splitting the data into groups based on some criteria.\n",
    "- Applying a function to each group independently.\n",
    "- Combining the results into a data structure.\n",
    "\n",
    "`.groupby()` is one of the most powerfull tool for feature engineering. Very often it is used to group object with the same categorical characteristics and compute some statistics (e.g. mean, max, etc.) of a their numerical characteric.\n",
    "\n",
    "Instead of computing average area of houses with high grade you could compute average areas of the houses for every grade in a single command:\n",
    "```\n",
    "data.groupby('grade')['sqm_tot_area'].mean()\n",
    "```\n",
    "You could also make multi-column groups:\n",
    "```\n",
    "data.groupby(['weekday','grade'])['price'].min()\n",
    "```\n",
    "next, you could compute multiple aggregation functions:\n",
    "```\n",
    "data.groupby(['weekday','grade'])['price'].agg([min, max])\n",
    "```\n",
    "instead of using built-in functions you could compute custom functions using apply:\n",
    "```\n",
    "import numpy as np\n",
    "data.groupby(['condition','grade'])['bathrooms'].apply(lambda x: np.quantile(x, .5))\n",
    "```\n",
    "and the coolest thing now is that you can map the results of groupby back on your DataFrame!\n",
    "```\n",
    "gp = data.groupby(['condition'])['bathrooms'].median()\n",
    "data['gp_feature'] = data['condition'].map(gp)\n",
    "```\n",
    "Now, if some house has condition == 2, its gp_feature will be equal to the median number of bathrooms amongst all houses with condition == 2.\n",
    "\n",
    "Read more examples in the documentation https://pandas.pydata.org/pandas-docs/stable/user_guide/groupby.html\n"
   ]
  },
  {
   "cell_type": "code",
   "execution_count": 35,
   "metadata": {
    "id": "nRmmkfIVXp5K"
   },
   "outputs": [
    {
     "name": "stdout",
     "output_type": "stream",
     "text": [
      "year\n",
      "2020    0.79975\n",
      "Name: Whole, dtype: float64\n",
      "\n",
      "\n",
      "weekday\n",
      "0    0.2400\n",
      "1    0.2290\n",
      "2    0.2280\n",
      "3    0.2455\n",
      "4    0.2400\n",
      "5    0.2180\n",
      "6    0.2215\n",
      "Name: Shell, dtype: float64\n"
     ]
    }
   ],
   "source": [
    "# Create some groupby features\n",
    "\n",
    "# Q19.1 `whole_by_year` groupby `year` and compute median whole weight.\n",
    "whole_by_year = df.groupby('year')['Whole'].median()\n",
    "print(whole_by_year)\n",
    "\n",
    "print('\\n')\n",
    "# Q19.2 `shell_by_weekday` groupby `weekday` and compute median shell weight.\n",
    "shell_by_weekday = df.groupby('weekday')['Shell'].median()\n",
    "print(shell_by_weekday)\n",
    "\n",
    "# Q19.3 `area_by_age` groupby `age_cat` and compute average `area`.\n",
    "# Q19.4 `density_by_age` groupby `age_cat` and compute average density of a clam."
   ]
  },
  {
   "cell_type": "code",
   "execution_count": 36,
   "metadata": {
    "id": "ZIKPaeH_fIfj"
   },
   "outputs": [
    {
     "name": "stdout",
     "output_type": "stream",
     "text": [
      "Rings\n",
      "1.0      1.000000\n",
      "2.0      1.000000\n",
      "3.0      1.875000\n",
      "4.0      4.750000\n",
      "5.0      9.583333\n",
      "6.0     21.583333\n",
      "7.0     32.666667\n",
      "8.0     47.333333\n",
      "9.0     57.416667\n",
      "10.0    52.833333\n",
      "11.0    40.666667\n",
      "12.0    22.333333\n",
      "13.0    16.916667\n",
      "14.0    10.500000\n",
      "15.0     8.583333\n",
      "16.0     5.583333\n",
      "17.0     4.833333\n",
      "18.0     3.818182\n",
      "19.0     2.909091\n",
      "20.0     2.888889\n",
      "21.0     1.555556\n",
      "22.0     1.200000\n",
      "23.0     1.125000\n",
      "24.0     1.000000\n",
      "25.0     1.000000\n",
      "26.0     1.000000\n",
      "27.0     1.000000\n",
      "29.0     1.000000\n",
      "Name: id, dtype: float64\n",
      "\n",
      "\n",
      "month\n",
      "1     333\n",
      "2     358\n",
      "3     390\n",
      "4     342\n",
      "5     382\n",
      "6     343\n",
      "7     365\n",
      "8     327\n",
      "9     350\n",
      "10    350\n",
      "11    309\n",
      "12    331\n",
      "Name: id, dtype: int64\n"
     ]
    }
   ],
   "source": [
    "# Create some other groupby features\n",
    "# for this task check out this answer:\n",
    "# https://stackoverflow.com/questions/47913343/how-to-groupby-and-map-by-two-columns-pandas-dataframe\n",
    "\n",
    "# Q20.1 `rings_fn` groupby `n_rings` and count average number of occurences of every unique first name\n",
    "print(df.groupby(['Rings', 'FN']).nunique().groupby('Rings').mean().iloc[:, 0])\n",
    "print('\\n')\n",
    "\n",
    "# Q20.2 `n_month` groupby `month` and count number of captured in each month\n",
    "print(df.groupby('month')['id'].count())"
   ]
  },
  {
   "cell_type": "markdown",
   "metadata": {
    "id": "_Y3IX6U1fOVI"
   },
   "source": [
    "# 7. Building a regression model\n",
    "\n",
    "- You do not need to normalize data for tree models, and for linear/knn models this step is essential.\n",
    "- Remember, that not all of the features in the table are numeric, some of them might be viewed as categorical.\n",
    "-You may create or drop any features you want, except for the features which use age or number of rings (e.g. average number of rings from a clam of high class).\n",
    "\n"
   ]
  },
  {
   "cell_type": "code",
   "execution_count": 37,
   "metadata": {},
   "outputs": [
    {
     "data": {
      "text/plain": [
       "Index(['id', 'FN', 'SN', 'LN', 'Sex', 'Length', 'Diam', 'Height', 'Whole',\n",
       "       'Shucke', 'Viscera', 'Shell', 'Rings', 'full_name', 'age_in_years',\n",
       "       'area', 'density', 'age_cat', 'high_class', 'year', 'month', 'day',\n",
       "       'weekday', 'age10'],\n",
       "      dtype='object')"
      ]
     },
     "execution_count": 37,
     "metadata": {},
     "output_type": "execute_result"
    }
   ],
   "source": [
    "df.columns"
   ]
  },
  {
   "cell_type": "code",
   "execution_count": 38,
   "metadata": {
    "id": "AwdbUu2wYKpB"
   },
   "outputs": [],
   "source": [
    "# Q21 Drop all generated features which used age or number of rings column, e.g. rings_month, age_cat.\n",
    "Y = df[\"age_in_years\"].values\n",
    "\n",
    "good_columns = ['id', 'FN', 'SN', 'LN', 'Sex', 'Length', 'Diam', 'Height', 'Whole',\n",
    "       'Shucke', 'Viscera', 'Shell', 'full_name', 'area', 'density', 'high_class']\n",
    "Xdf = df[good_columns]"
   ]
  },
  {
   "cell_type": "code",
   "execution_count": 39,
   "metadata": {
    "id": "kINHDN92rzUP"
   },
   "outputs": [
    {
     "name": "stderr",
     "output_type": "stream",
     "text": [
      "C:\\Users\\Vlad\\anaconda3\\lib\\site-packages\\pandas\\core\\frame.py:4163: SettingWithCopyWarning: \n",
      "A value is trying to be set on a copy of a slice from a DataFrame\n",
      "\n",
      "See the caveats in the documentation: https://pandas.pydata.org/pandas-docs/stable/user_guide/indexing.html#returning-a-view-versus-a-copy\n",
      "  return super().drop(\n"
     ]
    }
   ],
   "source": [
    "# Optionally create or drop any features \n",
    "\n",
    "#I will drop 'id', 'FN', 'SN', 'LN', 'full_name' beacuse they are not informative. 'area', 'density' - beacuse they correlate with initial 'Length', 'Diam'.\n",
    "#'Whole' - because it correlates with other weights. 'high_class' - because it represents an outlier (1 observation contains \"True\"). Also I will create dummies for 'Sex', then I will drop 'Sex'.\n",
    "\n",
    "Xdf.drop(labels=['id', 'FN', 'SN', 'LN', 'full_name', 'area', 'density', 'high_class', 'Whole'], axis=1, inplace=True)\n",
    "\n",
    "dum_sex = pd.get_dummies(Xdf['Sex'])\n",
    "Xdf.drop(labels='Sex', axis=1, inplace=True)\n",
    "\n",
    "Xdf = pd.concat([Xdf, dum_sex], axis=1)"
   ]
  },
  {
   "cell_type": "code",
   "execution_count": 40,
   "metadata": {},
   "outputs": [
    {
     "data": {
      "text/html": [
       "<div>\n",
       "<style scoped>\n",
       "    .dataframe tbody tr th:only-of-type {\n",
       "        vertical-align: middle;\n",
       "    }\n",
       "\n",
       "    .dataframe tbody tr th {\n",
       "        vertical-align: top;\n",
       "    }\n",
       "\n",
       "    .dataframe thead th {\n",
       "        text-align: right;\n",
       "    }\n",
       "</style>\n",
       "<table border=\"1\" class=\"dataframe\">\n",
       "  <thead>\n",
       "    <tr style=\"text-align: right;\">\n",
       "      <th></th>\n",
       "      <th>Length</th>\n",
       "      <th>Diam</th>\n",
       "      <th>Height</th>\n",
       "      <th>Shucke</th>\n",
       "      <th>Viscera</th>\n",
       "      <th>Shell</th>\n",
       "      <th>F</th>\n",
       "      <th>I</th>\n",
       "      <th>M</th>\n",
       "      <th>age_in_years</th>\n",
       "    </tr>\n",
       "  </thead>\n",
       "  <tbody>\n",
       "    <tr>\n",
       "      <th>Length</th>\n",
       "      <td>1.000000</td>\n",
       "      <td>0.986749</td>\n",
       "      <td>0.825914</td>\n",
       "      <td>0.897830</td>\n",
       "      <td>0.902800</td>\n",
       "      <td>0.897764</td>\n",
       "      <td>0.309676</td>\n",
       "      <td>-0.551124</td>\n",
       "      <td>0.236206</td>\n",
       "      <td>0.556148</td>\n",
       "    </tr>\n",
       "    <tr>\n",
       "      <th>Diam</th>\n",
       "      <td>0.986749</td>\n",
       "      <td>1.000000</td>\n",
       "      <td>0.832052</td>\n",
       "      <td>0.892971</td>\n",
       "      <td>0.899524</td>\n",
       "      <td>0.905450</td>\n",
       "      <td>0.318674</td>\n",
       "      <td>-0.564140</td>\n",
       "      <td>0.240163</td>\n",
       "      <td>0.573877</td>\n",
       "    </tr>\n",
       "    <tr>\n",
       "      <th>Height</th>\n",
       "      <td>0.825914</td>\n",
       "      <td>0.832052</td>\n",
       "      <td>1.000000</td>\n",
       "      <td>0.772234</td>\n",
       "      <td>0.795471</td>\n",
       "      <td>0.815667</td>\n",
       "      <td>0.296223</td>\n",
       "      <td>-0.515650</td>\n",
       "      <td>0.214764</td>\n",
       "      <td>0.555279</td>\n",
       "    </tr>\n",
       "    <tr>\n",
       "      <th>Shucke</th>\n",
       "      <td>0.897830</td>\n",
       "      <td>0.892971</td>\n",
       "      <td>0.772234</td>\n",
       "      <td>1.000000</td>\n",
       "      <td>0.931882</td>\n",
       "      <td>0.882506</td>\n",
       "      <td>0.264160</td>\n",
       "      <td>-0.521763</td>\n",
       "      <td>0.251558</td>\n",
       "      <td>0.420569</td>\n",
       "    </tr>\n",
       "    <tr>\n",
       "      <th>Viscera</th>\n",
       "      <td>0.902800</td>\n",
       "      <td>0.899524</td>\n",
       "      <td>0.795471</td>\n",
       "      <td>0.931882</td>\n",
       "      <td>1.000000</td>\n",
       "      <td>0.907559</td>\n",
       "      <td>0.308438</td>\n",
       "      <td>-0.556207</td>\n",
       "      <td>0.242326</td>\n",
       "      <td>0.503574</td>\n",
       "    </tr>\n",
       "    <tr>\n",
       "      <th>Shell</th>\n",
       "      <td>0.897764</td>\n",
       "      <td>0.905450</td>\n",
       "      <td>0.815667</td>\n",
       "      <td>0.882506</td>\n",
       "      <td>0.907559</td>\n",
       "      <td>1.000000</td>\n",
       "      <td>0.306311</td>\n",
       "      <td>-0.546862</td>\n",
       "      <td>0.235313</td>\n",
       "      <td>0.626959</td>\n",
       "    </tr>\n",
       "    <tr>\n",
       "      <th>F</th>\n",
       "      <td>0.309676</td>\n",
       "      <td>0.318674</td>\n",
       "      <td>0.296223</td>\n",
       "      <td>0.264160</td>\n",
       "      <td>0.308438</td>\n",
       "      <td>0.306311</td>\n",
       "      <td>1.000000</td>\n",
       "      <td>-0.464323</td>\n",
       "      <td>-0.512520</td>\n",
       "      <td>0.249666</td>\n",
       "    </tr>\n",
       "    <tr>\n",
       "      <th>I</th>\n",
       "      <td>-0.551124</td>\n",
       "      <td>-0.564140</td>\n",
       "      <td>-0.515650</td>\n",
       "      <td>-0.521763</td>\n",
       "      <td>-0.556207</td>\n",
       "      <td>-0.546862</td>\n",
       "      <td>-0.464323</td>\n",
       "      <td>1.000000</td>\n",
       "      <td>-0.522525</td>\n",
       "      <td>-0.435674</td>\n",
       "    </tr>\n",
       "    <tr>\n",
       "      <th>M</th>\n",
       "      <td>0.236206</td>\n",
       "      <td>0.240163</td>\n",
       "      <td>0.214764</td>\n",
       "      <td>0.251558</td>\n",
       "      <td>0.242326</td>\n",
       "      <td>0.235313</td>\n",
       "      <td>-0.512520</td>\n",
       "      <td>-0.522525</td>\n",
       "      <td>1.000000</td>\n",
       "      <td>0.182046</td>\n",
       "    </tr>\n",
       "    <tr>\n",
       "      <th>age_in_years</th>\n",
       "      <td>0.556148</td>\n",
       "      <td>0.573877</td>\n",
       "      <td>0.555279</td>\n",
       "      <td>0.420569</td>\n",
       "      <td>0.503574</td>\n",
       "      <td>0.626959</td>\n",
       "      <td>0.249666</td>\n",
       "      <td>-0.435674</td>\n",
       "      <td>0.182046</td>\n",
       "      <td>1.000000</td>\n",
       "    </tr>\n",
       "  </tbody>\n",
       "</table>\n",
       "</div>"
      ],
      "text/plain": [
       "                Length      Diam    Height    Shucke   Viscera     Shell  \\\n",
       "Length        1.000000  0.986749  0.825914  0.897830  0.902800  0.897764   \n",
       "Diam          0.986749  1.000000  0.832052  0.892971  0.899524  0.905450   \n",
       "Height        0.825914  0.832052  1.000000  0.772234  0.795471  0.815667   \n",
       "Shucke        0.897830  0.892971  0.772234  1.000000  0.931882  0.882506   \n",
       "Viscera       0.902800  0.899524  0.795471  0.931882  1.000000  0.907559   \n",
       "Shell         0.897764  0.905450  0.815667  0.882506  0.907559  1.000000   \n",
       "F             0.309676  0.318674  0.296223  0.264160  0.308438  0.306311   \n",
       "I            -0.551124 -0.564140 -0.515650 -0.521763 -0.556207 -0.546862   \n",
       "M             0.236206  0.240163  0.214764  0.251558  0.242326  0.235313   \n",
       "age_in_years  0.556148  0.573877  0.555279  0.420569  0.503574  0.626959   \n",
       "\n",
       "                     F         I         M  age_in_years  \n",
       "Length        0.309676 -0.551124  0.236206      0.556148  \n",
       "Diam          0.318674 -0.564140  0.240163      0.573877  \n",
       "Height        0.296223 -0.515650  0.214764      0.555279  \n",
       "Shucke        0.264160 -0.521763  0.251558      0.420569  \n",
       "Viscera       0.308438 -0.556207  0.242326      0.503574  \n",
       "Shell         0.306311 -0.546862  0.235313      0.626959  \n",
       "F             1.000000 -0.464323 -0.512520      0.249666  \n",
       "I            -0.464323  1.000000 -0.522525     -0.435674  \n",
       "M            -0.512520 -0.522525  1.000000      0.182046  \n",
       "age_in_years  0.249666 -0.435674  0.182046      1.000000  "
      ]
     },
     "execution_count": 40,
     "metadata": {},
     "output_type": "execute_result"
    }
   ],
   "source": [
    "#I had not liked my prediction. So, I decided to check the correltaion to see if there any.\n",
    "pd.concat((Xdf, df[['age_in_years']]), axis=1).corr()\n"
   ]
  },
  {
   "cell_type": "code",
   "execution_count": 41,
   "metadata": {},
   "outputs": [],
   "source": [
    "#I asume, that I can drop 'Length' because it's very well correlated with 'Diam' and has lower correlation with target than 'Diam'.\n",
    "#Also I guess I can drop one or two of left weights features.\n",
    "#There is a small correaltion between target and dummies got out of the feature 'Sex'.\n",
    "\n",
    "#UPD: I proceed different combinations of dropping such features like: 'Viscera, 'Shucke', 'Length', 'F', 'I' and 'M'.\n",
    "#Then I realized, that my test r_score won't be affected if I drop 'Viscera, 'Length', 'F', 'I' and 'M'. So do I.\n",
    "#In the end of the notebook I will leave different values of r_score's experiments.\n",
    "\n",
    "Xdf.drop(labels=['Length', 'Viscera', 'I', 'F', 'M'], axis=1, inplace=True)"
   ]
  },
  {
   "cell_type": "code",
   "execution_count": 42,
   "metadata": {},
   "outputs": [
    {
     "data": {
      "text/html": [
       "<div>\n",
       "<style scoped>\n",
       "    .dataframe tbody tr th:only-of-type {\n",
       "        vertical-align: middle;\n",
       "    }\n",
       "\n",
       "    .dataframe tbody tr th {\n",
       "        vertical-align: top;\n",
       "    }\n",
       "\n",
       "    .dataframe thead th {\n",
       "        text-align: right;\n",
       "    }\n",
       "</style>\n",
       "<table border=\"1\" class=\"dataframe\">\n",
       "  <thead>\n",
       "    <tr style=\"text-align: right;\">\n",
       "      <th></th>\n",
       "      <th>Diam</th>\n",
       "      <th>Height</th>\n",
       "      <th>Shucke</th>\n",
       "      <th>Shell</th>\n",
       "    </tr>\n",
       "  </thead>\n",
       "  <tbody>\n",
       "    <tr>\n",
       "      <th>0</th>\n",
       "      <td>0.350</td>\n",
       "      <td>0.130</td>\n",
       "      <td>0.2450</td>\n",
       "      <td>0.1405</td>\n",
       "    </tr>\n",
       "    <tr>\n",
       "      <th>1</th>\n",
       "      <td>0.375</td>\n",
       "      <td>0.140</td>\n",
       "      <td>0.2420</td>\n",
       "      <td>0.1790</td>\n",
       "    </tr>\n",
       "    <tr>\n",
       "      <th>2</th>\n",
       "      <td>0.415</td>\n",
       "      <td>0.145</td>\n",
       "      <td>0.3325</td>\n",
       "      <td>0.2850</td>\n",
       "    </tr>\n",
       "    <tr>\n",
       "      <th>3</th>\n",
       "      <td>0.480</td>\n",
       "      <td>0.150</td>\n",
       "      <td>0.4980</td>\n",
       "      <td>0.3300</td>\n",
       "    </tr>\n",
       "    <tr>\n",
       "      <th>4</th>\n",
       "      <td>0.390</td>\n",
       "      <td>0.145</td>\n",
       "      <td>0.2315</td>\n",
       "      <td>0.2550</td>\n",
       "    </tr>\n",
       "  </tbody>\n",
       "</table>\n",
       "</div>"
      ],
      "text/plain": [
       "    Diam  Height  Shucke   Shell\n",
       "0  0.350   0.130  0.2450  0.1405\n",
       "1  0.375   0.140  0.2420  0.1790\n",
       "2  0.415   0.145  0.3325  0.2850\n",
       "3  0.480   0.150  0.4980  0.3300\n",
       "4  0.390   0.145  0.2315  0.2550"
      ]
     },
     "execution_count": 42,
     "metadata": {},
     "output_type": "execute_result"
    }
   ],
   "source": [
    "#Now I have only 4 features left.\n",
    "Xdf.head()"
   ]
  },
  {
   "cell_type": "code",
   "execution_count": 43,
   "metadata": {
    "id": "hdLqDhuCYO1Z"
   },
   "outputs": [
    {
     "name": "stdout",
     "output_type": "stream",
     "text": [
      "[2800, 1380]\n"
     ]
    }
   ],
   "source": [
    "# Q22 Split your data into train and test parts.\n",
    "# How many records (rows) do you have in train and test tables? (list of int)?\n",
    "# Use sklearn.model_selection.train_test_split with test_size=0.33 and random_state=7\n",
    "\n",
    "from sklearn.model_selection import train_test_split\n",
    "\n",
    "X_train, X_test, y_train, y_test = train_test_split(Xdf, Y, test_size=0.33, random_state=7)\n",
    "\n",
    "q22 = []\n",
    "q22.append(X_train.shape[0])\n",
    "q22.append(X_test.shape[0])\n",
    "\n",
    "print(q22)"
   ]
  },
  {
   "cell_type": "code",
   "execution_count": 44,
   "metadata": {
    "id": "xqubzK5rYQA9"
   },
   "outputs": [],
   "source": [
    "# Fit predictive regression models.\n",
    "# Q23.1 Use linear regression with l2 regularization (Ridge regression)\n",
    "\n",
    "#I did not quit get what am I supposed to do: just train? Ok, then I left all the parameters as a defalut.\n",
    "from sklearn.linear_model import Ridge\n",
    "rr = Ridge()\n",
    "rr.fit(X_train, y_train)\n",
    "\n",
    "# Q23.2 Use decision tree regression\n",
    "from sklearn.tree import DecisionTreeRegressor\n",
    "tr = DecisionTreeRegressor()\n",
    "tr.fit(X_train, y_train);"
   ]
  },
  {
   "cell_type": "code",
   "execution_count": 45,
   "metadata": {
    "id": "7uWxRty0YSBd"
   },
   "outputs": [
    {
     "name": "stdout",
     "output_type": "stream",
     "text": [
      "Ridge Regression. Best estimator: {'alpha': 1.0}\n",
      "Ridge Regression. Score of best etimator: 0.5079285420319386\n",
      "\n",
      "Tree Regression. Best estimator: DecisionTreeRegressor(max_depth=6)\n",
      "Tree Regression. Score of best etimator: 0.4846313216040434\n"
     ]
    }
   ],
   "source": [
    "# Use grid search to select optimal hyperparamters of your models.\n",
    "from sklearn.model_selection import GridSearchCV\n",
    "\n",
    "# Q24.1 Alpha for a ridge regression\n",
    "\n",
    "hyp_param_rr = [{'alpha': 10 ** np.linspace(-4, 4, 15)}]\n",
    "\n",
    "grid_rr = GridSearchCV(rr, hyp_param_rr, cv=4)\n",
    "grid_rr.fit(X_train, y_train)\n",
    "\n",
    "y_hat_rr = grid_rr.predict(X_test)\n",
    "\n",
    "\n",
    "print('Ridge Regression. Best estimator:', grid_rr.best_params_)\n",
    "print('Ridge Regression. Score of best etimator:', grid_rr.best_score_)\n",
    "\n",
    "# Q24.2 Depth for the tree\n",
    "\n",
    "hyp_param_tr = [{'max_depth': list(range(2, 25, 2))}]\n",
    "\n",
    "grid_tr = GridSearchCV(tr, hyp_param_tr, cv=4)\n",
    "grid_tr.fit(X_train, y_train)\n",
    "\n",
    "y_hat_tr = grid_tr.predict(X_test)\n",
    "\n",
    "print('\\nTree Regression. Best estimator:', grid_tr.best_estimator_)\n",
    "print('Tree Regression. Score of best etimator:', grid_tr.best_score_)\n"
   ]
  },
  {
   "cell_type": "code",
   "execution_count": 46,
   "metadata": {
    "id": "IVihHjlpYTrB"
   },
   "outputs": [
    {
     "name": "stdout",
     "output_type": "stream",
     "text": [
      "[5.088994228474065, 5.242267560567709]\n",
      "[4.092383159419018, 5.859663115733092]\n"
     ]
    }
   ],
   "source": [
    "# Compute train and test mean squared error for your best models (list of float).\n",
    "from sklearn.metrics import mean_squared_error\n",
    "\n",
    "# Q25.1 Train, test MSE using linear regression with l2 regularization\n",
    "MSE_train_rr = mean_squared_error(y_train, grid_rr.predict(X_train))\n",
    "MSE_test_rr = mean_squared_error(y_test, y_hat_rr)\n",
    "\n",
    "MSE_rr_list = []\n",
    "MSE_rr_list.append(MSE_train_rr)\n",
    "MSE_rr_list.append(MSE_test_rr)\n",
    "print(MSE_rr_list)\n",
    "\n",
    "# Q25.2 Train, test MSE using decision tree regression\n",
    "MSE_train_tr = mean_squared_error(y_train, grid_tr.predict(X_train))\n",
    "MSE_test_tr = mean_squared_error(y_test, y_hat_tr)\n",
    "\n",
    "MSE_tr_list = []\n",
    "MSE_tr_list.append(MSE_train_tr)\n",
    "MSE_tr_list.append(MSE_test_tr)\n",
    "print(MSE_tr_list)"
   ]
  },
  {
   "cell_type": "code",
   "execution_count": 47,
   "metadata": {
    "id": "jqwSIwVmYVZ6"
   },
   "outputs": [
    {
     "name": "stdout",
     "output_type": "stream",
     "text": [
      "[0.7168953367659101, 0.7006469252297316]\n",
      "[0.779859499817065, 0.6656219030864924]\n"
     ]
    }
   ],
   "source": [
    "# Compute train and test R^2 for your best models (list of float).\n",
    "from scipy.stats import pearsonr\n",
    "\n",
    "# Q26.1 Train, test R^2 using linear regression with l2 regularization\n",
    "r2_train_rr = pearsonr(y_train, grid_rr.predict(X_train))\n",
    "r2_test_rr = pearsonr(y_test, y_hat_rr)\n",
    "\n",
    "r2_rr_list = []\n",
    "r2_rr_list.append(r2_train_rr[0])\n",
    "r2_rr_list.append(r2_test_rr[0])\n",
    "print(r2_rr_list)\n",
    "\n",
    "# Q26.2 Train, test R^2 using decision tree regression\n",
    "r2_train_tr = pearsonr(y_train, grid_tr.predict(X_train))\n",
    "r2_test_tr = pearsonr(y_test, y_hat_tr)\n",
    "\n",
    "r2_tr_list = []\n",
    "r2_tr_list.append(r2_train_tr[0])\n",
    "r2_tr_list.append(r2_test_tr[0])\n",
    "print(r2_tr_list)"
   ]
  },
  {
   "cell_type": "code",
   "execution_count": 50,
   "metadata": {
    "id": "qO3zWCyHYXQo"
   },
   "outputs": [
    {
     "name": "stdout",
     "output_type": "stream",
     "text": [
      "Ridge regression coefficents: [ 10.72118034   8.34102784 -10.42630276  19.79047386]\n",
      "Tree regression coefficients: [0.09189396 0.08227494 0.2464286  0.5794025 ]\n",
      "\n",
      "I have only four features because all the others are not important:\n",
      "['Diam', 'Height', 'Shucke', 'Shell']\n"
     ]
    }
   ],
   "source": [
    "# Q27 Which features have largest (by absolute value) weight in your linear model (top 5 features)? (list of str).\n",
    "print('Ridge regression coefficents:', rr.coef_)\n",
    "print('Tree regression coefficients:', tr.feature_importances_)\n",
    "print('\\nI have only four features because all the others are not important:')\n",
    "print(\"['Diam', 'Height', 'Shucke', 'Shell']\")"
   ]
  },
  {
   "cell_type": "markdown",
   "metadata": {},
   "source": [
    "## Differnet R2 scores for different sets of features \n",
    "### If you drop 'Viscera, 'Length', 'I', 'F' and 'M', pearson correlation will drop just for a 1%!"
   ]
  },
  {
   "cell_type": "markdown",
   "metadata": {},
   "source": [
    "#### Drop nothing\n",
    "Ridge: (0.7163671432905314, 1.1816281929881882e-217)\n",
    "\n",
    "Tree: (0.667922526472692, 5.2511668152710506e-179)"
   ]
  },
  {
   "cell_type": "markdown",
   "metadata": {},
   "source": [
    "#### Drop 'Viscera, 'Length', 'I', 'F' and 'M\n",
    "Ridge: (0.7021659901187958, 1.6370954187843943e-205)\n",
    "\n",
    "Tree: (0.6706948839111615, 5.091083843819636e-181)"
   ]
  },
  {
   "cell_type": "markdown",
   "metadata": {},
   "source": [
    "#### Drop 'Length'\n",
    "Ridge: (0.7021454055472801, 1.7027398707771549e-205)\n",
    "\n",
    "Tree: (0.6714194802140198, 1.502970474516295e-181)"
   ]
  },
  {
   "cell_type": "markdown",
   "metadata": {},
   "source": [
    "#### Drop 'Shucke' and 'Viscera\n",
    "Ridge: (0.6346074849545174, 2.0537734184068776e-156)\n",
    "\n",
    "Tree: (0.6260906927384127, 4.464974541584123e-151)"
   ]
  },
  {
   "cell_type": "markdown",
   "metadata": {},
   "source": [
    "#### Drop 'Length', 'I', 'F' and 'M\n",
    "Ridge: (0.7021363550244751, 1.7324271798862437e-205)\n",
    "\n",
    "Tree: (0.6731077746559256, 8.640038003933342e-183)"
   ]
  },
  {
   "cell_type": "markdown",
   "metadata": {},
   "source": [
    "#### Drop 'Shucke, 'Length', 'I', 'F' and 'M\n",
    "Ridge: (0.6559698330283377, 1.435693426447904e-170)\n",
    "\n",
    "Tree: (0.6302506164727664, 1.158108225475099e-153)"
   ]
  },
  {
   "cell_type": "markdown",
   "metadata": {
    "id": "9G_LlOHofTJp"
   },
   "source": [
    "# Make sure your .ipynb is linearly executable     \n",
    "# Kernel -> Restart & Run All -> No ERROR cells"
   ]
  }
 ],
 "metadata": {
  "colab": {
   "collapsed_sections": [],
   "name": "Homework1_clean.ipynb",
   "provenance": []
  },
  "kernelspec": {
   "display_name": "Python 3",
   "language": "python",
   "name": "python3"
  },
  "language_info": {
   "codemirror_mode": {
    "name": "ipython",
    "version": 3
   },
   "file_extension": ".py",
   "mimetype": "text/x-python",
   "name": "python",
   "nbconvert_exporter": "python",
   "pygments_lexer": "ipython3",
   "version": "3.8.5"
  }
 },
 "nbformat": 4,
 "nbformat_minor": 4
}

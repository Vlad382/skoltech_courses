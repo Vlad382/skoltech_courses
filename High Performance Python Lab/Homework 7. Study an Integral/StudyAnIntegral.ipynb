{
  "nbformat": 4,
  "nbformat_minor": 0,
  "metadata": {
    "colab": {
      "provenance": []
    },
    "kernelspec": {
      "name": "python3",
      "display_name": "Python 3"
    },
    "language_info": {
      "name": "python"
    }
  },
  "cells": [
    {
      "cell_type": "code",
      "execution_count": null,
      "metadata": {
        "id": "RS5O3SOkdANm"
      },
      "outputs": [],
      "source": [
        "import numpy as np\n",
        "import inspect\n",
        "from jax import grad\n",
        "import jax.numpy as jnp\n",
        "\n",
        "import time\n",
        "import matplotlib.pyplot as plt\n",
        "%matplotlib inline\n",
        "\n",
        "plt.rcParams['font.size'] = 20\n",
        "plt.rcParams['figure.figsize'] = (11, 7)"
      ]
    },
    {
      "cell_type": "markdown",
      "source": [
        "$$ y = e^x \\space sin \\bigg( \\frac{e^x + 2}{3} \\bigg) $$\n",
        "\n",
        "$$ \\int y \\space dx = -3 \\space cos \\bigg( \\frac{e^x + 2}{3} \\bigg) +C $$"
      ],
      "metadata": {
        "id": "Mk2V0d6teJhB"
      }
    },
    {
      "cell_type": "code",
      "source": [
        "def func(x):\n",
        "    y = np.exp(x) + 2\n",
        "    y = y / 3\n",
        "    y = np.sin(y) * np.exp(x)\n",
        "    return y\n",
        "\n",
        "def integral_func(x, C=0):\n",
        "    y = np.exp(x) + 2\n",
        "    y = y / 3\n",
        "    y = np.cos(y) * (-3)\n",
        "    return y + C\n",
        "\n",
        "def integral_over_segment(seg=[-10, 10], C=0):\n",
        "    x1 = seg[0]\n",
        "    x2 = seg[1]\n",
        "    Y1 = integral_func(x1)\n",
        "    Y2 = integral_func(x2)\n",
        "    return Y2 - Y1"
      ],
      "metadata": {
        "id": "ECFovrVgdFg1"
      },
      "execution_count": null,
      "outputs": []
    },
    {
      "cell_type": "code",
      "source": [
        "print(f'Analytical value of an integral of the function is {integral_over_segment():.4f}')"
      ],
      "metadata": {
        "colab": {
          "base_uri": "https://localhost:8080/"
        },
        "id": "WLv3QmlCdGxX",
        "outputId": "efb5b94e-262b-494b-990c-d7dc25de731a"
      },
      "execution_count": null,
      "outputs": [
        {
          "output_type": "stream",
          "name": "stdout",
          "text": [
            "Analytical value of an integral of the function is 4.1753\n"
          ]
        }
      ]
    },
    {
      "cell_type": "markdown",
      "source": [
        "**Trapezoidal rule**:\n",
        "\n",
        "$$ \\int^{b}_{a} f(x) dx \\approx \\sum^{N}_{k=1} \\frac{f(x_{k-1}) + f(x_{k})}{2}\\Delta x_{k}, $$\n",
        "\n",
        "if $\\Delta x_{k} = const$ :\n",
        "\n",
        "$$ \\int^{b}_{a} f(x) dx \\approx \\frac{\\Delta x}{2} \\big( f(x_0) + 2f(x_1) + 2f(x_2) + \\dots + 2f(x_{N-1}) + f(x_N) \\big) \\approx \\Delta x \\bigg( \\sum^{N-1}_{k=1} f(x_k) + \\frac{f(x_N) + f(x_0)}{2} \\bigg) $$"
      ],
      "metadata": {
        "id": "uaBczZvvdKiW"
      }
    },
    {
      "cell_type": "code",
      "source": [
        "def numpy_trapezoidal_integral(func, seg, N):\n",
        "    assert inspect.isfunction(func)\n",
        "    assert isinstance(seg, (list, tuple, set, np.ndarray))\n",
        "    assert isinstance(N, int)\n",
        "    \n",
        "    a = seg[0]\n",
        "    b = seg[1]\n",
        "    delta_x = (b - a) / N\n",
        "    \n",
        "    # `x` space without bounds\n",
        "    x_space = np.ones(N-1) * delta_x\n",
        "    x_space[0] = a + delta_x\n",
        "    x_space = np.cumsum(x_space)\n",
        "    \n",
        "    f_space = func(x_space)\n",
        "    f_bounds = (func(a) + func(b)) / 2\n",
        "    \n",
        "    output = delta_x * (np.sum(f_space) + f_bounds)\n",
        "    return output\n",
        "\n",
        "def jfunc(x):\n",
        "    y = jnp.exp(x) + 2\n",
        "    y = y / 3\n",
        "    y = jnp.sin(y) * jnp.exp(x)\n",
        "    return y\n",
        "\n",
        "func_deriv = grad(jfunc)\n",
        "\n",
        "def integration_error(func_deriv, N, seg):\n",
        "    a = seg[0]\n",
        "    b = seg[1]\n",
        "\n",
        "    error = (b - a) * (b - a)\n",
        "    error = -error / (12 * N * N)\n",
        "    error = error * (func_deriv(b) - func_deriv(a))\n",
        "    return error"
      ],
      "metadata": {
        "id": "oZo_6CwpdJlJ"
      },
      "execution_count": null,
      "outputs": []
    },
    {
      "cell_type": "code",
      "source": [
        "numpy_trapezoidal_integral(func, seg=[-10, 10], N=100000000)"
      ],
      "metadata": {
        "colab": {
          "base_uri": "https://localhost:8080/"
        },
        "id": "Vr7MWhuhfCw2",
        "outputId": "97e4aed0-d925-428e-9da2-8daaa80a461e"
      },
      "execution_count": null,
      "outputs": [
        {
          "output_type": "execute_result",
          "data": {
            "text/plain": [
              "4.175341582581852"
            ]
          },
          "metadata": {},
          "execution_count": 7
        }
      ]
    },
    {
      "cell_type": "code",
      "source": [
        "%%timeit -r 1 -n 1\n",
        "numpy_trapezoidal_integral(func, seg=[-10, 10], N=100000000)"
      ],
      "metadata": {
        "colab": {
          "base_uri": "https://localhost:8080/"
        },
        "id": "xEjhZ8gPdNuG",
        "outputId": "a909d207-429e-44a6-bf08-fe9579608935"
      },
      "execution_count": null,
      "outputs": [
        {
          "output_type": "stream",
          "name": "stdout",
          "text": [
            "12.7 s ± 0 ns per loop (mean ± std. dev. of 1 run, 1 loop each)\n"
          ]
        }
      ]
    },
    {
      "cell_type": "markdown",
      "source": [
        "## Parallel version\n"
      ],
      "metadata": {
        "id": "MBIXQtwUfjNx"
      }
    },
    {
      "cell_type": "code",
      "source": [
        "!pip install mpi4py"
      ],
      "metadata": {
        "colab": {
          "base_uri": "https://localhost:8080/"
        },
        "id": "D7NOT9_6fksE",
        "outputId": "fdd3fa71-8862-4980-c9cd-77703c2ff4db"
      },
      "execution_count": null,
      "outputs": [
        {
          "output_type": "stream",
          "name": "stdout",
          "text": [
            "Looking in indexes: https://pypi.org/simple, https://us-python.pkg.dev/colab-wheels/public/simple/\n",
            "Requirement already satisfied: mpi4py in /usr/local/lib/python3.8/dist-packages (3.1.4)\n"
          ]
        }
      ]
    },
    {
      "cell_type": "code",
      "source": [
        "import numpy as np\n",
        "def func(x):\n",
        "    y = np.exp(x) + 2\n",
        "    y = y / 3\n",
        "    y = np.sin(y) * np.exp(x)\n",
        "    return y\n"
      ],
      "metadata": {
        "id": "fF44ZH8vXBXa"
      },
      "execution_count": null,
      "outputs": []
    },
    {
      "cell_type": "code",
      "source": [
        "%%timeit \n",
        "\n",
        "a = np.ones(int(1e8 / 8))\n",
        "func(a)"
      ],
      "metadata": {
        "colab": {
          "base_uri": "https://localhost:8080/"
        },
        "id": "QaRHJgj_XQDL",
        "outputId": "4fa1be0a-28fb-4764-982f-dd4cc2a3a869"
      },
      "execution_count": null,
      "outputs": [
        {
          "output_type": "stream",
          "name": "stdout",
          "text": [
            "702 ms ± 25.4 ms per loop (mean ± std. dev. of 7 runs, 1 loop each)\n"
          ]
        }
      ]
    },
    {
      "cell_type": "code",
      "source": [
        "%%timeit \n",
        "\n",
        "a = np.ones(int(1e8))\n",
        "func(a)"
      ],
      "metadata": {
        "colab": {
          "base_uri": "https://localhost:8080/"
        },
        "id": "9MsnEGVXXDdP",
        "outputId": "63216d8c-ca55-484d-b1bb-60889a1ce965"
      },
      "execution_count": null,
      "outputs": [
        {
          "output_type": "stream",
          "name": "stdout",
          "text": [
            "5.79 s ± 279 ms per loop (mean ± std. dev. of 7 runs, 1 loop each)\n"
          ]
        }
      ]
    },
    {
      "cell_type": "code",
      "source": [
        "%%writefile num_paral_integral.py\n",
        "import numpy as np\n",
        "import time\n",
        "import inspect\n",
        "from mpi4py import MPI\n",
        "\n",
        "def func(x):\n",
        "    y = np.exp(x) + 2\n",
        "    y = y / 3\n",
        "    y = np.sin(y) * np.exp(x)\n",
        "    return y\n",
        "\n",
        "comm = MPI.COMM_WORLD\n",
        "size = comm.Get_size()\n",
        "rank = comm.Get_rank()\n",
        "\n",
        "calc_t = time.time()\n",
        "mpi_wall_t = MPI.Wtime()\n",
        "\n",
        "seg = [-10, 10]\n",
        "N = 100000000\n",
        "\n",
        "a = seg[0]\n",
        "b = seg[1]\n",
        "delta_x = (b - a) / N\n",
        "\n",
        "# `x` space without bounds\n",
        "x_space = np.ones(N-1) * delta_x\n",
        "x_space[0] = a + delta_x\n",
        "x_space = np.cumsum(x_space)\n",
        "\n",
        "x_space_per_rank = np.array_split(x_space, size)\n",
        "x_subspace = x_space_per_rank[rank]\n",
        "\n",
        "f_subspace = np.sum(func(x_subspace))\n",
        "f_space = comm.reduce(f_subspace, op=MPI.SUM, root=0)\n",
        "\n",
        "if rank == 0:\n",
        "    f_bounds = (func(a) + func(b)) / 2\n",
        "    output = delta_x * (f_space + f_bounds)\n",
        "\n",
        "    calc_t = time.time() - calc_t\n",
        "    mpi_wall_t = MPI.Wtime() - mpi_wall_t\n",
        "\n",
        "    np.savez('result_' + str(size) + '.npz', arr_0=output, calc_t=calc_t, mpi_wall_t=mpi_wall_t)"
      ],
      "metadata": {
        "colab": {
          "base_uri": "https://localhost:8080/"
        },
        "id": "dduWotGBdm8g",
        "outputId": "eed0dd28-af13-4f69-8958-cf07e905eb29"
      },
      "execution_count": null,
      "outputs": [
        {
          "output_type": "stream",
          "name": "stdout",
          "text": [
            "Overwriting num_paral_integral.py\n"
          ]
        }
      ]
    },
    {
      "cell_type": "code",
      "source": [
        "!mpirun --allow-run-as-root -n 1 python num_paral_integral.py"
      ],
      "metadata": {
        "id": "yXvxQf4qiYSR"
      },
      "execution_count": null,
      "outputs": []
    },
    {
      "cell_type": "code",
      "source": [
        "!mpirun --allow-run-as-root -n 2 python num_paral_integral.py"
      ],
      "metadata": {
        "id": "Fu5VU2-cimZ3"
      },
      "execution_count": null,
      "outputs": []
    },
    {
      "cell_type": "code",
      "source": [
        "!mpirun --allow-run-as-root -n 3 python num_paral_integral.py"
      ],
      "metadata": {
        "id": "3NNERL2-iyY0"
      },
      "execution_count": null,
      "outputs": []
    },
    {
      "cell_type": "code",
      "source": [
        "!mpirun --allow-run-as-root -n 4 python num_paral_integral.py"
      ],
      "metadata": {
        "id": "9J_OzmOri0YA"
      },
      "execution_count": null,
      "outputs": []
    },
    {
      "cell_type": "code",
      "source": [
        "!mpirun --allow-run-as-root -n 5 python num_paral_integral.py"
      ],
      "metadata": {
        "id": "bW8B5Z1Ii0YB"
      },
      "execution_count": null,
      "outputs": []
    },
    {
      "cell_type": "code",
      "source": [
        "!mpirun --allow-run-as-root -n 6 python num_paral_integral.py"
      ],
      "metadata": {
        "id": "FHCB2Br7i0YB"
      },
      "execution_count": null,
      "outputs": []
    },
    {
      "cell_type": "code",
      "source": [
        "!mpirun --allow-run-as-root -n 7 python num_paral_integral.py"
      ],
      "metadata": {
        "id": "C2duyBexi0kY"
      },
      "execution_count": null,
      "outputs": []
    },
    {
      "cell_type": "code",
      "source": [
        "!mpirun --allow-run-as-root -n 8 python num_paral_integral.py"
      ],
      "metadata": {
        "colab": {
          "base_uri": "https://localhost:8080/"
        },
        "id": "cDb0HM4Ii0kY",
        "outputId": "a9108727-be22-4e9e-fc67-c1a6cf6ace46"
      },
      "execution_count": null,
      "outputs": [
        {
          "output_type": "stream",
          "name": "stdout",
          "text": [
            "--------------------------------------------------------------------------\n",
            "mpirun noticed that process rank 0 with PID 0 on node 77e130b8ef70 exited on signal 9 (Killed).\n",
            "--------------------------------------------------------------------------\n"
          ]
        }
      ]
    },
    {
      "cell_type": "code",
      "source": [
        "!mpirun --allow-run-as-root -n 9 python num_paral_integral.py"
      ],
      "metadata": {
        "colab": {
          "base_uri": "https://localhost:8080/"
        },
        "id": "LvVWG6Hxi0kY",
        "outputId": "ad50e83b-91fe-4b93-b0c8-6d5f8aaa89ed"
      },
      "execution_count": null,
      "outputs": [
        {
          "output_type": "stream",
          "name": "stdout",
          "text": [
            "--------------------------------------------------------------------------\n",
            "mpirun noticed that process rank 0 with PID 0 on node 77e130b8ef70 exited on signal 9 (Killed).\n",
            "--------------------------------------------------------------------------\n"
          ]
        }
      ]
    },
    {
      "cell_type": "code",
      "source": [
        "source = np.load('result_5.npz')\n",
        "value = source['arr_0']\n",
        "value"
      ],
      "metadata": {
        "colab": {
          "base_uri": "https://localhost:8080/"
        },
        "id": "Iv7olUY9kiE5",
        "outputId": "2a6e33ce-f529-4e2b-ffac-476539b9a755"
      },
      "execution_count": null,
      "outputs": [
        {
          "output_type": "execute_result",
          "data": {
            "text/plain": [
              "array(4.17534158)"
            ]
          },
          "metadata": {},
          "execution_count": 20
        }
      ]
    },
    {
      "cell_type": "code",
      "source": [
        "calc_t = np.array([])\n",
        "mpi_wall_t = np.array([])\n",
        "\n",
        "for i in range(1, 8):\n",
        "    source = np.load('result_' + str(i) + '.npz')\n",
        "    calc_t = np.append(calc_t, source['calc_t'])\n",
        "    mpi_wall_t = np.append(mpi_wall_t, source['mpi_wall_t'])\n",
        "\n",
        "_, axes = plt.subplots(1, 1, figsize=(11, 7))\n",
        "\n",
        "axes.plot(range(1, 8), calc_t[0] / calc_t, '-o', label='Calculation')\n",
        "axes.plot(range(1, 8), mpi_wall_t[0] / mpi_wall_t, '-o', label='Wall time')\n",
        "\n",
        "axes.set_xlabel('# of processes')\n",
        "axes.set_ylabel('Speedup')\n",
        "axes.legend();"
      ],
      "metadata": {
        "colab": {
          "base_uri": "https://localhost:8080/",
          "height": 460
        },
        "id": "FPfwnz2llVBe",
        "outputId": "5a352336-5831-4c0d-f00c-d1f8ea2b7153"
      },
      "execution_count": null,
      "outputs": [
        {
          "output_type": "display_data",
          "data": {
            "text/plain": [
              "<Figure size 792x504 with 1 Axes>"
            ],
            "image/png": "[encoded data removed]"
          },
          "metadata": {
            "needs_background": "light"
          }
        }
      ]
    },
    {
      "cell_type": "code",
      "source": [
        "t_1 = time.time()\n",
        "!mpirun --allow-run-as-root -n 1 python num_paral_integral.py\n",
        "t_1 = time.time() - t_1"
      ],
      "metadata": {
        "id": "W58KMqghgvM6"
      },
      "execution_count": null,
      "outputs": []
    },
    {
      "cell_type": "code",
      "source": [
        "t_2 = time.time()\n",
        "!mpirun --allow-run-as-root -n 2 python num_paral_integral.py\n",
        "t_2 = time.time() - t_2"
      ],
      "metadata": {
        "id": "CAfGmxAXgvM7"
      },
      "execution_count": null,
      "outputs": []
    },
    {
      "cell_type": "code",
      "source": [
        "t_3 = time.time()\n",
        "!mpirun --allow-run-as-root -n 3 python num_paral_integral.py\n",
        "t_3 = time.time() - t_3"
      ],
      "metadata": {
        "id": "AwrCktXwgvM7"
      },
      "execution_count": null,
      "outputs": []
    },
    {
      "cell_type": "code",
      "source": [
        "t_4 = time.time()\n",
        "!mpirun --allow-run-as-root -n 4 python num_paral_integral.py\n",
        "t_4 = time.time() - t_4"
      ],
      "metadata": {
        "id": "_ljdKdbKgvM7"
      },
      "execution_count": null,
      "outputs": []
    },
    {
      "cell_type": "code",
      "source": [
        "t_5 = time.time()\n",
        "!mpirun --allow-run-as-root -n 5 python num_paral_integral.py\n",
        "t_5 = time.time() - t_5"
      ],
      "metadata": {
        "id": "XFa-D_PTgvM7"
      },
      "execution_count": null,
      "outputs": []
    },
    {
      "cell_type": "code",
      "source": [
        "t_6 = time.time()\n",
        "!mpirun --allow-run-as-root -n 6 python num_paral_integral.py\n",
        "t_6 = time.time() - t_6"
      ],
      "metadata": {
        "id": "J0XqnUxrgvM7"
      },
      "execution_count": null,
      "outputs": []
    },
    {
      "cell_type": "code",
      "source": [
        "t_7 = time.time()\n",
        "!mpirun --allow-run-as-root -n 7 python num_paral_integral.py\n",
        "t_7 = time.time() - t_7"
      ],
      "metadata": {
        "id": "FhQEclsegvM7"
      },
      "execution_count": null,
      "outputs": []
    },
    {
      "cell_type": "code",
      "source": [
        "t_8 = time.time()\n",
        "!mpirun --allow-run-as-root -n 7 python num_paral_integral.py\n",
        "t_8 = time.time() - t_8"
      ],
      "metadata": {
        "id": "h0cuaucSmrkf"
      },
      "execution_count": null,
      "outputs": []
    },
    {
      "cell_type": "code",
      "source": [
        "t_9 = time.time()\n",
        "!mpirun --allow-run-as-root -n 7 python num_paral_integral.py\n",
        "t_9 = time.time() - t_9"
      ],
      "metadata": {
        "id": "7aJYKblBmt2F"
      },
      "execution_count": null,
      "outputs": []
    },
    {
      "cell_type": "code",
      "source": [
        "plt.plot(range(1, 8), t_1 / np.array([t_1, t_2, t_3, t_4, t_5, t_6, t_7]), '-o', label='Calculation (cell-wise with timeit)')\n",
        "\n",
        "plt.xlabel('# of processes')\n",
        "plt.ylabel('Time, s')\n",
        "plt.legend();"
      ],
      "metadata": {
        "colab": {
          "base_uri": "https://localhost:8080/",
          "height": 460
        },
        "id": "DSRkntvnmxxU",
        "outputId": "aecfd046-fd3d-4ea9-c395-e4b233e1be23"
      },
      "execution_count": null,
      "outputs": [
        {
          "output_type": "display_data",
          "data": {
            "text/plain": [
              "<Figure size 792x504 with 1 Axes>"
            ],
            "image/png": "[encoded data removed]"
          },
          "metadata": {
            "needs_background": "light"
          }
        }
      ]
    },
    {
      "cell_type": "markdown",
      "source": [
        "## Error vs discretization size"
      ],
      "metadata": {
        "id": "fzS3DHIrnvBH"
      }
    },
    {
      "cell_type": "code",
      "source": [
        "err_ls = np.array([])\n",
        "for n in 10 ** np.arange(8):\n",
        "    err_ls = np.append(err_ls, integration_error(func_deriv, n, [-10., 10.]))"
      ],
      "metadata": {
        "id": "qG58DFFGmzSW",
        "colab": {
          "base_uri": "https://localhost:8080/"
        },
        "outputId": "c3830088-6fae-4924-ffed-d667e4153c0d"
      },
      "execution_count": null,
      "outputs": [
        {
          "output_type": "stream",
          "name": "stderr",
          "text": [
            "WARNING:jax._src.lib.xla_bridge:No GPU/TPU found, falling back to CPU. (Set TF_CPP_MIN_LOG_LEVEL=0 and rerun for more info.)\n"
          ]
        }
      ]
    },
    {
      "cell_type": "code",
      "source": [
        "plt.plot(np.arange(8), err_ls, '-o')\n",
        "plt.xlabel('Power of 10')\n",
        "plt.ylabel('Error')\n",
        "plt.yscale('log');"
      ],
      "metadata": {
        "colab": {
          "base_uri": "https://localhost:8080/",
          "height": 464
        },
        "id": "_-1d1YSgoj1B",
        "outputId": "05e637ac-8bc3-47de-e46d-820cfdef84c1"
      },
      "execution_count": null,
      "outputs": [
        {
          "output_type": "display_data",
          "data": {
            "text/plain": [
              "<Figure size 792x504 with 1 Axes>"
            ],
            "image/png": "[encoded data removed]"
          },
          "metadata": {
            "needs_background": "light"
          }
        }
      ]
    }
  ]
}
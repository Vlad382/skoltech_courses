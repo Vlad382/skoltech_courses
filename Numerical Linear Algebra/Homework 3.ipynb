{
 "cells": [
  {
   "cell_type": "markdown",
   "metadata": {
    "id": "s2gwjs6S8HQo"
   },
   "source": [
    "# Problem set 3 (90 pts)\n",
    "\n",
    "## Important note: the template for your solution filename is Name_Surname_PS3.ipynb\n",
    "\n",
    "### The correct answer to the bonus question can be used as an additional reason to increase the final grade in the border case"
   ]
  },
  {
   "cell_type": "markdown",
   "metadata": {
    "id": "SGbtmSR18HQt"
   },
   "source": [
    "## Problem 1 (25 pts)\n",
    "\n",
    "- (5 pts) Prove that $\\mathrm{vec}(AXB) = (B^\\top \\otimes A)\\, \\mathrm{vec}(X)$ if $\\mathrm{vec}(X)$ is a columnwise reshape of a matrix into a long vector. What does it change if the reshape is rowwise? \n",
    "\n",
    "**Note:** To make a columnwise reshape in Python one should use ```np.reshape(X, order='f')```, where the string ```'f'``` stands for the Fortran ordering. \n",
    "\n",
    "- (2 pts) What is the complexity of a naive computation of $(A \\otimes B) x$? Show how it can be reduced.\n",
    "\n",
    "- (3 pts) Let matrices $A$ and $B$ have eigendecompositions $A = S_A\\Lambda_A S_A^{-1}$ and $B = S_B\\Lambda_B S^{-1}_B$. Find eigenvectors and eigenvalues of the matrix $A\\otimes I + I \\otimes B$, where dimension of $I$ coincides with the dimension of $A$ and $B$.\n",
    "\n",
    "\n",
    "- (10 pts) Let $A = \\mathrm{diag}\\left(\\frac{1}{1000},\\frac{2}{1000},\\dots \\frac{999}{1000}, 1, 1000 \\right)$. Estimate analytically the number of iterations required  to solve linear system with $A$ with the relative accuracy $10^{-4}$ using\n",
    "    - Richardson iteration with the optimal choice of parameter (use $2$-norm)\n",
    "    - Chebyshev iteration (use $2$-norm)\n",
    "    - Conjugate gradient method (use $A$-norm).\n",
    "    \n",
    "- (5 pts) Provide numerical confirmation of your estimate from theoretical point of view"
   ]
  },
  {
   "cell_type": "markdown",
   "metadata": {
    "id": "328Na-oM8HQv"
   },
   "source": [
    "## Solutions\n",
    "\n",
    "### 1\n",
    "\n",
    "Let: $ A \\in \\mathbb{R}^{n \\times p}, X \\in \\mathbb{R}^{p \\times k}, B \\in \\mathbb{R}^{k \\times m}$\n",
    "\n",
    "$$AX = \\begin{bmatrix}\n",
    "a_{11}x_{11} + a_{12}x_{21} + \\cdots + a_{1p}x_{p1} & \\cdots & a_{11}x_{1k} + a_{12}x_{2k} + \\cdots + a_{1p}x_{pk} \\\\\n",
    "\\vdots & \\ddots & \\vdots \\\\\n",
    "a_{n1}x_{11} + a_{n2}x_{21} + \\cdots + a_{np}x_{p1} & \\cdots & a_{n1}x_{1k} + a_{n2}x_{2k} + \\cdots + a_{np}x_{pk}\\end{bmatrix}$$\n",
    "\n",
    "$$ \\iff $$\n",
    "\n",
    "$$ AX = \\begin{bmatrix}\n",
    "\\sum_{i=1}^{p} a_{1i}x_{i1} & \\cdots & \\sum_{i=1}^{p} a_{1i}x_{ik} \\\\\n",
    "\\vdots & \\ddots & \\vdots \\\\\n",
    "\\sum_{i=1}^{p} a_{ni}x_{i1} & \\cdots & \\sum_{i=1}^{p} a_{ni}x_{ik}\\end{bmatrix}\\in \\mathbb{R}^{n \\times k};$$\n",
    "\n",
    "$$AXB = \\begin{bmatrix}\n",
    "\\sum_{i=1}^{p} a_{1i}x_{i1} & \\cdots & \\sum_{i=1}^{p} a_{1i}x_{ik} \\\\\n",
    "\\vdots & \\ddots & \\vdots \\\\\n",
    "\\sum_{i=1}^{p} a_{ni}x_{i1} & \\cdots & \\sum_{i=1}^{p} a_{ni}x_{ik}\\end{bmatrix} B $$\n",
    "\n",
    "$$ \\iff $$\n",
    "\n",
    "$$ AXB=\\begin{bmatrix}\n",
    "\\big( \\sum_{i=1}^{p} a_{1i}x_{i1} \\big) b_{11} + \\big( \\sum_{i=1}^{p} a_{1i}x_{i2} \\big) b_{21} + \\cdots + \\big( \\sum_{i=1}^{p} a_{1i}x_{ik} \\big) b_{k1} & \\cdots &\n",
    "\\big( \\sum_{i=1}^{p} a_{1i}x_{i1} \\big) b_{1m} + \\big( \\sum_{i=1}^{p} a_{1i}x_{i2} \\big) b_{2m} + \\cdots + \\big( \\sum_{i=1}^{p} a_{1i}x_{ik} \\big) b_{km} \\\\\n",
    "\\vdots & \\ddots & \\vdots \\\\\n",
    "\\big( \\sum_{i=1}^{p} a_{ni}x_{i1} \\big) b_{11} + \\big( \\sum_{i=1}^{p} a_{ni}x_{i2} \\big) b_{21} + \\cdots + \\big( \\sum_{i=1}^{p} a_{ni}x_{ik} \\big) b_{k1} & \\cdots &\n",
    "\\big( \\sum_{i=1}^{p} a_{ni}x_{i1} \\big) b_{1m} + \\big( \\sum_{i=1}^{p} a_{ni}x_{i2} \\big) b_{2m} + \\cdots + \\big( \\sum_{i=1}^{p} a_{ni}x_{ik} \\big) b_{km}\\end{bmatrix}$$\n",
    "\n",
    "$$ \\iff $$\n",
    "\n",
    "$$ AXB = \\begin{bmatrix}\n",
    "\\sum_{j=1}^{k} \\sum_{i=1}^{p} a_{1i}x_{ij} b_{j1} & \\cdots & \\sum_{j=1}^{k} \\sum_{i=1}^{p} a_{1i}x_{ij} b_{jm} \\\\\n",
    "\\vdots & \\ddots & \\vdots \\\\\n",
    "\\sum_{j=1}^{k} \\sum_{i=1}^{p} a_{ni}x_{ij} b_{j1} & \\cdots & \\sum_{j=1}^{k} \\sum_{i=1}^{p} a_{ni}x_{ij} b_{jm}\\end{bmatrix}\\in \\mathbb{R}^{n \\times m};$$\n",
    "\n",
    "$$ \\mathrm{vec}(AXB) = \\begin{bmatrix}\n",
    "\\sum_{j=1}^{k} \\sum_{i=1}^{p} a_{1i}x_{ij} b_{j1} \\\\\n",
    "\\sum_{j=1}^{k} \\sum_{i=1}^{p} a_{2i}x_{ij} b_{j1} \\\\\n",
    "\\vdots \\\\\n",
    "\\sum_{j=1}^{k} \\sum_{i=1}^{p} a_{ni}x_{ij} b_{j1} \\\\\n",
    "\\vdots\\\\\n",
    "\\sum_{j=1}^{k} \\sum_{i=1}^{p} a_{1i}x_{ij} b_{jm} \\\\\n",
    "\\sum_{j=1}^{k} \\sum_{i=1}^{p} a_{2i}x_{ij} b_{jm} \\\\\n",
    "\\vdots \\\\\n",
    "\\sum_{j=1}^{k} \\sum_{i=1}^{p} a_{ni}x_{ij} b_{jm} \\\\\n",
    "\\end{bmatrix}\\in \\mathbb{R}^{nm}$$\n",
    "\n",
    "$$ (B^\\top \\otimes A) = \\begin{bmatrix}\n",
    "b_{11}A & b_{21}A & \\cdots & b_{k1}A \\\\\n",
    "b_{12}A & b_{22}A & \\cdots & b_{k2}A \\\\\n",
    "\\vdots & \\ddots & \\vdots \\\\\n",
    "b_{1m}A & b_{2m}A & \\cdots & b_{km}A \\end{bmatrix}$$\n",
    "\n",
    "$$ \\iff $$\n",
    "\n",
    "$$ (B^\\top \\otimes A) = \\begin{bmatrix}\n",
    "b_{11}a_{11} & b_{11}a_{12} & \\cdots & b_{11}a_{1p} & \\cdots & \\cdots & b_{k1}a_{11} & b_{k1}a_{12} & \\cdots & b_{k1}a_{1p} \\\\\n",
    "b_{11}a_{21} & b_{11}a_{22} & \\cdots & b_{11}a_{2p} & \\cdots & \\cdots & b_{k1}a_{21} & b_{k1}a_{22} & \\cdots & b_{k1}a_{2p} \\\\\n",
    "\\vdots & \\vdots & \\ddots & \\vdots &   &   & \\vdots & \\vdots & \\ddots & \\vdots \\\\\n",
    "b_{11}a_{n1} & b_{11}a_{n2} & \\cdots & b_{11}a_{np} & \\cdots & \\cdots & b_{k1}a_{n1} & b_{k1}a_{n2} & \\cdots & b_{k1}a_{np} \\\\\n",
    "\\vdots & \\vdots &   & \\vdots & \\ddots &   & \\vdots & \\vdots &   & \\vdots \\\\\n",
    "\\vdots & \\vdots &   & \\vdots &   & \\ddots & \\vdots & \\vdots &   & \\vdots \\\\\n",
    "b_{1m}a_{11} & b_{1m}a_{12} & \\cdots & b_{1m}a_{1p} & \\cdots & \\cdots & b_{km}a_{11} & b_{km}a_{12} & \\cdots & b_{km}a_{1p} \\\\\n",
    "b_{1m}a_{21} & b_{1m}a_{22} & \\cdots & b_{1m}a_{2p} & \\cdots & \\cdots & b_{km}a_{21} & b_{km}a_{22} & \\cdots & b_{km}a_{2p} \\\\\n",
    "\\vdots & \\vdots & \\ddots & \\vdots &   &   & \\vdots & \\vdots & \\ddots & \\vdots \\\\\n",
    "b_{1m}a_{n1} & b_{1m}a_{n2} & \\cdots & b_{1m}a_{np} & \\cdots & \\cdots & b_{km}a_{n1} & b_{km}a_{n2} & \\cdots & b_{km}a_{np}\\end{bmatrix}\\in \\mathbb{R}^{mn \\times pk};$$\n",
    "\n",
    "Because $\\mathrm{vec}(X) \\in \\mathbb{R}^{pk}$, then:\n",
    "\n",
    "$$ (B^\\top \\otimes A)\\mathrm{vec}(X)= \\begin{bmatrix}\n",
    "b_{11}a_{11} & b_{11}a_{12} & \\cdots & b_{11}a_{1p} & \\cdots & \\cdots & b_{k1}a_{11} & b_{k1}a_{12} & \\cdots & b_{k1}a_{1p} \\\\\n",
    "b_{11}a_{21} & b_{11}a_{22} & \\cdots & b_{11}a_{2p} & \\cdots & \\cdots & b_{k1}a_{21} & b_{k1}a_{22} & \\cdots & b_{k1}a_{2p} \\\\\n",
    "\\vdots & \\vdots & \\ddots & \\vdots &   &   & \\vdots & \\vdots & \\ddots & \\vdots \\\\\n",
    "b_{11}a_{n1} & b_{11}a_{n2} & \\cdots & b_{11}a_{np} & \\cdots & \\cdots & b_{k1}a_{n1} & b_{k1}a_{n2} & \\cdots & b_{k1}a_{np} \\\\\n",
    "\\vdots & \\vdots &   & \\vdots & \\ddots &   & \\vdots & \\vdots &   & \\vdots \\\\\n",
    "\\vdots & \\vdots &   & \\vdots &   & \\ddots & \\vdots & \\vdots &   & \\vdots \\\\\n",
    "b_{1m}a_{11} & b_{1m}a_{12} & \\cdots & b_{1m}a_{1p} & \\cdots & \\cdots & b_{km}a_{11} & b_{km}a_{12} & \\cdots & b_{km}a_{1p} \\\\\n",
    "b_{1m}a_{21} & b_{1m}a_{22} & \\cdots & b_{1m}a_{2p} & \\cdots & \\cdots & b_{km}a_{21} & b_{km}a_{22} & \\cdots & b_{km}a_{2p} \\\\\n",
    "\\vdots & \\vdots & \\ddots & \\vdots &   &   & \\vdots & \\vdots & \\ddots & \\vdots \\\\\n",
    "b_{1m}a_{n1} & b_{1m}a_{n2} & \\cdots & b_{1m}a_{np} & \\cdots & \\cdots & b_{km}a_{n1} & b_{km}a_{n2} & \\cdots & b_{km}a_{np}\\end{bmatrix} \\begin{bmatrix}\n",
    "x_{11} \\\\\n",
    "x_{21} \\\\\n",
    "\\vdots \\\\\n",
    "x_{p1} \\\\\n",
    "x_{12} \\\\\n",
    "x_{22} \\\\\n",
    "\\vdots \\\\\n",
    "x_{p2} \\\\\n",
    "\\vdots \\\\\n",
    "x_{pk}\\end{bmatrix}$$\n",
    "\n",
    "$$ \\iff $$\n",
    "\n",
    "$$ (B^\\top \\otimes A)\\, \\mathrm{vec}(X)= \\begin{bmatrix}\n",
    "\\sum_{j=1}^{k} \\sum_{i=1}^{p} a_{1i}x_{ij} b_{j1} \\\\\n",
    "\\sum_{j=1}^{k} \\sum_{i=1}^{p} a_{2i}x_{ij} b_{j1} \\\\\n",
    "\\vdots \\\\\n",
    "\\sum_{j=1}^{k} \\sum_{i=1}^{p} a_{ni}x_{ij} b_{j1} \\\\\n",
    "\\sum_{j=1}^{k} \\sum_{i=1}^{p} a_{1i}x_{ij} b_{jm} \\\\\n",
    "\\sum_{j=1}^{k} \\sum_{i=1}^{p} a_{2i}x_{ij} b_{jm} \\\\\n",
    "\\vdots \\\\\n",
    "\\sum_{j=1}^{k} \\sum_{i=1}^{p} a_{ni}x_{ij} b_{jm}\\end{bmatrix}$$\n",
    "\n",
    "<br>\n",
    "<br>\n",
    "\n",
    "So: $\\mathrm{vec}(AXB) = (B^\\top \\otimes A)\\, \\mathrm{vec}(X)$\n",
    "\n",
    "#### If reshape is row-wise\n",
    "\n",
    "\n",
    "$$ \\mathrm{vec}(AXB) = \\begin{bmatrix}\n",
    "\\sum_{j=1}^{k} \\sum_{i=1}^{p} a_{1i}x_{ij} b_{j1} \\\\\n",
    "\\sum_{j=1}^{k} \\sum_{i=1}^{p} a_{1i}x_{ij} b_{j2} \\\\\n",
    "\\vdots \\\\\n",
    "\\sum_{j=1}^{k} \\sum_{i=1}^{p} a_{1i}x_{ij} b_{jm} \\\\\n",
    "\\vdots\\\\\n",
    "\\sum_{j=1}^{k} \\sum_{i=1}^{p} a_{ni}x_{ij} b_{j1} \\\\\n",
    "\\sum_{j=1}^{k} \\sum_{i=1}^{p} a_{ni}x_{ij} b_{j2} \\\\\n",
    "\\vdots \\\\\n",
    "\\sum_{j=1}^{k} \\sum_{i=1}^{p} a_{ni}x_{ij} b_{jm} \\\\\n",
    "\\end{bmatrix}\\in \\mathbb{R}^{nm}$$\n",
    "\n",
    "\n",
    "$$ (B^\\top \\otimes A)\\mathrm{vec}(X)=\\begin{bmatrix}\n",
    "b_{11}a_{11} & b_{11}a_{12} & \\cdots & b_{11}a_{1p} & \\cdots & \\cdots & b_{k1}a_{11} & b_{k1}a_{12} & \\cdots & b_{k1}a_{1p} \\\\\n",
    "b_{11}a_{21} & b_{11}a_{22} & \\cdots & b_{11}a_{2p} & \\cdots & \\cdots & b_{k1}a_{21} & b_{k1}a_{22} & \\cdots & b_{k1}a_{2p} \\\\\n",
    "\\vdots & \\vdots & \\ddots & \\vdots &   &   & \\vdots & \\vdots & \\ddots & \\vdots \\\\\n",
    "b_{11}a_{n1} & b_{11}a_{n2} & \\cdots & b_{11}a_{np} & \\cdots & \\cdots & b_{k1}a_{n1} & b_{k1}a_{n2} & \\cdots & b_{k1}a_{np} \\\\\n",
    "\\vdots & \\vdots &   & \\vdots & \\ddots &   & \\vdots & \\vdots &   & \\vdots \\\\\n",
    "\\vdots & \\vdots &   & \\vdots &   & \\ddots & \\vdots & \\vdots &   & \\vdots \\\\\n",
    "b_{1m}a_{11} & b_{1m}a_{12} & \\cdots & b_{1m}a_{1p} & \\cdots & \\cdots & b_{km}a_{11} & b_{km}a_{12} & \\cdots & b_{km}a_{1p} \\\\\n",
    "b_{1m}a_{21} & b_{1m}a_{22} & \\cdots & b_{1m}a_{2p} & \\cdots & \\cdots & b_{km}a_{21} & b_{km}a_{22} & \\cdots & b_{km}a_{2p} \\\\\n",
    "\\vdots & \\vdots & \\ddots & \\vdots &   &   & \\vdots & \\vdots & \\ddots & \\vdots \\\\\n",
    "b_{1m}a_{n1} & b_{1m}a_{n2} & \\cdots & b_{1m}a_{np} & \\cdots & \\cdots & b_{km}a_{n1} & b_{km}a_{n2} & \\cdots & b_{km}a_{np}\\end{bmatrix} \\begin{bmatrix}\n",
    "x_{11} \\\\\n",
    "x_{12} \\\\\n",
    "\\vdots \\\\\n",
    "x_{1k} \\\\\n",
    "x_{21} \\\\\n",
    "x_{22} \\\\\n",
    "\\vdots \\\\\n",
    "x_{2k} \\\\\n",
    "\\vdots \\\\\n",
    "x_{pk}\\end{bmatrix}$$\n",
    "\n",
    "$(B^\\top \\otimes A)$ is made of scaled $A$. Now we can't create such sums. If reshape is **column-wise** elements in $\\mathrm{vec}(X)$, which could be represented as blocks, match in amount with number of columns $\\times$ number of rows in $(B^\\top \\otimes A)$. If reshape is **row-wise**, it does not.\n",
    "\n",
    "**Reshape is row-wise:**\n",
    "\n",
    "$$ \\mathrm{vec}(X) = \\begin{bmatrix}\n",
    "x_1 \\\\\n",
    "x_2 \\\\\n",
    "\\vdots \\\\\n",
    "x_p\\end{bmatrix}, $$\n",
    "\n",
    "where $x_i \\in \\mathbb{R}^{k}$\n",
    "\n",
    "**Reshape is column-wise:**\n",
    "\n",
    "$$ \\mathrm{vec}(X) = \\begin{bmatrix}\n",
    "x_1 \\\\\n",
    "x_2 \\\\\n",
    "\\vdots \\\\\n",
    "x_k\\end{bmatrix}, $$\n",
    "\n",
    "where $x_i \\in \\mathbb{R}^{p}$"
   ]
  },
  {
   "cell_type": "markdown",
   "metadata": {
    "id": "klLVFDGO8HQz"
   },
   "source": [
    "### 2\n",
    "\n",
    "Complexity of $(A \\otimes B) x$\n",
    "\n",
    "Let: $ A \\in \\mathbb{R}^{n \\times p}, B \\in \\mathbb{R}^{k \\times m}, x \\in \\mathbb{R}^{pm}$.\n",
    "\n",
    "$A \\otimes B \\in \\mathbb{R}^{nk \\times pm}$, so, there are $nkpm$ scalar by scalar multiplications. Matrix with shape $nk \\times pm$ and vector with shape $pm$ are multiplited by $nkpm$ mupliplications and $nk(pm-1)$ additions. So, there are $ 3nkpm - nk $ operations. So, complexity is $\\mathcal{O}(nkpm)$.\n",
    "\n",
    "With this property from [here](https://en.wikipedia.org/wiki/Kronecker_product):\n",
    "\n",
    "$$ (A \\otimes B) x = \\mathrm{vec}(BXA^T), $$\n",
    "\n",
    "where $X = \\mathrm{vec^{-1}}(x)$ is the inverse of the vectorization operator.\n",
    "\n",
    "This $\\mathrm{vec}(BXA^T)$ Has complexity of a matrix product up to a scalar.\n",
    "\n",
    " - Matrix-by-matrix multiplication of $BX$, where $B \\in \\mathbb{R}^{k \\times m}, X \\in \\mathbb{R}^{m \\times p}$ has $pkm$ multiplication and $pk(m-1)$ additions. Operations in total for $BX$: $2pkm - pk$.\n",
    " \n",
    " - Matrix-by-matrix multiplication of $(BX)A^T$, where $BX \\in \\mathbb{R}^{k \\times p}, A^T \\in \\mathbb{R}^{p \\times n}$ has $nkp$ multiplication and $nk(p-1)$ additions. Operations in total for $(BX)A^T$: $2nkp - nk$.\n",
    " \n",
    "Hence, total complexity is $\\mathcal{O}(pkm + nkp)$."
   ]
  },
  {
   "cell_type": "markdown",
   "metadata": {
    "id": "fRsb2ajf8HQ0"
   },
   "source": [
    "### 3\n",
    "\n",
    "Let matrices $A$ and $B$ have eigendecompositions $A = S_A\\Lambda_A S_A^{-1}$ and $B = S_B\\Lambda_B S^{-1}_B$. Find eigenvectors and eigenvalues of the matrix $A\\otimes I + I \\otimes B$, where dimension of $I$ coincides with the dimension of $A$ and $B$.\n",
    "\n",
    "#### Eigenvalues\n",
    "\n",
    "$A \\in \\mathbb{R}^{n \\times n}$ and $B \\in \\mathbb{R}^{m \\times m}$ are square because of the existence of eigendecomposition. Schur form of $A$ and $B$:\n",
    "\n",
    "$$ A = Q_A U_A Q_A^*, $$\n",
    "\n",
    "$$ B = Q_B U_B Q_B^*, $$\n",
    "\n",
    "where $Q_A$ and $Q_B$ are unitary, and $U_A$ and $U_B$ are upper triangular.\n",
    "\n",
    "Some properties of a Kronecker product:\n",
    "\n",
    "$(A \\otimes B)(C \\otimes D) = AC \\otimes BD$\n",
    "\n",
    "$(A \\otimes B)^* = A^* \\otimes B^*$\n",
    "\n",
    "$(cA) \\otimes B = A \\otimes (cB) = c (A \\otimes B)$, where $c$ is ascalar.\n",
    "\n",
    "Then:\n",
    "\n",
    "$$ (Q_A \\otimes Q_B)^*(A \\otimes I)(Q_A \\otimes Q_B) = (Q_A^* A Q_A) \\otimes (Q_B^* I Q_B) = U_A \\otimes I$$\n",
    "\n",
    "At the same time:\n",
    "\n",
    "$$ (Q_A \\otimes Q_B)^*(I \\otimes B)(Q_A \\otimes Q_B) = (Q_A^* I Q_A) \\otimes (Q_B^* B Q_B) = I \\otimes U_B $$\n",
    "\n",
    "So:\n",
    "\n",
    "$$ (Q_A \\otimes Q_B)^*(A \\otimes I + I \\otimes B)(Q_A \\otimes Q_B) = U_A \\otimes I + I \\otimes U_B$$\n",
    "\n",
    "Where:\n",
    "\n",
    "$$ U_A \\otimes I = \\begin{bmatrix}\n",
    "\\lambda_{A1} I & *        & *         & *     & * \\\\\n",
    "           & \\lambda_{A2} I & *         & *     & * \\\\\n",
    "           &            & \\lambda_{A3} I & *     & * \\\\\n",
    "           &            &            & \\ddots & \\vdots \\\\\n",
    "           &            &            &        & \\lambda_{An} I\\end{bmatrix},$$\n",
    "\n",
    "where $*$ is some value, which we are not interested in.\n",
    "\n",
    "$$ I \\otimes U_B = \\begin{bmatrix}\n",
    "U_B &          &           &       &  0 \\\\\n",
    "           & U_B &           &       &     \\\\\n",
    "           &            & U_B &       &   \\\\\n",
    "           &            &            & \\ddots &  \\\\\n",
    "0 &            &            &        & U_B\\end{bmatrix}$$\n",
    "\n",
    "It's pretty clear, that eigenvalues of $U_A \\otimes I + I \\otimes U_B$ are the sum of eigenvectors of $A$ and $B$.\n",
    "\n",
    "#### Eigenvectors\n",
    "\n",
    "Let $z = x \\otimes y$ is an eigenvector of $(A \\otimes I + I \\otimes B)$, where $Ax = \\lambda_A x$ and $Bx = \\lambda_B x$. Then:\n",
    "\n",
    "$$ (A \\otimes I + I \\otimes B) z = (\\lambda_A + \\lambda_B) z \\iff (A \\otimes I) z + (I \\otimes B) z = (\\lambda_A + \\lambda_B) z \\iff (A \\otimes I) (x \\otimes y) + (I \\otimes B) (x \\otimes y) = (\\lambda_A + \\lambda_B) (x \\otimes y) \\iff$$\n",
    "\n",
    "$$\\iff (Ax \\otimes Iy) + (Ix \\otimes By) = (\\lambda_A + \\lambda_B) (x \\otimes y) \\iff (\\lambda_Ax \\otimes y) + (x \\otimes \\lambda_By) = (\\lambda_A + \\lambda_B) (x \\otimes y) \\iff$$\n",
    "\n",
    "$$\\iff \\lambda_A(x \\otimes y) + \\lambda_B (x \\otimes y) = (\\lambda_A + \\lambda_B) (x \\otimes y) \\iff True$$"
   ]
  },
  {
   "cell_type": "markdown",
   "metadata": {
    "id": "XZuQ93D88HQ0"
   },
   "source": [
    "### 4\n",
    "\n",
    "#### Richardson iteration with the optimal choice of parameter\n",
    "\n",
    "Optimal parameter is:\n",
    "\n",
    "$$ \\tau_{opt} = \\frac{2}{\\lambda_{min} + \\lambda_{max}} $$\n",
    "\n",
    "As well $A = \\mathrm{diag}\\left(\\frac{1}{1000},\\frac{2}{1000},\\dots \\frac{999}{1000}, 1, 1000 \\right)$, then $\\lambda_{min} = \\frac{1}{1000}$ and $\\lambda_{max}=1000$.\n",
    "\n",
    "The error on the next step with optimal parameter:\n",
    "\n",
    "$$ \\| e_k \\|_2 \\leq q^k \\| e_0 \\|_2, $$\n",
    "\n",
    "where $q = \\frac{\\lambda_{max} - \\lambda_{min}}{\\lambda_{min} + \\lambda_{max}}$.\n",
    "\n",
    "Relative accuracy $10^{-4}$: $\\frac{\\| e_k \\|_2}{\\| e_0 \\|_2} = 10^{-4},$ so:\n",
    "\n",
    "$$ \\bigg( \\frac{\\lambda_{max} - \\lambda_{min}}{\\lambda_{min} + \\lambda_{max}} \\bigg) ^ k = 10^{-4} \\iff$$\n",
    "\n",
    "$$ \\iff \\bigg( \\frac{1000 - \\frac{1}{1000}}{\\frac{1}{1000} + 1000} \\bigg) ^ k = 10^{-4}  \\iff$$\n",
    "\n",
    "$$ \\iff \\bigg( \\frac{999999}{1000001} \\bigg) ^ k = 10^{-4} \\iff$$\n",
    "\n",
    "$$ \\iff k \\log_{10}\\frac{999999}{1000001} = -4 \\log_{10}10 \\iff$$\n",
    "\n",
    "$$ \\iff k = \\frac{-4}{\\log_{10}\\frac{999999}{1000001}}$$"
   ]
  },
  {
   "cell_type": "code",
   "execution_count": 2,
   "metadata": {
    "id": "FdCoUHg-8HQ1",
    "outputId": "f856c883-0d68-4a0a-d6e4-86d63995645f"
   },
   "outputs": [
    {
     "data": {
      "text/plain": [
       "4605170.186012501"
      ]
     },
     "execution_count": 2,
     "metadata": {},
     "output_type": "execute_result"
    }
   ],
   "source": [
    "import numpy as np\n",
    "-4 / np.log10(999999 / 1000001)"
   ]
  },
  {
   "cell_type": "code",
   "execution_count": 3,
   "metadata": {
    "id": "pnnG_3368HQ2",
    "outputId": "e48b09c1-7131-4257-e51a-2b627728964d"
   },
   "outputs": [
    {
     "name": "stdout",
     "output_type": "stream",
     "text": [
      "Number of iterations for Richardson iteartion: 4605171.\n"
     ]
    }
   ],
   "source": [
    "print('Number of iterations for Richardson iteartion: 4605171.')"
   ]
  },
  {
   "cell_type": "markdown",
   "metadata": {
    "id": "Cy9Hg37K8HQ3"
   },
   "source": [
    "#### Chebyshev iteration\n",
    "\n",
    "$$ \\| e_k \\| \\leq C q^k \\| e_0 \\|, $$\n",
    "\n",
    "$$ q = \\frac{\\sqrt{\\mathrm{cond}(A)} - 1}{\\sqrt{\\mathrm{cond}(A)} + 1} $$\n",
    "\n",
    "Where condition number:\n",
    "\n",
    "$$ \\mathrm{cond}_2(A) = \\| A \\|_2 \\| A^{-1} \\|_2 = \\frac{\\sigma_{max}}{\\sigma_{min}}; $$\n",
    "\n",
    "$$ \\mathrm{cond}_2(A) = \\frac{1000}{\\frac{1}{1000}} = 10^6$$\n",
    "\n",
    "So:\n",
    "\n",
    "$$ \\frac{\\| e_k \\|_2}{\\| e_0 \\|_2} = 10^{-4}; $$\n",
    "\n",
    "$$ 10^{-4} = C q^k \\iff \\frac{10^{-4}}{C} = \\bigg( \\frac{\\sqrt{10^6} - 1}{\\sqrt{10^6} + 1} \\bigg)^k \\iff$$\n",
    "\n",
    "$$ \\iff \\frac{10^{-4}}{C} = \\bigg( \\frac{999}{1001} \\bigg)^k \\iff \\log_{10} \\bigg( \\frac{10^{-4}}{C} \\bigg) = k \\log_{10}\\frac{999}{1001} \\iff$$\n",
    "\n",
    "$$ \\iff -4 - log_{10}C = k \\log_{10}\\frac{999}{1001} \\iff k = \\frac{-4 - log_{10}C}{\\log_{10}\\frac{999}{1001}}$$\n",
    "\n",
    "Let's calucate the exact number of iteration for $C = 1$:\n",
    "\n",
    "$$k = \\frac{-4}{\\log_{10}\\frac{999}{1001}}$$"
   ]
  },
  {
   "cell_type": "code",
   "execution_count": 4,
   "metadata": {
    "id": "l68AqaEJ8HQ4",
    "outputId": "d2f51770-a1d9-46ca-d53a-d45b8248a8df"
   },
   "outputs": [
    {
     "data": {
      "text/plain": [
       "4605.168650930854"
      ]
     },
     "execution_count": 4,
     "metadata": {},
     "output_type": "execute_result"
    }
   ],
   "source": [
    "-4 / np.log10(999 / 1001)"
   ]
  },
  {
   "cell_type": "code",
   "execution_count": 14,
   "metadata": {
    "id": "MU4v9pGd8HQ4",
    "outputId": "6660af07-4954-49d2-9a83-a2f5e5cd492d"
   },
   "outputs": [
    {
     "name": "stdout",
     "output_type": "stream",
     "text": [
      "Number of iterations for Chebyshev iteartion with C = 1: 4606.\n"
     ]
    }
   ],
   "source": [
    "print('Number of iterations for Chebyshev iteartion with C = 1: 4606.')"
   ]
  },
  {
   "cell_type": "markdown",
   "metadata": {
    "id": "AyVfZ2rN8HQ5"
   },
   "source": [
    "#### Conjugate gradient method\n",
    "\n",
    "One of the upper bound is the same as for Chebyshev iteration method: \n",
    "\n",
    "$$ \\frac{\\| x_k - x_* \\|_A}{\\| x_* \\|} \\leq \\gamma \\bigg( \\frac{\\sqrt{\\mathrm{cond}(A)} - 1}{\\sqrt{\\mathrm{cond}(A)} + 1} \\bigg) ^ k$$\n",
    "\n",
    "But at the same time: ```if eigenvalues are clustered and there are``` $l$ ```outliers, then after first``` $\\mathcal{O}(l)$ ```iterations CG will converge as if there are no outliers (and hence the effective condition number is smaller).``` So: $ \\mathrm{cond}(A)= 1000$.\n",
    "\n",
    "$$ 10^{-4} = \\gamma q^k \\iff \\frac{10^{-4}}{\\gamma} = \\bigg( \\frac{\\sqrt{10^3} - 1}{\\sqrt{10^3} + 1} \\bigg)^k \\iff$$\n",
    "\n",
    "$$ \\iff k = \\frac{-4 - \\log_{10}{\\gamma}}{\\log_{10}\\frac{10\\sqrt{10} - 1}{10\\sqrt{10} + 1}}$$\n",
    "\n",
    "From [here](https://www.jstor.org/stable/43693008?seq=4#metadata_info_tab_contents) I get, that $\\gamma = 2$. Lets calcualte for this $\\gamma$:\n",
    "\n",
    "$$k = \\frac{-4 - \\log_{10}2}{\\log_{10}\\frac{10\\sqrt{10} - 1}{10\\sqrt{10} + 1}}$$"
   ]
  },
  {
   "cell_type": "code",
   "execution_count": 10,
   "metadata": {
    "id": "Gv9CpS5I8HQ5",
    "outputId": "78236cc8-8e5b-4b2b-ef9e-9678a00ecf7a"
   },
   "outputs": [
    {
     "data": {
      "text/plain": [
       "156.53567733707564"
      ]
     },
     "execution_count": 10,
     "metadata": {},
     "output_type": "execute_result"
    }
   ],
   "source": [
    "(-4 - np.log10(2)) / np.log10((10 * np.sqrt(10) - 1) / (10 * np.sqrt(10) + 1))"
   ]
  },
  {
   "cell_type": "code",
   "execution_count": 12,
   "metadata": {
    "id": "EZ_J-bcn8HQ5",
    "outputId": "140b6089-1683-4408-cd3b-06c7c427f8a9"
   },
   "outputs": [
    {
     "name": "stdout",
     "output_type": "stream",
     "text": [
      "Number of iterations for Conjuate gradient method with gamma = 10: 157.\n"
     ]
    }
   ],
   "source": [
    "print('Number of iterations for Conjuate gradient method with gamma = 10: 157.')"
   ]
  },
  {
   "cell_type": "markdown",
   "metadata": {
    "id": "dyTjTMRu8HQ6"
   },
   "source": [
    "### 5. Numerical confiramtion of theoretical derivation"
   ]
  },
  {
   "cell_type": "markdown",
   "metadata": {
    "id": "qe8j79Qg8HQ6"
   },
   "source": [
    "#### Richardson iteration"
   ]
  },
  {
   "cell_type": "code",
   "execution_count": 4,
   "metadata": {
    "id": "XSePxZLy8HQ6"
   },
   "outputs": [],
   "source": [
    "# Create matrix A and set tolerance\n",
    "import numpy as np\n",
    "\n",
    "diag_list = []\n",
    "for i in range(1, 1001):\n",
    "    diag_list.append(i / 1000)\n",
    "diag_list.append(1000)\n",
    "\n",
    "A = np.diag(diag_list)\n",
    "tol = 1e-4\n",
    "\n",
    "tau = 2 / (1e3 + 1e-3)\n",
    "x = np.zeros(A.shape[0])\n",
    "f = np.random.rand(A.shape[0])\n",
    "x_true = 1 / np.array(diag_list) * f"
   ]
  },
  {
   "cell_type": "code",
   "execution_count": 5,
   "metadata": {
    "colab": {
     "base_uri": "https://localhost:8080/"
    },
    "collapsed": true,
    "id": "F5aKcOg18HQ6",
    "jupyter": {
     "outputs_hidden": true
    },
    "outputId": "237f27b2-6467-47af-98bc-6f890c6ca893"
   },
   "outputs": [
    {
     "name": "stdout",
     "output_type": "stream",
     "text": [
      "k\n",
      " 100000\n",
      "\n",
      "Error\n",
      " 0.7786419018042294\n",
      "\n",
      "k\n",
      " 200000\n",
      "\n",
      "Error\n",
      " 0.6331766718989651\n",
      "\n",
      "k\n",
      " 300000\n",
      "\n",
      "Error\n",
      " 0.517303005042021\n",
      "\n",
      "k\n",
      " 400000\n",
      "\n",
      "Error\n",
      " 0.4231415217485388\n",
      "\n",
      "k\n",
      " 500000\n",
      "\n",
      "Error\n",
      " 0.34626707495738945\n",
      "\n",
      "k\n",
      " 600000\n",
      "\n",
      "Error\n",
      " 0.2834146604236014\n",
      "\n",
      "k\n",
      " 700000\n",
      "\n",
      "Error\n",
      " 0.2319961149994008\n",
      "\n",
      "k\n",
      " 800000\n",
      "\n",
      "Error\n",
      " 0.18991876532170476\n",
      "\n",
      "k\n",
      " 900000\n",
      "\n",
      "Error\n",
      " 0.1554795871833852\n",
      "\n",
      "k\n",
      " 1000000\n",
      "\n",
      "Error\n",
      " 0.12728898812323247\n",
      "\n",
      "k\n",
      " 1100000\n",
      "\n",
      "Error\n",
      " 0.10421162665599608\n",
      "\n",
      "k\n",
      " 1200000\n",
      "\n",
      "Error\n",
      " 0.08531919520480014\n",
      "\n",
      "k\n",
      " 1300000\n",
      "\n",
      "Error\n",
      " 0.0698523164478002\n",
      "\n",
      "k\n",
      " 1400000\n",
      "\n",
      "Error\n",
      " 0.057189619073793545\n",
      "\n",
      "k\n",
      " 1500000\n",
      "\n",
      "Error\n",
      " 0.04682255965714435\n",
      "\n",
      "k\n",
      " 1600000\n",
      "\n",
      "Error\n",
      " 0.03833488292911408\n",
      "\n",
      "k\n",
      " 1700000\n",
      "\n",
      "Error\n",
      " 0.0313858452071472\n",
      "\n",
      "k\n",
      " 1800000\n",
      "\n",
      "Error\n",
      " 0.025696500521435222\n",
      "\n",
      "k\n",
      " 1900000\n",
      "\n",
      "Error\n",
      " 0.021038484407731515\n",
      "\n",
      "k\n",
      " 2000000\n",
      "\n",
      "Error\n",
      " 0.01722483727300811\n",
      "\n",
      "k\n",
      " 2100000\n",
      "\n",
      "Error\n",
      " 0.014102494712745738\n",
      "\n",
      "k\n",
      " 2200000\n",
      "\n",
      "Error\n",
      " 0.01154614102409297\n",
      "\n",
      "k\n",
      " 2300000\n",
      "\n",
      "Error\n",
      " 0.009453177941172258\n",
      "\n",
      "k\n",
      " 2400000\n",
      "\n",
      "Error\n",
      " 0.007739605961070121\n",
      "\n",
      "k\n",
      " 2500000\n",
      "\n",
      "Error\n",
      " 0.006336652575336748\n",
      "\n",
      "k\n",
      " 2600000\n",
      "\n",
      "Error\n",
      " 0.0051880118730901975\n",
      "\n",
      "k\n",
      " 2700000\n",
      "\n",
      "Error\n",
      " 0.004247584614327188\n",
      "\n",
      "k\n",
      " 2800000\n",
      "\n",
      "Error\n",
      " 0.003477628010948298\n",
      "\n",
      "k\n",
      " 2900000\n",
      "\n",
      "Error\n",
      " 0.0028472409239941885\n",
      "\n",
      "k\n",
      " 3000000\n",
      "\n",
      "Error\n",
      " 0.0023311236639711884\n",
      "\n",
      "k\n",
      " 3100000\n",
      "\n",
      "Error\n",
      " 0.0019085626099235944\n",
      "\n",
      "k\n",
      " 3200000\n",
      "\n",
      "Error\n",
      " 0.0015625988902810532\n",
      "\n",
      "k\n",
      " 3300000\n",
      "\n",
      "Error\n",
      " 0.0012793477592710296\n",
      "\n",
      "k\n",
      " 3400000\n",
      "\n",
      "Error\n",
      " 0.0010474413506076702\n",
      "\n",
      "k\n",
      " 3500000\n",
      "\n",
      "Error\n",
      " 0.0008575724436994772\n",
      "\n",
      "k\n",
      " 3600000\n",
      "\n",
      "Error\n",
      " 0.0007021209315132384\n",
      "\n",
      "k\n",
      " 3700000\n",
      "\n",
      "Error\n",
      " 0.0005748479983635966\n",
      "\n",
      "k\n",
      " 3800000\n",
      "\n",
      "Error\n",
      " 0.0004706457342681196\n",
      "\n",
      "k\n",
      " 3900000\n",
      "\n",
      "Error\n",
      " 0.0003853321362641831\n",
      "\n",
      "k\n",
      " 4000000\n",
      "\n",
      "Error\n",
      " 0.00031548327001726834\n",
      "\n",
      "k\n",
      " 4100000\n",
      "\n",
      "Error\n",
      " 0.0002582958552039105\n",
      "\n",
      "k\n",
      " 4200000\n",
      "\n",
      "Error\n",
      " 0.00021147476001840584\n",
      "\n",
      "k\n",
      " 4300000\n",
      "\n",
      "Error\n",
      " 0.00017314088950089561\n",
      "\n",
      "k\n",
      " 4400000\n",
      "\n",
      "Error\n",
      " 0.00014175577082913102\n",
      "\n",
      "k\n",
      " 4500000\n",
      "\n",
      "Error\n",
      " 0.00011605980900382508\n",
      "\n"
     ]
    }
   ],
   "source": [
    "# Richardson iteration\n",
    "rel_error = [np.linalg.norm(x - x_true, 2) / np.linalg.norm(x_true, 2)]\n",
    "k = 1\n",
    "\n",
    "while rel_error[-1] > tol:\n",
    "    x = x - tau * (A @ x - f)\n",
    "    rel_error.append(np.linalg.norm(x - x_true, 2) / np.linalg.norm(x_true, 2))\n",
    "    if k % 100000 == 0:\n",
    "        print('k\\n', k, end='\\n\\n')\n",
    "        print('Error\\n', rel_error[-1], end='\\n\\n')\n",
    "    k += 1"
   ]
  },
  {
   "cell_type": "code",
   "execution_count": 6,
   "metadata": {
    "colab": {
     "base_uri": "https://localhost:8080/",
     "height": 446
    },
    "id": "EprB0BZbC5lw",
    "outputId": "4c15c3ee-545a-4dff-c950-e3dc2fab366a"
   },
   "outputs": [
    {
     "name": "stdout",
     "output_type": "stream",
     "text": [
      "Number of iteration k = 4574469\n",
      "Realtive error: 9.999994670653496e-05\n"
     ]
    },
    {
     "data": {
      "image/png": "[encoded data removed]",
      "text/plain": [
       "<Figure size 648x432 with 1 Axes>"
      ]
     },
     "metadata": {
      "needs_background": "light"
     },
     "output_type": "display_data"
    }
   ],
   "source": [
    "import matplotlib.pyplot as plt \n",
    "\n",
    "plt.rcParams['figure.figsize'] = (9, 6)\n",
    "plt. plot(list(range(1, k + 1)), rel_error)\n",
    "#plt.semilogy(rel_error)\n",
    "plt.xlabel('k', fontsize=12)\n",
    "plt.ylabel('Relative error', fontsize=12)\n",
    "plt.title('Convergence of Richardson iteration');\n",
    "plt.yscale('log')\n",
    "plt.xscale('log');\n",
    "print('Number of iteration k =', k)\n",
    "print('Realtive error:', rel_error[-1])"
   ]
  },
  {
   "cell_type": "markdown",
   "metadata": {
    "id": "KJYGyF0fKKij"
   },
   "source": [
    "#### Chebyshev iteration"
   ]
  },
  {
   "cell_type": "code",
   "execution_count": 7,
   "metadata": {
    "id": "AVpdpsV4KKij"
   },
   "outputs": [],
   "source": [
    "# Chebyshev iteration\n",
    "niters = 2 ** 15\n",
    "roots = [np.cos((np.pi * (2 * i + 1)) / (2 * niters)) for i in range(niters)]\n",
    "taus = [(1e3 + 1e-3 - (1e-3 - 1e3) * r) / 2 for r in roots]\n",
    "rel_error_ch = []\n",
    "\n",
    "x = np.zeros(A.shape[0])\n",
    "\n",
    "# Lebedev permutation (took it from the lecture)\n",
    "# There number of iteration should be a power of 2\n",
    "def leb_shuffle_2n(n):\n",
    "    if n == 1:\n",
    "        return np.array([0,], dtype=int)\n",
    "    else:\n",
    "        prev = leb_shuffle_2n(n // 2)\n",
    "        ans = np.zeros(n, dtype=int)\n",
    "        ans[::2] = prev\n",
    "        ans[1::2] = n - 1 - prev\n",
    "        return ans\n",
    "\n",
    "good_perm_even = leb_shuffle_2n(niters)\n",
    "\n",
    "r = A @ x - f\n",
    "for k in range(niters):\n",
    "    x = x - 1.0 / taus[good_perm_even[k]] * r\n",
    "    r = A @ x - f\n",
    "    rel_error_ch.append(np.linalg.norm(x - x_true, 2) / np.linalg.norm(x_true, 2))\n",
    "    if rel_error_ch[-1] <= tol:\n",
    "        break"
   ]
  },
  {
   "cell_type": "code",
   "execution_count": 8,
   "metadata": {
    "id": "-8_XlhIGKKij",
    "outputId": "7128e900-a259-439f-8bae-db55ee802640"
   },
   "outputs": [
    {
     "name": "stdout",
     "output_type": "stream",
     "text": [
      "Number of iteration k = 5058\n",
      "Realtive error: 9.676818136301523e-05\n"
     ]
    },
    {
     "data": {
      "image/png": "[encoded data removed]",
      "text/plain": [
       "<Figure size 648x432 with 1 Axes>"
      ]
     },
     "metadata": {
      "needs_background": "light"
     },
     "output_type": "display_data"
    }
   ],
   "source": [
    "import matplotlib.pyplot as plt\n",
    "\n",
    "plt.rcParams['figure.figsize'] = (9, 6)\n",
    "#plt.plot(list(range(1, k + 2)), rel_error_ch)\n",
    "plt.semilogy(rel_error_ch, 'r')\n",
    "plt.xlabel('k', fontsize=12)\n",
    "plt.ylabel('Relative error', fontsize=12)\n",
    "plt.title('Convergence of Chebyshev iteration');\n",
    "#plt.yscale('log')\n",
    "#plt.xscale('log');\n",
    "print('Number of iteration k =', k + 1)\n",
    "print('Realtive error:', rel_error_ch[-1])"
   ]
  },
  {
   "cell_type": "markdown",
   "metadata": {
    "id": "HUy39_gNKKik"
   },
   "source": [
    "#### Conjugate gradient method"
   ]
  },
  {
   "cell_type": "code",
   "execution_count": 9,
   "metadata": {
    "id": "n40sAejtKKik"
   },
   "outputs": [],
   "source": [
    "# Conjugate gradient method\n",
    "num_iter = 200\n",
    "rel_error_cg = []\n",
    "\n",
    "def a_norm(A, x):\n",
    "    return np.sqrt(np.inner(A @ x, x))\n",
    "    \n",
    "x = np.zeros(A.shape[0])\n",
    "r = f \n",
    "p = r\n",
    "\n",
    "for k in range(1, num_iter + 1):\n",
    "    v = A @ p\n",
    "    \n",
    "    r_prev = r\n",
    "    a = np.inner(r_prev, r_prev) / np.inner(v, p)\n",
    "    r = r - a * v\n",
    "    x = x + a * p\n",
    "    b = np.inner(r, r) / np.inner(r_prev, r_prev)\n",
    "    p = r + b * p\n",
    "    \n",
    "    rel_error_cg.append(a_norm(A, (x - x_true)) / a_norm(A, (x_true)))\n",
    "    if rel_error_cg[-1] <= tol:\n",
    "        break"
   ]
  },
  {
   "cell_type": "code",
   "execution_count": 11,
   "metadata": {
    "id": "n8Gt3NzHKKik",
    "outputId": "489b10e0-b674-4814-bd6f-08ba453de00b"
   },
   "outputs": [
    {
     "name": "stdout",
     "output_type": "stream",
     "text": [
      "Number of iteration k = 140\n",
      "Realtive error: 9.799735466991376e-05\n"
     ]
    },
    {
     "data": {
      "image/png": "[encoded data removed]",
      "text/plain": [
       "<Figure size 648x432 with 1 Axes>"
      ]
     },
     "metadata": {
      "needs_background": "light"
     },
     "output_type": "display_data"
    }
   ],
   "source": [
    "plt.rcParams['figure.figsize'] = (9, 6)\n",
    "#plt.plot(list(range(1, k + 2)), rel_error_ch)\n",
    "plt.semilogy(rel_error_cg, 'g')\n",
    "plt.xlabel('k', fontsize=12)\n",
    "plt.ylabel('Relative error', fontsize=12)\n",
    "plt.title('Convergence of Conjugate gradient');\n",
    "#plt.yscale('log')\n",
    "#plt.xscale('log');\n",
    "print('Number of iteration k =', k)\n",
    "print('Realtive error:', rel_error_cg[-1])"
   ]
  },
  {
   "cell_type": "markdown",
   "metadata": {
    "id": "dh0nKsm46hpo"
   },
   "source": [
    "## Problem 2 (65 pts)\n",
    "### On the performance of conjugate gradient method for BTTB matrices.\n",
    "\n",
    "You are given 2D image (QR-code) and convolution operator $T$. The application of $T$ results in smoothing of the image. In exact arithmetic, the proposed $T$ is non-singular. However, it becomes rather ill-conditioned with increasing $N$ in finite precision arithmetic. In this task you need to study how the conjugate gradient method performs in this case."
   ]
  },
  {
   "cell_type": "markdown",
   "metadata": {
    "id": "3gi5DJJz6hps"
   },
   "source": [
    "The original passcode is given below:"
   ]
  },
  {
   "cell_type": "code",
   "execution_count": 15,
   "metadata": {
    "colab": {
     "base_uri": "https://localhost:8080/",
     "height": 265
    },
    "id": "mxPusfbx6hps",
    "outputId": "cf3e4c8c-8f24-4e93-9421-50804173d526"
   },
   "outputs": [
    {
     "data": {
      "text/plain": [
       "(-0.5, 329.5, 329.5, -0.5)"
      ]
     },
     "execution_count": 15,
     "metadata": {},
     "output_type": "execute_result"
    },
    {
     "data": {
      "image/png": "[encoded data removed]",
      "text/plain": [
       "<Figure size 432x288 with 1 Axes>"
      ]
     },
     "metadata": {
      "needs_background": "light"
     },
     "output_type": "display_data"
    }
   ],
   "source": [
    "import matplotlib.pyplot as plt\n",
    "import numpy as np\n",
    "x_qr = plt.imread('qrcode.gif')[:,:,0]\n",
    "n = x_qr.shape[0]\n",
    "plt.imshow(x_qr, cmap=\"gray\")\n",
    "plt.axis(\"off\")"
   ]
  },
  {
   "cell_type": "markdown",
   "metadata": {
    "id": "uHzqVBAK6hpu"
   },
   "source": [
    "Blurring can be performed by convolving $n\\times n$ QR-code with the following filter:\n",
    "\n",
    "$$T_{i_1j_1,i_2j_2} = T_{i_1-j_1,i_2-j_2} = \\frac{\\alpha}{\\pi}e^{-\\alpha[(i_1-j_1)^2 + (i_2-j_2)^2]}, \\quad i_1,j_1,i_2,j_2 = 1 \\ldots n, \\quad 1 > \\alpha > 0.$$\n",
    "\n",
    "You know from lectures that this convolution can be viewed as a matrix-vector multiplication of some BTTB matrix $T$ of size $n^2 \\times n^2$."
   ]
  },
  {
   "cell_type": "markdown",
   "metadata": {
    "id": "nQSQVkG86hpu"
   },
   "source": [
    "## Task 1 (15 pts) \n",
    "\n",
    "- Write function `T_matvec()` that performs multiplication of $T$ by a given vector $x$ efficiently. Remember about FFT.\n",
    "- Use `scipy.sparse.linalg.LinearOperator` to create an object that has attribute `.dot()` (this object will be further used in the iterative process). Note that `.dot()` input and output must be 1D vectors, so do not forget to use reshape."
   ]
  },
  {
   "cell_type": "code",
   "execution_count": 16,
   "metadata": {
    "id": "SKiL6Iky6hpv"
   },
   "outputs": [],
   "source": [
    "from scipy.sparse.linalg import LinearOperator\n",
    "\n",
    "def mat_from_vec(x):\n",
    "    n = int(np.sqrt(x.shape[0]))\n",
    "    x = np.split(x, n)\n",
    "    \n",
    "    for i, arr in enumerate(x):\n",
    "        x[i] = np.append(arr, [0] * (n - 1))\n",
    "    x = np.array(x)\n",
    "    for i in range(n - 1):\n",
    "        x = np.append(x, np.array([[0] * (2 * n - 1)]), axis=0)\n",
    "\n",
    "    return x\n",
    "\n",
    "\n",
    "def mat_of_bttb(n, alpha):\n",
    "    A = np.zeros((2 * n - 1, 2 * n - 1))\n",
    "    ij = list(range(0, n))\n",
    "    ij.extend(list(range(-n + 1, 0)))\n",
    "\n",
    "    for i, ij_1 in enumerate(ij):\n",
    "        for j, ij_2 in enumerate(ij):\n",
    "            A[i, j] = alpha / np.pi * np.exp(-alpha * (ij_1 ** 2 + ij_2 ** 2))    \n",
    "\n",
    "    return A\n",
    "\n",
    "\n",
    "def T_matvec(x, alpha):\n",
    "    n = int(np.sqrt(x.shape[0]))\n",
    "    x = mat_from_vec(x)\n",
    "    A = mat_of_bttb(n, alpha)\n",
    "    \n",
    "    mat_vec = np.fft.ifft2(np.fft.fft2(A) * np.fft.fft2(x)) \n",
    "    return np.reshape(mat_vec.T[:n, :n], newshape=n ** 2, order='f')\n",
    "\n",
    "T_1 = LinearOperator((n**2, n**2), matvec = lambda x : T_matvec(x, alpha=0.1))\n",
    "T_2 = LinearOperator((n**2, n**2), matvec = lambda x : T_matvec(x, alpha=0.01))\n",
    "T_3 = LinearOperator((n**2, n**2), matvec = lambda x : T_matvec(x, alpha=0.001))"
   ]
  },
  {
   "cell_type": "markdown",
   "metadata": {
    "id": "Vpj3Llkc6hpv"
   },
   "source": [
    "**Remark.** The obtained matrix $T$ is positive definite (at least in the exact arithmetic), hence the conjugate gradient method can be applied to solve with $T$.\n",
    "\n",
    "**Bonus question: Prove the remark above.**\n",
    "\n",
    "First of all: a matrix is positive definite if it’s symmetric and all its eigenvalues are positive [source](chrome-extension://efaidnbmnnnibpcajpcglclefindmkaj/viewer.html?pdfurl=https%3A%2F%2Fwww.math.utah.edu%2F~zwick%2FClasses%2FFall2012_2270%2FLectures%2FLecture33_with_Examples.pdf&clen=73970&chunk=true).\n",
    "\n",
    "Out BTTB is symmetric because of squared indexes. What about positive eigenvalues?\n",
    "\n",
    "Also there is a Lemma 4.1. [from here](chrome-extension://efaidnbmnnnibpcajpcglclefindmkaj/viewer.html?pdfurl=https%3A%2F%2Fee.stanford.edu%2F~gray%2Ftoeplitz.pdf&clen=466426&chunk=true):\n",
    "\n",
    "Let $\\tau_{n,k}$ be the eigenvalues of a Toeplitz matrix $T_n(f)$. If $T_n(f)$ Hermitian:\n",
    "\n",
    "$$ m_f \\leq \\tau_{n,k} \\leq M_f, $$\n",
    "\n",
    "where $m_f$ and $M_f$ are the greatest lower bound and the least upper bound of $f(\\lambda)$ rexpectively.\n",
    "\n",
    "Let $\\{t_k; k=0, \\pm 1,\\dots, \\pm n\\}$ is a sequence which define the finite $(n \\times n)$ Toeplitz matrix $T_n = \\{t_{k-j}\\}$.\n",
    "\n",
    "If $t_k$ are absolutely summable, i.e:\n",
    "\n",
    "$$\\sum_{k=-\\infty}^{\\infty} |t_k| < \\infty$$\n",
    "\n",
    "Then the Fourier series $f(\\lambda)$ exists:\n",
    "\n",
    "$$ f(\\lambda) = \\sum_{k=-\\infty}^{\\infty} t_k e^{ik\\lambda}, $$\n",
    "\n",
    "Lets consider the first block matrix of initail BTTB, then:\n",
    "\n",
    "$$ t_0 = \\frac{\\alpha}{\\pi} e^{-\\alpha \\cdot 0^2}, t_{k-j} = t_0$$\n",
    "\n",
    "$$ t_1 = \\frac{\\alpha}{\\pi} e^{-\\alpha \\cdot 1^2}, t_{k-j} = t_1$$\n",
    "\n",
    "$$ t_2 = \\frac{\\alpha}{\\pi} e^{-\\alpha \\cdot 2^2}, t_{k-j} = t_2 $$\n",
    "\n",
    "$$ \\vdots$$\n",
    "\n",
    "$$ t_{n-1} = \\frac{\\alpha}{\\pi} e^{-\\alpha \\cdot (n-1)^2}, t_{k-j} = t_{n-1}$$\n",
    "\n",
    "Hence, the sequence:\n",
    "\n",
    "$$ \\{t_k = \\frac{\\alpha}{\\pi} e^{-\\alpha \\cdot (k)^2}; k=0, \\pm 1,\\dots, \\pm n\\}$$\n",
    "\n",
    "It's clear, that this sequence is bounded from above and we have: $ \\sum_{k=-\\infty}^{\\infty} |t_k| < \\infty$\n",
    "\n",
    "So, we can say that Fourier series exists and equals:\n",
    "\n",
    "$$ f(\\lambda) = \\sum_{k=-\\infty}^{\\infty} \\frac{\\alpha}{\\pi} e^{-\\alpha \\cdot (k)^2} e^{ik\\lambda} \\iff f(\\lambda) = \\sum_{k=-\\infty}^{\\infty} \\frac{\\alpha}{\\pi} e^{-\\alpha k^2 + ik\\lambda}$$\n",
    "\n",
    "WolframAlpha suggested a [solution](https://www.wolframalpha.com/input/?i2d=true&i=Sum%5BDivide%5Ba%2Cpi%5Dexp%5C%2840%29-a+Power%5Bk%2C2%5D+%2B+ikl%5C%2841%29%2C%7Bk%2C-infty%2Cinfty%7D%5D):\n",
    "\n",
    "$$ f(\\lambda) = \\frac{\\alpha \\space \\theta_3 \\big( \\frac{\\lambda}{2}, e^{-\\alpha} \\big)}{\\pi},$$\n",
    "\n",
    "where $\\theta_3$ is an Elliptic Theta function #3 ([source](https://reference.wolfram.com/language/ref/EllipticTheta.html)):\n",
    "\n",
    "$$ \\theta_3(u, q) = 1 + 2 \\sum_{n=1}^{\\infty} q^{n^2} \\mathrm{cos}(2nu) $$\n",
    "\n",
    "Then back to $f(\\lambda)$:\n",
    "\n",
    "$$ f(\\lambda) = \\frac{\\alpha \\big( 1 + 2 \\sum_{n=1}^{\\infty} (e ^{-\\alpha})^{n^2} \\mathrm{cos}(n\\lambda) \\big)}{\\pi} $$\n",
    "\n",
    "If $\\alpha \\geq 0 \\implies f(\\lambda) \\geq 0 \\implies$ eigenvalues $\\geq 0$.\n",
    "\n",
    "Which leads to a positive defeinite $T$. Then, may be, it can be generalized. Also, the last statement from above is taken without analytical proof. Anyway, I ran out of time.\n",
    "\n",
    "\n",
    "<br><br><br><br><br><br>\n",
    "\n",
    "#### First attempts\n",
    "\n",
    "**Sylvester's criterion**\n",
    "\n",
    "If a $n \\times n$ Hermitian matrix $T$ is positive-definite if and only if all of the leading principal minors must be positive.\n",
    "\n",
    "$$T = \\begin{bmatrix}\n",
    "T_{0} & T_{-1} & \\dots & T_{1 - n} \\\\\n",
    "T_{1} & T_{0} & \\dots & T_{2 - n} \\\\\n",
    "\\vdots & \\vdots & \\ddots & \\vdots \\\\\n",
    "T_{n - 1} & T_{n - 2} & \\dots & T_{0} \\end{bmatrix},$$\n",
    "\n",
    "Moreove in our case: \n",
    "\n",
    "$$T = \\begin{bmatrix}\n",
    "T_{0} & T_{1} & \\dots & T_{n - 1} \\\\\n",
    "T_{1} & T_{0} & \\dots & T_{n - 2} \\\\\n",
    "\\vdots & \\vdots & \\ddots & \\vdots \\\\\n",
    "T_{n - 1} & T_{n - 2} & \\dots & T_{0} \\end{bmatrix},$$\n",
    "\n",
    "Then leading principal minors are:\n",
    "\n",
    "$$ \\Delta_1 = T_{0}, \\Delta_2 = \\begin{vmatrix}\n",
    "T_{0} & T_{1} \\\\\n",
    "T_{1} & T_{0} \\end{vmatrix}, \\dots, \\Delta_i = \\begin{vmatrix}\n",
    "T_{0} & T_{1} & \\dots & T_{i - 1} \\\\\n",
    "T_{1} & T_{0} & \\dots & T_{i - 2} \\\\\n",
    "\\vdots & \\vdots & \\ddots & \\vdots \\\\\n",
    "T_{i - 1} & T_{i - 2} & \\dots & T_{0} \\end{vmatrix}$$\n",
    "\n",
    "First: $\\Delta_1 > 0$\n",
    "\n",
    "With use of a [property](https://en.wikipedia.org/wiki/Block_matrix#Block_matrix_determinant) of symmetric block matrix determinant, the second leading principal minor is:\n",
    "\n",
    "$$\\Delta_2 = \\begin{bmatrix}\n",
    "T_{0} & T_{1} \\\\\n",
    "T_{1} & T_{0} \\end{bmatrix} \\iff \\Delta_2 = \\mathrm{det}(T_0 - T_1) \\mathrm{det}(T_0 + T_1)$$\n",
    "\n",
    "Obvious, that: $\\mathrm{det}(T_0 + T_1)$\n",
    "\n",
    "Since when index increases a power of Euler number in the denominator increases, hence, $T_0 > T_1$, so:\n",
    "\n",
    "$$ \\Delta_2 > 0$$\n",
    "\n",
    "Lets have a look on the third principal minor:\n",
    "\n",
    "$$\\Delta_3 = \\begin{vmatrix}\n",
    "T_0 & T_1 & T_2 \\\\\n",
    "T_1 & T_0 & T_1 \\\\\n",
    "T_2 & T_1 & T_0 \\\\ \\end{vmatrix} = T_0 \\begin{vmatrix}\n",
    "T_0 & T_1 \\\\\n",
    "T_1 &  T_0 \\end{vmatrix} - T_1 \\begin{vmatrix}\n",
    "T_1 & T_1 \\\\\n",
    "T_2 &  T_0 \\end{vmatrix} + T_2 \\begin{vmatrix}\n",
    "T_1 & T_0 \\\\\n",
    "T_2 &  T_1 \\end{vmatrix}$$"
   ]
  },
  {
   "cell_type": "markdown",
   "metadata": {
    "id": "fyoFYerG6hpw"
   },
   "source": [
    "## Task 2 (10 pts) \n",
    "- For $\\alpha \\in \\{ 0.1, 0.01,0.001\\}$ compute $y=Tx$ and deconvolve $x$ using `scipy.sparse.linalg.cg` with $tol \\in \\{10^{-3}, 10^{-4}, 10^{-5}, 10^{-6}, 10^{-7}\\}$. For each pair $\\alpha$, $tol$ write out `num_iters` and relative error $e = \\frac{\\|x - x^*\\|_2}{\\|x\\|_2}$ .\n",
    "- Comment on the results: \n",
    "\n",
    "    1) why the relative error does not converge to zero? \n",
    "    \n",
    "    2) why the relative error converges to different values for different $\\alpha$?"
   ]
  },
  {
   "cell_type": "code",
   "execution_count": null,
   "metadata": {
    "id": "1ZziAoPv6hpw",
    "outputId": "251b4603-94e0-4314-d624-eac51a0eec8b"
   },
   "outputs": [
    {
     "name": "stdout",
     "output_type": "stream",
     "text": [
      "For alpha = 0.1 and tol = 0.001\n",
      "Relative error: 0.12847145208381036, number of iterations: 11\n",
      "\n",
      "For alpha = 0.1 and tol = 0.0001\n",
      "Relative error: 0.10191431361088153, number of iterations: 46\n",
      "\n",
      "For alpha = 0.1 and tol = 1e-05\n",
      "Relative error: 0.09586763786282183, number of iterations: 136\n",
      "\n",
      "For alpha = 0.1 and tol = 1e-06\n",
      "Relative error: 0.07219466311014011, number of iterations: 787\n",
      "\n",
      "For alpha = 0.1 and tol = 1e-07\n",
      "Relative error: 0.06678284923880298, number of iterations: 2375\n",
      "\n",
      "For alpha = 0.01 and tol = 0.001\n",
      "Relative error: 0.2151919309181162, number of iterations: 18\n",
      "\n",
      "For alpha = 0.01 and tol = 0.0001\n",
      "Relative error: 0.20193916147301713, number of iterations: 53\n",
      "\n",
      "For alpha = 0.01 and tol = 1e-05\n",
      "Relative error: 0.19716583755859354, number of iterations: 169\n",
      "\n",
      "For alpha = 0.01 and tol = 1e-06\n",
      "Relative error: 0.19487075035913684, number of iterations: 564\n",
      "\n",
      "For alpha = 0.01 and tol = 1e-07\n",
      "Relative error: 0.18957325617869322, number of iterations: 2532\n",
      "\n",
      "For alpha = 0.001 and tol = 0.001\n",
      "Relative error: 0.43627179661633714, number of iterations: 13\n",
      "\n",
      "For alpha = 0.001 and tol = 0.0001\n",
      "Relative error: 0.4197951783360356, number of iterations: 50\n",
      "\n",
      "For alpha = 0.001 and tol = 1e-05\n",
      "Relative error: 0.4000549001472259, number of iterations: 163\n",
      "\n",
      "For alpha = 0.001 and tol = 1e-06\n",
      "Relative error: 0.3804390150989798, number of iterations: 544\n",
      "\n",
      "For alpha = 0.001 and tol = 1e-07\n",
      "Relative error: 0.3696250307699775, number of iterations: 1593\n",
      "\n"
     ]
    }
   ],
   "source": [
    "from scipy.sparse.linalg import cg\n",
    "x = x_qr\n",
    "n = x.shape[0]\n",
    "\n",
    "x = np.reshape(x.T, newshape=n ** 2, order='f')\n",
    "alpha = [0.1, 0.01, 0.001]\n",
    "tol = [1e-3, 1e-4, 1e-5, 1e-6, 1e-7]\n",
    "\n",
    "def cg_update(T, y, t):\n",
    "    num_iters = 0\n",
    "\n",
    "    def callback(xk):\n",
    "        nonlocal num_iters\n",
    "        num_iters+=1\n",
    "\n",
    "    x, status = cg(T, y, tol=t, callback=callback)\n",
    "    return x, status, num_iters\n",
    "\n",
    "\n",
    "for a in alpha:\n",
    "    T = LinearOperator((n**2, n**2), matvec = lambda x : T_matvec(x, alpha=a))\n",
    "    y = T.dot(x)\n",
    "    #print(T.dot(np.eye(n ** 2))[6:9, :3])\n",
    "    \n",
    "    for t in tol: \n",
    "        x_hat, status, num_iters = cg_update(T, y, t)\n",
    "        rel_error = np.linalg.norm(x - x_hat, 2) / np.linalg.norm(x, 2)\n",
    "        print(f'For alpha = {a} and tol = {t}\\nRelative error: {rel_error}, number of iterations: {num_iters}', end='\\n\\n')"
   ]
  },
  {
   "cell_type": "markdown",
   "metadata": {},
   "source": [
    "#### The reason why CG method does not converge is a that our problem is ill-conditioned. So, a condition number of $T$ is large. Converges varies for different $\\alpha$ because entries of matrix $T$ depends on $\\alpha$. So, for some $\\alpha$ condition numbers of $A$ may be better, than for other. For this case, I assume, that with some $\\alpha$ there are more zero entries."
   ]
  },
  {
   "cell_type": "markdown",
   "metadata": {
    "id": "lJ4XOLfw6hpx"
   },
   "source": [
    "In all further tasks fix $\\alpha = 0.01$. Compute $y = Tx$, and add vector with Gaussian noise from $\\mathcal{N}(0, 1)$ to $y$ and get the final right-hand side $\\hat{y}$.\n",
    "\n",
    "## Task 3 (10 pts)\n",
    "- Try to deconvolve $\\hat{y}$ with matrix $T$ using $tol=10^{-5}$ in CG. Explain, why CG does not converge.\n",
    "- Suggest how CG can still be used to recover $x$. What are drawbacks of the suggested approach?"
   ]
  },
  {
   "cell_type": "code",
   "execution_count": 17,
   "metadata": {
    "id": "gkI4DXVbKKin"
   },
   "outputs": [],
   "source": [
    "from scipy.sparse.linalg import cg\n",
    "x = x_qr\n",
    "n = x.shape[0]\n",
    "\n",
    "x = np.reshape(x.T, newshape=n ** 2, order='f')\n",
    "\n",
    "T_f = LinearOperator((n**2, n**2), matvec = lambda x : T_matvec(x, alpha=0.01))\n",
    "y_hat = T_f.dot(x) + np.random.randn(x.shape[0])"
   ]
  },
  {
   "cell_type": "code",
   "execution_count": 18,
   "metadata": {
    "id": "JzT0Wfzl6hpx",
    "outputId": "52eca31c-921d-45cf-dca2-915e47751453"
   },
   "outputs": [
    {
     "name": "stdout",
     "output_type": "stream",
     "text": [
      "Iteration: 10, relative error: 0.7011279792322057\n",
      "\n",
      "Iteration: 20, relative error: 40.9268999542165\n",
      "\n",
      "Iteration: 30, relative error: 355.47067259533225\n",
      "\n",
      "Iteration: 40, relative error: 1004.9612567186348\n",
      "\n",
      "Iteration: 50, relative error: 1898.1644300137934\n",
      "\n",
      "-------------------------------------------------\n",
      "Iteration: 60, relative error: 3192.417858226264\n",
      "\n"
     ]
    },
    {
     "ename": "KeyboardInterrupt",
     "evalue": "",
     "output_type": "error",
     "traceback": [
      "\u001b[1;31m---------------------------------------------------------------------------\u001b[0m",
      "\u001b[1;31mKeyboardInterrupt\u001b[0m                         Traceback (most recent call last)",
      "\u001b[1;32m<ipython-input-18-41158abefd7e>\u001b[0m in \u001b[0;36m<module>\u001b[1;34m\u001b[0m\n\u001b[0;32m     18\u001b[0m     \u001b[1;32mreturn\u001b[0m \u001b[0mx_cb\u001b[0m\u001b[1;33m,\u001b[0m \u001b[0mstatus_cb\u001b[0m\u001b[1;33m,\u001b[0m \u001b[0mnum_iters_cb\u001b[0m\u001b[1;33m\u001b[0m\u001b[1;33m\u001b[0m\u001b[0m\n\u001b[0;32m     19\u001b[0m \u001b[1;33m\u001b[0m\u001b[0m\n\u001b[1;32m---> 20\u001b[1;33m \u001b[0mx_hat_f\u001b[0m\u001b[1;33m,\u001b[0m \u001b[0mstatus_f\u001b[0m\u001b[1;33m,\u001b[0m \u001b[0mnum_iters_f\u001b[0m \u001b[1;33m=\u001b[0m \u001b[0mcg_update\u001b[0m\u001b[1;33m(\u001b[0m\u001b[0mT_f\u001b[0m\u001b[1;33m,\u001b[0m \u001b[0my_hat\u001b[0m\u001b[1;33m,\u001b[0m \u001b[0mt\u001b[0m\u001b[1;33m=\u001b[0m\u001b[1;36m1e-5\u001b[0m\u001b[1;33m)\u001b[0m\u001b[1;33m\u001b[0m\u001b[1;33m\u001b[0m\u001b[0m\n\u001b[0m\u001b[0;32m     21\u001b[0m \u001b[0mrel_error_f\u001b[0m \u001b[1;33m=\u001b[0m \u001b[0mnp\u001b[0m\u001b[1;33m.\u001b[0m\u001b[0mlinalg\u001b[0m\u001b[1;33m.\u001b[0m\u001b[0mnorm\u001b[0m\u001b[1;33m(\u001b[0m\u001b[0mx\u001b[0m \u001b[1;33m-\u001b[0m \u001b[0mx_hat\u001b[0m\u001b[1;33m,\u001b[0m \u001b[1;36m2\u001b[0m\u001b[1;33m)\u001b[0m \u001b[1;33m/\u001b[0m \u001b[0mnp\u001b[0m\u001b[1;33m.\u001b[0m\u001b[0mlinalg\u001b[0m\u001b[1;33m.\u001b[0m\u001b[0mnorm\u001b[0m\u001b[1;33m(\u001b[0m\u001b[0mx\u001b[0m\u001b[1;33m,\u001b[0m \u001b[1;36m2\u001b[0m\u001b[1;33m)\u001b[0m\u001b[1;33m\u001b[0m\u001b[1;33m\u001b[0m\u001b[0m\n\u001b[0;32m     22\u001b[0m \u001b[0mprint\u001b[0m\u001b[1;33m(\u001b[0m\u001b[1;34mf'Deconvolving of a vector with standard normal noize. Alpha = {0.01} and tol = {1e-5}\\nRelative error: {rel_error_f}, number of iterations: {num_iters_f}'\u001b[0m\u001b[1;33m)\u001b[0m\u001b[1;33m\u001b[0m\u001b[1;33m\u001b[0m\u001b[0m\n",
      "\u001b[1;32m<ipython-input-18-41158abefd7e>\u001b[0m in \u001b[0;36mcg_update\u001b[1;34m(T, y, t)\u001b[0m\n\u001b[0;32m     15\u001b[0m             \u001b[0mprint\u001b[0m\u001b[1;33m(\u001b[0m\u001b[1;34m'-------------------------------------------------'\u001b[0m\u001b[1;33m)\u001b[0m\u001b[1;33m\u001b[0m\u001b[1;33m\u001b[0m\u001b[0m\n\u001b[0;32m     16\u001b[0m \u001b[1;33m\u001b[0m\u001b[0m\n\u001b[1;32m---> 17\u001b[1;33m     \u001b[0mx_cb\u001b[0m\u001b[1;33m,\u001b[0m \u001b[0mstatus_cb\u001b[0m \u001b[1;33m=\u001b[0m \u001b[0mcg\u001b[0m\u001b[1;33m(\u001b[0m\u001b[0mT\u001b[0m\u001b[1;33m,\u001b[0m \u001b[0my\u001b[0m\u001b[1;33m,\u001b[0m \u001b[0mtol\u001b[0m\u001b[1;33m=\u001b[0m\u001b[0mt\u001b[0m\u001b[1;33m,\u001b[0m \u001b[0mcallback\u001b[0m\u001b[1;33m=\u001b[0m\u001b[0mcallback\u001b[0m\u001b[1;33m)\u001b[0m\u001b[1;33m\u001b[0m\u001b[1;33m\u001b[0m\u001b[0m\n\u001b[0m\u001b[0;32m     18\u001b[0m     \u001b[1;32mreturn\u001b[0m \u001b[0mx_cb\u001b[0m\u001b[1;33m,\u001b[0m \u001b[0mstatus_cb\u001b[0m\u001b[1;33m,\u001b[0m \u001b[0mnum_iters_cb\u001b[0m\u001b[1;33m\u001b[0m\u001b[1;33m\u001b[0m\u001b[0m\n\u001b[0;32m     19\u001b[0m \u001b[1;33m\u001b[0m\u001b[0m\n",
      "\u001b[1;32m~\\anaconda3\\lib\\site-packages\\scipy\\sparse\\linalg\\isolve\\iterative.py\u001b[0m in \u001b[0;36mcg\u001b[1;34m(A, b, x0, tol, maxiter, M, callback, atol)\u001b[0m\n",
      "\u001b[1;32m~\\anaconda3\\lib\\site-packages\\scipy\\_lib\\_threadsafety.py\u001b[0m in \u001b[0;36mcaller\u001b[1;34m(func, *a, **kw)\u001b[0m\n\u001b[0;32m     42\u001b[0m         \u001b[1;32mdef\u001b[0m \u001b[0mcaller\u001b[0m\u001b[1;33m(\u001b[0m\u001b[0mfunc\u001b[0m\u001b[1;33m,\u001b[0m \u001b[1;33m*\u001b[0m\u001b[0ma\u001b[0m\u001b[1;33m,\u001b[0m \u001b[1;33m**\u001b[0m\u001b[0mkw\u001b[0m\u001b[1;33m)\u001b[0m\u001b[1;33m:\u001b[0m\u001b[1;33m\u001b[0m\u001b[1;33m\u001b[0m\u001b[0m\n\u001b[0;32m     43\u001b[0m             \u001b[1;32mwith\u001b[0m \u001b[0mself\u001b[0m\u001b[1;33m:\u001b[0m\u001b[1;33m\u001b[0m\u001b[1;33m\u001b[0m\u001b[0m\n\u001b[1;32m---> 44\u001b[1;33m                 \u001b[1;32mreturn\u001b[0m \u001b[0mfunc\u001b[0m\u001b[1;33m(\u001b[0m\u001b[1;33m*\u001b[0m\u001b[0ma\u001b[0m\u001b[1;33m,\u001b[0m \u001b[1;33m**\u001b[0m\u001b[0mkw\u001b[0m\u001b[1;33m)\u001b[0m\u001b[1;33m\u001b[0m\u001b[1;33m\u001b[0m\u001b[0m\n\u001b[0m\u001b[0;32m     45\u001b[0m         \u001b[1;32mreturn\u001b[0m \u001b[0mscipy\u001b[0m\u001b[1;33m.\u001b[0m\u001b[0m_lib\u001b[0m\u001b[1;33m.\u001b[0m\u001b[0mdecorator\u001b[0m\u001b[1;33m.\u001b[0m\u001b[0mdecorate\u001b[0m\u001b[1;33m(\u001b[0m\u001b[0mfunc\u001b[0m\u001b[1;33m,\u001b[0m \u001b[0mcaller\u001b[0m\u001b[1;33m)\u001b[0m\u001b[1;33m\u001b[0m\u001b[1;33m\u001b[0m\u001b[0m\n\u001b[0;32m     46\u001b[0m \u001b[1;33m\u001b[0m\u001b[0m\n",
      "\u001b[1;32m~\\anaconda3\\lib\\site-packages\\scipy\\sparse\\linalg\\isolve\\iterative.py\u001b[0m in \u001b[0;36mcg\u001b[1;34m(A, b, x0, tol, maxiter, M, callback, atol)\u001b[0m\n\u001b[0;32m    327\u001b[0m         \u001b[1;32melif\u001b[0m \u001b[1;33m(\u001b[0m\u001b[0mijob\u001b[0m \u001b[1;33m==\u001b[0m \u001b[1;36m1\u001b[0m\u001b[1;33m)\u001b[0m\u001b[1;33m:\u001b[0m\u001b[1;33m\u001b[0m\u001b[1;33m\u001b[0m\u001b[0m\n\u001b[0;32m    328\u001b[0m             \u001b[0mwork\u001b[0m\u001b[1;33m[\u001b[0m\u001b[0mslice2\u001b[0m\u001b[1;33m]\u001b[0m \u001b[1;33m*=\u001b[0m \u001b[0msclr2\u001b[0m\u001b[1;33m\u001b[0m\u001b[1;33m\u001b[0m\u001b[0m\n\u001b[1;32m--> 329\u001b[1;33m             \u001b[0mwork\u001b[0m\u001b[1;33m[\u001b[0m\u001b[0mslice2\u001b[0m\u001b[1;33m]\u001b[0m \u001b[1;33m+=\u001b[0m \u001b[0msclr1\u001b[0m\u001b[1;33m*\u001b[0m\u001b[0mmatvec\u001b[0m\u001b[1;33m(\u001b[0m\u001b[0mwork\u001b[0m\u001b[1;33m[\u001b[0m\u001b[0mslice1\u001b[0m\u001b[1;33m]\u001b[0m\u001b[1;33m)\u001b[0m\u001b[1;33m\u001b[0m\u001b[1;33m\u001b[0m\u001b[0m\n\u001b[0m\u001b[0;32m    330\u001b[0m         \u001b[1;32melif\u001b[0m \u001b[1;33m(\u001b[0m\u001b[0mijob\u001b[0m \u001b[1;33m==\u001b[0m \u001b[1;36m2\u001b[0m\u001b[1;33m)\u001b[0m\u001b[1;33m:\u001b[0m\u001b[1;33m\u001b[0m\u001b[1;33m\u001b[0m\u001b[0m\n\u001b[0;32m    331\u001b[0m             \u001b[0mwork\u001b[0m\u001b[1;33m[\u001b[0m\u001b[0mslice1\u001b[0m\u001b[1;33m]\u001b[0m \u001b[1;33m=\u001b[0m \u001b[0mpsolve\u001b[0m\u001b[1;33m(\u001b[0m\u001b[0mwork\u001b[0m\u001b[1;33m[\u001b[0m\u001b[0mslice2\u001b[0m\u001b[1;33m]\u001b[0m\u001b[1;33m)\u001b[0m\u001b[1;33m\u001b[0m\u001b[1;33m\u001b[0m\u001b[0m\n",
      "\u001b[1;32m~\\anaconda3\\lib\\site-packages\\scipy\\sparse\\linalg\\interface.py\u001b[0m in \u001b[0;36mmatvec\u001b[1;34m(self, x)\u001b[0m\n\u001b[0;32m    230\u001b[0m             \u001b[1;32mraise\u001b[0m \u001b[0mValueError\u001b[0m\u001b[1;33m(\u001b[0m\u001b[1;34m'dimension mismatch'\u001b[0m\u001b[1;33m)\u001b[0m\u001b[1;33m\u001b[0m\u001b[1;33m\u001b[0m\u001b[0m\n\u001b[0;32m    231\u001b[0m \u001b[1;33m\u001b[0m\u001b[0m\n\u001b[1;32m--> 232\u001b[1;33m         \u001b[0my\u001b[0m \u001b[1;33m=\u001b[0m \u001b[0mself\u001b[0m\u001b[1;33m.\u001b[0m\u001b[0m_matvec\u001b[0m\u001b[1;33m(\u001b[0m\u001b[0mx\u001b[0m\u001b[1;33m)\u001b[0m\u001b[1;33m\u001b[0m\u001b[1;33m\u001b[0m\u001b[0m\n\u001b[0m\u001b[0;32m    233\u001b[0m \u001b[1;33m\u001b[0m\u001b[0m\n\u001b[0;32m    234\u001b[0m         \u001b[1;32mif\u001b[0m \u001b[0misinstance\u001b[0m\u001b[1;33m(\u001b[0m\u001b[0mx\u001b[0m\u001b[1;33m,\u001b[0m \u001b[0mnp\u001b[0m\u001b[1;33m.\u001b[0m\u001b[0mmatrix\u001b[0m\u001b[1;33m)\u001b[0m\u001b[1;33m:\u001b[0m\u001b[1;33m\u001b[0m\u001b[1;33m\u001b[0m\u001b[0m\n",
      "\u001b[1;32m~\\anaconda3\\lib\\site-packages\\scipy\\sparse\\linalg\\interface.py\u001b[0m in \u001b[0;36m_matvec\u001b[1;34m(self, x)\u001b[0m\n\u001b[0;32m    528\u001b[0m \u001b[1;33m\u001b[0m\u001b[0m\n\u001b[0;32m    529\u001b[0m     \u001b[1;32mdef\u001b[0m \u001b[0m_matvec\u001b[0m\u001b[1;33m(\u001b[0m\u001b[0mself\u001b[0m\u001b[1;33m,\u001b[0m \u001b[0mx\u001b[0m\u001b[1;33m)\u001b[0m\u001b[1;33m:\u001b[0m\u001b[1;33m\u001b[0m\u001b[1;33m\u001b[0m\u001b[0m\n\u001b[1;32m--> 530\u001b[1;33m         \u001b[1;32mreturn\u001b[0m \u001b[0mself\u001b[0m\u001b[1;33m.\u001b[0m\u001b[0m__matvec_impl\u001b[0m\u001b[1;33m(\u001b[0m\u001b[0mx\u001b[0m\u001b[1;33m)\u001b[0m\u001b[1;33m\u001b[0m\u001b[1;33m\u001b[0m\u001b[0m\n\u001b[0m\u001b[0;32m    531\u001b[0m \u001b[1;33m\u001b[0m\u001b[0m\n\u001b[0;32m    532\u001b[0m     \u001b[1;32mdef\u001b[0m \u001b[0m_rmatvec\u001b[0m\u001b[1;33m(\u001b[0m\u001b[0mself\u001b[0m\u001b[1;33m,\u001b[0m \u001b[0mx\u001b[0m\u001b[1;33m)\u001b[0m\u001b[1;33m:\u001b[0m\u001b[1;33m\u001b[0m\u001b[1;33m\u001b[0m\u001b[0m\n",
      "\u001b[1;32m<ipython-input-17-165a3156063a>\u001b[0m in \u001b[0;36m<lambda>\u001b[1;34m(x)\u001b[0m\n\u001b[0;32m      5\u001b[0m \u001b[0mx\u001b[0m \u001b[1;33m=\u001b[0m \u001b[0mnp\u001b[0m\u001b[1;33m.\u001b[0m\u001b[0mreshape\u001b[0m\u001b[1;33m(\u001b[0m\u001b[0mx\u001b[0m\u001b[1;33m.\u001b[0m\u001b[0mT\u001b[0m\u001b[1;33m,\u001b[0m \u001b[0mnewshape\u001b[0m\u001b[1;33m=\u001b[0m\u001b[0mn\u001b[0m \u001b[1;33m**\u001b[0m \u001b[1;36m2\u001b[0m\u001b[1;33m,\u001b[0m \u001b[0morder\u001b[0m\u001b[1;33m=\u001b[0m\u001b[1;34m'f'\u001b[0m\u001b[1;33m)\u001b[0m\u001b[1;33m\u001b[0m\u001b[1;33m\u001b[0m\u001b[0m\n\u001b[0;32m      6\u001b[0m \u001b[1;33m\u001b[0m\u001b[0m\n\u001b[1;32m----> 7\u001b[1;33m \u001b[0mT_f\u001b[0m \u001b[1;33m=\u001b[0m \u001b[0mLinearOperator\u001b[0m\u001b[1;33m(\u001b[0m\u001b[1;33m(\u001b[0m\u001b[0mn\u001b[0m\u001b[1;33m**\u001b[0m\u001b[1;36m2\u001b[0m\u001b[1;33m,\u001b[0m \u001b[0mn\u001b[0m\u001b[1;33m**\u001b[0m\u001b[1;36m2\u001b[0m\u001b[1;33m)\u001b[0m\u001b[1;33m,\u001b[0m \u001b[0mmatvec\u001b[0m \u001b[1;33m=\u001b[0m \u001b[1;32mlambda\u001b[0m \u001b[0mx\u001b[0m \u001b[1;33m:\u001b[0m \u001b[0mT_matvec\u001b[0m\u001b[1;33m(\u001b[0m\u001b[0mx\u001b[0m\u001b[1;33m,\u001b[0m \u001b[0malpha\u001b[0m\u001b[1;33m=\u001b[0m\u001b[1;36m0.01\u001b[0m\u001b[1;33m)\u001b[0m\u001b[1;33m)\u001b[0m\u001b[1;33m\u001b[0m\u001b[1;33m\u001b[0m\u001b[0m\n\u001b[0m\u001b[0;32m      8\u001b[0m \u001b[0my_hat\u001b[0m \u001b[1;33m=\u001b[0m \u001b[0mT_f\u001b[0m\u001b[1;33m.\u001b[0m\u001b[0mdot\u001b[0m\u001b[1;33m(\u001b[0m\u001b[0mx\u001b[0m\u001b[1;33m)\u001b[0m \u001b[1;33m+\u001b[0m \u001b[0mnp\u001b[0m\u001b[1;33m.\u001b[0m\u001b[0mrandom\u001b[0m\u001b[1;33m.\u001b[0m\u001b[0mrandn\u001b[0m\u001b[1;33m(\u001b[0m\u001b[0mx\u001b[0m\u001b[1;33m.\u001b[0m\u001b[0mshape\u001b[0m\u001b[1;33m[\u001b[0m\u001b[1;36m0\u001b[0m\u001b[1;33m]\u001b[0m\u001b[1;33m)\u001b[0m\u001b[1;33m\u001b[0m\u001b[1;33m\u001b[0m\u001b[0m\n",
      "\u001b[1;32m<ipython-input-16-6f2206173087>\u001b[0m in \u001b[0;36mT_matvec\u001b[1;34m(x, alpha)\u001b[0m\n\u001b[0;32m     28\u001b[0m \u001b[1;32mdef\u001b[0m \u001b[0mT_matvec\u001b[0m\u001b[1;33m(\u001b[0m\u001b[0mx\u001b[0m\u001b[1;33m,\u001b[0m \u001b[0malpha\u001b[0m\u001b[1;33m)\u001b[0m\u001b[1;33m:\u001b[0m\u001b[1;33m\u001b[0m\u001b[1;33m\u001b[0m\u001b[0m\n\u001b[0;32m     29\u001b[0m     \u001b[0mn\u001b[0m \u001b[1;33m=\u001b[0m \u001b[0mint\u001b[0m\u001b[1;33m(\u001b[0m\u001b[0mnp\u001b[0m\u001b[1;33m.\u001b[0m\u001b[0msqrt\u001b[0m\u001b[1;33m(\u001b[0m\u001b[0mx\u001b[0m\u001b[1;33m.\u001b[0m\u001b[0mshape\u001b[0m\u001b[1;33m[\u001b[0m\u001b[1;36m0\u001b[0m\u001b[1;33m]\u001b[0m\u001b[1;33m)\u001b[0m\u001b[1;33m)\u001b[0m\u001b[1;33m\u001b[0m\u001b[1;33m\u001b[0m\u001b[0m\n\u001b[1;32m---> 30\u001b[1;33m     \u001b[0mx\u001b[0m \u001b[1;33m=\u001b[0m \u001b[0mmat_from_vec\u001b[0m\u001b[1;33m(\u001b[0m\u001b[0mx\u001b[0m\u001b[1;33m)\u001b[0m\u001b[1;33m\u001b[0m\u001b[1;33m\u001b[0m\u001b[0m\n\u001b[0m\u001b[0;32m     31\u001b[0m     \u001b[0mA\u001b[0m \u001b[1;33m=\u001b[0m \u001b[0mmat_of_bttb\u001b[0m\u001b[1;33m(\u001b[0m\u001b[0mn\u001b[0m\u001b[1;33m,\u001b[0m \u001b[0malpha\u001b[0m\u001b[1;33m)\u001b[0m\u001b[1;33m\u001b[0m\u001b[1;33m\u001b[0m\u001b[0m\n\u001b[0;32m     32\u001b[0m \u001b[1;33m\u001b[0m\u001b[0m\n",
      "\u001b[1;32m<ipython-input-16-6f2206173087>\u001b[0m in \u001b[0;36mmat_from_vec\u001b[1;34m(x)\u001b[0m\n\u001b[0;32m      9\u001b[0m     \u001b[0mx\u001b[0m \u001b[1;33m=\u001b[0m \u001b[0mnp\u001b[0m\u001b[1;33m.\u001b[0m\u001b[0marray\u001b[0m\u001b[1;33m(\u001b[0m\u001b[0mx\u001b[0m\u001b[1;33m)\u001b[0m\u001b[1;33m\u001b[0m\u001b[1;33m\u001b[0m\u001b[0m\n\u001b[0;32m     10\u001b[0m     \u001b[1;32mfor\u001b[0m \u001b[0mi\u001b[0m \u001b[1;32min\u001b[0m \u001b[0mrange\u001b[0m\u001b[1;33m(\u001b[0m\u001b[0mn\u001b[0m \u001b[1;33m-\u001b[0m \u001b[1;36m1\u001b[0m\u001b[1;33m)\u001b[0m\u001b[1;33m:\u001b[0m\u001b[1;33m\u001b[0m\u001b[1;33m\u001b[0m\u001b[0m\n\u001b[1;32m---> 11\u001b[1;33m         \u001b[0mx\u001b[0m \u001b[1;33m=\u001b[0m \u001b[0mnp\u001b[0m\u001b[1;33m.\u001b[0m\u001b[0mappend\u001b[0m\u001b[1;33m(\u001b[0m\u001b[0mx\u001b[0m\u001b[1;33m,\u001b[0m \u001b[0mnp\u001b[0m\u001b[1;33m.\u001b[0m\u001b[0marray\u001b[0m\u001b[1;33m(\u001b[0m\u001b[1;33m[\u001b[0m\u001b[1;33m[\u001b[0m\u001b[1;36m0\u001b[0m\u001b[1;33m]\u001b[0m \u001b[1;33m*\u001b[0m \u001b[1;33m(\u001b[0m\u001b[1;36m2\u001b[0m \u001b[1;33m*\u001b[0m \u001b[0mn\u001b[0m \u001b[1;33m-\u001b[0m \u001b[1;36m1\u001b[0m\u001b[1;33m)\u001b[0m\u001b[1;33m]\u001b[0m\u001b[1;33m)\u001b[0m\u001b[1;33m,\u001b[0m \u001b[0maxis\u001b[0m\u001b[1;33m=\u001b[0m\u001b[1;36m0\u001b[0m\u001b[1;33m)\u001b[0m\u001b[1;33m\u001b[0m\u001b[1;33m\u001b[0m\u001b[0m\n\u001b[0m\u001b[0;32m     12\u001b[0m \u001b[1;33m\u001b[0m\u001b[0m\n\u001b[0;32m     13\u001b[0m     \u001b[1;32mreturn\u001b[0m \u001b[0mx\u001b[0m\u001b[1;33m\u001b[0m\u001b[1;33m\u001b[0m\u001b[0m\n",
      "\u001b[1;32m<__array_function__ internals>\u001b[0m in \u001b[0;36mappend\u001b[1;34m(*args, **kwargs)\u001b[0m\n",
      "\u001b[1;32m~\\anaconda3\\lib\\site-packages\\numpy\\lib\\function_base.py\u001b[0m in \u001b[0;36mappend\u001b[1;34m(arr, values, axis)\u001b[0m\n\u001b[0;32m   4669\u001b[0m         \u001b[0mvalues\u001b[0m \u001b[1;33m=\u001b[0m \u001b[0mravel\u001b[0m\u001b[1;33m(\u001b[0m\u001b[0mvalues\u001b[0m\u001b[1;33m)\u001b[0m\u001b[1;33m\u001b[0m\u001b[1;33m\u001b[0m\u001b[0m\n\u001b[0;32m   4670\u001b[0m         \u001b[0maxis\u001b[0m \u001b[1;33m=\u001b[0m \u001b[0marr\u001b[0m\u001b[1;33m.\u001b[0m\u001b[0mndim\u001b[0m\u001b[1;33m-\u001b[0m\u001b[1;36m1\u001b[0m\u001b[1;33m\u001b[0m\u001b[1;33m\u001b[0m\u001b[0m\n\u001b[1;32m-> 4671\u001b[1;33m     \u001b[1;32mreturn\u001b[0m \u001b[0mconcatenate\u001b[0m\u001b[1;33m(\u001b[0m\u001b[1;33m(\u001b[0m\u001b[0marr\u001b[0m\u001b[1;33m,\u001b[0m \u001b[0mvalues\u001b[0m\u001b[1;33m)\u001b[0m\u001b[1;33m,\u001b[0m \u001b[0maxis\u001b[0m\u001b[1;33m=\u001b[0m\u001b[0maxis\u001b[0m\u001b[1;33m)\u001b[0m\u001b[1;33m\u001b[0m\u001b[1;33m\u001b[0m\u001b[0m\n\u001b[0m\u001b[0;32m   4672\u001b[0m \u001b[1;33m\u001b[0m\u001b[0m\n\u001b[0;32m   4673\u001b[0m \u001b[1;33m\u001b[0m\u001b[0m\n",
      "\u001b[1;32m<__array_function__ internals>\u001b[0m in \u001b[0;36mconcatenate\u001b[1;34m(*args, **kwargs)\u001b[0m\n",
      "\u001b[1;31mKeyboardInterrupt\u001b[0m: "
     ]
    }
   ],
   "source": [
    "'''from threading import Event\n",
    "global exit\n",
    "exit = Event()'''\n",
    "\n",
    "def cg_update(T, y, t):\n",
    "    num_iters_cb = 0\n",
    "\n",
    "    def callback(xk):\n",
    "        nonlocal num_iters_cb\n",
    "        num_iters_cb += 1\n",
    "        \n",
    "        if num_iters_cb % 10 == 0:\n",
    "            print(f'Iteration: {num_iters_cb}, relative error: {np.linalg.norm(x - xk, 2) / np.linalg.norm(x, 2)}', end='\\n\\n')\n",
    "        if num_iters_cb % 50 == 0:\n",
    "            print('-------------------------------------------------')\n",
    "            \n",
    "    x_cb, status_cb = cg(T, y, tol=t, callback=callback)\n",
    "    return x_cb, status_cb, num_iters_cb\n",
    "\n",
    "x_hat_f, status_f, num_iters_f = cg_update(T_f, y_hat, t=1e-5)\n",
    "rel_error_f = np.linalg.norm(x - x_hat, 2) / np.linalg.norm(x, 2)\n",
    "print(f'Deconvolving of a vector with standard normal noize. Alpha = {0.01} and tol = {1e-5}\\nRelative error: {rel_error_f}, number of iterations: {num_iters_f}')"
   ]
  },
  {
   "cell_type": "markdown",
   "metadata": {
    "id": "NHefmaBqKKin"
   },
   "source": [
    "After adding the noize our system became ill-posed because now the solution of problem does not depend continuously on the data [source](https://www.researchgate.net/publication/228563413_Regularization_of_linear_ill-posed_problems_with_noisy_right_hand_side_and_noisy_operator).\n",
    "\n",
    "We can apply regulirization technique to decrease a condition number as it stated [here](https://www.jstor.org/stable/43693008?seq=4#metadata_info_tab_contents). Or do a preconditioning, or both simulteniously.\n",
    "\n",
    "Also used [this](chrome-extension://efaidnbmnnnibpcajpcglclefindmkaj/viewer.html?pdfurl=http%3A%2F%2Fwww.mit.edu%2F~9.520%2Fscribe-notes%2Fcl7.pdf&clen=210938&chunk=true) and this [wiki](https://en.wikipedia.org/wiki/Tikhonov_regularization).\n",
    "\n",
    "So, about drawbacks:\n",
    "\n",
    " - **Regulirization.** After addition of a some regulirization parameters, we actually solve a little bit different system. If problem has some specific physical sense (for example), it has to be some how explained.\n",
    " \n",
    " - **Preconditioning.** We make our calcuations more complex as well we added operation (correct me if I am wrong, but in CG method we add one matrix-by-vector product). Sometimes it does not worth it."
   ]
  },
  {
   "cell_type": "markdown",
   "metadata": {
    "id": "ez3m0Y-n6hpy"
   },
   "source": [
    "## Task 4 (10 pts)\n",
    "\n",
    "- Implement Tikhonov regularization, i.e. deconvolve $\\hat{y}$ with the perturbed matrix $T_{\\lambda} = T + \\lambda^2I$ instead of $T$. Modify `T_matvec()` according to the template below.\n",
    "- Perform computations for all $\\lambda \\in \\{10, 1, 0.1\\}$ and $tol \\in \\{10^{-3}, 10^{-4}, 10^{-5},10^{-6}, 10^{-7} \\}$. For each pair $(\\lambda, tol)$ write out `num_iters` and relative error $e = \\frac{\\|x - x^*\\|_2}{\\|x\\|_2}$. Comment on the results: \n",
    "    - Compare robustness of the convergence with task 2. What the observed results indicate?"
   ]
  },
  {
   "cell_type": "code",
   "execution_count": 19,
   "metadata": {
    "id": "IIs9QI7R6hpy"
   },
   "outputs": [],
   "source": [
    "def mat_of_bttb_lmbda(n, alpha, lmbda):\n",
    "    A = np.zeros((2 * n - 1, 2 * n - 1))\n",
    "    ij = list(range(0, n))\n",
    "    ij.extend(list(range(-n + 1, 0)))\n",
    "\n",
    "    for i, ij_1 in enumerate(ij):\n",
    "        for j, ij_2 in enumerate(ij):\n",
    "            if (ij_1 == 0) & (ij_2 == 0):\n",
    "                A[i, j] = alpha / np.pi * np.exp(-alpha * (ij_1 ** 2 + ij_2 ** 2)) + lmbda ** 2\n",
    "            else:\n",
    "                A[i, j] = alpha / np.pi * np.exp(-alpha * (ij_1 ** 2 + ij_2 ** 2))    \n",
    "\n",
    "    return A\n",
    "\n",
    "\n",
    "def T_lmbda_matvec(x, alpha, lmbda):\n",
    "    n = int(np.sqrt(x.shape[0]))\n",
    "    x = mat_from_vec(x)\n",
    "    A = mat_of_bttb_lmbda(n, alpha, lmbda)\n",
    "    \n",
    "    mat_vec = np.fft.ifft2(np.fft.fft2(A) * np.fft.fft2(x)) \n",
    "    return np.reshape(mat_vec.T[:n, :n], newshape=n ** 2, order='f')"
   ]
  },
  {
   "cell_type": "code",
   "execution_count": 20,
   "metadata": {
    "colab": {
     "base_uri": "https://localhost:8080/"
    },
    "id": "dY1dQ_MzKKio",
    "outputId": "306a252d-cebd-4277-8cb5-ebcec040d999"
   },
   "outputs": [
    {
     "name": "stdout",
     "output_type": "stream",
     "text": [
      "For lambda = 10 and tol = 0.001\n",
      "Relative error: 4.723991562434895e-05, number of iterations: 2\n",
      "\n",
      "For lambda = 10 and tol = 0.0001\n",
      "Relative error: 4.723991562434895e-05, number of iterations: 2\n",
      "\n",
      "For lambda = 10 and tol = 1e-05\n",
      "Relative error: 4.723991562434895e-05, number of iterations: 2\n",
      "\n",
      "For lambda = 10 and tol = 1e-06\n",
      "Relative error: 4.6827381864372186e-05, number of iterations: 3\n",
      "\n",
      "For lambda = 10 and tol = 1e-07\n",
      "Relative error: 4.6827381864372186e-05, number of iterations: 3\n",
      "\n",
      "For lambda = 1 and tol = 0.001\n",
      "Relative error: 0.0047460892692038495, number of iterations: 4\n",
      "\n",
      "For lambda = 1 and tol = 0.0001\n",
      "Relative error: 0.004674672000476263, number of iterations: 6\n",
      "\n",
      "For lambda = 1 and tol = 1e-05\n",
      "Relative error: 0.004674736250581503, number of iterations: 7\n",
      "\n",
      "For lambda = 1 and tol = 1e-06\n",
      "Relative error: 0.004674765413181906, number of iterations: 8\n",
      "\n",
      "For lambda = 1 and tol = 1e-07\n",
      "Relative error: 0.004674769752428619, number of iterations: 9\n",
      "\n",
      "For lambda = 0.1 and tol = 0.001\n",
      "Relative error: 0.45667561257449885, number of iterations: 20\n",
      "\n",
      "For lambda = 0.1 and tol = 0.0001\n",
      "Relative error: 0.46099193053980203, number of iterations: 30\n",
      "\n",
      "For lambda = 0.1 and tol = 1e-05\n",
      "Relative error: 0.4612208336120343, number of iterations: 41\n",
      "\n",
      "For lambda = 0.1 and tol = 1e-06\n",
      "Relative error: 0.4612325807011866, number of iterations: 52\n",
      "\n",
      "For lambda = 0.1 and tol = 1e-07\n",
      "Relative error: 0.4612334183883945, number of iterations: 64\n",
      "\n"
     ]
    }
   ],
   "source": [
    "lmbda = [10, 1, 0.1]\n",
    "tol = [1e-3, 1e-4, 1e-5, 1e-6, 1e-7]\n",
    "\n",
    "def cg_update(T, y, t):\n",
    "    num_iters = 0\n",
    "\n",
    "    def callback(xk):\n",
    "        nonlocal num_iters\n",
    "        num_iters+=1\n",
    "\n",
    "    x, status = cg(T, y, tol=t, callback=callback)\n",
    "    return x, status, num_iters\n",
    "\n",
    "for l in lmbda: \n",
    "    T_4 = LinearOperator((n**2, n**2), matvec = lambda x : T_lmbda_matvec(x, alpha=0.01, lmbda=l))\n",
    "    y_4 = T_4.dot(x) + np.random.randn(x.shape[0]) \n",
    "\n",
    "    for t in tol: \n",
    "        x_hat_t4, status_t4, num_iters_t4 = cg_update(T_4, y_4, t)\n",
    "        rel_error_t4 = np.linalg.norm(x - x_hat_t4, 2) / np.linalg.norm(x, 2)\n",
    "        print(f'For lambda = {l} and tol = {t}\\nRelative error: {rel_error_t4}, number of iterations: {num_iters_t4}', end='\\n\\n')"
   ]
  },
  {
   "cell_type": "markdown",
   "metadata": {},
   "source": [
    "As it was stated, convergence now exists, although, it is also can be noticed, that our new system converge to a different answer."
   ]
  },
  {
   "cell_type": "markdown",
   "metadata": {
    "id": "ut0QG1AW6hpy"
   },
   "source": [
    "## Task 5 (20 pts)\n",
    "\n",
    "- Implement BCCB preconditioner for $T_{\\lambda}$ based on Strang preconditioner for Toeplitz matrix (hint: build circulants using first columns of Toeplitz matrices on both levels). You know from lectures that circulants can be explicitly inverted using convolution theorem. Implement the corresponding matvec according to the template provided below.\n",
    "- Check speedup in iterations and runtime that can be gained from the preconditioning for $\\alpha = 0.01$, $\\lambda = 1$ compared with Task 4. Explain results."
   ]
  },
  {
   "cell_type": "markdown",
   "metadata": {},
   "source": [
    "**In lectures were suggested to use a frist column of Toeplitz matrix to create a Strang preconditioner. I used approach, that was initally suggested by Strang in his [paper](https://onlinelibrary.wiley.com/doi/abs/10.1002/sapm1986742171): create a rpeconditioner from entries of a main diagonal and its neighbours.**"
   ]
  },
  {
   "cell_type": "code",
   "execution_count": 23,
   "metadata": {
    "id": "DiJcm6XQ6hpz"
   },
   "outputs": [],
   "source": [
    "def mat_of_bccb_lmbda(n, alpha, lmbda):\n",
    "    C = np.zeros((n, n))\n",
    "    ij_1_list = list(range(0, n // 2))\n",
    "    ij_1_list.extend(list(range(-n // 2, 0)))\n",
    "    \n",
    "    \n",
    "    for i, ij_1 in enumerate(ij_1_list):\n",
    "        for j, ij_2 in enumerate(ij_1_list):\n",
    "            if ij_1 == ij_2 == 0:\n",
    "                C[i, j] = alpha / np.pi * np.exp(-alpha * (ij_1 ** 2 + ij_2 ** 2)) + lmbda ** 2\n",
    "            else:\n",
    "                C[i, j] = alpha / np.pi * np.exp(-alpha * (ij_1 ** 2 + ij_2 ** 2))\n",
    "    return C\n",
    "\n",
    "def C_inv_matvec(x, alpha, lmbda):\n",
    "    n = int(np.sqrt(x.shape[0]))\n",
    "    x = np.array(np.split(x, n))\n",
    "    C = mat_of_bccb_lmbda(n, alpha, lmbda)\n",
    "    \n",
    "    mat_vec = np.fft.ifft2(1 / np.fft.fft2(C) * np.fft.fft2(x)) \n",
    "    return np.reshape(mat_vec.T, newshape=n ** 2, order='f')"
   ]
  },
  {
   "cell_type": "code",
   "execution_count": 41,
   "metadata": {},
   "outputs": [
    {
     "name": "stdout",
     "output_type": "stream",
     "text": [
      "For lambda = 1, alpha = 0.01, and tol = 0.001\n",
      "Relative error: 0.00467628568563174, number of iterations: 3\n",
      "\n",
      "For lambda = 1, alpha = 0.01, and tol = 0.0001\n",
      "Relative error: 0.004663911853650015, number of iterations: 4\n",
      "\n",
      "For lambda = 1, alpha = 0.01, and tol = 1e-05\n",
      "Relative error: 0.004663911853650015, number of iterations: 4\n",
      "\n",
      "For lambda = 1, alpha = 0.01, and tol = 1e-06\n",
      "Relative error: 0.004663912282562037, number of iterations: 5\n",
      "\n",
      "For lambda = 1, alpha = 0.01, and tol = 1e-07\n",
      "Relative error: 0.004663909559368067, number of iterations: 6\n",
      "\n"
     ]
    }
   ],
   "source": [
    "x = x_qr\n",
    "n = x.shape[0]\n",
    "l = 1\n",
    "x = np.reshape(x.T, newshape=n ** 2, order='f')\n",
    "\n",
    "tol = [1e-3, 1e-4, 1e-5, 1e-6, 1e-7]\n",
    "\n",
    "def cg_update(T, y, t, M):\n",
    "    num_iters_cb = 0\n",
    "\n",
    "    def callback(xk):\n",
    "        nonlocal num_iters_cb\n",
    "        num_iters_cb += 1\n",
    "        '''\n",
    "        if num_iters_cb % 25 == 0:\n",
    "            print(f'    Iteration: {num_iters_cb}, relative error: {np.linalg.norm(x - xk, 2) / np.linalg.norm(x, 2)}', end='\\n\\n')\n",
    "        if num_iters_cb % 500 == 0:\n",
    "            print('    ------------------------------------------------------------------------------')'''\n",
    "            \n",
    "    x_cb, status_cb = cg(A=T, b=y, tol=t, M=M, callback=callback)\n",
    "    return x_cb, status_cb, num_iters_cb\n",
    "\n",
    "T_5 = LinearOperator((n**2, n**2), matvec = lambda x : T_lmbda_matvec(x, alpha=0.01, lmbda=l))\n",
    "#T_5 = LinearOperator((n**2, n**2), matvec = lambda x : T_matvec(x, alpha=0.01))\n",
    "y_5 = T_5.dot(x) + np.random.randn(x.shape[0])\n",
    "C_inv = LinearOperator((n**2, n**2), matvec = lambda x : C_inv_matvec(x, alpha=0.01, lmbda=l))\n",
    "\n",
    "for t in tol: \n",
    "    x_hat_t5, status_t5, num_iters_t5 = cg_update(T=T_5, y=y_5, t=t, M=C_inv)\n",
    "    rel_error_t5 = np.linalg.norm(x - x_hat_t5, 2) / np.linalg.norm(x, 2)\n",
    "    print(f'For lambda = {l}, alpha = {0.01}, and tol = {t}\\nRelative error: {rel_error_t5}, number of iterations: {num_iters_t5}', end='\\n\\n')"
   ]
  },
  {
   "cell_type": "markdown",
   "metadata": {},
   "source": [
    "So, preconditioning works as intended: it speed-ups the convergence, since the problem is now better-conditioned. For $\\mathrm{tol} = 1^{-7}$ the number of iterations is on a third part faster then we apply only regulirization, which is significant."
   ]
  }
 ],
 "metadata": {
  "accelerator": "GPU",
  "colab": {
   "collapsed_sections": [],
   "name": "Vladislav_Trifonov_PS3.ipynb",
   "provenance": []
  },
  "kernelspec": {
   "display_name": "Python 3",
   "language": "python",
   "name": "python3"
  },
  "language_info": {
   "codemirror_mode": {
    "name": "ipython",
    "version": 3
   },
   "file_extension": ".py",
   "mimetype": "text/x-python",
   "name": "python",
   "nbconvert_exporter": "python",
   "pygments_lexer": "ipython3",
   "version": "3.8.5"
  },
  "toc": {
   "base_numbering": 1,
   "nav_menu": {},
   "number_sections": true,
   "sideBar": true,
   "skip_h1_title": false,
   "title_cell": "Table of Contents",
   "title_sidebar": "Contents",
   "toc_cell": false,
   "toc_position": {},
   "toc_section_display": true,
   "toc_window_display": false
  }
 },
 "nbformat": 4,
 "nbformat_minor": 4
}

{
  "cells": [
    {
      "cell_type": "markdown",
      "metadata": {
        "id": "approved-psychology"
      },
      "source": [
        "# Home Assignment No. 2 - part one\n",
        "\n",
        "To solve this task, you will write a lot of code to try several machine learning methods for classification and regression.\n",
        "* You are **HIGHLY RECOMMENDED** to read relevant documentation, e.g. for [python](https://docs.python.org/3/), [numpy](https://docs.scipy.org/doc/numpy/reference/), [matlpotlib](https://matplotlib.org/) and [sklearn](https://scikit-learn.org/stable/). Also remember that seminars, lecture slides, [Google](http://google.com) and [StackOverflow](https://stackoverflow.com/) are your close friends during this course (and, probably, whole life?).\n",
        "\n",
        "* If you want an easy life, you have to use **BUILT-IN METHODS** of `sklearn` library instead of writing tons of your own code. There exists a class/method for almost everything you can imagine (related to this homework).\n",
        "\n",
        "* You have to write **CODE** directly inside specified places marked by comments: **BEGIN/END Solution**. Do not create new cells.\n",
        "\n",
        "* In some problems you are asked to provide a short discussion of the results. For that find the specific place marked via **Your text answer: \\<write your answer\\>**.\n",
        "\n",
        "* For every separate problem or subproblem (if specified) you can get only 0 points or maximal points for this problem. There are **NO INTERMEDIATE scores**. So make sure that you did everything required in the task.\n",
        "\n",
        "* Your **SOLUTION** notebook **MUST BE REPRODUCIBLE**, i.e., if the reviewer decides to restart the notebook and run all cells, after all the computation he will obtain exactly the same solution (with all the corresponding plots) as in your uploaded notebook. For this purpose, we suggest fixing random `seed` or (better) define `random_state=` inside every algorithm that uses some pseudorandomness.\n",
        "\n",
        "* Your code must be clear to the reviewer. For this purpose, try to include necessary comments inside the code. But remember: **GOOD CODE MUST BE SELF-EXPLANATORY** without any additional comments.\n",
        "\n",
        "* Many `sklearn` algorithms support multithreading (Ensemble Methods, Cross-Validation, etc.). Check if the particular algorithm has `n_jobs` parameters and set it to `-1` to use all the cores.\n"
      ],
      "id": "approved-psychology"
    },
    {
      "cell_type": "code",
      "execution_count": 1,
      "metadata": {
        "id": "cooperative-spokesman"
      },
      "outputs": [],
      "source": [
        "import numpy as np\n",
        "import sklearn\n",
        "from sklearn.model_selection import train_test_split\n",
        "import pandas as pd\n",
        "import matplotlib.pyplot as plt\n",
        "from sklearn.model_selection import cross_val_score\n",
        "%matplotlib inline"
      ],
      "id": "cooperative-spokesman"
    },
    {
      "cell_type": "code",
      "execution_count": 2,
      "metadata": {
        "id": "noted-bridal"
      },
      "outputs": [],
      "source": [
        "import warnings\n",
        "warnings.filterwarnings(\"ignore\")"
      ],
      "id": "noted-bridal"
    },
    {
      "cell_type": "markdown",
      "metadata": {
        "id": "guilty-contamination"
      },
      "source": [
        "## Task 1. Model and feature selection problem (3 points)\n",
        "\n",
        "Your goal in this task is to predict the price (```price_doc```) given some characteristics of a house. In order to do that, you will demonstrate your abilities in data preprocessing, finding feature importances, applying different ML models."
      ],
      "id": "guilty-contamination"
    },
    {
      "cell_type": "markdown",
      "metadata": {
        "id": "friendly-review"
      },
      "source": [
        "### Subproblem 1.1. Data preprocessing and feauture importances (1 point)\n",
        "\n",
        "The goal of this subproblem is to prepare the data for further usage. Complete all of the following subtasks:"
      ],
      "id": "friendly-review"
    },
    {
      "cell_type": "markdown",
      "metadata": {
        "id": "rational-reggae"
      },
      "source": [
        "**1.1.1) load the dataset**"
      ],
      "id": "rational-reggae"
    },
    {
      "cell_type": "code",
      "execution_count": 27,
      "metadata": {
        "id": "nutritional-phoenix",
        "outputId": "40a10f3f-6e62-4b96-f27e-ec783b898e94",
        "colab": {
          "base_uri": "https://localhost:8080/",
          "height": 209
        }
      },
      "outputs": [
        {
          "output_type": "stream",
          "name": "stdout",
          "text": [
            "(30471, 390)\n"
          ]
        },
        {
          "output_type": "execute_result",
          "data": {
            "text/html": [
              "\n",
              "  <div id=\"df-ef246995-0a7e-4ff2-90d7-bb227f0b7972\">\n",
              "    <div class=\"colab-df-container\">\n",
              "      <div>\n",
              "<style scoped>\n",
              "    .dataframe tbody tr th:only-of-type {\n",
              "        vertical-align: middle;\n",
              "    }\n",
              "\n",
              "    .dataframe tbody tr th {\n",
              "        vertical-align: top;\n",
              "    }\n",
              "\n",
              "    .dataframe thead th {\n",
              "        text-align: right;\n",
              "    }\n",
              "</style>\n",
              "<table border=\"1\" class=\"dataframe\">\n",
              "  <thead>\n",
              "    <tr style=\"text-align: right;\">\n",
              "      <th></th>\n",
              "      <th>timestamp</th>\n",
              "      <th>full_sq</th>\n",
              "      <th>life_sq</th>\n",
              "      <th>floor</th>\n",
              "      <th>max_floor</th>\n",
              "      <th>material</th>\n",
              "      <th>build_year</th>\n",
              "      <th>num_room</th>\n",
              "      <th>kitch_sq</th>\n",
              "      <th>state</th>\n",
              "      <th>...</th>\n",
              "      <th>provision_retail_space_modern_sqm</th>\n",
              "      <th>turnover_catering_per_cap</th>\n",
              "      <th>theaters_viewers_per_1000_cap</th>\n",
              "      <th>seats_theather_rfmin_per_100000_cap</th>\n",
              "      <th>museum_visitis_per_100_cap</th>\n",
              "      <th>bandwidth_sports</th>\n",
              "      <th>population_reg_sports_share</th>\n",
              "      <th>students_reg_sports_share</th>\n",
              "      <th>apartment_build</th>\n",
              "      <th>apartment_fund_sqm</th>\n",
              "    </tr>\n",
              "  </thead>\n",
              "  <tbody>\n",
              "    <tr>\n",
              "      <th>0</th>\n",
              "      <td>2011-08-20</td>\n",
              "      <td>43</td>\n",
              "      <td>27.0</td>\n",
              "      <td>4.0</td>\n",
              "      <td>NaN</td>\n",
              "      <td>NaN</td>\n",
              "      <td>NaN</td>\n",
              "      <td>NaN</td>\n",
              "      <td>NaN</td>\n",
              "      <td>NaN</td>\n",
              "      <td>...</td>\n",
              "      <td>271.0</td>\n",
              "      <td>6943.0</td>\n",
              "      <td>565.0</td>\n",
              "      <td>0.45356</td>\n",
              "      <td>1240.0</td>\n",
              "      <td>269768.0</td>\n",
              "      <td>22.37</td>\n",
              "      <td>64.12</td>\n",
              "      <td>23587.0</td>\n",
              "      <td>230310.0</td>\n",
              "    </tr>\n",
              "  </tbody>\n",
              "</table>\n",
              "<p>1 rows × 390 columns</p>\n",
              "</div>\n",
              "      <button class=\"colab-df-convert\" onclick=\"convertToInteractive('df-ef246995-0a7e-4ff2-90d7-bb227f0b7972')\"\n",
              "              title=\"Convert this dataframe to an interactive table.\"\n",
              "              style=\"display:none;\">\n",
              "        \n",
              "  <svg xmlns=\"http://www.w3.org/2000/svg\" height=\"24px\"viewBox=\"0 0 24 24\"\n",
              "       width=\"24px\">\n",
              "    <path d=\"M0 0h24v24H0V0z\" fill=\"none\"/>\n",
              "    <path d=\"M18.56 5.44l.94 2.06.94-2.06 2.06-.94-2.06-.94-.94-2.06-.94 2.06-2.06.94zm-11 1L8.5 8.5l.94-2.06 2.06-.94-2.06-.94L8.5 2.5l-.94 2.06-2.06.94zm10 10l.94 2.06.94-2.06 2.06-.94-2.06-.94-.94-2.06-.94 2.06-2.06.94z\"/><path d=\"M17.41 7.96l-1.37-1.37c-.4-.4-.92-.59-1.43-.59-.52 0-1.04.2-1.43.59L10.3 9.45l-7.72 7.72c-.78.78-.78 2.05 0 2.83L4 21.41c.39.39.9.59 1.41.59.51 0 1.02-.2 1.41-.59l7.78-7.78 2.81-2.81c.8-.78.8-2.07 0-2.86zM5.41 20L4 18.59l7.72-7.72 1.47 1.35L5.41 20z\"/>\n",
              "  </svg>\n",
              "      </button>\n",
              "      \n",
              "  <style>\n",
              "    .colab-df-container {\n",
              "      display:flex;\n",
              "      flex-wrap:wrap;\n",
              "      gap: 12px;\n",
              "    }\n",
              "\n",
              "    .colab-df-convert {\n",
              "      background-color: #E8F0FE;\n",
              "      border: none;\n",
              "      border-radius: 50%;\n",
              "      cursor: pointer;\n",
              "      display: none;\n",
              "      fill: #1967D2;\n",
              "      height: 32px;\n",
              "      padding: 0 0 0 0;\n",
              "      width: 32px;\n",
              "    }\n",
              "\n",
              "    .colab-df-convert:hover {\n",
              "      background-color: #E2EBFA;\n",
              "      box-shadow: 0px 1px 2px rgba(60, 64, 67, 0.3), 0px 1px 3px 1px rgba(60, 64, 67, 0.15);\n",
              "      fill: #174EA6;\n",
              "    }\n",
              "\n",
              "    [theme=dark] .colab-df-convert {\n",
              "      background-color: #3B4455;\n",
              "      fill: #D2E3FC;\n",
              "    }\n",
              "\n",
              "    [theme=dark] .colab-df-convert:hover {\n",
              "      background-color: #434B5C;\n",
              "      box-shadow: 0px 1px 3px 1px rgba(0, 0, 0, 0.15);\n",
              "      filter: drop-shadow(0px 1px 2px rgba(0, 0, 0, 0.3));\n",
              "      fill: #FFFFFF;\n",
              "    }\n",
              "  </style>\n",
              "\n",
              "      <script>\n",
              "        const buttonEl =\n",
              "          document.querySelector('#df-ef246995-0a7e-4ff2-90d7-bb227f0b7972 button.colab-df-convert');\n",
              "        buttonEl.style.display =\n",
              "          google.colab.kernel.accessAllowed ? 'block' : 'none';\n",
              "\n",
              "        async function convertToInteractive(key) {\n",
              "          const element = document.querySelector('#df-ef246995-0a7e-4ff2-90d7-bb227f0b7972');\n",
              "          const dataTable =\n",
              "            await google.colab.kernel.invokeFunction('convertToInteractive',\n",
              "                                                     [key], {});\n",
              "          if (!dataTable) return;\n",
              "\n",
              "          const docLinkHtml = 'Like what you see? Visit the ' +\n",
              "            '<a target=\"_blank\" href=https://colab.research.google.com/notebooks/data_table.ipynb>data table notebook</a>'\n",
              "            + ' to learn more about interactive tables.';\n",
              "          element.innerHTML = '';\n",
              "          dataTable['output_type'] = 'display_data';\n",
              "          await google.colab.output.renderOutput(dataTable, element);\n",
              "          const docLink = document.createElement('div');\n",
              "          docLink.innerHTML = docLinkHtml;\n",
              "          element.appendChild(docLink);\n",
              "        }\n",
              "      </script>\n",
              "    </div>\n",
              "  </div>\n",
              "  "
            ],
            "text/plain": [
              "    timestamp  full_sq  life_sq  floor  max_floor  material  build_year  \\\n",
              "0  2011-08-20       43     27.0    4.0        NaN       NaN         NaN   \n",
              "\n",
              "   num_room  kitch_sq  state  ... provision_retail_space_modern_sqm  \\\n",
              "0       NaN       NaN    NaN  ...                             271.0   \n",
              "\n",
              "  turnover_catering_per_cap  theaters_viewers_per_1000_cap  \\\n",
              "0                    6943.0                          565.0   \n",
              "\n",
              "   seats_theather_rfmin_per_100000_cap  museum_visitis_per_100_cap  \\\n",
              "0                              0.45356                      1240.0   \n",
              "\n",
              "   bandwidth_sports  population_reg_sports_share  students_reg_sports_share  \\\n",
              "0          269768.0                        22.37                      64.12   \n",
              "\n",
              "   apartment_build  apartment_fund_sqm  \n",
              "0          23587.0            230310.0  \n",
              "\n",
              "[1 rows x 390 columns]"
            ]
          },
          "metadata": {},
          "execution_count": 27
        }
      ],
      "source": [
        "### BEGIN Solution (do not delete this comment)\n",
        "\n",
        "from sklearn.model_selection import cross_val_score\n",
        "from sklearn.linear_model import LinearRegression, Ridge, LogisticRegression\n",
        "from sklearn.tree import DecisionTreeRegressor, DecisionTreeClassifier\n",
        "from sklearn.ensemble import RandomForestRegressor, RandomForestClassifier, AdaBoostClassifier\n",
        "from sklearn.metrics import accuracy_score, matthews_corrcoef, make_scorer, mean_squared_log_error\n",
        "from sklearn.preprocessing import MinMaxScaler, StandardScaler\n",
        "from sklearn.neighbors import KNeighborsClassifier\n",
        "from sklearn.multiclass import OneVsOneClassifier, OneVsRestClassifier\n",
        "import time\n",
        "from xgboost import XGBClassifier\n",
        "from sklearn.model_selection import KFold\n",
        "from tqdm import tqdm\n",
        "\n",
        "\n",
        "pd.set_option('display.max_rows', 500)\n",
        "pd.set_option('display.max_columns', 20)\n",
        "\n",
        "df = pd.read_csv('data_fs.csv')\n",
        "print(df.shape)\n",
        "df.head(1)\n",
        "\n",
        "### END Solution (do not delete this comment)"
      ],
      "id": "nutritional-phoenix"
    },
    {
      "cell_type": "markdown",
      "metadata": {
        "id": "objective-working"
      },
      "source": [
        "**1.1.2) preprocess the dataset by dropping the ```timestamp``` feature, filling ```NaN```s with 0, converting the categorical variables into dummy variables**"
      ],
      "id": "objective-working"
    },
    {
      "cell_type": "code",
      "execution_count": 5,
      "metadata": {
        "id": "another-keyboard",
        "outputId": "ec9f1682-3250-484b-9b30-1bb6bfd6cfa4",
        "colab": {
          "base_uri": "https://localhost:8080/",
          "height": 191
        }
      },
      "outputs": [
        {
          "output_type": "stream",
          "name": "stdout",
          "text": [
            "18\n"
          ]
        },
        {
          "output_type": "execute_result",
          "data": {
            "text/html": [
              "\n",
              "  <div id=\"df-95bea4ce-1f72-48af-bb3a-b7f29d66d0aa\">\n",
              "    <div class=\"colab-df-container\">\n",
              "      <div>\n",
              "<style scoped>\n",
              "    .dataframe tbody tr th:only-of-type {\n",
              "        vertical-align: middle;\n",
              "    }\n",
              "\n",
              "    .dataframe tbody tr th {\n",
              "        vertical-align: top;\n",
              "    }\n",
              "\n",
              "    .dataframe thead th {\n",
              "        text-align: right;\n",
              "    }\n",
              "</style>\n",
              "<table border=\"1\" class=\"dataframe\">\n",
              "  <thead>\n",
              "    <tr style=\"text-align: right;\">\n",
              "      <th></th>\n",
              "      <th>full_sq</th>\n",
              "      <th>life_sq</th>\n",
              "      <th>floor</th>\n",
              "      <th>max_floor</th>\n",
              "      <th>material</th>\n",
              "      <th>build_year</th>\n",
              "      <th>num_room</th>\n",
              "      <th>kitch_sq</th>\n",
              "      <th>state</th>\n",
              "      <th>area_m</th>\n",
              "      <th>...</th>\n",
              "      <th>child_on_acc_pre_school_3,013</th>\n",
              "      <th>child_on_acc_pre_school_7,311</th>\n",
              "      <th>modern_education_share_0</th>\n",
              "      <th>modern_education_share_90,92</th>\n",
              "      <th>modern_education_share_93,08</th>\n",
              "      <th>modern_education_share_95,4918</th>\n",
              "      <th>old_education_build_share_0</th>\n",
              "      <th>old_education_build_share_23,14</th>\n",
              "      <th>old_education_build_share_25,47</th>\n",
              "      <th>old_education_build_share_8,2517</th>\n",
              "    </tr>\n",
              "  </thead>\n",
              "  <tbody>\n",
              "    <tr>\n",
              "      <th>0</th>\n",
              "      <td>43</td>\n",
              "      <td>27.0</td>\n",
              "      <td>4.0</td>\n",
              "      <td>0.0</td>\n",
              "      <td>0.0</td>\n",
              "      <td>0.0</td>\n",
              "      <td>0.0</td>\n",
              "      <td>0.0</td>\n",
              "      <td>0.0</td>\n",
              "      <td>6407578.1</td>\n",
              "      <td>...</td>\n",
              "      <td>0</td>\n",
              "      <td>0</td>\n",
              "      <td>1</td>\n",
              "      <td>0</td>\n",
              "      <td>0</td>\n",
              "      <td>0</td>\n",
              "      <td>1</td>\n",
              "      <td>0</td>\n",
              "      <td>0</td>\n",
              "      <td>0</td>\n",
              "    </tr>\n",
              "  </tbody>\n",
              "</table>\n",
              "<p>1 rows × 561 columns</p>\n",
              "</div>\n",
              "      <button class=\"colab-df-convert\" onclick=\"convertToInteractive('df-95bea4ce-1f72-48af-bb3a-b7f29d66d0aa')\"\n",
              "              title=\"Convert this dataframe to an interactive table.\"\n",
              "              style=\"display:none;\">\n",
              "        \n",
              "  <svg xmlns=\"http://www.w3.org/2000/svg\" height=\"24px\"viewBox=\"0 0 24 24\"\n",
              "       width=\"24px\">\n",
              "    <path d=\"M0 0h24v24H0V0z\" fill=\"none\"/>\n",
              "    <path d=\"M18.56 5.44l.94 2.06.94-2.06 2.06-.94-2.06-.94-.94-2.06-.94 2.06-2.06.94zm-11 1L8.5 8.5l.94-2.06 2.06-.94-2.06-.94L8.5 2.5l-.94 2.06-2.06.94zm10 10l.94 2.06.94-2.06 2.06-.94-2.06-.94-.94-2.06-.94 2.06-2.06.94z\"/><path d=\"M17.41 7.96l-1.37-1.37c-.4-.4-.92-.59-1.43-.59-.52 0-1.04.2-1.43.59L10.3 9.45l-7.72 7.72c-.78.78-.78 2.05 0 2.83L4 21.41c.39.39.9.59 1.41.59.51 0 1.02-.2 1.41-.59l7.78-7.78 2.81-2.81c.8-.78.8-2.07 0-2.86zM5.41 20L4 18.59l7.72-7.72 1.47 1.35L5.41 20z\"/>\n",
              "  </svg>\n",
              "      </button>\n",
              "      \n",
              "  <style>\n",
              "    .colab-df-container {\n",
              "      display:flex;\n",
              "      flex-wrap:wrap;\n",
              "      gap: 12px;\n",
              "    }\n",
              "\n",
              "    .colab-df-convert {\n",
              "      background-color: #E8F0FE;\n",
              "      border: none;\n",
              "      border-radius: 50%;\n",
              "      cursor: pointer;\n",
              "      display: none;\n",
              "      fill: #1967D2;\n",
              "      height: 32px;\n",
              "      padding: 0 0 0 0;\n",
              "      width: 32px;\n",
              "    }\n",
              "\n",
              "    .colab-df-convert:hover {\n",
              "      background-color: #E2EBFA;\n",
              "      box-shadow: 0px 1px 2px rgba(60, 64, 67, 0.3), 0px 1px 3px 1px rgba(60, 64, 67, 0.15);\n",
              "      fill: #174EA6;\n",
              "    }\n",
              "\n",
              "    [theme=dark] .colab-df-convert {\n",
              "      background-color: #3B4455;\n",
              "      fill: #D2E3FC;\n",
              "    }\n",
              "\n",
              "    [theme=dark] .colab-df-convert:hover {\n",
              "      background-color: #434B5C;\n",
              "      box-shadow: 0px 1px 3px 1px rgba(0, 0, 0, 0.15);\n",
              "      filter: drop-shadow(0px 1px 2px rgba(0, 0, 0, 0.3));\n",
              "      fill: #FFFFFF;\n",
              "    }\n",
              "  </style>\n",
              "\n",
              "      <script>\n",
              "        const buttonEl =\n",
              "          document.querySelector('#df-95bea4ce-1f72-48af-bb3a-b7f29d66d0aa button.colab-df-convert');\n",
              "        buttonEl.style.display =\n",
              "          google.colab.kernel.accessAllowed ? 'block' : 'none';\n",
              "\n",
              "        async function convertToInteractive(key) {\n",
              "          const element = document.querySelector('#df-95bea4ce-1f72-48af-bb3a-b7f29d66d0aa');\n",
              "          const dataTable =\n",
              "            await google.colab.kernel.invokeFunction('convertToInteractive',\n",
              "                                                     [key], {});\n",
              "          if (!dataTable) return;\n",
              "\n",
              "          const docLinkHtml = 'Like what you see? Visit the ' +\n",
              "            '<a target=\"_blank\" href=https://colab.research.google.com/notebooks/data_table.ipynb>data table notebook</a>'\n",
              "            + ' to learn more about interactive tables.';\n",
              "          element.innerHTML = '';\n",
              "          dataTable['output_type'] = 'display_data';\n",
              "          await google.colab.output.renderOutput(dataTable, element);\n",
              "          const docLink = document.createElement('div');\n",
              "          docLink.innerHTML = docLinkHtml;\n",
              "          element.appendChild(docLink);\n",
              "        }\n",
              "      </script>\n",
              "    </div>\n",
              "  </div>\n",
              "  "
            ],
            "text/plain": [
              "   full_sq  life_sq  floor  max_floor  material  build_year  num_room  \\\n",
              "0       43     27.0    4.0        0.0       0.0         0.0       0.0   \n",
              "\n",
              "   kitch_sq  state     area_m  ...  child_on_acc_pre_school_3,013  \\\n",
              "0       0.0    0.0  6407578.1  ...                              0   \n",
              "\n",
              "   child_on_acc_pre_school_7,311  modern_education_share_0  \\\n",
              "0                              0                         1   \n",
              "\n",
              "   modern_education_share_90,92  modern_education_share_93,08  \\\n",
              "0                             0                             0   \n",
              "\n",
              "   modern_education_share_95,4918  old_education_build_share_0  \\\n",
              "0                               0                            1   \n",
              "\n",
              "   old_education_build_share_23,14  old_education_build_share_25,47  \\\n",
              "0                                0                                0   \n",
              "\n",
              "   old_education_build_share_8,2517  \n",
              "0                                 0  \n",
              "\n",
              "[1 rows x 561 columns]"
            ]
          },
          "metadata": {},
          "execution_count": 5
        }
      ],
      "source": [
        "### BEGIN Solution (do not delete this comment)\n",
        "\n",
        "# Drop 'timestamp'\n",
        "df.drop(labels=['timestamp'], axis=1, inplace=True)\n",
        "\n",
        "# Fill NaN's with 0\n",
        "df.fillna(0, inplace=True)\n",
        "\n",
        "# One-hot encoding for categorical features\n",
        "cat_feat = []\n",
        "\n",
        "for i, t in enumerate(df.dtypes):\n",
        "    if (t != 'int64') & (t != 'float64'):\n",
        "        cat_feat.append(df.dtypes.index[i])\n",
        "        \n",
        "print(len(cat_feat))\n",
        "df = pd.get_dummies(df, columns=cat_feat)\n",
        "df.head(1)\n",
        "\n",
        "### END Solution (do not delete this comment)"
      ],
      "id": "another-keyboard"
    },
    {
      "cell_type": "markdown",
      "metadata": {
        "id": "dress-shanghai"
      },
      "source": [
        "**1.1.3) define ```x_train```, ```x_test```, ```y_train```, ```y_test```. The train-test split should be 70:30**\n"
      ],
      "id": "dress-shanghai"
    },
    {
      "cell_type": "code",
      "execution_count": 6,
      "metadata": {
        "id": "outdoor-runner"
      },
      "outputs": [],
      "source": [
        "### BEGIN Solution (do not delete this comment)\n",
        "\n",
        "x_train, x_test, y_train, y_test = train_test_split(df[df.columns.drop('price_doc')], df[['price_doc']], test_size=.3, random_state=11)\n",
        "\n",
        "### END Solution (do not delete this comment)"
      ],
      "id": "outdoor-runner"
    },
    {
      "cell_type": "markdown",
      "metadata": {
        "id": "engaging-ready"
      },
      "source": [
        "\n",
        "**1.1.4) plot the histogram of y values. Note that the mean of these values is very high and the distribution of the values is far from normal. Create ```y_train_log``` and ```y_test_log``` by applying $log_{y}$. Now plot the new histogram of the obtained values. You should use these log values for the next subtasks.**   "
      ],
      "id": "engaging-ready"
    },
    {
      "cell_type": "code",
      "execution_count": 7,
      "metadata": {
        "colab": {
          "base_uri": "https://localhost:8080/",
          "height": 558
        },
        "id": "inclusive-outreach",
        "outputId": "546fa434-9753-46cd-8f54-035ed31b5dcc"
      },
      "outputs": [
        {
          "output_type": "display_data",
          "data": {
            "image/png": "[encoded data removed]",
            "text/plain": [
              "<Figure size 432x288 with 1 Axes>"
            ]
          },
          "metadata": {
            "needs_background": "light"
          }
        },
        {
          "output_type": "display_data",
          "data": {
            "image/png": "[encoded data removed]",
            "text/plain": [
              "<Figure size 432x288 with 1 Axes>"
            ]
          },
          "metadata": {
            "needs_background": "light"
          }
        }
      ],
      "source": [
        "### BEGIN Solution (do not delete this comment)\n",
        "\n",
        "df[['price_doc']].hist(bins=60)\n",
        "\n",
        "np.log(df[['price_doc']]).hist(bins=60);\n",
        "\n",
        "y_train_log, y_test_log = np.log(y_train), np.log(y_test)\n",
        "\n",
        "### END Solution (do not delete this comment)"
      ],
      "id": "inclusive-outreach"
    },
    {
      "cell_type": "markdown",
      "metadata": {
        "id": "noticed-drunk"
      },
      "source": [
        "**1.1.5) print the number of features in the created ```x_train``` and ```x_test``` datasets. Answer the question: do you think all of these features are relevant for the adequate price prediction?**\n"
      ],
      "id": "noticed-drunk"
    },
    {
      "cell_type": "code",
      "execution_count": 8,
      "metadata": {
        "colab": {
          "base_uri": "https://localhost:8080/"
        },
        "id": "strategic-spending",
        "outputId": "d24bd396-611e-4205-e313-f4c43db3ceca"
      },
      "outputs": [
        {
          "output_type": "stream",
          "name": "stdout",
          "text": [
            "(21329, 560)\n",
            "(9142, 560)\n"
          ]
        }
      ],
      "source": [
        "### BEGIN Solution (do not delete this comment)\n",
        "\n",
        "print(x_train.shape)\n",
        "print(x_test.shape)\n",
        "\n",
        "### END Solution (do not delete this comment)"
      ],
      "id": "strategic-spending"
    },
    {
      "cell_type": "markdown",
      "metadata": {
        "id": "restricted-anchor"
      },
      "source": [
        "**Your text answer (do not delete this comment)**:\n",
        "\n",
        "\\<write your answer\\>\n",
        "\n",
        "I have not looked through the data precisely, but I would say there are too many features. And for sure, some of them are correlated. Some may be not important at all and add only a noize in obesravtion."
      ],
      "id": "restricted-anchor"
    },
    {
      "cell_type": "markdown",
      "metadata": {
        "id": "endangered-mineral"
      },
      "source": [
        "**1.1.6) use random forest to find the importance of the features. Plot the histogram of the importances.**"
      ],
      "id": "endangered-mineral"
    },
    {
      "cell_type": "code",
      "execution_count": 9,
      "metadata": {
        "colab": {
          "base_uri": "https://localhost:8080/",
          "height": 618
        },
        "id": "residential-tongue",
        "outputId": "5ae2a250-e63d-4107-a1d5-738f5e3c58a4"
      },
      "outputs": [
        {
          "output_type": "display_data",
          "data": {
            "image/png": "[encoded data removed]",
            "text/plain": [
              "<Figure size 864x576 with 1 Axes>"
            ]
          },
          "metadata": {
            "needs_background": "light"
          }
        }
      ],
      "source": [
        "### BEGIN Solution (do not delete this comment)\n",
        "\n",
        "forest = RandomForestRegressor(n_estimators=150, max_depth=6, n_jobs=-1, random_state=11)\n",
        "\n",
        "forest.fit(x_train, y_train_log)\n",
        "\n",
        "plt.rcParams['figure.figsize'] = (12, 8)\n",
        "pd.Series(forest.feature_importances_, index=x_train.columns).sort_values(ascending=False)[:30].plot(kind='bar');\n",
        "\n",
        "### END Solution (do not delete this comment)"
      ],
      "id": "residential-tongue"
    },
    {
      "cell_type": "markdown",
      "metadata": {
        "id": "ethical-firmware"
      },
      "source": [
        "**1.1.7) print the names of the 20 most important features**"
      ],
      "id": "ethical-firmware"
    },
    {
      "cell_type": "code",
      "execution_count": 10,
      "metadata": {
        "colab": {
          "base_uri": "https://localhost:8080/"
        },
        "id": "amazing-marriage",
        "outputId": "04330792-8eaa-442f-b948-0b0667b8c571"
      },
      "outputs": [
        {
          "output_type": "execute_result",
          "data": {
            "text/plain": [
              "full_sq                       0.552733\n",
              "sport_count_3000              0.057072\n",
              "cafe_count_5000_price_2500    0.048920\n",
              "cafe_count_3000               0.035808\n",
              "cafe_count_2000               0.033491\n",
              "num_room                      0.023293\n",
              "ttk_km                        0.011057\n",
              "cafe_count_3000_price_2500    0.010605\n",
              "cafe_count_5000               0.008948\n",
              "green_zone_part               0.008242\n",
              "micex_cbi_tr                  0.007820\n",
              "metro_km_avto                 0.007798\n",
              "metro_min_avto                0.005838\n",
              "eurrub                        0.005426\n",
              "cafe_count_5000_price_high    0.005041\n",
              "market_shop_km                0.004854\n",
              "cafe_count_3000_price_1000    0.003899\n",
              "ppi                           0.003522\n",
              "zd_vokzaly_avto_km            0.003485\n",
              "exhibition_km                 0.003349\n",
              "dtype: float64"
            ]
          },
          "metadata": {},
          "execution_count": 10
        }
      ],
      "source": [
        "### BEGIN Solution (do not delete this comment)\n",
        "\n",
        "pd.Series(forest.feature_importances_, index=x_train.columns).sort_values(ascending=False)[:20]\n",
        "\n",
        "### END Solution (do not delete this comment)"
      ],
      "id": "amazing-marriage"
    },
    {
      "cell_type": "markdown",
      "metadata": {
        "id": "threaded-ivory"
      },
      "source": [
        "<br>"
      ],
      "id": "threaded-ivory"
    },
    {
      "cell_type": "markdown",
      "metadata": {
        "id": "little-toddler"
      },
      "source": [
        "### Subproblem 1.2. Training models on the most important features (1 point)"
      ],
      "id": "little-toddler"
    },
    {
      "cell_type": "markdown",
      "metadata": {
        "id": "vietnamese-patrick"
      },
      "source": [
        "In this subproblem, you will train several ML models on the found 20 most important features: train **Linear Regression**,  **Ridge regression**, **Random forest**,  **DecisionTree** and evaluate their performance using the Root Mean Squared Logarithmic Error (RMSLE) on both train/test sets. \n",
        "\n",
        "You will have to repeat the same actions in the next tasks too, so we recommend to implement\n",
        "a dedicated function for comparisons, which\n",
        "1. on input takes a training dataset `(X_train, y_train)` and a test sample `(X_test, y_test)`;\n",
        "2. it trains **all of the listed models** on the `(X_train, y_train)` sample;\n",
        "3. it computes and returns a table with the RMSLE score of each fitted model on the train and test datasets."
      ],
      "id": "vietnamese-patrick"
    },
    {
      "cell_type": "markdown",
      "metadata": {
        "id": "stupid-principle"
      },
      "source": [
        "**1.2.1) Implement the function described above**"
      ],
      "id": "stupid-principle"
    },
    {
      "cell_type": "code",
      "execution_count": 11,
      "metadata": {
        "id": "paperback-uniform"
      },
      "outputs": [],
      "source": [
        "### BEGIN Solution (do not delete this comment)\n",
        "\n",
        "# Eponentiate target back.\n",
        "def msle(y_true, y_pred):\n",
        "    return mean_squared_log_error(np.exp(y_true), np.exp(y_pred))\n",
        "\n",
        "def some_function(x_train, y_train, x_test, y_test):\n",
        "    linear_reg = LinearRegression(n_jobs=-1)\n",
        "    ridge_reg = Ridge(random_state=11)\n",
        "    forest_reg = RandomForestRegressor(n_estimators=100, max_depth=6, n_jobs=-1, random_state=11)\n",
        "    tree_reg = DecisionTreeRegressor(max_depth=6, random_state=11)\n",
        "\n",
        "    train_msle, test_msle = [], []\n",
        "\n",
        "    models = [linear_reg, ridge_reg, forest_reg, tree_reg]\n",
        "\n",
        "    for m in models:\n",
        "        m.fit(x_train, y_train)\n",
        "\n",
        "        train_msle.append(msle(y_train, m.predict(x_train)))\n",
        "        test_msle.append(msle(y_test, m.predict(x_test)))\n",
        "    \n",
        "    msle_table = pd.DataFrame({'Train Error': train_msle, 'Test Error': test_msle},\n",
        "                               index=['Linear Regression', 'Ridge regression', 'Random forest', 'Decision Tree'])\n",
        "    \n",
        "    return msle_table\n",
        "    \n",
        "### END Solution (do not delete this comment)"
      ],
      "id": "paperback-uniform"
    },
    {
      "cell_type": "markdown",
      "metadata": {
        "id": "demographic-honolulu"
      },
      "source": [
        "**1.2.2) Apply the implemented function to our dataset (use only the 20 most important features)**"
      ],
      "id": "demographic-honolulu"
    },
    {
      "cell_type": "code",
      "execution_count": 12,
      "metadata": {
        "colab": {
          "base_uri": "https://localhost:8080/",
          "height": 175
        },
        "id": "loved-bedroom",
        "outputId": "9ae14bb7-1449-422d-f59d-0479043b9d31"
      },
      "outputs": [
        {
          "output_type": "execute_result",
          "data": {
            "text/html": [
              "\n",
              "  <div id=\"df-6252c922-c5b5-4509-ba5c-e47a612da273\">\n",
              "    <div class=\"colab-df-container\">\n",
              "      <div>\n",
              "<style scoped>\n",
              "    .dataframe tbody tr th:only-of-type {\n",
              "        vertical-align: middle;\n",
              "    }\n",
              "\n",
              "    .dataframe tbody tr th {\n",
              "        vertical-align: top;\n",
              "    }\n",
              "\n",
              "    .dataframe thead th {\n",
              "        text-align: right;\n",
              "    }\n",
              "</style>\n",
              "<table border=\"1\" class=\"dataframe\">\n",
              "  <thead>\n",
              "    <tr style=\"text-align: right;\">\n",
              "      <th></th>\n",
              "      <th>Train Error</th>\n",
              "      <th>Test Error</th>\n",
              "    </tr>\n",
              "  </thead>\n",
              "  <tbody>\n",
              "    <tr>\n",
              "      <th>Linear Regression</th>\n",
              "      <td>0.287107</td>\n",
              "      <td>0.272473</td>\n",
              "    </tr>\n",
              "    <tr>\n",
              "      <th>Ridge regression</th>\n",
              "      <td>0.287107</td>\n",
              "      <td>0.272472</td>\n",
              "    </tr>\n",
              "    <tr>\n",
              "      <th>Random forest</th>\n",
              "      <td>0.216580</td>\n",
              "      <td>0.223628</td>\n",
              "    </tr>\n",
              "    <tr>\n",
              "      <th>Decision Tree</th>\n",
              "      <td>0.227938</td>\n",
              "      <td>0.244575</td>\n",
              "    </tr>\n",
              "  </tbody>\n",
              "</table>\n",
              "</div>\n",
              "      <button class=\"colab-df-convert\" onclick=\"convertToInteractive('df-6252c922-c5b5-4509-ba5c-e47a612da273')\"\n",
              "              title=\"Convert this dataframe to an interactive table.\"\n",
              "              style=\"display:none;\">\n",
              "        \n",
              "  <svg xmlns=\"http://www.w3.org/2000/svg\" height=\"24px\"viewBox=\"0 0 24 24\"\n",
              "       width=\"24px\">\n",
              "    <path d=\"M0 0h24v24H0V0z\" fill=\"none\"/>\n",
              "    <path d=\"M18.56 5.44l.94 2.06.94-2.06 2.06-.94-2.06-.94-.94-2.06-.94 2.06-2.06.94zm-11 1L8.5 8.5l.94-2.06 2.06-.94-2.06-.94L8.5 2.5l-.94 2.06-2.06.94zm10 10l.94 2.06.94-2.06 2.06-.94-2.06-.94-.94-2.06-.94 2.06-2.06.94z\"/><path d=\"M17.41 7.96l-1.37-1.37c-.4-.4-.92-.59-1.43-.59-.52 0-1.04.2-1.43.59L10.3 9.45l-7.72 7.72c-.78.78-.78 2.05 0 2.83L4 21.41c.39.39.9.59 1.41.59.51 0 1.02-.2 1.41-.59l7.78-7.78 2.81-2.81c.8-.78.8-2.07 0-2.86zM5.41 20L4 18.59l7.72-7.72 1.47 1.35L5.41 20z\"/>\n",
              "  </svg>\n",
              "      </button>\n",
              "      \n",
              "  <style>\n",
              "    .colab-df-container {\n",
              "      display:flex;\n",
              "      flex-wrap:wrap;\n",
              "      gap: 12px;\n",
              "    }\n",
              "\n",
              "    .colab-df-convert {\n",
              "      background-color: #E8F0FE;\n",
              "      border: none;\n",
              "      border-radius: 50%;\n",
              "      cursor: pointer;\n",
              "      display: none;\n",
              "      fill: #1967D2;\n",
              "      height: 32px;\n",
              "      padding: 0 0 0 0;\n",
              "      width: 32px;\n",
              "    }\n",
              "\n",
              "    .colab-df-convert:hover {\n",
              "      background-color: #E2EBFA;\n",
              "      box-shadow: 0px 1px 2px rgba(60, 64, 67, 0.3), 0px 1px 3px 1px rgba(60, 64, 67, 0.15);\n",
              "      fill: #174EA6;\n",
              "    }\n",
              "\n",
              "    [theme=dark] .colab-df-convert {\n",
              "      background-color: #3B4455;\n",
              "      fill: #D2E3FC;\n",
              "    }\n",
              "\n",
              "    [theme=dark] .colab-df-convert:hover {\n",
              "      background-color: #434B5C;\n",
              "      box-shadow: 0px 1px 3px 1px rgba(0, 0, 0, 0.15);\n",
              "      filter: drop-shadow(0px 1px 2px rgba(0, 0, 0, 0.3));\n",
              "      fill: #FFFFFF;\n",
              "    }\n",
              "  </style>\n",
              "\n",
              "      <script>\n",
              "        const buttonEl =\n",
              "          document.querySelector('#df-6252c922-c5b5-4509-ba5c-e47a612da273 button.colab-df-convert');\n",
              "        buttonEl.style.display =\n",
              "          google.colab.kernel.accessAllowed ? 'block' : 'none';\n",
              "\n",
              "        async function convertToInteractive(key) {\n",
              "          const element = document.querySelector('#df-6252c922-c5b5-4509-ba5c-e47a612da273');\n",
              "          const dataTable =\n",
              "            await google.colab.kernel.invokeFunction('convertToInteractive',\n",
              "                                                     [key], {});\n",
              "          if (!dataTable) return;\n",
              "\n",
              "          const docLinkHtml = 'Like what you see? Visit the ' +\n",
              "            '<a target=\"_blank\" href=https://colab.research.google.com/notebooks/data_table.ipynb>data table notebook</a>'\n",
              "            + ' to learn more about interactive tables.';\n",
              "          element.innerHTML = '';\n",
              "          dataTable['output_type'] = 'display_data';\n",
              "          await google.colab.output.renderOutput(dataTable, element);\n",
              "          const docLink = document.createElement('div');\n",
              "          docLink.innerHTML = docLinkHtml;\n",
              "          element.appendChild(docLink);\n",
              "        }\n",
              "      </script>\n",
              "    </div>\n",
              "  </div>\n",
              "  "
            ],
            "text/plain": [
              "                   Train Error  Test Error\n",
              "Linear Regression     0.287107    0.272473\n",
              "Ridge regression      0.287107    0.272472\n",
              "Random forest         0.216580    0.223628\n",
              "Decision Tree         0.227938    0.244575"
            ]
          },
          "metadata": {},
          "execution_count": 12
        }
      ],
      "source": [
        "### BEGIN Solution\n",
        "\n",
        "first_20_f = pd.Series(forest.feature_importances_, index=x_train.columns).sort_values(ascending=False)[:20].index\n",
        "\n",
        "some_function(x_train[first_20_f], y_train_log, x_test[first_20_f], y_test_log)\n",
        "\n",
        "### END Solution"
      ],
      "id": "loved-bedroom"
    },
    {
      "cell_type": "markdown",
      "metadata": {
        "id": "6lSOGA4-7RSx"
      },
      "source": [
        "<br>"
      ],
      "id": "6lSOGA4-7RSx"
    },
    {
      "cell_type": "markdown",
      "metadata": {
        "id": "stock-jewel"
      },
      "source": [
        "### Subproblem 1.3. Forward-backward methods (1 point)\n",
        "In the subproblems above, we have relied on the feature importances found by the random forest method. The main goal of this subproblem is to find feature importances by applying the forward-backward methods: the main idea is to add or remove features and compute how this removal influences the value of the loss function or some other criteria.\n",
        "\n",
        "The decision about adding or deleting a feature may be made based on:\n",
        "\n",
        "- AIC\n",
        "- BIC\n",
        "- validation error\n",
        "- Mallows $C_p$\n",
        "- sklearn's `estimator.score()`"
      ],
      "id": "stock-jewel"
    },
    {
      "cell_type": "markdown",
      "metadata": {
        "id": "southern-closer"
      },
      "source": [
        "In subtasks, 1.3.1 - 1.3.3, implement the following greedy feature selection algorithm with early stopping using the mean of the RMSLE scores achieved on the 3-fold cross-validation. Please bear in mind that **the lower** RMSLE (`mean_squared_log_error`) is, **the higher the model \"quality\" is** and look up `cross_val_score(...)` peculiarities in [scikit's manual](https://scikit-learn.org/stable/documentation.html) for more information.\n",
        "\n",
        "```python\n",
        "# Initialize with an empty list of features.\n",
        "list_of_best_features = []\n",
        "\n",
        "while round < n_rounds:\n",
        "    round = round + 1\n",
        "    \n",
        "    if no_more_features:\n",
        "        # end loop\n",
        "\n",
        "    # Iterate over currently *unused* features and use $k$-fold \n",
        "    # . `cross_val_score` to measure model \"quality\".\n",
        "    compute_quality_with_each_new_unused_feature(...)\n",
        "\n",
        "    # **Add** the feature that gives the highest \"quality\" of the model.\n",
        "    pick_and_add_the_best_feature(...)\n",
        "\n",
        "    if model_quality_has_increased_since_last_round:\n",
        "        round = 0\n",
        "\n",
        "return list_of_best_features\n",
        "```"
      ],
      "id": "southern-closer"
    },
    {
      "cell_type": "markdown",
      "metadata": {
        "id": "suffering-italy"
      },
      "source": [
        "**1.3.1) In the cell below, you have to implement a function that would iterate over a list of features and use $k$-fold `cross_val_score` to measure the model's \"quality\".** "
      ],
      "id": "suffering-italy"
    },
    {
      "cell_type": "code",
      "execution_count": 13,
      "metadata": {
        "id": "caroline-state"
      },
      "outputs": [],
      "source": [
        "from sklearn.metrics import make_scorer\n",
        "\n",
        "def selection_step(model, X, y, used_features=(), cv=3):\n",
        "    \"\"\"\n",
        "    Parameters\n",
        "    ==========\n",
        "        X: ndarray - training inputs\n",
        "        y: ndarray - training targets\n",
        "        used_features: - list of features\n",
        "        cv: int - number of folds\n",
        "\n",
        "    Returns\n",
        "    =======\n",
        "        scores - dictionary of scores\n",
        "    \"\"\"\n",
        "    \n",
        "    scores = {}\n",
        "    \n",
        "    ### BEGIN Solution\n",
        "\n",
        "    for f in X.columns:\n",
        "        if f not in used_features:\n",
        "            feat_to_train = np.append(used_features, f)\n",
        "\n",
        "            scores[f] = np.mean(cross_val_score(model, X[feat_to_train], y, scoring=make_scorer(msle, greater_is_better=False), cv=cv, n_jobs=-1))\n",
        "            #scores[f] = np.mean(cross_val_score(model, X[feat_to_train], y, scoring=make_scorer(msle, greater_is_better=True), cv=cv, n_jobs=-1))\n",
        "\n",
        "            \n",
        "    ### END Solution\n",
        "\n",
        "    return scores"
      ],
      "id": "caroline-state"
    },
    {
      "cell_type": "markdown",
      "metadata": {
        "id": "laughing-patio"
      },
      "source": [
        "**1.3.2) Implement a forward greedy feature selection function (the one described in the pseudocode in subtask 1 above) that would**\n",
        "\n",
        "**- compute the model's \"quality\" over the currently *unused* features**\n",
        "\n",
        "**- find the feature, which has given the best score and add it to the list of the currently *used* features**\n",
        "\n",
        "**- if the model's quality has increased since the last round, add this feature to the list of the best features and  print the best score and the current best features list**\n",
        "\n",
        "**Do not forget to implement the early stopping.**"
      ],
      "id": "laughing-patio"
    },
    {
      "cell_type": "code",
      "execution_count": 16,
      "metadata": {
        "id": "pressed-worse"
      },
      "outputs": [],
      "source": [
        "def forward_steps(X, y, n_rounds, model):\n",
        "    \"\"\"\n",
        "    Parameters\n",
        "    ==========\n",
        "        X: ndarray - training inputs\n",
        "        y: ndarray - training targets\n",
        "        n_rounds: int - early stop when score doesn't increase n_rounds\n",
        "        model: sklearn model\n",
        "\n",
        "    Returns\n",
        "    =======\n",
        "        feat_best_list - list of features\n",
        "    \"\"\"\n",
        "    \n",
        "    feat_best_list = []\n",
        "\n",
        "    ### BEGIN Solution\n",
        "    model_score = -1e6\n",
        "    #model_score = 1e6\n",
        "    r = 0\n",
        "\n",
        "    while r < n_rounds:\n",
        "        r += 1\n",
        "        #print(r)\n",
        "\n",
        "        if len(feat_best_list) == X.columns.shape[0]:\n",
        "            break\n",
        "        \n",
        "        run_scores = selection_step(model, X, y, used_features=feat_best_list, cv=3)\n",
        "        \n",
        "        # Find the best feature of this run via its index        \n",
        "        best_feat = list(run_scores.keys())[list(run_scores.values()).index(max(list(run_scores.values())))]\n",
        "        best_score = list(run_scores.values())[list(run_scores.values()).index(max(list(run_scores.values())))]\n",
        "\n",
        "        #best_feat = list(run_scores.keys())[list(run_scores.values()).index(min(list(run_scores.values())))]\n",
        "        #best_score = list(run_scores.values())[list(run_scores.values()).index(min(list(run_scores.values())))]\n",
        "\n",
        "        ''' used_feat = feat_best_list.copy()\n",
        "        used_feat.append(best_feat)\n",
        "        \n",
        "        model.fit(X[used_feat], y)\n",
        "        curr_score = msle(y, model.predict(X[used_feat]))'''\n",
        "        \n",
        "        # print(model_score, curr_score, sep='\\n', end='\\n\\n')\n",
        "\n",
        "        #if model_score > best_score:\n",
        "        if model_score < best_score:\n",
        "            r = 0\n",
        "            feat_best_list.append(best_feat)\n",
        "            model_score = best_score\n",
        "            print(f'Best score of this round: {best_score}.\\nCurrent features: {feat_best_list}.\\nScore on the current features: {model_score}', end='\\n\\n')\n",
        "    \n",
        "    ### END Solution\n",
        "    \n",
        "    return feat_best_list\n"
      ],
      "id": "pressed-worse"
    },
    {
      "cell_type": "markdown",
      "metadata": {
        "id": "geographic-holly"
      },
      "source": [
        "**1.3.3) Use the function implemented above + DecisionTreeRegressor to get the best features according to this algorithm. (HINT: Use ```n_rounds = 2```)**"
      ],
      "id": "geographic-holly"
    },
    {
      "cell_type": "code",
      "execution_count": 20,
      "metadata": {
        "colab": {
          "base_uri": "https://localhost:8080/"
        },
        "id": "hazardous-retirement",
        "outputId": "c87b504c-c750-4ab8-99a3-f48e0f96da48"
      },
      "outputs": [
        {
          "output_type": "stream",
          "name": "stdout",
          "text": [
            "Best score of this round: -0.27830880080246106.\n",
            "Current features: ['full_sq'].\n",
            "Score on the current features: -0.27830880080246106\n",
            "\n",
            "Best score of this round: -0.24459043280041134.\n",
            "Current features: ['full_sq', 'cafe_count_5000_price_1500'].\n",
            "Score on the current features: -0.24459043280041134\n",
            "\n",
            "Best score of this round: -0.2423253269353848.\n",
            "Current features: ['full_sq', 'cafe_count_5000_price_1500', 'load_of_teachers_preschool_per_teacher'].\n",
            "Score on the current features: -0.2423253269353848\n",
            "\n",
            "Best score of this round: -0.2416481027720571.\n",
            "Current features: ['full_sq', 'cafe_count_5000_price_1500', 'load_of_teachers_preschool_per_teacher', 'cafe_count_3000_price_4000'].\n",
            "Score on the current features: -0.2416481027720571\n",
            "\n",
            "Best score of this round: -0.24094750006531374.\n",
            "Current features: ['full_sq', 'cafe_count_5000_price_1500', 'load_of_teachers_preschool_per_teacher', 'cafe_count_3000_price_4000', 'office_sqm_500'].\n",
            "Score on the current features: -0.24094750006531374\n",
            "\n",
            "Best score of this round: -0.24054785523282618.\n",
            "Current features: ['full_sq', 'cafe_count_5000_price_1500', 'load_of_teachers_preschool_per_teacher', 'cafe_count_3000_price_4000', 'office_sqm_500', 'sub_area_Nekrasovka'].\n",
            "Score on the current features: -0.24054785523282618\n",
            "\n",
            "Best score of this round: -0.2403374892903544.\n",
            "Current features: ['full_sq', 'cafe_count_5000_price_1500', 'load_of_teachers_preschool_per_teacher', 'cafe_count_3000_price_4000', 'office_sqm_500', 'sub_area_Nekrasovka', 'railroad_1line_no'].\n",
            "Score on the current features: -0.2403374892903544\n",
            "\n",
            "Best score of this round: -0.24004318149194936.\n",
            "Current features: ['full_sq', 'cafe_count_5000_price_1500', 'load_of_teachers_preschool_per_teacher', 'cafe_count_3000_price_4000', 'office_sqm_500', 'sub_area_Nekrasovka', 'railroad_1line_no', 'sub_area_Poselenie Shherbinka'].\n",
            "Score on the current features: -0.24004318149194936\n",
            "\n",
            "================\n",
            "Beast features are: ['full_sq', 'cafe_count_5000_price_1500', 'load_of_teachers_preschool_per_teacher', 'cafe_count_3000_price_4000', 'office_sqm_500', 'sub_area_Nekrasovka', 'railroad_1line_no', 'sub_area_Poselenie Shherbinka']\n"
          ]
        }
      ],
      "source": [
        "### BEGIN Solution\n",
        "\n",
        "tree = DecisionTreeRegressor(max_depth=6, random_state=11)\n",
        "best_features = forward_steps(X=x_train, y=y_train_log, n_rounds=2, model=tree)\n",
        "\n",
        "print(f'================\\nBeast features are: {best_features}')\n",
        "\n",
        "### END Solution"
      ],
      "id": "hazardous-retirement"
    },
    {
      "cell_type": "markdown",
      "metadata": {
        "id": "contrary-packet"
      },
      "source": [
        "**1.3.4) Use Linear Regression, Ridge regression, Random forest and DecisionTree to get the RMSLE scores using these features. Remember the function you wrote earlier.**"
      ],
      "id": "contrary-packet"
    },
    {
      "cell_type": "code",
      "execution_count": 21,
      "metadata": {
        "colab": {
          "base_uri": "https://localhost:8080/",
          "height": 175
        },
        "id": "graduate-tooth",
        "outputId": "b5919e27-d914-41e8-f4d7-cdd86fa20c12"
      },
      "outputs": [
        {
          "output_type": "execute_result",
          "data": {
            "text/html": [
              "\n",
              "  <div id=\"df-33c02255-f7c2-4f9f-98c2-1122af3a4382\">\n",
              "    <div class=\"colab-df-container\">\n",
              "      <div>\n",
              "<style scoped>\n",
              "    .dataframe tbody tr th:only-of-type {\n",
              "        vertical-align: middle;\n",
              "    }\n",
              "\n",
              "    .dataframe tbody tr th {\n",
              "        vertical-align: top;\n",
              "    }\n",
              "\n",
              "    .dataframe thead th {\n",
              "        text-align: right;\n",
              "    }\n",
              "</style>\n",
              "<table border=\"1\" class=\"dataframe\">\n",
              "  <thead>\n",
              "    <tr style=\"text-align: right;\">\n",
              "      <th></th>\n",
              "      <th>Train Error</th>\n",
              "      <th>Test Error</th>\n",
              "    </tr>\n",
              "  </thead>\n",
              "  <tbody>\n",
              "    <tr>\n",
              "      <th>Linear Regression</th>\n",
              "      <td>0.322324</td>\n",
              "      <td>0.299512</td>\n",
              "    </tr>\n",
              "    <tr>\n",
              "      <th>Ridge regression</th>\n",
              "      <td>0.322324</td>\n",
              "      <td>0.299512</td>\n",
              "    </tr>\n",
              "    <tr>\n",
              "      <th>Random forest</th>\n",
              "      <td>0.227305</td>\n",
              "      <td>0.226690</td>\n",
              "    </tr>\n",
              "    <tr>\n",
              "      <th>Decision Tree</th>\n",
              "      <td>0.233278</td>\n",
              "      <td>0.233546</td>\n",
              "    </tr>\n",
              "  </tbody>\n",
              "</table>\n",
              "</div>\n",
              "      <button class=\"colab-df-convert\" onclick=\"convertToInteractive('df-33c02255-f7c2-4f9f-98c2-1122af3a4382')\"\n",
              "              title=\"Convert this dataframe to an interactive table.\"\n",
              "              style=\"display:none;\">\n",
              "        \n",
              "  <svg xmlns=\"http://www.w3.org/2000/svg\" height=\"24px\"viewBox=\"0 0 24 24\"\n",
              "       width=\"24px\">\n",
              "    <path d=\"M0 0h24v24H0V0z\" fill=\"none\"/>\n",
              "    <path d=\"M18.56 5.44l.94 2.06.94-2.06 2.06-.94-2.06-.94-.94-2.06-.94 2.06-2.06.94zm-11 1L8.5 8.5l.94-2.06 2.06-.94-2.06-.94L8.5 2.5l-.94 2.06-2.06.94zm10 10l.94 2.06.94-2.06 2.06-.94-2.06-.94-.94-2.06-.94 2.06-2.06.94z\"/><path d=\"M17.41 7.96l-1.37-1.37c-.4-.4-.92-.59-1.43-.59-.52 0-1.04.2-1.43.59L10.3 9.45l-7.72 7.72c-.78.78-.78 2.05 0 2.83L4 21.41c.39.39.9.59 1.41.59.51 0 1.02-.2 1.41-.59l7.78-7.78 2.81-2.81c.8-.78.8-2.07 0-2.86zM5.41 20L4 18.59l7.72-7.72 1.47 1.35L5.41 20z\"/>\n",
              "  </svg>\n",
              "      </button>\n",
              "      \n",
              "  <style>\n",
              "    .colab-df-container {\n",
              "      display:flex;\n",
              "      flex-wrap:wrap;\n",
              "      gap: 12px;\n",
              "    }\n",
              "\n",
              "    .colab-df-convert {\n",
              "      background-color: #E8F0FE;\n",
              "      border: none;\n",
              "      border-radius: 50%;\n",
              "      cursor: pointer;\n",
              "      display: none;\n",
              "      fill: #1967D2;\n",
              "      height: 32px;\n",
              "      padding: 0 0 0 0;\n",
              "      width: 32px;\n",
              "    }\n",
              "\n",
              "    .colab-df-convert:hover {\n",
              "      background-color: #E2EBFA;\n",
              "      box-shadow: 0px 1px 2px rgba(60, 64, 67, 0.3), 0px 1px 3px 1px rgba(60, 64, 67, 0.15);\n",
              "      fill: #174EA6;\n",
              "    }\n",
              "\n",
              "    [theme=dark] .colab-df-convert {\n",
              "      background-color: #3B4455;\n",
              "      fill: #D2E3FC;\n",
              "    }\n",
              "\n",
              "    [theme=dark] .colab-df-convert:hover {\n",
              "      background-color: #434B5C;\n",
              "      box-shadow: 0px 1px 3px 1px rgba(0, 0, 0, 0.15);\n",
              "      filter: drop-shadow(0px 1px 2px rgba(0, 0, 0, 0.3));\n",
              "      fill: #FFFFFF;\n",
              "    }\n",
              "  </style>\n",
              "\n",
              "      <script>\n",
              "        const buttonEl =\n",
              "          document.querySelector('#df-33c02255-f7c2-4f9f-98c2-1122af3a4382 button.colab-df-convert');\n",
              "        buttonEl.style.display =\n",
              "          google.colab.kernel.accessAllowed ? 'block' : 'none';\n",
              "\n",
              "        async function convertToInteractive(key) {\n",
              "          const element = document.querySelector('#df-33c02255-f7c2-4f9f-98c2-1122af3a4382');\n",
              "          const dataTable =\n",
              "            await google.colab.kernel.invokeFunction('convertToInteractive',\n",
              "                                                     [key], {});\n",
              "          if (!dataTable) return;\n",
              "\n",
              "          const docLinkHtml = 'Like what you see? Visit the ' +\n",
              "            '<a target=\"_blank\" href=https://colab.research.google.com/notebooks/data_table.ipynb>data table notebook</a>'\n",
              "            + ' to learn more about interactive tables.';\n",
              "          element.innerHTML = '';\n",
              "          dataTable['output_type'] = 'display_data';\n",
              "          await google.colab.output.renderOutput(dataTable, element);\n",
              "          const docLink = document.createElement('div');\n",
              "          docLink.innerHTML = docLinkHtml;\n",
              "          element.appendChild(docLink);\n",
              "        }\n",
              "      </script>\n",
              "    </div>\n",
              "  </div>\n",
              "  "
            ],
            "text/plain": [
              "                   Train Error  Test Error\n",
              "Linear Regression     0.322324    0.299512\n",
              "Ridge regression      0.322324    0.299512\n",
              "Random forest         0.227305    0.226690\n",
              "Decision Tree         0.233278    0.233546"
            ]
          },
          "metadata": {},
          "execution_count": 21
        }
      ],
      "source": [
        "### BEGIN Solution\n",
        "\n",
        "some_function(x_train[best_features], y_train_log, x_test[best_features], y_test_log)\n",
        "\n",
        "### END Solution"
      ],
      "id": "graduate-tooth"
    },
    {
      "cell_type": "markdown",
      "metadata": {
        "id": "infinite-navigation"
      },
      "source": [
        "<br>"
      ],
      "id": "infinite-navigation"
    },
    {
      "cell_type": "markdown",
      "metadata": {
        "id": "individual-rendering"
      },
      "source": [
        "## Task 2. Multi-Class Classification Strategies (1 point)\n",
        "In this task, you will deal with the multiclass classification problem for the Glass Classification Data. Let's load the dataset."
      ],
      "id": "individual-rendering"
    },
    {
      "cell_type": "code",
      "execution_count": 22,
      "metadata": {
        "colab": {
          "base_uri": "https://localhost:8080/",
          "height": 143
        },
        "id": "technical-trader",
        "outputId": "bba0119f-920e-4924-e3ed-dccb7550032e"
      },
      "outputs": [
        {
          "output_type": "execute_result",
          "data": {
            "text/html": [
              "\n",
              "  <div id=\"df-1af3f48a-a2fe-43fe-a1b5-ed88456132a3\">\n",
              "    <div class=\"colab-df-container\">\n",
              "      <div>\n",
              "<style scoped>\n",
              "    .dataframe tbody tr th:only-of-type {\n",
              "        vertical-align: middle;\n",
              "    }\n",
              "\n",
              "    .dataframe tbody tr th {\n",
              "        vertical-align: top;\n",
              "    }\n",
              "\n",
              "    .dataframe thead th {\n",
              "        text-align: right;\n",
              "    }\n",
              "</style>\n",
              "<table border=\"1\" class=\"dataframe\">\n",
              "  <thead>\n",
              "    <tr style=\"text-align: right;\">\n",
              "      <th></th>\n",
              "      <th>RI</th>\n",
              "      <th>Na</th>\n",
              "      <th>Mg</th>\n",
              "      <th>Al</th>\n",
              "      <th>Si</th>\n",
              "      <th>K</th>\n",
              "      <th>Ca</th>\n",
              "      <th>Ba</th>\n",
              "      <th>Fe</th>\n",
              "      <th>Type</th>\n",
              "    </tr>\n",
              "  </thead>\n",
              "  <tbody>\n",
              "    <tr>\n",
              "      <th>6</th>\n",
              "      <td>1.51743</td>\n",
              "      <td>13.30</td>\n",
              "      <td>3.60</td>\n",
              "      <td>1.14</td>\n",
              "      <td>73.09</td>\n",
              "      <td>0.58</td>\n",
              "      <td>8.17</td>\n",
              "      <td>0.0</td>\n",
              "      <td>0.0</td>\n",
              "      <td>1</td>\n",
              "    </tr>\n",
              "    <tr>\n",
              "      <th>163</th>\n",
              "      <td>1.51514</td>\n",
              "      <td>14.01</td>\n",
              "      <td>2.68</td>\n",
              "      <td>3.50</td>\n",
              "      <td>69.89</td>\n",
              "      <td>1.68</td>\n",
              "      <td>5.87</td>\n",
              "      <td>2.2</td>\n",
              "      <td>0.0</td>\n",
              "      <td>5</td>\n",
              "    </tr>\n",
              "    <tr>\n",
              "      <th>34</th>\n",
              "      <td>1.51783</td>\n",
              "      <td>12.69</td>\n",
              "      <td>3.54</td>\n",
              "      <td>1.34</td>\n",
              "      <td>72.95</td>\n",
              "      <td>0.57</td>\n",
              "      <td>8.75</td>\n",
              "      <td>0.0</td>\n",
              "      <td>0.0</td>\n",
              "      <td>1</td>\n",
              "    </tr>\n",
              "  </tbody>\n",
              "</table>\n",
              "</div>\n",
              "      <button class=\"colab-df-convert\" onclick=\"convertToInteractive('df-1af3f48a-a2fe-43fe-a1b5-ed88456132a3')\"\n",
              "              title=\"Convert this dataframe to an interactive table.\"\n",
              "              style=\"display:none;\">\n",
              "        \n",
              "  <svg xmlns=\"http://www.w3.org/2000/svg\" height=\"24px\"viewBox=\"0 0 24 24\"\n",
              "       width=\"24px\">\n",
              "    <path d=\"M0 0h24v24H0V0z\" fill=\"none\"/>\n",
              "    <path d=\"M18.56 5.44l.94 2.06.94-2.06 2.06-.94-2.06-.94-.94-2.06-.94 2.06-2.06.94zm-11 1L8.5 8.5l.94-2.06 2.06-.94-2.06-.94L8.5 2.5l-.94 2.06-2.06.94zm10 10l.94 2.06.94-2.06 2.06-.94-2.06-.94-.94-2.06-.94 2.06-2.06.94z\"/><path d=\"M17.41 7.96l-1.37-1.37c-.4-.4-.92-.59-1.43-.59-.52 0-1.04.2-1.43.59L10.3 9.45l-7.72 7.72c-.78.78-.78 2.05 0 2.83L4 21.41c.39.39.9.59 1.41.59.51 0 1.02-.2 1.41-.59l7.78-7.78 2.81-2.81c.8-.78.8-2.07 0-2.86zM5.41 20L4 18.59l7.72-7.72 1.47 1.35L5.41 20z\"/>\n",
              "  </svg>\n",
              "      </button>\n",
              "      \n",
              "  <style>\n",
              "    .colab-df-container {\n",
              "      display:flex;\n",
              "      flex-wrap:wrap;\n",
              "      gap: 12px;\n",
              "    }\n",
              "\n",
              "    .colab-df-convert {\n",
              "      background-color: #E8F0FE;\n",
              "      border: none;\n",
              "      border-radius: 50%;\n",
              "      cursor: pointer;\n",
              "      display: none;\n",
              "      fill: #1967D2;\n",
              "      height: 32px;\n",
              "      padding: 0 0 0 0;\n",
              "      width: 32px;\n",
              "    }\n",
              "\n",
              "    .colab-df-convert:hover {\n",
              "      background-color: #E2EBFA;\n",
              "      box-shadow: 0px 1px 2px rgba(60, 64, 67, 0.3), 0px 1px 3px 1px rgba(60, 64, 67, 0.15);\n",
              "      fill: #174EA6;\n",
              "    }\n",
              "\n",
              "    [theme=dark] .colab-df-convert {\n",
              "      background-color: #3B4455;\n",
              "      fill: #D2E3FC;\n",
              "    }\n",
              "\n",
              "    [theme=dark] .colab-df-convert:hover {\n",
              "      background-color: #434B5C;\n",
              "      box-shadow: 0px 1px 3px 1px rgba(0, 0, 0, 0.15);\n",
              "      filter: drop-shadow(0px 1px 2px rgba(0, 0, 0, 0.3));\n",
              "      fill: #FFFFFF;\n",
              "    }\n",
              "  </style>\n",
              "\n",
              "      <script>\n",
              "        const buttonEl =\n",
              "          document.querySelector('#df-1af3f48a-a2fe-43fe-a1b5-ed88456132a3 button.colab-df-convert');\n",
              "        buttonEl.style.display =\n",
              "          google.colab.kernel.accessAllowed ? 'block' : 'none';\n",
              "\n",
              "        async function convertToInteractive(key) {\n",
              "          const element = document.querySelector('#df-1af3f48a-a2fe-43fe-a1b5-ed88456132a3');\n",
              "          const dataTable =\n",
              "            await google.colab.kernel.invokeFunction('convertToInteractive',\n",
              "                                                     [key], {});\n",
              "          if (!dataTable) return;\n",
              "\n",
              "          const docLinkHtml = 'Like what you see? Visit the ' +\n",
              "            '<a target=\"_blank\" href=https://colab.research.google.com/notebooks/data_table.ipynb>data table notebook</a>'\n",
              "            + ' to learn more about interactive tables.';\n",
              "          element.innerHTML = '';\n",
              "          dataTable['output_type'] = 'display_data';\n",
              "          await google.colab.output.renderOutput(dataTable, element);\n",
              "          const docLink = document.createElement('div');\n",
              "          docLink.innerHTML = docLinkHtml;\n",
              "          element.appendChild(docLink);\n",
              "        }\n",
              "      </script>\n",
              "    </div>\n",
              "  </div>\n",
              "  "
            ],
            "text/plain": [
              "          RI     Na    Mg    Al     Si     K    Ca   Ba   Fe  Type\n",
              "6    1.51743  13.30  3.60  1.14  73.09  0.58  8.17  0.0  0.0     1\n",
              "163  1.51514  14.01  2.68  3.50  69.89  1.68  5.87  2.2  0.0     5\n",
              "34   1.51783  12.69  3.54  1.34  72.95  0.57  8.75  0.0  0.0     1"
            ]
          },
          "metadata": {},
          "execution_count": 22
        }
      ],
      "source": [
        "data = pd.read_csv('glass.csv')\n",
        "X, y = data.drop('Type', axis=1), data.Type\n",
        "data.sample(3)"
      ],
      "id": "technical-trader"
    },
    {
      "cell_type": "markdown",
      "metadata": {
        "id": "flying-region"
      },
      "source": [
        "The features of each glass object correspond to the fraction of the particular chemical element in the object. The target variable corresponds to the type of glass (6 classes).\n",
        "\n",
        "In this problem, you have to empirically compare the time complexity and performance of several multiclass labeling strategies for different algorithms. You must consider the following algorithms:\n",
        "* Single Decision Tree (depth 7)\n",
        "* Medium Random Forest (100 trees of depth 3)\n",
        "* KNearestNeighbors (5 neighbors)\n",
        "* Logistic Regression\n",
        "\n",
        "Note that all these algorithms by default support **multiclass labeling**. Nevertheless, we want you to compare this approach with **OneVSRest** and **OneVSOne** approaches applied to these algorithms. More precisely, for every pair (algorithm, approach) you are to perform a 5-fold cross-validation on the data and output the validation score and the computation time in the **table** form. Please note that you also have to choose the metric to optimize during CV (e.g. accuracy, balanced accuracy) on your own. \n",
        "\n",
        "After that, you are to answer the following questions:\n",
        "* Which metric did you choose to optimize during cross-validation and why? Explain\n",
        "* For which algorithms the usage of OneVSRest/OneVSOne approach provides significantly better performance without a significant increase in computation time?"
      ],
      "id": "flying-region"
    },
    {
      "cell_type": "code",
      "execution_count": 23,
      "metadata": {
        "colab": {
          "base_uri": "https://localhost:8080/",
          "height": 367
        },
        "id": "authentic-slope",
        "outputId": "b6955125-246a-4472-85ee-11b73023426c"
      },
      "outputs": [
        {
          "output_type": "stream",
          "name": "stdout",
          "text": [
            "Matthews correlation coefficient values\n"
          ]
        },
        {
          "output_type": "display_data",
          "data": {
            "text/html": [
              "\n",
              "  <div id=\"df-d8854e39-d7e0-4c01-abb5-6d281cd1a5e6\">\n",
              "    <div class=\"colab-df-container\">\n",
              "      <div>\n",
              "<style scoped>\n",
              "    .dataframe tbody tr th:only-of-type {\n",
              "        vertical-align: middle;\n",
              "    }\n",
              "\n",
              "    .dataframe tbody tr th {\n",
              "        vertical-align: top;\n",
              "    }\n",
              "\n",
              "    .dataframe thead th {\n",
              "        text-align: right;\n",
              "    }\n",
              "</style>\n",
              "<table border=\"1\" class=\"dataframe\">\n",
              "  <thead>\n",
              "    <tr style=\"text-align: right;\">\n",
              "      <th></th>\n",
              "      <th>Multi-Class</th>\n",
              "      <th>OneVsOne</th>\n",
              "      <th>OneVsRest</th>\n",
              "    </tr>\n",
              "  </thead>\n",
              "  <tbody>\n",
              "    <tr>\n",
              "      <th>Desicion Tree</th>\n",
              "      <td>0.441884</td>\n",
              "      <td>0.459938</td>\n",
              "      <td>0.383858</td>\n",
              "    </tr>\n",
              "    <tr>\n",
              "      <th>Random Forest</th>\n",
              "      <td>0.429282</td>\n",
              "      <td>0.486555</td>\n",
              "      <td>0.509169</td>\n",
              "    </tr>\n",
              "    <tr>\n",
              "      <th>KNearestNeighbors</th>\n",
              "      <td>0.489485</td>\n",
              "      <td>0.505200</td>\n",
              "      <td>0.509185</td>\n",
              "    </tr>\n",
              "    <tr>\n",
              "      <th>Logistic Regression</th>\n",
              "      <td>0.440915</td>\n",
              "      <td>0.414225</td>\n",
              "      <td>0.391818</td>\n",
              "    </tr>\n",
              "  </tbody>\n",
              "</table>\n",
              "</div>\n",
              "      <button class=\"colab-df-convert\" onclick=\"convertToInteractive('df-d8854e39-d7e0-4c01-abb5-6d281cd1a5e6')\"\n",
              "              title=\"Convert this dataframe to an interactive table.\"\n",
              "              style=\"display:none;\">\n",
              "        \n",
              "  <svg xmlns=\"http://www.w3.org/2000/svg\" height=\"24px\"viewBox=\"0 0 24 24\"\n",
              "       width=\"24px\">\n",
              "    <path d=\"M0 0h24v24H0V0z\" fill=\"none\"/>\n",
              "    <path d=\"M18.56 5.44l.94 2.06.94-2.06 2.06-.94-2.06-.94-.94-2.06-.94 2.06-2.06.94zm-11 1L8.5 8.5l.94-2.06 2.06-.94-2.06-.94L8.5 2.5l-.94 2.06-2.06.94zm10 10l.94 2.06.94-2.06 2.06-.94-2.06-.94-.94-2.06-.94 2.06-2.06.94z\"/><path d=\"M17.41 7.96l-1.37-1.37c-.4-.4-.92-.59-1.43-.59-.52 0-1.04.2-1.43.59L10.3 9.45l-7.72 7.72c-.78.78-.78 2.05 0 2.83L4 21.41c.39.39.9.59 1.41.59.51 0 1.02-.2 1.41-.59l7.78-7.78 2.81-2.81c.8-.78.8-2.07 0-2.86zM5.41 20L4 18.59l7.72-7.72 1.47 1.35L5.41 20z\"/>\n",
              "  </svg>\n",
              "      </button>\n",
              "      \n",
              "  <style>\n",
              "    .colab-df-container {\n",
              "      display:flex;\n",
              "      flex-wrap:wrap;\n",
              "      gap: 12px;\n",
              "    }\n",
              "\n",
              "    .colab-df-convert {\n",
              "      background-color: #E8F0FE;\n",
              "      border: none;\n",
              "      border-radius: 50%;\n",
              "      cursor: pointer;\n",
              "      display: none;\n",
              "      fill: #1967D2;\n",
              "      height: 32px;\n",
              "      padding: 0 0 0 0;\n",
              "      width: 32px;\n",
              "    }\n",
              "\n",
              "    .colab-df-convert:hover {\n",
              "      background-color: #E2EBFA;\n",
              "      box-shadow: 0px 1px 2px rgba(60, 64, 67, 0.3), 0px 1px 3px 1px rgba(60, 64, 67, 0.15);\n",
              "      fill: #174EA6;\n",
              "    }\n",
              "\n",
              "    [theme=dark] .colab-df-convert {\n",
              "      background-color: #3B4455;\n",
              "      fill: #D2E3FC;\n",
              "    }\n",
              "\n",
              "    [theme=dark] .colab-df-convert:hover {\n",
              "      background-color: #434B5C;\n",
              "      box-shadow: 0px 1px 3px 1px rgba(0, 0, 0, 0.15);\n",
              "      filter: drop-shadow(0px 1px 2px rgba(0, 0, 0, 0.3));\n",
              "      fill: #FFFFFF;\n",
              "    }\n",
              "  </style>\n",
              "\n",
              "      <script>\n",
              "        const buttonEl =\n",
              "          document.querySelector('#df-d8854e39-d7e0-4c01-abb5-6d281cd1a5e6 button.colab-df-convert');\n",
              "        buttonEl.style.display =\n",
              "          google.colab.kernel.accessAllowed ? 'block' : 'none';\n",
              "\n",
              "        async function convertToInteractive(key) {\n",
              "          const element = document.querySelector('#df-d8854e39-d7e0-4c01-abb5-6d281cd1a5e6');\n",
              "          const dataTable =\n",
              "            await google.colab.kernel.invokeFunction('convertToInteractive',\n",
              "                                                     [key], {});\n",
              "          if (!dataTable) return;\n",
              "\n",
              "          const docLinkHtml = 'Like what you see? Visit the ' +\n",
              "            '<a target=\"_blank\" href=https://colab.research.google.com/notebooks/data_table.ipynb>data table notebook</a>'\n",
              "            + ' to learn more about interactive tables.';\n",
              "          element.innerHTML = '';\n",
              "          dataTable['output_type'] = 'display_data';\n",
              "          await google.colab.output.renderOutput(dataTable, element);\n",
              "          const docLink = document.createElement('div');\n",
              "          docLink.innerHTML = docLinkHtml;\n",
              "          element.appendChild(docLink);\n",
              "        }\n",
              "      </script>\n",
              "    </div>\n",
              "  </div>\n",
              "  "
            ],
            "text/plain": [
              "                     Multi-Class  OneVsOne  OneVsRest\n",
              "Desicion Tree           0.441884  0.459938   0.383858\n",
              "Random Forest           0.429282  0.486555   0.509169\n",
              "KNearestNeighbors       0.489485  0.505200   0.509185\n",
              "Logistic Regression     0.440915  0.414225   0.391818"
            ]
          },
          "metadata": {}
        },
        {
          "output_type": "stream",
          "name": "stdout",
          "text": [
            "Execution time\n"
          ]
        },
        {
          "output_type": "display_data",
          "data": {
            "text/html": [
              "\n",
              "  <div id=\"df-19125e8b-c61c-415a-895e-1733e5894793\">\n",
              "    <div class=\"colab-df-container\">\n",
              "      <div>\n",
              "<style scoped>\n",
              "    .dataframe tbody tr th:only-of-type {\n",
              "        vertical-align: middle;\n",
              "    }\n",
              "\n",
              "    .dataframe tbody tr th {\n",
              "        vertical-align: top;\n",
              "    }\n",
              "\n",
              "    .dataframe thead th {\n",
              "        text-align: right;\n",
              "    }\n",
              "</style>\n",
              "<table border=\"1\" class=\"dataframe\">\n",
              "  <thead>\n",
              "    <tr style=\"text-align: right;\">\n",
              "      <th></th>\n",
              "      <th>Multi-Class</th>\n",
              "      <th>OneVsOne</th>\n",
              "      <th>OneVsRest</th>\n",
              "    </tr>\n",
              "  </thead>\n",
              "  <tbody>\n",
              "    <tr>\n",
              "      <th>Desicion Tree</th>\n",
              "      <td>0.055586</td>\n",
              "      <td>0.374497</td>\n",
              "      <td>0.373722</td>\n",
              "    </tr>\n",
              "    <tr>\n",
              "      <th>Random Forest</th>\n",
              "      <td>1.139449</td>\n",
              "      <td>18.170366</td>\n",
              "      <td>5.782462</td>\n",
              "    </tr>\n",
              "    <tr>\n",
              "      <th>KNearestNeighbors</th>\n",
              "      <td>0.362806</td>\n",
              "      <td>9.651371</td>\n",
              "      <td>2.206902</td>\n",
              "    </tr>\n",
              "    <tr>\n",
              "      <th>Logistic Regression</th>\n",
              "      <td>0.344017</td>\n",
              "      <td>1.853919</td>\n",
              "      <td>0.899043</td>\n",
              "    </tr>\n",
              "  </tbody>\n",
              "</table>\n",
              "</div>\n",
              "      <button class=\"colab-df-convert\" onclick=\"convertToInteractive('df-19125e8b-c61c-415a-895e-1733e5894793')\"\n",
              "              title=\"Convert this dataframe to an interactive table.\"\n",
              "              style=\"display:none;\">\n",
              "        \n",
              "  <svg xmlns=\"http://www.w3.org/2000/svg\" height=\"24px\"viewBox=\"0 0 24 24\"\n",
              "       width=\"24px\">\n",
              "    <path d=\"M0 0h24v24H0V0z\" fill=\"none\"/>\n",
              "    <path d=\"M18.56 5.44l.94 2.06.94-2.06 2.06-.94-2.06-.94-.94-2.06-.94 2.06-2.06.94zm-11 1L8.5 8.5l.94-2.06 2.06-.94-2.06-.94L8.5 2.5l-.94 2.06-2.06.94zm10 10l.94 2.06.94-2.06 2.06-.94-2.06-.94-.94-2.06-.94 2.06-2.06.94z\"/><path d=\"M17.41 7.96l-1.37-1.37c-.4-.4-.92-.59-1.43-.59-.52 0-1.04.2-1.43.59L10.3 9.45l-7.72 7.72c-.78.78-.78 2.05 0 2.83L4 21.41c.39.39.9.59 1.41.59.51 0 1.02-.2 1.41-.59l7.78-7.78 2.81-2.81c.8-.78.8-2.07 0-2.86zM5.41 20L4 18.59l7.72-7.72 1.47 1.35L5.41 20z\"/>\n",
              "  </svg>\n",
              "      </button>\n",
              "      \n",
              "  <style>\n",
              "    .colab-df-container {\n",
              "      display:flex;\n",
              "      flex-wrap:wrap;\n",
              "      gap: 12px;\n",
              "    }\n",
              "\n",
              "    .colab-df-convert {\n",
              "      background-color: #E8F0FE;\n",
              "      border: none;\n",
              "      border-radius: 50%;\n",
              "      cursor: pointer;\n",
              "      display: none;\n",
              "      fill: #1967D2;\n",
              "      height: 32px;\n",
              "      padding: 0 0 0 0;\n",
              "      width: 32px;\n",
              "    }\n",
              "\n",
              "    .colab-df-convert:hover {\n",
              "      background-color: #E2EBFA;\n",
              "      box-shadow: 0px 1px 2px rgba(60, 64, 67, 0.3), 0px 1px 3px 1px rgba(60, 64, 67, 0.15);\n",
              "      fill: #174EA6;\n",
              "    }\n",
              "\n",
              "    [theme=dark] .colab-df-convert {\n",
              "      background-color: #3B4455;\n",
              "      fill: #D2E3FC;\n",
              "    }\n",
              "\n",
              "    [theme=dark] .colab-df-convert:hover {\n",
              "      background-color: #434B5C;\n",
              "      box-shadow: 0px 1px 3px 1px rgba(0, 0, 0, 0.15);\n",
              "      filter: drop-shadow(0px 1px 2px rgba(0, 0, 0, 0.3));\n",
              "      fill: #FFFFFF;\n",
              "    }\n",
              "  </style>\n",
              "\n",
              "      <script>\n",
              "        const buttonEl =\n",
              "          document.querySelector('#df-19125e8b-c61c-415a-895e-1733e5894793 button.colab-df-convert');\n",
              "        buttonEl.style.display =\n",
              "          google.colab.kernel.accessAllowed ? 'block' : 'none';\n",
              "\n",
              "        async function convertToInteractive(key) {\n",
              "          const element = document.querySelector('#df-19125e8b-c61c-415a-895e-1733e5894793');\n",
              "          const dataTable =\n",
              "            await google.colab.kernel.invokeFunction('convertToInteractive',\n",
              "                                                     [key], {});\n",
              "          if (!dataTable) return;\n",
              "\n",
              "          const docLinkHtml = 'Like what you see? Visit the ' +\n",
              "            '<a target=\"_blank\" href=https://colab.research.google.com/notebooks/data_table.ipynb>data table notebook</a>'\n",
              "            + ' to learn more about interactive tables.';\n",
              "          element.innerHTML = '';\n",
              "          dataTable['output_type'] = 'display_data';\n",
              "          await google.colab.output.renderOutput(dataTable, element);\n",
              "          const docLink = document.createElement('div');\n",
              "          docLink.innerHTML = docLinkHtml;\n",
              "          element.appendChild(docLink);\n",
              "        }\n",
              "      </script>\n",
              "    </div>\n",
              "  </div>\n",
              "  "
            ],
            "text/plain": [
              "                     Multi-Class   OneVsOne  OneVsRest\n",
              "Desicion Tree           0.055586   0.374497   0.373722\n",
              "Random Forest           1.139449  18.170366   5.782462\n",
              "KNearestNeighbors       0.362806   9.651371   2.206902\n",
              "Logistic Regression     0.344017   1.853919   0.899043"
            ]
          },
          "metadata": {}
        }
      ],
      "source": [
        "### BEGIN Solution (do not delete this comment)\n",
        "\n",
        "tree_7 = DecisionTreeClassifier(max_depth=7, random_state=11)\n",
        "med_forest = RandomForestClassifier(n_estimators=100, max_depth=3, n_jobs=-1, random_state=11)\n",
        "knn_5 = KNeighborsClassifier(n_neighbors=5, n_jobs=-1)\n",
        "log_reg = LogisticRegression(random_state=11, n_jobs=-1)\n",
        "\n",
        "multiclass_acc, multiclass_t = [], []\n",
        "one_v_one_acc, one_v_one_t = [], []\n",
        "one_v_rest_acc, one_v_rest_t = [], []\n",
        "\n",
        "model_names = ['Desicion Tree', 'Random Forest', 'KNearestNeighbors', 'Logistic Regression']\n",
        "model_list = [tree_7, med_forest, knn_5, log_reg]\n",
        "\n",
        "def one_model_run(model, X, y, n_folders, metric):\n",
        "    \n",
        "    one_v_one = OneVsOneClassifier(model, n_jobs=-1)\n",
        "    one_v_rest = OneVsRestClassifier(model, n_jobs=-1)\n",
        "    \n",
        "    start = time.perf_counter()\n",
        "    multiclass_acc.append(np.mean(cross_val_score(model, X, y, scoring=metric, cv=n_folders, n_jobs=-1)))\n",
        "    end = time.perf_counter()\n",
        "    multiclass_t.append(end - start)\n",
        "    \n",
        "    start = time.perf_counter()\n",
        "    one_v_one_acc.append(np.mean(cross_val_score(one_v_one, X, y, scoring=metric, cv=n_folders, n_jobs=-1)))\n",
        "    end = time.perf_counter()\n",
        "    one_v_one_t.append(end - start)\n",
        "    \n",
        "    start = time.perf_counter()\n",
        "    one_v_rest_acc.append(np.mean(cross_val_score(one_v_rest, X, y, scoring=metric, cv=n_folders, n_jobs=-1)))\n",
        "    end = time.perf_counter()\n",
        "    one_v_rest_t.append(end - start)\n",
        "    \n",
        "    return\n",
        "\n",
        "for m in model_list:\n",
        "    one_model_run(m, X=X, y=y, n_folders=5, metric=make_scorer(matthews_corrcoef))\n",
        "    \n",
        "df_acc = pd.DataFrame({'Multi-Class': multiclass_acc, 'OneVsOne': one_v_one_acc, 'OneVsRest':one_v_rest_acc}, index=model_names)\n",
        "df_t = pd.DataFrame({'Multi-Class': multiclass_t, 'OneVsOne': one_v_one_t, 'OneVsRest':one_v_rest_t}, index=model_names)\n",
        "\n",
        "print('Matthews correlation coefficient values')\n",
        "display(df_acc)\n",
        "\n",
        "print('Execution time')\n",
        "display(df_t)\n",
        "\n",
        "### END Solution (do not delete this comment)"
      ],
      "id": "authentic-slope"
    },
    {
      "cell_type": "markdown",
      "metadata": {
        "id": "married-preserve"
      },
      "source": [
        "**Which metric did you choose to optimize during cross validation and why? Explain**"
      ],
      "id": "married-preserve"
    },
    {
      "cell_type": "markdown",
      "metadata": {
        "id": "dutch-alfred"
      },
      "source": [
        "**Your text answer (do not delete this comment)**:\n",
        "\n",
        "\\<write your answer\\>\n",
        "\n",
        "I chose Matthews correlation coefficient.\n",
        "\n",
        "This is an imbalanced multi-class classification problem (number of classes: '2'-76, '1'-70, '7'-29, '3'-17, '5'-13, '6'-9). I've been choosing between sklearn.metrics.balanced_accuracy_score and sklearn.metrics.matthews_corrcoef which both can be used for imbalanced problems. I liked the second more since:\n",
        "1. It's not just accuracy but it's calculated based on a confusion matrix;\n",
        "2. Some articles (e.g. [wiki](https://en.wikipedia.org/wiki/Phi_coefficient#Machine_learning)) on the web claim Matthews correlation coefficient to be one of the best measures."
      ],
      "id": "dutch-alfred"
    },
    {
      "cell_type": "markdown",
      "metadata": {
        "id": "elect-jerusalem"
      },
      "source": [
        "**For which algorithms the usage of OneVSRest/OneVSOne approach provides significantly better performance without a significant increase in computation time?**"
      ],
      "id": "elect-jerusalem"
    },
    {
      "cell_type": "markdown",
      "metadata": {
        "id": "CH04Ord57RS4"
      },
      "source": [
        "**Your text answer (do not delete this comment)**:\n",
        "\n",
        "\\<write your answer\\>\n",
        "\n",
        "The One-vs-Rest approach provides significant growth in accuracy for Random Forests with comparable increase in execution time. It's 5,2 times larger than for multi-class approach, but not as big as for One-vs-One approach (larger in 16,3 times)."
      ],
      "id": "CH04Ord57RS4"
    },
    {
      "cell_type": "markdown",
      "metadata": {
        "id": "electric-matthew"
      },
      "source": [
        "# Task 3. Stacking (2 points)"
      ],
      "id": "electric-matthew"
    },
    {
      "cell_type": "markdown",
      "metadata": {
        "id": "third-liverpool"
      },
      "source": [
        "Stacking is an ensembling approach, which combines several algorithms (base models) to get better results. This is achieved by **a)** training the base models (any ML models) on the initial train data (or parts of the train data, see the paragraph below), **b)** training the meta-model (also an ML model) on the predictions of those base models.\n",
        "\n",
        "One of the main problems of stacking is overfitting. To avoid it, when evaluating the performance of the meta-model on the train set, the training data is divided into $ n $ folds, $ (n-1) $ of which are used for training the base models. The $ n $ -th fold is used for the overall prediction (calculating the meta-factor) in the following manner: the predictions on the $ n $ -th fold are made by the base models (already trained on the rest of the dataset), then these predictions on the $ n $ -th fold are fed as inputs to the meta-model.\n",
        "\n",
        "When evaluating the performance of the meta-model on the test set, there can be used various approaches$.^{[1]}$ For example, in order, to obtain meta-factors for the test data, the base classifiers can be retrained on the entire training set, since the problem of overfitting does not arise here. In other words, if we want to calculate the factors for the test set, we can safely use the training set to train the base classifiers (once again, as it is said in the paragraph above, if we want to calculate factors for the training set, then it is necessary to ensure that the classifier does not predict for those objects on which it has been trained).  \n",
        "\n",
        "You can read more details about stacking [blockpost](https://blog.statsbot.co/ensemble-learning-d1dcd548e936), [kaggle ensemble guide](https://mlwave.com/kaggle-ensembling-guide/).\n",
        "\n",
        "P.S. Stacking and Blending are two similar approaches to combining classifiers (ensembling). The difference is that Stacking uses out-of-fold predictions for the train set, and Blending uses a validation set to train the next layer ([source](quora.com/What-are-examples-of-blending-and-stacking-in-Machine-Learning)). Because they are so similar you can use any of them. \n",
        "\n",
        "[1] http://www.machinelearning.ru/wiki/images/5/56/Guschin2015Stacking.pdf  "
      ],
      "id": "third-liverpool"
    },
    {
      "cell_type": "markdown",
      "metadata": {
        "id": "recognized-guest"
      },
      "source": [
        "**Your task will be:**\n",
        "\n",
        "* Complete the ```meta_classfier``` function\n",
        "* Choose 6 different base models (base models can be any models that you know, and can differ between each other by different hyperparameters, models of ml, features e.t.c) and train them.\n",
        "* Report individual accuracy on the test set for each of the models.\n",
        "* Train the metaclassifier (in this case, once again, it is just an ML model) on the original dataset's features, report score on test.\n",
        "* Train the metaclassifier on the base models using $n$-fold cross-validation, as described above. Report the training score of the meta-classifier on the $ n $-th fold. Retrain the base models on the whole training set. Report the test score (accuracy) of the meta-classifier in this case.\n",
        "* Does stacking help to gain a better score?"
      ],
      "id": "recognized-guest"
    },
    {
      "cell_type": "markdown",
      "metadata": {
        "id": "incident-ceremony"
      },
      "source": [
        "For this task we will use the dataset fetch_covertype from [sklearn](https://scikit-learn.org/stable/modules/generated/sklearn.datasets.fetch_covtype.html#sklearn.datasets.fetch_covtype). Split it train-test - 60/40.\n",
        "More details about this dataset you can find [here](https://archive.ics.uci.edu/ml/datasets/Covertype)"
      ],
      "id": "incident-ceremony"
    },
    {
      "cell_type": "code",
      "execution_count": 24,
      "metadata": {
        "id": "banner-input"
      },
      "outputs": [],
      "source": [
        "from sklearn import datasets\n",
        "fc = sklearn.datasets.fetch_covtype()"
      ],
      "id": "banner-input"
    },
    {
      "cell_type": "markdown",
      "metadata": {
        "id": "collected-flash"
      },
      "source": [
        "Write meta classifier function."
      ],
      "id": "collected-flash"
    },
    {
      "cell_type": "code",
      "execution_count": 39,
      "metadata": {
        "id": "brilliant-greensboro"
      },
      "outputs": [],
      "source": [
        "def meta_classifier(base_clfs, final_classifier, X_train, X_test, y_train, cv):\n",
        "    \"\"\"\n",
        "    Meta classifier prediction using stacking. \n",
        "    Input:\n",
        "    :param base_clfs: list,  base classifiers which will be stacked together.\n",
        "    :param final_classifier: estimator, a classifier which will be used to combine the base estimators. \n",
        "    :param X_train: numpy array or pandas table, train set.\n",
        "    :param X_test: numpy array or pandas table, target for train set.\n",
        "    :param X_train: numpy array or pandas table, test set.\n",
        "    :param cv: number of cross-validation folds.\n",
        "    \n",
        "    Output:\n",
        "    :param y_pred: numpy array or pandas table, prediction of meta classifier using stacking on test set.\n",
        "    :param final_classifier(optional): estimator, trained final_calssifier.\n",
        "    \n",
        "    \n",
        "    More details https://scikit-learn.org/stable/modules/generated/sklearn.ensemble.StackingClassifier.html\n",
        "    \n",
        "    \"\"\"\n",
        "    ### BEGIN Solution (do not delete this comment)\n",
        "\n",
        "    fold_size = int(X_train.shape[0] // cv)\n",
        "    meta_x_train = {}\n",
        "    meta_x_test = {}\n",
        "\n",
        "    i = 1\n",
        "    while i != cv:\n",
        "        base_clfs[i-1].fit(X_train[:i*fold_size, :], y_train[:i*fold_size])\n",
        "        meta_x_train[i-1] = base_clfs[i-1].predict(X_train[:(cv-1)*fold_size, :])\n",
        "        meta_x_test[i-1] = base_clfs[i-1].predict(X_train[(cv-1)*fold_size:, :])\n",
        "        i += 1\n",
        "    \n",
        "    meta_x_train = pd.DataFrame(meta_x_train)\n",
        "    meta_x_test = pd.DataFrame(meta_x_test)\n",
        "\n",
        "    final_classifier.fit(meta_x_train, y_train[:(cv-1)*fold_size])\n",
        "\n",
        "    print(f'Test score of metaclassifier on the n-th fold: {accuracy_score(y_train[(cv-1)*fold_size:], final_classifier.predict(meta_x_test))}')\n",
        "\n",
        "    return final_classifier.predict(meta_x_test), final_classifier\n",
        "\n",
        "    ### END Solution (do not delete this comment)\n",
        "    pass"
      ],
      "id": "brilliant-greensboro"
    },
    {
      "cell_type": "markdown",
      "metadata": {
        "id": "vfZmdicwORxq"
      },
      "source": [
        "### Subproblem 3.1 (1 point)"
      ],
      "id": "vfZmdicwORxq"
    },
    {
      "cell_type": "markdown",
      "metadata": {
        "id": "incredible-wichita"
      },
      "source": [
        "**3.1.1) Chose 6 different base models (base models can be any models that you know,and can differ with each other by different hyperparameters,  models of ml, features e.t.c) and train them.**"
      ],
      "id": "incredible-wichita"
    },
    {
      "cell_type": "code",
      "execution_count": 28,
      "metadata": {
        "id": "cleared-supply",
        "colab": {
          "base_uri": "https://localhost:8080/"
        },
        "outputId": "ecd231bf-2e7b-4727-be85-6e49623da569"
      },
      "outputs": [
        {
          "output_type": "stream",
          "name": "stderr",
          "text": [
            "\r  0%|          | 0/6 [00:00<?, ?it/s]"
          ]
        },
        {
          "output_type": "stream",
          "name": "stdout",
          "text": [
            "Current model: AdaBoostClassifier(random_state=11)\n"
          ]
        },
        {
          "output_type": "stream",
          "name": "stderr",
          "text": [
            "\r 17%|█▋        | 1/6 [00:43<03:37, 43.44s/it]"
          ]
        },
        {
          "output_type": "stream",
          "name": "stdout",
          "text": [
            "Current model: AdaBoostClassifier(n_estimators=100, random_state=11)\n"
          ]
        },
        {
          "output_type": "stream",
          "name": "stderr",
          "text": [
            "\r 33%|███▎      | 2/6 [02:04<04:22, 65.58s/it]"
          ]
        },
        {
          "output_type": "stream",
          "name": "stdout",
          "text": [
            "Current model: DecisionTreeClassifier(max_depth=5, random_state=11)\n"
          ]
        },
        {
          "output_type": "stream",
          "name": "stderr",
          "text": [
            "\r 50%|█████     | 3/6 [02:07<01:50, 36.78s/it]"
          ]
        },
        {
          "output_type": "stream",
          "name": "stdout",
          "text": [
            "Current model: DecisionTreeClassifier(max_depth=10, random_state=11)\n"
          ]
        },
        {
          "output_type": "stream",
          "name": "stderr",
          "text": [
            "\r 67%|██████▋   | 4/6 [02:11<00:47, 23.96s/it]"
          ]
        },
        {
          "output_type": "stream",
          "name": "stdout",
          "text": [
            "Current model: RandomForestClassifier(max_depth=7, n_estimators=70, n_jobs=-1, random_state=11)\n"
          ]
        },
        {
          "output_type": "stream",
          "name": "stderr",
          "text": [
            "\r 83%|████████▎ | 5/6 [02:35<00:24, 24.17s/it]"
          ]
        },
        {
          "output_type": "stream",
          "name": "stdout",
          "text": [
            "Current model: RandomForestClassifier(max_depth=3, n_estimators=150, n_jobs=-1,\n",
            "                       random_state=11)\n"
          ]
        },
        {
          "output_type": "stream",
          "name": "stderr",
          "text": [
            "100%|██████████| 6/6 [03:02<00:00, 30.38s/it]\n"
          ]
        }
      ],
      "source": [
        "### BEGIN Solution (do not delete this comment)\n",
        "\n",
        "x = fc['data']\n",
        "y = fc['target']\n",
        "x_train, x_test, y_train, y_test = train_test_split(x, y, test_size=.4, random_state=11)\n",
        "\n",
        "ada_small = AdaBoostClassifier(n_estimators=50,  random_state=11)\n",
        "ada_big = AdaBoostClassifier(n_estimators=100,  random_state=11)\n",
        "tree_small = DecisionTreeClassifier(max_depth=5, random_state=11)\n",
        "tree_big = DecisionTreeClassifier(max_depth=10, random_state=11)\n",
        "forest_small = RandomForestClassifier(n_estimators=70, max_depth=7, n_jobs=-1, random_state=11)\n",
        "forest_big = RandomForestClassifier(n_estimators=150, max_depth=3, n_jobs=-1, random_state=11)\n",
        "\n",
        "models = [ada_small, ada_big, tree_small, tree_big, forest_small, forest_big]\n",
        "models_name = ['ada_small', 'ada_big', 'tree_small', 'tree_big', 'forest_small', 'forest_big']\n",
        "\n",
        "for m in tqdm(models):\n",
        "    print(f'Current model: {m}')\n",
        "    m.fit(x_train, y_train)\n",
        "\n",
        "### END Solution (do not delete this comment)"
      ],
      "id": "cleared-supply"
    },
    {
      "cell_type": "markdown",
      "metadata": {
        "id": "streaming-crowd"
      },
      "source": [
        "**3.1.2) Report individual scores on test set. As a score use accuracy.**"
      ],
      "id": "streaming-crowd"
    },
    {
      "cell_type": "code",
      "execution_count": 29,
      "metadata": {
        "id": "standing-breakdown",
        "colab": {
          "base_uri": "https://localhost:8080/"
        },
        "outputId": "1f6a636c-0204-45f0-f210-2767715aa5c2"
      },
      "outputs": [
        {
          "output_type": "stream",
          "name": "stdout",
          "text": [
            "Accuracy on test for ada_small: 0.57282330414578\n",
            "Accuracy on test for ada_big: 0.5621350659409221\n",
            "Accuracy on test for tree_small: 0.7019771519545621\n",
            "Accuracy on test for tree_big: 0.773550482993051\n",
            "Accuracy on test for forest_small: 0.7025408231320325\n",
            "Accuracy on test for forest_big: 0.6546072588799725\n"
          ]
        }
      ],
      "source": [
        "### BEGIN Solution (do not delete this comment)\n",
        "\n",
        "for n, m in zip(models_name, models):\n",
        "    print(f'Accuracy on test for {n}: {accuracy_score(y_test, m.predict(x_test))}')\n",
        "\n",
        "### END Solution (do not delete this comment)"
      ],
      "id": "standing-breakdown"
    },
    {
      "cell_type": "markdown",
      "metadata": {
        "id": "8CsZdyGPOj6E"
      },
      "source": [
        "### Subproblem 3.2 (1 point)"
      ],
      "id": "8CsZdyGPOj6E"
    },
    {
      "cell_type": "markdown",
      "metadata": {
        "id": "adolescent-street"
      },
      "source": [
        "**3.2.1) Train metaclassifier (in this case, once again, it is just an ML model) on original dataset's features. And report score on test.**"
      ],
      "id": "adolescent-street"
    },
    {
      "cell_type": "code",
      "execution_count": 30,
      "metadata": {
        "id": "lesbian-fields",
        "colab": {
          "base_uri": "https://localhost:8080/"
        },
        "outputId": "9314340a-7ea8-47ea-e89f-47824940a8b6"
      },
      "outputs": [
        {
          "output_type": "stream",
          "name": "stdout",
          "text": [
            "Accuracy for the metaclassifier: 0.6214496245777845\n"
          ]
        }
      ],
      "source": [
        "### BEGIN Solution (do not delete this comment)\n",
        "\n",
        "log_reg_3 = LogisticRegression(random_state=11, n_jobs=-1)\n",
        "log_reg_3.fit(x_train, y_train)\n",
        "\n",
        "print(f'Accuracy for the metaclassifier: {accuracy_score(y_test, log_reg_3.predict(x_test))}')\n",
        "\n",
        "### END Solution (do not delete this comment)"
      ],
      "id": "lesbian-fields"
    },
    {
      "cell_type": "markdown",
      "metadata": {
        "id": "horizontal-wallace"
      },
      "source": [
        "**3.2.2) Train the metaclassifier on the base models using $n$-fold cross-validation, as described above. Report the training score of the meta-classifier on the $ n $-th fold. Retrain the base models on the whole training set. Report the test score (accuracy) of the meta-classifier in this case.**"
      ],
      "id": "horizontal-wallace"
    },
    {
      "cell_type": "code",
      "execution_count": 40,
      "metadata": {
        "id": "renewable-concrete",
        "colab": {
          "base_uri": "https://localhost:8080/"
        },
        "outputId": "54a28411-d861-4d71-9994-227ce8b2b40d"
      },
      "outputs": [
        {
          "output_type": "stream",
          "name": "stdout",
          "text": [
            "Test score of metaclassifier on the n-th fold: 0.7517921326880986\n",
            "Accuracy of metaclassifier on train: 0.7511581809889073\n",
            "Accuracy of metaclassifier on test: 0.7473462274908027\n"
          ]
        }
      ],
      "source": [
        "### BEGIN Solution (do not delete this comment)\n",
        "\n",
        "# cv = 7 since each base model has to get its own fold and +1 test fold.\n",
        "meta_clf_y_hat, meta_clf_fitted = meta_classifier(base_clfs=models, final_classifier=log_reg_3, X_train=x_train, X_test=x_test, y_train=y_train, cv=7)\n",
        "\n",
        "meta_clf_train = {}\n",
        "meta_clf_test = {}\n",
        "\n",
        "for i in range(len(models)):\n",
        "    models[i].fit(x_train, y_train)\n",
        "    meta_clf_train[i] = models[i].predict(x_train)\n",
        "    meta_clf_test[i] = models[i].predict(x_test)\n",
        "\n",
        "meta_clf_train = pd.DataFrame(meta_clf_train)\n",
        "meta_clf_test = pd.DataFrame(meta_clf_test)\n",
        "\n",
        "log_reg_3.fit(meta_clf_train, y_train)\n",
        "\n",
        "print(f'Accuracy of metaclassifier on train: {accuracy_score(y_train, log_reg_3.predict(meta_clf_train))}')\n",
        "print(f'Accuracy of metaclassifier on test: {accuracy_score(y_test, log_reg_3.predict(meta_clf_test))}')\n",
        "\n",
        "\n",
        "### END Solution (do not delete this comment)"
      ],
      "id": "renewable-concrete"
    },
    {
      "cell_type": "markdown",
      "metadata": {
        "id": "printable-premium"
      },
      "source": [
        "**3.2.3) Report score(accuracy) on test.**"
      ],
      "id": "printable-premium"
    },
    {
      "cell_type": "code",
      "execution_count": 41,
      "metadata": {
        "id": "auburn-easter",
        "colab": {
          "base_uri": "https://localhost:8080/"
        },
        "outputId": "d69b327a-8bc6-4866-df68-0fb8b91b70c5"
      },
      "outputs": [
        {
          "output_type": "stream",
          "name": "stdout",
          "text": [
            "Accuracy of metaclassifier on test: 0.7473462274908027\n"
          ]
        }
      ],
      "source": [
        "### BEGIN Solution (do not delete this comment)\n",
        "\n",
        "print(f'Accuracy of metaclassifier on test: {accuracy_score(y_test, log_reg_3.predict(meta_clf_test))}')\n",
        "\n",
        "### END Solution (do not delete this comment)"
      ],
      "id": "auburn-easter"
    },
    {
      "cell_type": "markdown",
      "metadata": {
        "id": "premier-scout"
      },
      "source": [
        "**3.2.4) Does stacking helped to gain a better score?**"
      ],
      "id": "premier-scout"
    },
    {
      "cell_type": "markdown",
      "metadata": {
        "id": "vSV5hJFR7RS-"
      },
      "source": [
        "**Your text answer (do not delete this comment)**:\n",
        "\n",
        "\\<write your answer\\>\n",
        "\n",
        "It helped a lot for meta-classifier (logistic regression). And it's better than almost all of the base classifiers. But one alone tree got higher score."
      ],
      "id": "vSV5hJFR7RS-"
    },
    {
      "cell_type": "code",
      "execution_count": null,
      "metadata": {
        "id": "offensive-parts"
      },
      "outputs": [],
      "source": [
        ""
      ],
      "id": "offensive-parts"
    }
  ],
  "metadata": {
    "colab": {
      "name": "Vladislav_Trifonov_hw2_part1.ipynb",
      "provenance": [],
      "collapsed_sections": []
    },
    "kernelspec": {
      "display_name": "Python 3",
      "language": "python",
      "name": "python3"
    },
    "language_info": {
      "codemirror_mode": {
        "name": "ipython",
        "version": 3
      },
      "file_extension": ".py",
      "mimetype": "text/x-python",
      "name": "python",
      "nbconvert_exporter": "python",
      "pygments_lexer": "ipython3",
      "version": "3.8.5"
    }
  },
  "nbformat": 4,
  "nbformat_minor": 5
}
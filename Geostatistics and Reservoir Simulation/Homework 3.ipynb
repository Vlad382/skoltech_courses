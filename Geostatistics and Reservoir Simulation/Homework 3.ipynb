{
 "cells": [
  {
   "cell_type": "markdown",
   "metadata": {},
   "source": [
    "### Task 1\n",
    "\n",
    "$m \\in \\mathbb{R}^{40}$.\n",
    "\n",
    "Made measurements:\n",
    "\n",
    "$ d_1 = m_4 $\n",
    "\n",
    "$ d_2 = m_5 $\n",
    "\n",
    "$ d_3 = \\frac{1}{2} (m_{12} + m_{13}) $\n",
    "\n",
    "$ d_4 = m_{31} - m_{30}$\n",
    "\n",
    "Objective functional:\n",
    "\n",
    "$ S(m) = \\frac{1}{2} (m - m_0)^T W (m - m_0) + \\frac{1}{2} (Gm - d_{obs})^T(Gm - d_{obs}) $\n",
    "\n",
    "Regularization terms:\n",
    "\n",
    "$ W = I $\n",
    "\n",
    "$ W = D^T D $\n",
    "\n",
    "$ W = (D^2)^T D^2 $\n",
    "\n",
    "$ W = (D^2)^T D^2 + 0.05I $\n",
    "\n",
    "Observed data: $ d_{obs} = \\begin{bmatrix} 5.735 & 2.577 & 4.409 & 0.3497 \\end{bmatrix}^T $\n",
    "\n",
    "Prior etimate: $ m_0 = 5.5 $\n",
    "\n",
    "$D$ and $D^2$ are finite differenece approximation ro the first and excond derivative operators respectively: $D m_i = m_{i+1} - m_i, D^2 m_i = m_{i-1} - 2m_i + m_{i+1}$"
   ]
  },
  {
   "cell_type": "markdown",
   "metadata": {},
   "source": [
    "---\n",
    "\n",
    "### Define $d_{obs} = Gm$\n",
    "\n",
    "$m \\in \\mathbb{R}^{40}$\n",
    "\n",
    "$d_{obs} \\in \\mathbb{R}^{4}$\n",
    "\n",
    "$$G = \\begin{bmatrix}\n",
    "0 & 0 & 0 & 1 & 0 & & & & & \\cdots \\\\\n",
    "0 & 0 & 0 & 0 & 1 & & & & & \\cdots \\\\\n",
    "& & & \\cdots & & & \\big(\\frac{1}{2} \\big)_{12} & \\big(\\frac{1}{2} \\big)_{13} & & \\cdots \\\\\n",
    "& & & & & & \\cdots & & & \\big(-1\\big)_{30} & \\big(1\\big)_{31} & \\cdots \\end{bmatrix}\\in \\mathbb{R}^{4x40}$$\n",
    "\n",
    "$m_0 = \\begin{bmatrix} 5.5 & 5.5 & \\cdots & 5.5 \\end{bmatrix}^T  \\in \\mathbb{R}^{40}$\n",
    "\n",
    "$D, D^2 \\in \\mathbb{R}^{40x40}.$"
   ]
  },
  {
   "cell_type": "code",
   "execution_count": 1,
   "metadata": {},
   "outputs": [],
   "source": [
    "import numpy as np\n",
    "import pandas as pd\n",
    "import scipy.optimize\n",
    "import matplotlib.pyplot as plt\n",
    "%matplotlib inline\n",
    "\n",
    "# Define the problem: d_obs = Gm\n",
    "d_obs = np.array([5.735, 2.577, 4.409, 0.3497])\n",
    "m_0 =  np.ones(40) * 5.5 \n",
    "\n",
    "G = np.zeros((4, 40))\n",
    "G[0, 3] = 1.\n",
    "G[1, 4] = 1.\n",
    "G[2, 11], G[2, 12] = .5, .5\n",
    "G[3, 29], G[3, 30] = -1., 1."
   ]
  },
  {
   "cell_type": "code",
   "execution_count": 2,
   "metadata": {},
   "outputs": [],
   "source": [
    "def obj_func(m, m_0, d_obs, G, W):\n",
    "    term_1 = (m - m_0).T @ W @ (m - m_0) / 2\n",
    "    term_2 = (G @ m - d_obs).T @ (G @ m - d_obs) / 2\n",
    "    return term_1 + term_2\n",
    "\n",
    "def get_D(a=[-1, 1], W=39):\n",
    "    a = np.asarray(a)\n",
    "    p = np.zeros(W-1,dtype=a.dtype)\n",
    "    b = np.concatenate((p,a,p))\n",
    "    s = b.strides[0]\n",
    "    strided = np.lib.stride_tricks.as_strided\n",
    "    return np.vstack((strided(b[W-1:], shape=(W,len(a)+W-1), strides=(-s,s)), np.zeros(W+1)))\n",
    "\n",
    "def get_W(idx, D=get_D()):\n",
    "    if idx == 0:\n",
    "        return np.eye(40, 40)\n",
    "    \n",
    "    elif idx == 1:\n",
    "        return D.T @ D\n",
    "    \n",
    "    elif idx == 2:\n",
    "        return (D @ D).T @ D @ D\n",
    "    \n",
    "    elif idx == 3:\n",
    "        return (D @ D).T @ D @ D + 0.05 * np.eye(40, 40)\n",
    "    \n",
    "    else:\n",
    "        raise ValueError('Index is out of range for regularization terms.')"
   ]
  },
  {
   "cell_type": "code",
   "execution_count": 3,
   "metadata": {},
   "outputs": [
    {
     "name": "stdout",
     "output_type": "stream",
     "text": [
      "(10, 10)\n"
     ]
    },
    {
     "data": {
      "text/plain": [
       "array([[-1.,  1.,  0.,  0.,  0.,  0.,  0.,  0.,  0.,  0.],\n",
       "       [ 0., -1.,  1.,  0.,  0.,  0.,  0.,  0.,  0.,  0.],\n",
       "       [ 0.,  0., -1.,  1.,  0.,  0.,  0.,  0.,  0.,  0.],\n",
       "       [ 0.,  0.,  0., -1.,  1.,  0.,  0.,  0.,  0.,  0.],\n",
       "       [ 0.,  0.,  0.,  0., -1.,  1.,  0.,  0.,  0.,  0.],\n",
       "       [ 0.,  0.,  0.,  0.,  0., -1.,  1.,  0.,  0.,  0.],\n",
       "       [ 0.,  0.,  0.,  0.,  0.,  0., -1.,  1.,  0.,  0.],\n",
       "       [ 0.,  0.,  0.,  0.,  0.,  0.,  0., -1.,  1.,  0.],\n",
       "       [ 0.,  0.,  0.,  0.,  0.,  0.,  0.,  0., -1.,  1.],\n",
       "       [ 0.,  0.,  0.,  0.,  0.,  0.,  0.,  0.,  0.,  0.]])"
      ]
     },
     "execution_count": 3,
     "metadata": {},
     "output_type": "execute_result"
    }
   ],
   "source": [
    "print(get_D(a=[-1, 1], W=9).shape)\n",
    "get_D(a=[-1, 1], W=9)"
   ]
  },
  {
   "cell_type": "code",
   "execution_count": 4,
   "metadata": {},
   "outputs": [
    {
     "data": {
      "text/plain": [
       "array([[ 1., -2.,  1.,  0.,  0.,  0.,  0.,  0.,  0.,  0.],\n",
       "       [ 0.,  1., -2.,  1.,  0.,  0.,  0.,  0.,  0.,  0.],\n",
       "       [ 0.,  0.,  1., -2.,  1.,  0.,  0.,  0.,  0.,  0.],\n",
       "       [ 0.,  0.,  0.,  1., -2.,  1.,  0.,  0.,  0.,  0.],\n",
       "       [ 0.,  0.,  0.,  0.,  1., -2.,  1.,  0.,  0.,  0.],\n",
       "       [ 0.,  0.,  0.,  0.,  0.,  1., -2.,  1.,  0.,  0.],\n",
       "       [ 0.,  0.,  0.,  0.,  0.,  0.,  1., -2.,  1.,  0.],\n",
       "       [ 0.,  0.,  0.,  0.,  0.,  0.,  0.,  1., -2.,  1.],\n",
       "       [ 0.,  0.,  0.,  0.,  0.,  0.,  0.,  0.,  1., -1.],\n",
       "       [ 0.,  0.,  0.,  0.,  0.,  0.,  0.,  0.,  0.,  0.]])"
      ]
     },
     "execution_count": 4,
     "metadata": {},
     "output_type": "execute_result"
    }
   ],
   "source": [
    "get_D(a=[-1, 1], W=9) @ get_D(a=[-1, 1], W=9)"
   ]
  },
  {
   "cell_type": "code",
   "execution_count": 5,
   "metadata": {},
   "outputs": [
    {
     "name": "stdout",
     "output_type": "stream",
     "text": [
      "Results for 1 regularization term:\n",
      "    message: Optimization terminated successfully.; function value = 2.57.\n",
      "    Second norm of error of calculating the d_obs values: 1.64074\n",
      "-------------------------------------------------------------------------\n",
      "Results for 2 regularization term:\n",
      "    message: Optimization terminated successfully.; function value = 1.73.\n",
      "    Second norm of error of calculating the d_obs values: 1.52331\n",
      "-------------------------------------------------------------------------\n",
      "Results for 3 regularization term:\n",
      "    message: Optimization terminated successfully.; function value = 1.16.\n",
      "    Second norm of error of calculating the d_obs values: 1.04472\n",
      "-------------------------------------------------------------------------\n",
      "Results for 4 regularization term:\n",
      "    message: Optimization terminated successfully.; function value = 2.23.\n",
      "    Second norm of error of calculating the d_obs values: 1.66234\n",
      "-------------------------------------------------------------------------\n"
     ]
    }
   ],
   "source": [
    "initial_guess = m_0\n",
    "err_l = []\n",
    "d_res = d_obs\n",
    "for i in range(4):\n",
    "    result = scipy.optimize.minimize(obj_func, \n",
    "                                     initial_guess, \n",
    "                                     args=(m_0, d_obs, G, get_W(i)),\n",
    "    #                                    constraints={'type': 'eq', 'fun': lambda x: x.reshape(4, 4)[2, :].sum() - 1},\n",
    "    #                                    bounds=b,\n",
    "                                     options={'maxiter': 1e7},\n",
    "                                     method='Nelder-Mead')\n",
    "    \n",
    "    print(f'Results for {i+1} regularization term:\\n    message: {result.message}; function value = {np.round(result.fun, 2)}.')\n",
    "    \n",
    "    d = G @ result.x\n",
    "    err = np.linalg.norm(d_obs - d, 2)\n",
    "    \n",
    "    d_res = np.vstack((d_res, d))\n",
    "    err_l.append(err)\n",
    "    print(f'    Second norm of error of calculating the d_obs values: {np.round(err, 5)}')\n",
    "    print('-------------------------------------------------------------------------')"
   ]
  },
  {
   "cell_type": "markdown",
   "metadata": {},
   "source": [
    "### Analytical solution\n",
    "\n",
    "**Objective functional:**\n",
    "\n",
    "$$ S(m) = \\frac{1}{2} (m - m_0)^T W (m - m_0) + \\frac{1}{2} (Gm - d_{obs})^T(Gm - d_{obs}) $$\n",
    "\n",
    "**Gradient of functional (I did some excess steps, I know, but I easily do mistakes, so it's just save approach):**\n",
    "\n",
    "$$ S(m) = \\frac{1}{2} \\bigg( (m - m_0)^T W (m - m_0) + (Gm - d_{obs})^T (Gm - d_{obs}) \\bigg) \\iff$$\n",
    "\n",
    "$$ \\iff S(m) = \\frac{1}{2} \\bigg[ \\big( m^T W m - m^T W m_0 - m_0^T W m - m_0^T W m_0 \\big) + \\big( m^T G^T G m - m^T G^T d_{obs} - d_{obs}^T G m + d_{obs}^2 \\big) \\bigg] $$\n",
    "\n",
    "Lets introduce $f(m)$ and $g(m)$:\n",
    "\n",
    "$$ f(m) = m^T W m - m^T W m_0 - m_0^T W m - m_0^T W m_0, $$\n",
    "\n",
    "$$ g(m) = m^T G^T G m - m^T G^T d_{obs} - d_{obs}^T G m + d_{obs}^2 $$\n",
    "\n",
    "Take differential of $f$ and $g$:\n",
    "\n",
    "$$ d(f) = (dm)^T W m + m^T W dm - (dm)^T W m_0 - m_0^T W dm \\iff d(f) = 2 \\bigg( m^T W dm - m_0^T W dm \\bigg) $$\n",
    "\n",
    "$$ d(g) = (dm)^T G^T G m + m^T G^T G dm - (dm)^T G^T d_{obs} - d_{obs}^T G dm \\iff d(g) = 2 \\bigg( m^T G^T G dm - d_{obs}^T G dm \\bigg) $$\n",
    "\n",
    "Back to $S(m)$:\n",
    "\n",
    "$$ d(S) = m^T W^T dm - m_0^T W^T dm + m^T G^T G dm - d_{obs}^T G dm \\implies $$\n",
    "\n",
    "$$ \\implies \\nabla S = m^T W^T - m_0^T W^T + m^T G^T G - d_{obs}^T G $$\n",
    "\n",
    "Condition of minimum $\\nabla S = 0$:\n",
    "\n",
    "$$ 0 = m^T W^T - m_0^T W^T + m^T G^T G - d_{obs}^T G \\iff 0 = W m - W m_0 + G^T G m - G^T d_{obs} \\iff $$\n",
    "\n",
    "$$ \\iff \\big( W + G^T G \\big) m = W m_0 + G^T d_{obs} \\iff $$\n",
    "\n",
    "$$ \\iff m = \\big(W + G^T G \\big)^{-1} \\big( W m_0 + G^T d_{obs} \\big) $$"
   ]
  },
  {
   "cell_type": "code",
   "execution_count": 6,
   "metadata": {},
   "outputs": [],
   "source": [
    "def analytical_m(G, m_0, d_obs, w_index, mode='my'):\n",
    "    W = get_W(w_index)\n",
    "    if mode == 'my':\n",
    "        m = np.linalg.inv(W + G.T @ G) @ (W @ m_0 + G.T @ d_obs)\n",
    "    elif mode == 'TA':\n",
    "        m = m_0 + numpy.linalg.inv(W + G.T @ G) @ G.T @ (d_obs - G @ m_0)\n",
    "    return m"
   ]
  },
  {
   "cell_type": "code",
   "execution_count": 7,
   "metadata": {},
   "outputs": [],
   "source": [
    "tol = 1e-12"
   ]
  },
  {
   "cell_type": "code",
   "execution_count": 8,
   "metadata": {},
   "outputs": [
    {
     "name": "stdout",
     "output_type": "stream",
     "text": [
      "Results for 1 regularization term.\n",
      "    Second norm of error of calculating the d_obs values: 0.0\n",
      "-------------------------------------------------------------------------\n",
      "Results for 2 regularization term.\n",
      "    Second norm of error of calculating the d_obs values: 0.0\n",
      "-------------------------------------------------------------------------\n",
      "Results for 3 regularization term.\n",
      "    Second norm of error of calculating the d_obs values: 0.0\n",
      "-------------------------------------------------------------------------\n",
      "Results for 4 regularization term.\n",
      "    Second norm of error of calculating the d_obs values: 0.0\n",
      "-------------------------------------------------------------------------\n"
     ]
    }
   ],
   "source": [
    "err_expl_l = []\n",
    "d_expl_res = d_obs\n",
    "m_l = []\n",
    "\n",
    "for i in range(4):\n",
    "    initail_m = m_0\n",
    "    err = 1e8\n",
    "    while err > tol:\n",
    "        m = analytical_m(G, initail_m, d_obs, i)\n",
    "        d = G @ m\n",
    "        initail_m = m\n",
    "        \n",
    "        err = np.linalg.norm(d_obs - d, 2)\n",
    "        \n",
    "    m_l.append(m)\n",
    "    d_expl_res = np.vstack((d_expl_res, d))\n",
    "    err_expl_l.append(err)\n",
    "    print(f'Results for {i+1} regularization term.')\n",
    "    print(f'    Second norm of error of calculating the d_obs values: {np.round(err, 5)}')\n",
    "    print('-------------------------------------------------------------------------')"
   ]
  },
  {
   "cell_type": "code",
   "execution_count": 9,
   "metadata": {},
   "outputs": [
    {
     "name": "stdout",
     "output_type": "stream",
     "text": [
      "Results with scipy.optimize\n"
     ]
    },
    {
     "data": {
      "text/html": [
       "<div>\n",
       "<style scoped>\n",
       "    .dataframe tbody tr th:only-of-type {\n",
       "        vertical-align: middle;\n",
       "    }\n",
       "\n",
       "    .dataframe tbody tr th {\n",
       "        vertical-align: top;\n",
       "    }\n",
       "\n",
       "    .dataframe thead th {\n",
       "        text-align: right;\n",
       "    }\n",
       "</style>\n",
       "<table border=\"1\" class=\"dataframe\">\n",
       "  <thead>\n",
       "    <tr style=\"text-align: right;\">\n",
       "      <th></th>\n",
       "      <th>Ground Truth</th>\n",
       "      <th>$W_1$</th>\n",
       "      <th>$W_2$</th>\n",
       "      <th>$W_3$</th>\n",
       "      <th>$W_4$</th>\n",
       "      <th>2nd norm</th>\n",
       "    </tr>\n",
       "  </thead>\n",
       "  <tbody>\n",
       "    <tr>\n",
       "      <th>0</th>\n",
       "      <td>5.7350</td>\n",
       "      <td>5.617434</td>\n",
       "      <td>4.712093</td>\n",
       "      <td>5.061585</td>\n",
       "      <td>4.782214</td>\n",
       "      <td>1.640745</td>\n",
       "    </tr>\n",
       "    <tr>\n",
       "      <th>1</th>\n",
       "      <td>2.5770</td>\n",
       "      <td>4.038417</td>\n",
       "      <td>3.688703</td>\n",
       "      <td>3.357673</td>\n",
       "      <td>3.894152</td>\n",
       "      <td>1.523309</td>\n",
       "    </tr>\n",
       "    <tr>\n",
       "      <th>2</th>\n",
       "      <td>4.4090</td>\n",
       "      <td>5.136242</td>\n",
       "      <td>4.321669</td>\n",
       "      <td>4.275055</td>\n",
       "      <td>4.671149</td>\n",
       "      <td>1.044721</td>\n",
       "    </tr>\n",
       "    <tr>\n",
       "      <th>3</th>\n",
       "      <td>0.3497</td>\n",
       "      <td>0.233074</td>\n",
       "      <td>0.174712</td>\n",
       "      <td>0.246931</td>\n",
       "      <td>0.121738</td>\n",
       "      <td>1.662342</td>\n",
       "    </tr>\n",
       "  </tbody>\n",
       "</table>\n",
       "</div>"
      ],
      "text/plain": [
       "   Ground Truth     $W_1$     $W_2$     $W_3$     $W_4$  2nd norm\n",
       "0        5.7350  5.617434  4.712093  5.061585  4.782214  1.640745\n",
       "1        2.5770  4.038417  3.688703  3.357673  3.894152  1.523309\n",
       "2        4.4090  5.136242  4.321669  4.275055  4.671149  1.044721\n",
       "3        0.3497  0.233074  0.174712  0.246931  0.121738  1.662342"
      ]
     },
     "execution_count": 9,
     "metadata": {},
     "output_type": "execute_result"
    }
   ],
   "source": [
    "print('Results with scipy.optimize')\n",
    "pd.DataFrame(np.vstack((d_res, err_l)).T, columns=['Ground Truth', '$W_1$', '$W_2$', '$W_3$', '$W_4$', '2nd norm'])"
   ]
  },
  {
   "cell_type": "code",
   "execution_count": 10,
   "metadata": {},
   "outputs": [
    {
     "name": "stdout",
     "output_type": "stream",
     "text": [
      "Results of explicit expression\n"
     ]
    },
    {
     "data": {
      "text/html": [
       "<div>\n",
       "<style scoped>\n",
       "    .dataframe tbody tr th:only-of-type {\n",
       "        vertical-align: middle;\n",
       "    }\n",
       "\n",
       "    .dataframe tbody tr th {\n",
       "        vertical-align: top;\n",
       "    }\n",
       "\n",
       "    .dataframe thead th {\n",
       "        text-align: right;\n",
       "    }\n",
       "</style>\n",
       "<table border=\"1\" class=\"dataframe\">\n",
       "  <thead>\n",
       "    <tr style=\"text-align: right;\">\n",
       "      <th></th>\n",
       "      <th>Ground Truth</th>\n",
       "      <th>$W_1$</th>\n",
       "      <th>$W_2$</th>\n",
       "      <th>$W_3$</th>\n",
       "      <th>$W_4$</th>\n",
       "      <th>2nd norm</th>\n",
       "    </tr>\n",
       "  </thead>\n",
       "  <tbody>\n",
       "    <tr>\n",
       "      <th>0</th>\n",
       "      <td>5.7350</td>\n",
       "      <td>5.7350</td>\n",
       "      <td>5.7350</td>\n",
       "      <td>5.7350</td>\n",
       "      <td>5.7350</td>\n",
       "      <td>7.736040e-13</td>\n",
       "    </tr>\n",
       "    <tr>\n",
       "      <th>1</th>\n",
       "      <td>2.5770</td>\n",
       "      <td>2.5770</td>\n",
       "      <td>2.5770</td>\n",
       "      <td>2.5770</td>\n",
       "      <td>2.5770</td>\n",
       "      <td>7.733532e-13</td>\n",
       "    </tr>\n",
       "    <tr>\n",
       "      <th>2</th>\n",
       "      <td>4.4090</td>\n",
       "      <td>4.4090</td>\n",
       "      <td>4.4090</td>\n",
       "      <td>4.4090</td>\n",
       "      <td>4.4090</td>\n",
       "      <td>7.892628e-13</td>\n",
       "    </tr>\n",
       "    <tr>\n",
       "      <th>3</th>\n",
       "      <td>0.3497</td>\n",
       "      <td>0.3497</td>\n",
       "      <td>0.3497</td>\n",
       "      <td>0.3497</td>\n",
       "      <td>0.3497</td>\n",
       "      <td>7.675420e-13</td>\n",
       "    </tr>\n",
       "  </tbody>\n",
       "</table>\n",
       "</div>"
      ],
      "text/plain": [
       "   Ground Truth   $W_1$   $W_2$   $W_3$   $W_4$      2nd norm\n",
       "0        5.7350  5.7350  5.7350  5.7350  5.7350  7.736040e-13\n",
       "1        2.5770  2.5770  2.5770  2.5770  2.5770  7.733532e-13\n",
       "2        4.4090  4.4090  4.4090  4.4090  4.4090  7.892628e-13\n",
       "3        0.3497  0.3497  0.3497  0.3497  0.3497  7.675420e-13"
      ]
     },
     "execution_count": 10,
     "metadata": {},
     "output_type": "execute_result"
    }
   ],
   "source": [
    "print('Results of explicit expression')\n",
    "pd.DataFrame(np.vstack((d_expl_res, err_expl_l)).T, columns=['Ground Truth', '$W_1$', '$W_2$', '$W_3$', '$W_4$', '2nd norm'])"
   ]
  },
  {
   "cell_type": "code",
   "execution_count": 11,
   "metadata": {},
   "outputs": [
    {
     "data": {
      "image/png": "[encoded data removed]",
      "text/plain": [
       "<Figure size 792x504 with 1 Axes>"
      ]
     },
     "metadata": {
      "needs_background": "light"
     },
     "output_type": "display_data"
    }
   ],
   "source": [
    "plt.rcParams['figure.figsize'] = (11, 7)\n",
    "for m, n in zip(m_l, ['$W_1$', '$W_2$', '$W_3$', '$W_4$']):\n",
    "    plt.plot(m, label=n)\n",
    "\n",
    "plt.xlabel('Block', fontsize=14)\n",
    "plt.ylabel('Variable', fontsize=14)\n",
    "plt.legend(fontsize=14);"
   ]
  },
  {
   "cell_type": "markdown",
   "metadata": {},
   "source": [
    "## Task 2\n",
    "\n",
    "Let a point be picked at random (uniform density) in the unit square.  Compute the probability that \n",
    "it  is  in  the  triangle  bounded  by  𝑥 =0,  𝑦=0,  and  𝑥+𝑦=1.  Recompute  the  probability  if \n",
    "𝑓𝑋(𝑥)=2𝑥 and 𝑓𝑌(𝑦)=2(1−𝑦) and 𝑥 and 𝑦 are independent random variables. "
   ]
  },
  {
   "cell_type": "markdown",
   "metadata": {},
   "source": [
    "### Analytical solution\n",
    "\n",
    "**First part** is trivial: since point coordinates are from uniform distribution, and specified region is a half of the whole domain, the probability is 0.5 as well.\n",
    "\n",
    "**Second part**:\n",
    "\n",
    "Variables are independet $\\implies f_{XY} = f_X \\space f_Y$\n",
    "\n",
    "$\\space D: \\{x > 0, y > 0, x < 1 - y\\}, \\space f_X = 2x, \\space f_Y = 2(1 - y) $\n",
    "\n",
    "Introduce: $u = 2x \\space \\land \\space v = 2(1 - y) \\iff x = \\frac{u}{2} \\land y = \\frac{2 - v}{2}$\n",
    "\n",
    "Probability:\n",
    "\n",
    "$$ P\\{(U, V) \\in D'\\} =  \\iint_{D'} f_{UV}(u, v) \\, du dv = \\iint_{D'} f_U(u) f_V(v) \\, du dv = \\iint_{D} f_X(x) f_Y(y) \\, \\big| \\det(J) \\big| \\, dx dy, $$\n",
    "\n",
    "where $J$ is a Jacobian:\n",
    "\n",
    "$$ J = \\begin{bmatrix} \\frac{1}{2} & 0 \\\\ 0 & -\\frac{1}{2} \\end{bmatrix} = -\\frac{1}{4}. $$\n",
    "\n",
    "$$ P\\{(X, Y) \\in D\\} = \\iint_{D} 2x \\cdot 2(1 - y) \\cdot \\frac{1}{4} \\, dx dy = \\int_0^1 dx \\int_0^{1 - x} x(1 - y) \\, dy = \\int_0^1 \\big( x(1 - x) - x \\frac{(1 - x)^2}{2} \\big) \\, dx = \\frac{1}{8} = 0.125$$\n",
    "\n",
    "\n",
    "### Numerical solution"
   ]
  },
  {
   "cell_type": "code",
   "execution_count": 12,
   "metadata": {},
   "outputs": [],
   "source": [
    "def pick_point(mode=0):\n",
    "    if mode == 0:\n",
    "        return (np.random.uniform(0, 1), np.random.uniform(0, 1))\n",
    "    elif mode == 1:\n",
    "        a, b = pick_point()\n",
    "        return 2 * a, 2 * (1 - b)\n",
    "\n",
    "def prob_in_tri(n, mode=0):\n",
    "    m = 0\n",
    "    for i in range(n):\n",
    "        x, y = pick_point(mode)\n",
    "        if (y < (1 - x)) & (x > 0) & (y > 0):\n",
    "            m += 1\n",
    "    return m / n        "
   ]
  },
  {
   "cell_type": "code",
   "execution_count": 13,
   "metadata": {},
   "outputs": [
    {
     "name": "stdout",
     "output_type": "stream",
     "text": [
      "First probability is 0.49724\n",
      "Second probability is 0.1249\n"
     ]
    }
   ],
   "source": [
    "print(f'First probability is {prob_in_tri(100000, 0)}')\n",
    "print(f'Second probability is {prob_in_tri(100000, 1)}')"
   ]
  },
  {
   "cell_type": "markdown",
   "metadata": {},
   "source": [
    "## Task 3\n",
    "\n",
    "For  the  following  two  examples,  compute  the  expectations  of  𝑋,  𝑌  and  𝐸[𝑋𝑌].  Compute  the \n",
    "covariance of 𝑋 and 𝑌. Are the two variables correlated? Are the two variables independent? For \n",
    "both cases, what is the conditional probability that 𝑥 =1 given that 𝑦=1?\n",
    "\n",
    "![image](https://drive.google.com/uc?export=view&id=15-DtR5nul4-lIU4GuTiP2Do7gkiW0hyt)\n"
   ]
  },
  {
   "cell_type": "markdown",
   "metadata": {},
   "source": [
    "#### First Part\n",
    "\n",
    "$ \\mathop{\\mathbb{E}}(X) = 0.5, \\, \\mathop{\\mathbb{E}}(Y) = 1.3, \\, \\mathop{\\mathbb{E}}(XY) = 0.8 $\n",
    "\n",
    "$ cov(X, Y) = \\mathop{\\mathbb{E}}(XY) - \\mathop{\\mathbb{E}}(X) \\mathop{\\mathbb{E}}(Y); \\space cov(X, Y) = 0.15 $\n",
    "\n",
    "$cov \\neq 0 \\implies$ variables are dependent.\n",
    "\n",
    "$ P(x=1|y=1) = 0.4 $\n",
    "\n",
    "#### Second Part\n",
    "\n",
    "$ \\mathop{\\mathbb{E}}(X) = 0.66, \\, \\mathop{\\mathbb{E}}(Y) = 0, \\, \\mathop{\\mathbb{E}}(XY) = 0 $\n",
    "\n",
    "$ cov(X, Y) = \\mathop{\\mathbb{E}}(XY) - \\mathop{\\mathbb{E}}(X) \\mathop{\\mathbb{E}}(Y); \\space cov(X, Y) = 0 $\n",
    "\n",
    "$cov = 0 \\implies$ variables uncorrelated, but we can't say whether they are dependent or not. To find dependecy, we can check if the joint probability is equal to а product of marginal probabilities.\n",
    "\n",
    "$ P(x=1|y=1) = 1 $\n",
    "\n",
    "$ P(x=1) = 0.66, \\, P(y=1) = 0.33 $\n",
    "\n",
    "$ 1 \\neq 0.66 \\cdot 0.33 \\implies $ variables are dependent "
   ]
  },
  {
   "cell_type": "code",
   "execution_count": null,
   "metadata": {},
   "outputs": [],
   "source": []
  }
 ],
 "metadata": {
  "kernelspec": {
   "display_name": "Python 3",
   "language": "python",
   "name": "python3"
  },
  "language_info": {
   "codemirror_mode": {
    "name": "ipython",
    "version": 3
   },
   "file_extension": ".py",
   "mimetype": "text/x-python",
   "name": "python",
   "nbconvert_exporter": "python",
   "pygments_lexer": "ipython3",
   "version": "3.8.5"
  }
 },
 "nbformat": 4,
 "nbformat_minor": 4
}
